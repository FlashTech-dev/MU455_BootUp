{
 "cells": [
  {
   "cell_type": "code",
   "execution_count": 107,
   "metadata": {},
   "outputs": [],
   "source": [
    "import pandas as pd\n",
    "import re\n",
    "import numpy as np\n",
    "from sklearn.model_selection import train_test_split\n",
    "import matplotlib.pyplot as plt\n",
    "from tqdm import tqdm\n",
    "\n",
    "from keras.models import Sequential,load_model\n",
    "from keras.layers import Dense,LSTM,Embedding,Dropout\n",
    "from keras.preprocessing.text import Tokenizer\n",
    "from keras.preprocessing.sequence import pad_sequences\n",
    "\n",
    "import nltk\n",
    "import string\n",
    "import re\n",
    "from nltk.corpus import stopwords\n",
    "stop = stopwords.words('english')\n",
    "stop.remove('not')\n",
    "ps = nltk.PorterStemmer()\n",
    "lm = nltk.WordNetLemmatizer()\n",
    "from keras.models import load_model\n",
    "import pickle"
   ]
  },
  {
   "cell_type": "code",
   "execution_count": 108,
   "metadata": {},
   "outputs": [],
   "source": [
    "from keras.preprocessing import sequence, text\n",
    "from keras.layers import Bidirectional"
   ]
  },
  {
   "cell_type": "code",
   "execution_count": 109,
   "metadata": {},
   "outputs": [
    {
     "name": "stderr",
     "output_type": "stream",
     "text": [
      "2196017it [05:54, 6198.91it/s]\n"
     ]
    },
    {
     "name": "stdout",
     "output_type": "stream",
     "text": [
      "Found 2196016 word vectors.\n"
     ]
    }
   ],
   "source": [
    "embeddings_index = {}\n",
    "f = open('glove.840B.300d.txt','r',encoding='utf-8')\n",
    "for line in tqdm(f):\n",
    "    values = line.split(' ')\n",
    "    word = values[0]\n",
    "    coefs = np.asarray([float(val) for val in values[1:]])\n",
    "    embeddings_index[word] = coefs\n",
    "f.close()\n",
    "\n",
    "print('Found %s word vectors.' % len(embeddings_index))"
   ]
  },
  {
   "cell_type": "code",
   "execution_count": 250,
   "metadata": {},
   "outputs": [
    {
     "name": "stdout",
     "output_type": "stream",
     "text": [
      "(4015, 3)\n"
     ]
    },
    {
     "data": {
      "text/html": [
       "<div>\n",
       "<style scoped>\n",
       "    .dataframe tbody tr th:only-of-type {\n",
       "        vertical-align: middle;\n",
       "    }\n",
       "\n",
       "    .dataframe tbody tr th {\n",
       "        vertical-align: top;\n",
       "    }\n",
       "\n",
       "    .dataframe thead th {\n",
       "        text-align: right;\n",
       "    }\n",
       "</style>\n",
       "<table border=\"1\" class=\"dataframe\">\n",
       "  <thead>\n",
       "    <tr style=\"text-align: right;\">\n",
       "      <th></th>\n",
       "      <th>module output</th>\n",
       "      <th>emotion</th>\n",
       "      <th>label</th>\n",
       "    </tr>\n",
       "  </thead>\n",
       "  <tbody>\n",
       "    <tr>\n",
       "      <th>0</th>\n",
       "      <td>I probably won't be back, to be honest.</td>\n",
       "      <td>sadness</td>\n",
       "      <td>Negative</td>\n",
       "    </tr>\n",
       "    <tr>\n",
       "      <th>1</th>\n",
       "      <td>We waited for thirty minutes to be seated (alt...</td>\n",
       "      <td>sadness</td>\n",
       "      <td>Negative</td>\n",
       "    </tr>\n",
       "    <tr>\n",
       "      <th>2</th>\n",
       "      <td>If you read this because its Star Wars try to ...</td>\n",
       "      <td>Neutral</td>\n",
       "      <td>Neutral</td>\n",
       "    </tr>\n",
       "    <tr>\n",
       "      <th>3</th>\n",
       "      <td>The hostel's food was so crap, I was sick</td>\n",
       "      <td>Hate</td>\n",
       "      <td>Negative</td>\n",
       "    </tr>\n",
       "    <tr>\n",
       "      <th>4</th>\n",
       "      <td>Do you know how to speak english</td>\n",
       "      <td>Surprise</td>\n",
       "      <td>Positive</td>\n",
       "    </tr>\n",
       "  </tbody>\n",
       "</table>\n",
       "</div>"
      ],
      "text/plain": [
       "                                       module output    emotion     label\n",
       "0            I probably won't be back, to be honest.    sadness  Negative\n",
       "1  We waited for thirty minutes to be seated (alt...  sadness    Negative\n",
       "2  If you read this because its Star Wars try to ...    Neutral   Neutral\n",
       "3          The hostel's food was so crap, I was sick       Hate  Negative\n",
       "4                   Do you know how to speak english   Surprise  Positive"
      ]
     },
     "execution_count": 250,
     "metadata": {},
     "output_type": "execute_result"
    }
   ],
   "source": [
    "data1=pd.read_csv(\"cats1.csv\",encoding= 'unicode_escape')\n",
    "data1=data1.sample(frac=1).reset_index(drop=True)\n",
    "print(data1.shape)\n",
    "data1.head()"
   ]
  },
  {
   "cell_type": "code",
   "execution_count": 251,
   "metadata": {},
   "outputs": [
    {
     "data": {
      "text/html": [
       "<div>\n",
       "<style scoped>\n",
       "    .dataframe tbody tr th:only-of-type {\n",
       "        vertical-align: middle;\n",
       "    }\n",
       "\n",
       "    .dataframe tbody tr th {\n",
       "        vertical-align: top;\n",
       "    }\n",
       "\n",
       "    .dataframe thead th {\n",
       "        text-align: right;\n",
       "    }\n",
       "</style>\n",
       "<table border=\"1\" class=\"dataframe\">\n",
       "  <thead>\n",
       "    <tr style=\"text-align: right;\">\n",
       "      <th></th>\n",
       "      <th>module output</th>\n",
       "      <th>label</th>\n",
       "    </tr>\n",
       "  </thead>\n",
       "  <tbody>\n",
       "    <tr>\n",
       "      <th>0</th>\n",
       "      <td>I probably won't be back, to be honest.</td>\n",
       "      <td>Negative</td>\n",
       "    </tr>\n",
       "    <tr>\n",
       "      <th>1</th>\n",
       "      <td>We waited for thirty minutes to be seated (alt...</td>\n",
       "      <td>Negative</td>\n",
       "    </tr>\n",
       "    <tr>\n",
       "      <th>2</th>\n",
       "      <td>If you read this because its Star Wars try to ...</td>\n",
       "      <td>Neutral</td>\n",
       "    </tr>\n",
       "    <tr>\n",
       "      <th>3</th>\n",
       "      <td>The hostel's food was so crap, I was sick</td>\n",
       "      <td>Negative</td>\n",
       "    </tr>\n",
       "    <tr>\n",
       "      <th>4</th>\n",
       "      <td>Do you know how to speak english</td>\n",
       "      <td>Positive</td>\n",
       "    </tr>\n",
       "  </tbody>\n",
       "</table>\n",
       "</div>"
      ],
      "text/plain": [
       "                                       module output     label\n",
       "0            I probably won't be back, to be honest.  Negative\n",
       "1  We waited for thirty minutes to be seated (alt...  Negative\n",
       "2  If you read this because its Star Wars try to ...   Neutral\n",
       "3          The hostel's food was so crap, I was sick  Negative\n",
       "4                   Do you know how to speak english  Positive"
      ]
     },
     "execution_count": 251,
     "metadata": {},
     "output_type": "execute_result"
    }
   ],
   "source": [
    "data1=data1[['module output','label']]\n",
    "data1.head()"
   ]
  },
  {
   "cell_type": "code",
   "execution_count": 252,
   "metadata": {},
   "outputs": [
    {
     "name": "stdout",
     "output_type": "stream",
     "text": [
      "(14640, 15)\n"
     ]
    },
    {
     "data": {
      "text/html": [
       "<div>\n",
       "<style scoped>\n",
       "    .dataframe tbody tr th:only-of-type {\n",
       "        vertical-align: middle;\n",
       "    }\n",
       "\n",
       "    .dataframe tbody tr th {\n",
       "        vertical-align: top;\n",
       "    }\n",
       "\n",
       "    .dataframe thead th {\n",
       "        text-align: right;\n",
       "    }\n",
       "</style>\n",
       "<table border=\"1\" class=\"dataframe\">\n",
       "  <thead>\n",
       "    <tr style=\"text-align: right;\">\n",
       "      <th></th>\n",
       "      <th>tweet_id</th>\n",
       "      <th>label</th>\n",
       "      <th>airline_sentiment_confidence</th>\n",
       "      <th>negativereason</th>\n",
       "      <th>negativereason_confidence</th>\n",
       "      <th>airline</th>\n",
       "      <th>airline_sentiment_gold</th>\n",
       "      <th>name</th>\n",
       "      <th>negativereason_gold</th>\n",
       "      <th>retweet_count</th>\n",
       "      <th>module output</th>\n",
       "      <th>tweet_coord</th>\n",
       "      <th>tweet_created</th>\n",
       "      <th>tweet_location</th>\n",
       "      <th>user_timezone</th>\n",
       "    </tr>\n",
       "  </thead>\n",
       "  <tbody>\n",
       "    <tr>\n",
       "      <th>0</th>\n",
       "      <td>5.702750e+17</td>\n",
       "      <td>positive</td>\n",
       "      <td>0.6749</td>\n",
       "      <td>NaN</td>\n",
       "      <td>0.0000</td>\n",
       "      <td>American</td>\n",
       "      <td>NaN</td>\n",
       "      <td>susqhb</td>\n",
       "      <td>NaN</td>\n",
       "      <td>0</td>\n",
       "      <td>@AmericanAir None of the #LAX flights into #DF...</td>\n",
       "      <td>NaN</td>\n",
       "      <td>2015-02-24 09:33:24 -0800</td>\n",
       "      <td>Dallas via NYC via the OC</td>\n",
       "      <td>Central Time (US &amp; Canada)</td>\n",
       "    </tr>\n",
       "    <tr>\n",
       "      <th>1</th>\n",
       "      <td>5.684920e+17</td>\n",
       "      <td>negative</td>\n",
       "      <td>1.0000</td>\n",
       "      <td>Can't Tell</td>\n",
       "      <td>1.0000</td>\n",
       "      <td>Southwest</td>\n",
       "      <td>NaN</td>\n",
       "      <td>vizualpupil</td>\n",
       "      <td>NaN</td>\n",
       "      <td>0</td>\n",
       "      <td>@SouthwestAir thanks a lot for sending a \"spec...</td>\n",
       "      <td>[29.98473682, -90.25978334]</td>\n",
       "      <td>2015-02-19 11:26:45 -0800</td>\n",
       "      <td>Chicago--Savannah--Atlanta, GA</td>\n",
       "      <td>Eastern Time (US &amp; Canada)</td>\n",
       "    </tr>\n",
       "    <tr>\n",
       "      <th>2</th>\n",
       "      <td>5.699430e+17</td>\n",
       "      <td>positive</td>\n",
       "      <td>1.0000</td>\n",
       "      <td>NaN</td>\n",
       "      <td>NaN</td>\n",
       "      <td>Virgin America</td>\n",
       "      <td>NaN</td>\n",
       "      <td>mrmichaellay</td>\n",
       "      <td>NaN</td>\n",
       "      <td>0</td>\n",
       "      <td>@VirginAmerica not worried, it's been a great ...</td>\n",
       "      <td>[36.08457854, -115.13780136]</td>\n",
       "      <td>2015-02-23 11:32:31 -0800</td>\n",
       "      <td>Floridian from Cincinnati</td>\n",
       "      <td>Eastern Time (US &amp; Canada)</td>\n",
       "    </tr>\n",
       "    <tr>\n",
       "      <th>3</th>\n",
       "      <td>5.680720e+17</td>\n",
       "      <td>neutral</td>\n",
       "      <td>0.6366</td>\n",
       "      <td>NaN</td>\n",
       "      <td>NaN</td>\n",
       "      <td>United</td>\n",
       "      <td>NaN</td>\n",
       "      <td>rabbijfranklin</td>\n",
       "      <td>NaN</td>\n",
       "      <td>0</td>\n",
       "      <td>@united yes, would love an upgrade or voucher,...</td>\n",
       "      <td>NaN</td>\n",
       "      <td>2015-02-18 07:38:46 -0800</td>\n",
       "      <td>Needham</td>\n",
       "      <td>Atlantic Time (Canada)</td>\n",
       "    </tr>\n",
       "    <tr>\n",
       "      <th>4</th>\n",
       "      <td>5.682720e+17</td>\n",
       "      <td>negative</td>\n",
       "      <td>1.0000</td>\n",
       "      <td>Late Flight</td>\n",
       "      <td>0.6813</td>\n",
       "      <td>Southwest</td>\n",
       "      <td>NaN</td>\n",
       "      <td>erinpeep</td>\n",
       "      <td>NaN</td>\n",
       "      <td>0</td>\n",
       "      <td>@SouthwestAir We've been sitting at the gate f...</td>\n",
       "      <td>[33.94729537, -118.40196951]</td>\n",
       "      <td>2015-02-18 20:51:03 -0800</td>\n",
       "      <td>Los Angeles, CA</td>\n",
       "      <td>Pacific Time (US &amp; Canada)</td>\n",
       "    </tr>\n",
       "  </tbody>\n",
       "</table>\n",
       "</div>"
      ],
      "text/plain": [
       "       tweet_id     label  airline_sentiment_confidence negativereason  \\\n",
       "0  5.702750e+17  positive                        0.6749            NaN   \n",
       "1  5.684920e+17  negative                        1.0000     Can't Tell   \n",
       "2  5.699430e+17  positive                        1.0000            NaN   \n",
       "3  5.680720e+17   neutral                        0.6366            NaN   \n",
       "4  5.682720e+17  negative                        1.0000    Late Flight   \n",
       "\n",
       "   negativereason_confidence         airline airline_sentiment_gold  \\\n",
       "0                     0.0000        American                    NaN   \n",
       "1                     1.0000       Southwest                    NaN   \n",
       "2                        NaN  Virgin America                    NaN   \n",
       "3                        NaN          United                    NaN   \n",
       "4                     0.6813       Southwest                    NaN   \n",
       "\n",
       "             name negativereason_gold  retweet_count  \\\n",
       "0          susqhb                 NaN              0   \n",
       "1     vizualpupil                 NaN              0   \n",
       "2    mrmichaellay                 NaN              0   \n",
       "3  rabbijfranklin                 NaN              0   \n",
       "4        erinpeep                 NaN              0   \n",
       "\n",
       "                                       module output  \\\n",
       "0  @AmericanAir None of the #LAX flights into #DF...   \n",
       "1  @SouthwestAir thanks a lot for sending a \"spec...   \n",
       "2  @VirginAmerica not worried, it's been a great ...   \n",
       "3  @united yes, would love an upgrade or voucher,...   \n",
       "4  @SouthwestAir We've been sitting at the gate f...   \n",
       "\n",
       "                    tweet_coord              tweet_created  \\\n",
       "0                           NaN  2015-02-24 09:33:24 -0800   \n",
       "1   [29.98473682, -90.25978334]  2015-02-19 11:26:45 -0800   \n",
       "2  [36.08457854, -115.13780136]  2015-02-23 11:32:31 -0800   \n",
       "3                           NaN  2015-02-18 07:38:46 -0800   \n",
       "4  [33.94729537, -118.40196951]  2015-02-18 20:51:03 -0800   \n",
       "\n",
       "                   tweet_location               user_timezone  \n",
       "0       Dallas via NYC via the OC  Central Time (US & Canada)  \n",
       "1  Chicago--Savannah--Atlanta, GA  Eastern Time (US & Canada)  \n",
       "2      Floridian from Cincinnati   Eastern Time (US & Canada)  \n",
       "3                         Needham      Atlantic Time (Canada)  \n",
       "4                 Los Angeles, CA  Pacific Time (US & Canada)  "
      ]
     },
     "execution_count": 252,
     "metadata": {},
     "output_type": "execute_result"
    }
   ],
   "source": [
    "data2 = pd.read_csv('Tweets.csv')\n",
    "data2 = data2.sample(frac=1).reset_index(drop=True)\n",
    "print(data2.shape)\n",
    "data2.head()"
   ]
  },
  {
   "cell_type": "code",
   "execution_count": 253,
   "metadata": {},
   "outputs": [
    {
     "data": {
      "text/html": [
       "<div>\n",
       "<style scoped>\n",
       "    .dataframe tbody tr th:only-of-type {\n",
       "        vertical-align: middle;\n",
       "    }\n",
       "\n",
       "    .dataframe tbody tr th {\n",
       "        vertical-align: top;\n",
       "    }\n",
       "\n",
       "    .dataframe thead th {\n",
       "        text-align: right;\n",
       "    }\n",
       "</style>\n",
       "<table border=\"1\" class=\"dataframe\">\n",
       "  <thead>\n",
       "    <tr style=\"text-align: right;\">\n",
       "      <th></th>\n",
       "      <th>module output</th>\n",
       "      <th>label</th>\n",
       "    </tr>\n",
       "  </thead>\n",
       "  <tbody>\n",
       "    <tr>\n",
       "      <th>0</th>\n",
       "      <td>@AmericanAir None of the #LAX flights into #DF...</td>\n",
       "      <td>positive</td>\n",
       "    </tr>\n",
       "    <tr>\n",
       "      <th>1</th>\n",
       "      <td>@SouthwestAir thanks a lot for sending a \"spec...</td>\n",
       "      <td>negative</td>\n",
       "    </tr>\n",
       "    <tr>\n",
       "      <th>2</th>\n",
       "      <td>@VirginAmerica not worried, it's been a great ...</td>\n",
       "      <td>positive</td>\n",
       "    </tr>\n",
       "    <tr>\n",
       "      <th>3</th>\n",
       "      <td>@united yes, would love an upgrade or voucher,...</td>\n",
       "      <td>neutral</td>\n",
       "    </tr>\n",
       "    <tr>\n",
       "      <th>4</th>\n",
       "      <td>@SouthwestAir We've been sitting at the gate f...</td>\n",
       "      <td>negative</td>\n",
       "    </tr>\n",
       "  </tbody>\n",
       "</table>\n",
       "</div>"
      ],
      "text/plain": [
       "                                       module output     label\n",
       "0  @AmericanAir None of the #LAX flights into #DF...  positive\n",
       "1  @SouthwestAir thanks a lot for sending a \"spec...  negative\n",
       "2  @VirginAmerica not worried, it's been a great ...  positive\n",
       "3  @united yes, would love an upgrade or voucher,...   neutral\n",
       "4  @SouthwestAir We've been sitting at the gate f...  negative"
      ]
     },
     "execution_count": 253,
     "metadata": {},
     "output_type": "execute_result"
    }
   ],
   "source": [
    "data2 = data2[['module output', 'label']]\n",
    "data2.head()"
   ]
  },
  {
   "cell_type": "code",
   "execution_count": 254,
   "metadata": {},
   "outputs": [
    {
     "data": {
      "text/html": [
       "<div>\n",
       "<style scoped>\n",
       "    .dataframe tbody tr th:only-of-type {\n",
       "        vertical-align: middle;\n",
       "    }\n",
       "\n",
       "    .dataframe tbody tr th {\n",
       "        vertical-align: top;\n",
       "    }\n",
       "\n",
       "    .dataframe thead th {\n",
       "        text-align: right;\n",
       "    }\n",
       "</style>\n",
       "<table border=\"1\" class=\"dataframe\">\n",
       "  <thead>\n",
       "    <tr style=\"text-align: right;\">\n",
       "      <th></th>\n",
       "      <th>module output</th>\n",
       "      <th>label</th>\n",
       "    </tr>\n",
       "  </thead>\n",
       "  <tbody>\n",
       "    <tr>\n",
       "      <th>0</th>\n",
       "      <td>@AmericanAir None of the #LAX flights into #DF...</td>\n",
       "      <td>positive</td>\n",
       "    </tr>\n",
       "    <tr>\n",
       "      <th>1</th>\n",
       "      <td>@SouthwestAir thanks a lot for sending a \"spec...</td>\n",
       "      <td>negative</td>\n",
       "    </tr>\n",
       "    <tr>\n",
       "      <th>2</th>\n",
       "      <td>not worried, it's been a great ride in a new ...</td>\n",
       "      <td>positive</td>\n",
       "    </tr>\n",
       "    <tr>\n",
       "      <th>3</th>\n",
       "      <td>@united yes, would love an upgrade or voucher,...</td>\n",
       "      <td>neutral</td>\n",
       "    </tr>\n",
       "    <tr>\n",
       "      <th>4</th>\n",
       "      <td>@SouthwestAir We've been sitting at the gate f...</td>\n",
       "      <td>negative</td>\n",
       "    </tr>\n",
       "  </tbody>\n",
       "</table>\n",
       "</div>"
      ],
      "text/plain": [
       "                                       module output     label\n",
       "0  @AmericanAir None of the #LAX flights into #DF...  positive\n",
       "1  @SouthwestAir thanks a lot for sending a \"spec...  negative\n",
       "2   not worried, it's been a great ride in a new ...  positive\n",
       "3  @united yes, would love an upgrade or voucher,...   neutral\n",
       "4  @SouthwestAir We've been sitting at the gate f...  negative"
      ]
     },
     "execution_count": 254,
     "metadata": {},
     "output_type": "execute_result"
    }
   ],
   "source": [
    "data2['module output'] = data2['module output'].str.replace('@VirginAmerica', '')\n",
    "data2.head()"
   ]
  },
  {
   "cell_type": "code",
   "execution_count": 255,
   "metadata": {},
   "outputs": [
    {
     "data": {
      "text/plain": [
       "0    AmericanAir None of the LAX flights into DFW h...\n",
       "1    SouthwestAir thanks a lot for sending a specia...\n",
       "2     not worried its been a great ride in a new pl...\n",
       "3    united yes would love an upgrade or voucher  p...\n",
       "4    SouthwestAir Weve been sitting at the gate for...\n",
       "Name: module output, dtype: object"
      ]
     },
     "execution_count": 255,
     "metadata": {},
     "output_type": "execute_result"
    }
   ],
   "source": [
    "data2['module output'].apply(lambda x: x.lower()) #transform text to lowercase\n",
    "data2['module output'] = data2['module output'].apply(lambda x: re.sub('[^a-zA-z0-9\\s]', '', x))\n",
    "data2['module output'].head()"
   ]
  },
  {
   "cell_type": "code",
   "execution_count": 256,
   "metadata": {},
   "outputs": [
    {
     "name": "stdout",
     "output_type": "stream",
     "text": [
      "(104, 3)\n"
     ]
    },
    {
     "data": {
      "text/html": [
       "<div>\n",
       "<style scoped>\n",
       "    .dataframe tbody tr th:only-of-type {\n",
       "        vertical-align: middle;\n",
       "    }\n",
       "\n",
       "    .dataframe tbody tr th {\n",
       "        vertical-align: top;\n",
       "    }\n",
       "\n",
       "    .dataframe thead th {\n",
       "        text-align: right;\n",
       "    }\n",
       "</style>\n",
       "<table border=\"1\" class=\"dataframe\">\n",
       "  <thead>\n",
       "    <tr style=\"text-align: right;\">\n",
       "      <th></th>\n",
       "      <th>module output</th>\n",
       "      <th>Emotion</th>\n",
       "      <th>label</th>\n",
       "    </tr>\n",
       "  </thead>\n",
       "  <tbody>\n",
       "    <tr>\n",
       "      <th>0</th>\n",
       "      <td>Make work from home mandatory, there will be l...</td>\n",
       "      <td>worry</td>\n",
       "      <td>negative</td>\n",
       "    </tr>\n",
       "    <tr>\n",
       "      <th>1</th>\n",
       "      <td>Trump is one who needs caution and compassion ...</td>\n",
       "      <td>worry</td>\n",
       "      <td>neutral</td>\n",
       "    </tr>\n",
       "    <tr>\n",
       "      <th>2</th>\n",
       "      <td>There are flight for July 19 and 20 Bangalore....</td>\n",
       "      <td>worry</td>\n",
       "      <td>neutral</td>\n",
       "    </tr>\n",
       "    <tr>\n",
       "      <th>3</th>\n",
       "      <td>When everything is owned by the government and...</td>\n",
       "      <td>neutral</td>\n",
       "      <td>neutral</td>\n",
       "    </tr>\n",
       "    <tr>\n",
       "      <th>4</th>\n",
       "      <td>Remember how Netaji Subhas Chandra Bose was tr...</td>\n",
       "      <td>sadness</td>\n",
       "      <td>negative</td>\n",
       "    </tr>\n",
       "  </tbody>\n",
       "</table>\n",
       "</div>"
      ],
      "text/plain": [
       "                                       module output  Emotion     label\n",
       "0  Make work from home mandatory, there will be l...    worry  negative\n",
       "1  Trump is one who needs caution and compassion ...    worry   neutral\n",
       "2  There are flight for July 19 and 20 Bangalore....    worry   neutral\n",
       "3  When everything is owned by the government and...  neutral   neutral\n",
       "4  Remember how Netaji Subhas Chandra Bose was tr...  sadness  negative"
      ]
     },
     "execution_count": 256,
     "metadata": {},
     "output_type": "execute_result"
    }
   ],
   "source": [
    "data3=pd.read_csv(\"cats2.csv\",encoding= 'unicode_escape')\n",
    "data3=data3.sample(frac=1).reset_index(drop=True)\n",
    "print(data3.shape)\n",
    "data3.head()"
   ]
  },
  {
   "cell_type": "code",
   "execution_count": 257,
   "metadata": {},
   "outputs": [
    {
     "data": {
      "text/html": [
       "<div>\n",
       "<style scoped>\n",
       "    .dataframe tbody tr th:only-of-type {\n",
       "        vertical-align: middle;\n",
       "    }\n",
       "\n",
       "    .dataframe tbody tr th {\n",
       "        vertical-align: top;\n",
       "    }\n",
       "\n",
       "    .dataframe thead th {\n",
       "        text-align: right;\n",
       "    }\n",
       "</style>\n",
       "<table border=\"1\" class=\"dataframe\">\n",
       "  <thead>\n",
       "    <tr style=\"text-align: right;\">\n",
       "      <th></th>\n",
       "      <th>module output</th>\n",
       "      <th>label</th>\n",
       "    </tr>\n",
       "  </thead>\n",
       "  <tbody>\n",
       "    <tr>\n",
       "      <th>0</th>\n",
       "      <td>Make work from home mandatory, there will be l...</td>\n",
       "      <td>negative</td>\n",
       "    </tr>\n",
       "    <tr>\n",
       "      <th>1</th>\n",
       "      <td>Trump is one who needs caution and compassion ...</td>\n",
       "      <td>neutral</td>\n",
       "    </tr>\n",
       "    <tr>\n",
       "      <th>2</th>\n",
       "      <td>There are flight for July 19 and 20 Bangalore....</td>\n",
       "      <td>neutral</td>\n",
       "    </tr>\n",
       "    <tr>\n",
       "      <th>3</th>\n",
       "      <td>When everything is owned by the government and...</td>\n",
       "      <td>neutral</td>\n",
       "    </tr>\n",
       "    <tr>\n",
       "      <th>4</th>\n",
       "      <td>Remember how Netaji Subhas Chandra Bose was tr...</td>\n",
       "      <td>negative</td>\n",
       "    </tr>\n",
       "  </tbody>\n",
       "</table>\n",
       "</div>"
      ],
      "text/plain": [
       "                                       module output     label\n",
       "0  Make work from home mandatory, there will be l...  negative\n",
       "1  Trump is one who needs caution and compassion ...   neutral\n",
       "2  There are flight for July 19 and 20 Bangalore....   neutral\n",
       "3  When everything is owned by the government and...   neutral\n",
       "4  Remember how Netaji Subhas Chandra Bose was tr...  negative"
      ]
     },
     "execution_count": 257,
     "metadata": {},
     "output_type": "execute_result"
    }
   ],
   "source": [
    "data3=data3[['module output','label']]\n",
    "data3.head()"
   ]
  },
  {
   "cell_type": "code",
   "execution_count": 258,
   "metadata": {},
   "outputs": [
    {
     "name": "stdout",
     "output_type": "stream",
     "text": [
      "(3466, 2)\n"
     ]
    },
    {
     "data": {
      "text/html": [
       "<div>\n",
       "<style scoped>\n",
       "    .dataframe tbody tr th:only-of-type {\n",
       "        vertical-align: middle;\n",
       "    }\n",
       "\n",
       "    .dataframe tbody tr th {\n",
       "        vertical-align: top;\n",
       "    }\n",
       "\n",
       "    .dataframe thead th {\n",
       "        text-align: right;\n",
       "    }\n",
       "</style>\n",
       "<table border=\"1\" class=\"dataframe\">\n",
       "  <thead>\n",
       "    <tr style=\"text-align: right;\">\n",
       "      <th></th>\n",
       "      <th>module output</th>\n",
       "      <th>label</th>\n",
       "    </tr>\n",
       "  </thead>\n",
       "  <tbody>\n",
       "    <tr>\n",
       "      <th>0</th>\n",
       "      <td>your system does not recognize spaces in last ...</td>\n",
       "      <td>Negative</td>\n",
       "    </tr>\n",
       "    <tr>\n",
       "      <th>1</th>\n",
       "      <td>Chaos in over call for secret vote.</td>\n",
       "      <td>Neutral</td>\n",
       "    </tr>\n",
       "    <tr>\n",
       "      <th>2</th>\n",
       "      <td>please take all the rest you needwe love you s...</td>\n",
       "      <td>Negative</td>\n",
       "    </tr>\n",
       "    <tr>\n",
       "      <th>3</th>\n",
       "      <td>1 short of two-thirds majority.</td>\n",
       "      <td>Neutral</td>\n",
       "    </tr>\n",
       "    <tr>\n",
       "      <th>4</th>\n",
       "      <td>reverse polarisation and more. In special epap...</td>\n",
       "      <td>Neutral</td>\n",
       "    </tr>\n",
       "  </tbody>\n",
       "</table>\n",
       "</div>"
      ],
      "text/plain": [
       "                                       module output     label\n",
       "0  your system does not recognize spaces in last ...  Negative\n",
       "1                Chaos in over call for secret vote.   Neutral\n",
       "2  please take all the rest you needwe love you s...  Negative\n",
       "3                    1 short of two-thirds majority.   Neutral\n",
       "4  reverse polarisation and more. In special epap...   Neutral"
      ]
     },
     "execution_count": 258,
     "metadata": {},
     "output_type": "execute_result"
    }
   ],
   "source": [
    "data4=pd.read_csv(\"cats3.csv\",encoding= 'unicode_escape')\n",
    "data4=data4.sample(frac=1).reset_index(drop=True)\n",
    "print(data4.shape)\n",
    "data4.head()"
   ]
  },
  {
   "cell_type": "code",
   "execution_count": 259,
   "metadata": {},
   "outputs": [
    {
     "data": {
      "text/html": [
       "<div>\n",
       "<style scoped>\n",
       "    .dataframe tbody tr th:only-of-type {\n",
       "        vertical-align: middle;\n",
       "    }\n",
       "\n",
       "    .dataframe tbody tr th {\n",
       "        vertical-align: top;\n",
       "    }\n",
       "\n",
       "    .dataframe thead th {\n",
       "        text-align: right;\n",
       "    }\n",
       "</style>\n",
       "<table border=\"1\" class=\"dataframe\">\n",
       "  <thead>\n",
       "    <tr style=\"text-align: right;\">\n",
       "      <th></th>\n",
       "      <th>module output</th>\n",
       "      <th>label</th>\n",
       "    </tr>\n",
       "  </thead>\n",
       "  <tbody>\n",
       "    <tr>\n",
       "      <th>0</th>\n",
       "      <td>your system does not recognize spaces in last ...</td>\n",
       "      <td>Negative</td>\n",
       "    </tr>\n",
       "    <tr>\n",
       "      <th>1</th>\n",
       "      <td>Chaos in over call for secret vote.</td>\n",
       "      <td>Neutral</td>\n",
       "    </tr>\n",
       "    <tr>\n",
       "      <th>2</th>\n",
       "      <td>please take all the rest you needwe love you s...</td>\n",
       "      <td>Negative</td>\n",
       "    </tr>\n",
       "    <tr>\n",
       "      <th>3</th>\n",
       "      <td>1 short of two-thirds majority.</td>\n",
       "      <td>Neutral</td>\n",
       "    </tr>\n",
       "    <tr>\n",
       "      <th>4</th>\n",
       "      <td>reverse polarisation and more. In special epap...</td>\n",
       "      <td>Neutral</td>\n",
       "    </tr>\n",
       "  </tbody>\n",
       "</table>\n",
       "</div>"
      ],
      "text/plain": [
       "                                       module output     label\n",
       "0  your system does not recognize spaces in last ...  Negative\n",
       "1                Chaos in over call for secret vote.   Neutral\n",
       "2  please take all the rest you needwe love you s...  Negative\n",
       "3                    1 short of two-thirds majority.   Neutral\n",
       "4  reverse polarisation and more. In special epap...   Neutral"
      ]
     },
     "execution_count": 259,
     "metadata": {},
     "output_type": "execute_result"
    }
   ],
   "source": [
    "data4=data4[['module output','label']]\n",
    "data4.head()"
   ]
  },
  {
   "cell_type": "code",
   "execution_count": 260,
   "metadata": {},
   "outputs": [
    {
     "name": "stdout",
     "output_type": "stream",
     "text": [
      "(29, 2)\n"
     ]
    },
    {
     "data": {
      "text/html": [
       "<div>\n",
       "<style scoped>\n",
       "    .dataframe tbody tr th:only-of-type {\n",
       "        vertical-align: middle;\n",
       "    }\n",
       "\n",
       "    .dataframe tbody tr th {\n",
       "        vertical-align: top;\n",
       "    }\n",
       "\n",
       "    .dataframe thead th {\n",
       "        text-align: right;\n",
       "    }\n",
       "</style>\n",
       "<table border=\"1\" class=\"dataframe\">\n",
       "  <thead>\n",
       "    <tr style=\"text-align: right;\">\n",
       "      <th></th>\n",
       "      <th>module output</th>\n",
       "      <th>label</th>\n",
       "    </tr>\n",
       "  </thead>\n",
       "  <tbody>\n",
       "    <tr>\n",
       "      <th>0</th>\n",
       "      <td>I am not sure, if it fixes the Covid issue</td>\n",
       "      <td>neutral</td>\n",
       "    </tr>\n",
       "    <tr>\n",
       "      <th>1</th>\n",
       "      <td>I always forget to make a note of the things</td>\n",
       "      <td>neutral</td>\n",
       "    </tr>\n",
       "    <tr>\n",
       "      <th>2</th>\n",
       "      <td>I am pairing this with my iphone, and I could ...</td>\n",
       "      <td>positive</td>\n",
       "    </tr>\n",
       "    <tr>\n",
       "      <th>3</th>\n",
       "      <td>get lost and do not show me that face of your'...</td>\n",
       "      <td>negative</td>\n",
       "    </tr>\n",
       "    <tr>\n",
       "      <th>4</th>\n",
       "      <td>is this for real? If not, you have been much t...</td>\n",
       "      <td>negative</td>\n",
       "    </tr>\n",
       "  </tbody>\n",
       "</table>\n",
       "</div>"
      ],
      "text/plain": [
       "                                       module output     label\n",
       "0         I am not sure, if it fixes the Covid issue   neutral\n",
       "1       I always forget to make a note of the things   neutral\n",
       "2  I am pairing this with my iphone, and I could ...  positive\n",
       "3  get lost and do not show me that face of your'...  negative\n",
       "4  is this for real? If not, you have been much t...  negative"
      ]
     },
     "execution_count": 260,
     "metadata": {},
     "output_type": "execute_result"
    }
   ],
   "source": [
    "data5=pd.read_csv(\"not.csv\",encoding= 'unicode_escape')\n",
    "data5=data5.sample(frac=1).reset_index(drop=True)\n",
    "print(data5.shape)\n",
    "data5.head()"
   ]
  },
  {
   "cell_type": "code",
   "execution_count": 261,
   "metadata": {},
   "outputs": [
    {
     "data": {
      "text/html": [
       "<div>\n",
       "<style scoped>\n",
       "    .dataframe tbody tr th:only-of-type {\n",
       "        vertical-align: middle;\n",
       "    }\n",
       "\n",
       "    .dataframe tbody tr th {\n",
       "        vertical-align: top;\n",
       "    }\n",
       "\n",
       "    .dataframe thead th {\n",
       "        text-align: right;\n",
       "    }\n",
       "</style>\n",
       "<table border=\"1\" class=\"dataframe\">\n",
       "  <thead>\n",
       "    <tr style=\"text-align: right;\">\n",
       "      <th></th>\n",
       "      <th>module output</th>\n",
       "      <th>label</th>\n",
       "    </tr>\n",
       "  </thead>\n",
       "  <tbody>\n",
       "    <tr>\n",
       "      <th>0</th>\n",
       "      <td>I am not sure, if it fixes the Covid issue</td>\n",
       "      <td>neutral</td>\n",
       "    </tr>\n",
       "    <tr>\n",
       "      <th>1</th>\n",
       "      <td>I always forget to make a note of the things</td>\n",
       "      <td>neutral</td>\n",
       "    </tr>\n",
       "    <tr>\n",
       "      <th>2</th>\n",
       "      <td>I am pairing this with my iphone, and I could ...</td>\n",
       "      <td>positive</td>\n",
       "    </tr>\n",
       "    <tr>\n",
       "      <th>3</th>\n",
       "      <td>get lost and do not show me that face of your'...</td>\n",
       "      <td>negative</td>\n",
       "    </tr>\n",
       "    <tr>\n",
       "      <th>4</th>\n",
       "      <td>is this for real? If not, you have been much t...</td>\n",
       "      <td>negative</td>\n",
       "    </tr>\n",
       "  </tbody>\n",
       "</table>\n",
       "</div>"
      ],
      "text/plain": [
       "                                       module output     label\n",
       "0         I am not sure, if it fixes the Covid issue   neutral\n",
       "1       I always forget to make a note of the things   neutral\n",
       "2  I am pairing this with my iphone, and I could ...  positive\n",
       "3  get lost and do not show me that face of your'...  negative\n",
       "4  is this for real? If not, you have been much t...  negative"
      ]
     },
     "execution_count": 261,
     "metadata": {},
     "output_type": "execute_result"
    }
   ],
   "source": [
    "data5=data5[['module output','label']]\n",
    "data5.head()"
   ]
  },
  {
   "cell_type": "code",
   "execution_count": 262,
   "metadata": {},
   "outputs": [
    {
     "name": "stdout",
     "output_type": "stream",
     "text": [
      "(70, 2)\n"
     ]
    },
    {
     "data": {
      "text/html": [
       "<div>\n",
       "<style scoped>\n",
       "    .dataframe tbody tr th:only-of-type {\n",
       "        vertical-align: middle;\n",
       "    }\n",
       "\n",
       "    .dataframe tbody tr th {\n",
       "        vertical-align: top;\n",
       "    }\n",
       "\n",
       "    .dataframe thead th {\n",
       "        text-align: right;\n",
       "    }\n",
       "</style>\n",
       "<table border=\"1\" class=\"dataframe\">\n",
       "  <thead>\n",
       "    <tr style=\"text-align: right;\">\n",
       "      <th></th>\n",
       "      <th>module output</th>\n",
       "      <th>label</th>\n",
       "    </tr>\n",
       "  </thead>\n",
       "  <tbody>\n",
       "    <tr>\n",
       "      <th>0</th>\n",
       "      <td>hellooooooo!!!!!! we finally get to speak!!! a...</td>\n",
       "      <td>positive</td>\n",
       "    </tr>\n",
       "    <tr>\n",
       "      <th>1</th>\n",
       "      <td>Call me a taxi, please.</td>\n",
       "      <td>neutral</td>\n",
       "    </tr>\n",
       "    <tr>\n",
       "      <th>2</th>\n",
       "      <td>I saw someone on the hill with a telescope.</td>\n",
       "      <td>neutral</td>\n",
       "    </tr>\n",
       "    <tr>\n",
       "      <th>3</th>\n",
       "      <td>Look at the dog using only one of your eyes.</td>\n",
       "      <td>neutral</td>\n",
       "    </tr>\n",
       "    <tr>\n",
       "      <th>4</th>\n",
       "      <td>can some please explain to me how taxes work? ...</td>\n",
       "      <td>negative</td>\n",
       "    </tr>\n",
       "  </tbody>\n",
       "</table>\n",
       "</div>"
      ],
      "text/plain": [
       "                                       module output     label\n",
       "0  hellooooooo!!!!!! we finally get to speak!!! a...  positive\n",
       "1                            Call me a taxi, please.   neutral\n",
       "2        I saw someone on the hill with a telescope.   neutral\n",
       "3       Look at the dog using only one of your eyes.   neutral\n",
       "4  can some please explain to me how taxes work? ...  negative"
      ]
     },
     "execution_count": 262,
     "metadata": {},
     "output_type": "execute_result"
    }
   ],
   "source": [
    "data6=pd.read_csv(\"goodbad.csv\",encoding= 'unicode_escape')\n",
    "data6=data6.sample(frac=1).reset_index(drop=True)\n",
    "print(data6.shape)\n",
    "data6.head()"
   ]
  },
  {
   "cell_type": "code",
   "execution_count": 263,
   "metadata": {},
   "outputs": [
    {
     "data": {
      "text/html": [
       "<div>\n",
       "<style scoped>\n",
       "    .dataframe tbody tr th:only-of-type {\n",
       "        vertical-align: middle;\n",
       "    }\n",
       "\n",
       "    .dataframe tbody tr th {\n",
       "        vertical-align: top;\n",
       "    }\n",
       "\n",
       "    .dataframe thead th {\n",
       "        text-align: right;\n",
       "    }\n",
       "</style>\n",
       "<table border=\"1\" class=\"dataframe\">\n",
       "  <thead>\n",
       "    <tr style=\"text-align: right;\">\n",
       "      <th></th>\n",
       "      <th>module output</th>\n",
       "      <th>label</th>\n",
       "    </tr>\n",
       "  </thead>\n",
       "  <tbody>\n",
       "    <tr>\n",
       "      <th>0</th>\n",
       "      <td>hellooooooo!!!!!! we finally get to speak!!! a...</td>\n",
       "      <td>positive</td>\n",
       "    </tr>\n",
       "    <tr>\n",
       "      <th>1</th>\n",
       "      <td>Call me a taxi, please.</td>\n",
       "      <td>neutral</td>\n",
       "    </tr>\n",
       "    <tr>\n",
       "      <th>2</th>\n",
       "      <td>I saw someone on the hill with a telescope.</td>\n",
       "      <td>neutral</td>\n",
       "    </tr>\n",
       "    <tr>\n",
       "      <th>3</th>\n",
       "      <td>Look at the dog using only one of your eyes.</td>\n",
       "      <td>neutral</td>\n",
       "    </tr>\n",
       "    <tr>\n",
       "      <th>4</th>\n",
       "      <td>can some please explain to me how taxes work? ...</td>\n",
       "      <td>negative</td>\n",
       "    </tr>\n",
       "  </tbody>\n",
       "</table>\n",
       "</div>"
      ],
      "text/plain": [
       "                                       module output     label\n",
       "0  hellooooooo!!!!!! we finally get to speak!!! a...  positive\n",
       "1                            Call me a taxi, please.   neutral\n",
       "2        I saw someone on the hill with a telescope.   neutral\n",
       "3       Look at the dog using only one of your eyes.   neutral\n",
       "4  can some please explain to me how taxes work? ...  negative"
      ]
     },
     "execution_count": 263,
     "metadata": {},
     "output_type": "execute_result"
    }
   ],
   "source": [
    "data6=data6[['module output','label']]\n",
    "data6.head()"
   ]
  },
  {
   "cell_type": "code",
   "execution_count": 264,
   "metadata": {},
   "outputs": [
    {
     "name": "stdout",
     "output_type": "stream",
     "text": [
      "                                        module output\n",
      "0          I am not sure, if it fixes the Covid issue\n",
      "1        I always forget to make a note of the things\n",
      "2   I am pairing this with my iphone, and I could ...\n",
      "3   get lost and do not show me that face of your'...\n",
      "4   is this for real? If not, you have been much t...\n",
      "5                 I am not going to trust you anymore\n",
      "6   The day we won the match is the day I will nev...\n",
      "7   You get extra minutes so that you can carry ou...\n",
      "8                                          DO NOT BUY\n",
      "9   It didn't work, people can not hear me when I ...\n",
      "10                  You are not only good but amazing\n",
      "11  This show is not only good but the best show ever\n",
      "12                        The battle is not yet over.\n",
      "13  im not even arguing about the ship anymore, im...\n",
      "14  Thats a bad photo shop. The original shows a ...\n",
      "15                 Jokes on you Im not even american\n",
      "16                       I am not at all angry at you\n",
      "17  Thats a bad photo shop. The original shows a ...\n",
      "18    The more you get into it the tougher it becomes\n",
      "19  you can not answer calls with the unit, never ...\n",
      "20  i think this picture is nice and not enough pe...\n",
      "21                        Item Does Not Match Picture\n",
      "22                      I am not happy with your work\n",
      "23                                            why not\n",
      "24  What an embarrassment to how govt is NOT suppo...\n",
      "25                  Let's fight till the end ARMYs!!!\n",
      "26  he did not report for Sunday's game, according...\n",
      "27  I'm not surprised to learn that it paralyzes you.\n",
      "28                     I am not willing to do my work\n",
      "       label\n",
      "0    neutral\n",
      "1    neutral\n",
      "2   positive\n",
      "3   negative\n",
      "4   negative\n",
      "5   negative\n",
      "6   positive\n",
      "7   positive\n",
      "8   negative\n",
      "9   negative\n",
      "10  positive\n",
      "11  positive\n",
      "12  negative\n",
      "13  negative\n",
      "14  negative\n",
      "15  negative\n",
      "16  positive\n",
      "17  negative\n",
      "18   neutral\n",
      "19  negative\n",
      "20   neutral\n",
      "21  negative\n",
      "22  negative\n",
      "23   neutral\n",
      "24  negative\n",
      "25  positive\n",
      "26   neutral\n",
      "27  negative\n",
      "28  negative\n"
     ]
    }
   ],
   "source": [
    "er_x = pd.DataFrame(data5['module output'])\n",
    "print(er_x)\n",
    "er_y = pd.DataFrame(data5['label'])\n",
    "print(er_y)"
   ]
  },
  {
   "cell_type": "code",
   "execution_count": 265,
   "metadata": {},
   "outputs": [
    {
     "name": "stdout",
     "output_type": "stream",
     "text": [
      "                                          module output\n",
      "0               I probably won't be back, to be honest.\n",
      "1     We waited for thirty minutes to be seated (alt...\n",
      "2     If you read this because its Star Wars try to ...\n",
      "3             The hostel's food was so crap, I was sick\n",
      "4                      Do you know how to speak english\n",
      "5                                          Of any kind!\n",
      "6                       The noise shield is incrediable\n",
      "7                                      explained below.\n",
      "8                        what is the weather like today\n",
      "9     I have bought this Nokia cell phone a few week...\n",
      "10                                       Where can I go\n",
      "11                                    Plumbing app that\n",
      "12    Be sure to order dessert, even if you need to ...\n",
      "13                 Can't understand how to book a train\n",
      "14    Perhaps Joseph Martin wanted to make Harris th...\n",
      "15                                     IT'S REALLY EASY\n",
      "16                                            go inside\n",
      "17    \"Don't believe the hype\" I wanted to love this...\n",
      "18    The internet access was fine, it the rare inst...\n",
      "19                What happens to the killer of the dog\n",
      "20                                          Come On Man\n",
      "21     Like the Savior, tells those who were in the ...\n",
      "22    I guess maybe we went on an off night but it w...\n",
      "23                            And if not then nothing ",
      "\n",
      "24              Worst food/service I've had in a while.\n",
      "25     By swearing a Rakhi and asking for a hand, th...\n",
      "26                   Very corny website is your brother\n",
      "27                                       Blood spurting\n",
      "28                                 TOTAL WASTE OF TIME.\n",
      "29                 None Previous Equivalent Items Owned\n",
      "...                                                 ...\n",
      "3985         come on knight  its been well over 4 hours\n",
      "3986  I LOVED their mussels cooked in this wine redu...\n",
      "3987  The black eyed peas and sweet potatoes... UNREAL!\n",
      "3988  Frozen pucks of disgust, with some of the wors...\n",
      "3989                           Learn to be self reliant\n",
      "3990                                       Stupid what?\n",
      "3991   High-quality chicken on the chicken Caesar salad\n",
      "3992             Whose actors were completely different\n",
      "3993  This is the universe conspiring to help them f...\n",
      "3994  Right now I am reading books about the craft o...\n",
      "3995  a hungry fool  ill probably never see that kri...\n",
      "3996                                   Poor Reliability\n",
      "3997                                   Who am I to you?\n",
      "3998  The restaurant is very clean and has a family ...\n",
      "3999      Cant say enough good things about this place.\n",
      "4000  Everything about it is fine and reasonable for...\n",
      "4001  My 5-year old Nokia 2160 from Tracfone holds t...\n",
      "4002    im too awake now  ill have a nap this afternoon\n",
      "4003                                always respect them\n",
      "4004                                  Cabs will come to\n",
      "4005                                          Excuse me\n",
      "4006  Our devotees who want to get rid of corruption...\n",
      "4007                       I drink warm water every day\n",
      "4008                        Jawbone Era is awesome too!\n",
      "4009  First - the bathrooms at this location were di...\n",
      "4010  The result of his sacrifice is to save us from...\n",
      "4011                                       Tell me more\n",
      "4012                                         Good case!\n",
      "4013                                               Nice\n",
      "4014                             I am your old customer\n",
      "\n",
      "[4015 rows x 1 columns]\n",
      "         label\n",
      "0     Negative\n",
      "1     Negative\n",
      "2      Neutral\n",
      "3     Negative\n",
      "4     Positive\n",
      "5      Neutral\n",
      "6     Positive\n",
      "7      Neutral\n",
      "8      Neutral\n",
      "9     Negative\n",
      "10     Neutral\n",
      "11    Negative\n",
      "12    Positive\n",
      "13     Neutral\n",
      "14    positive\n",
      "15    Positive\n",
      "16     Neutral\n",
      "17     Neutral\n",
      "18    Negative\n",
      "19     Neutral\n",
      "20    Negative\n",
      "21    positive\n",
      "22    Negative\n",
      "23    negative\n",
      "24    Negative\n",
      "25    positive\n",
      "26    Negative\n",
      "27     Neutral\n",
      "28    Negative\n",
      "29     Neutral\n",
      "...        ...\n",
      "3985   Neutral\n",
      "3986  Positive\n",
      "3987  Positive\n",
      "3988  Negative\n",
      "3989  Positive\n",
      "3990  Negative\n",
      "3991  Positive\n",
      "3992   neutral\n",
      "3993   Neutral\n",
      "3994   Neutral\n",
      "3995   Neutral\n",
      "3996  Negative\n",
      "3997   Neutral\n",
      "3998  Positive\n",
      "3999  Positive\n",
      "4000  Positive\n",
      "4001  Negative\n",
      "4002   Neutral\n",
      "4003  positive\n",
      "4004   Neutral\n",
      "4005  Negative\n",
      "4006  positive\n",
      "4007   Neutral\n",
      "4008  Positive\n",
      "4009  Negative\n",
      "4010  negative\n",
      "4011   Neutral\n",
      "4012  Positive\n",
      "4013  Positive\n",
      "4014   Neutral\n",
      "\n",
      "[4015 rows x 1 columns]\n"
     ]
    }
   ],
   "source": [
    "ar_x = pd.DataFrame(data1['module output'])\n",
    "print(ar_x)\n",
    "ar_y = pd.DataFrame(data1['label'])\n",
    "print(ar_y)"
   ]
  },
  {
   "cell_type": "code",
   "execution_count": 266,
   "metadata": {},
   "outputs": [
    {
     "name": "stdout",
     "output_type": "stream",
     "text": [
      "                                           module output\n",
      "0      AmericanAir None of the LAX flights into DFW h...\n",
      "1      SouthwestAir thanks a lot for sending a specia...\n",
      "2       not worried its been a great ride in a new pl...\n",
      "3      united yes would love an upgrade or voucher  p...\n",
      "4      SouthwestAir Weve been sitting at the gate for...\n",
      "5      SouthwestAir Flight 4110 MCO to ISP delayed An...\n",
      "6      USAirways I have LITERALLY been on hold since ...\n",
      "7       Flight from BOS gt LAS tomorrow was Cancelled...\n",
      "8      united fire yr rep who refused to put me on a ...\n",
      "9      SouthwestAir I was never able to talk so someo...\n",
      "10     USAirways Flight 830 CLT to Phl I was 1st on l...\n",
      "11     SouthwestAir FJBFSC  all I need is receipt sho...\n",
      "12     united I do not see where it talks about milit...\n",
      "13     USAirways my friends at KPHL were told by your...\n",
      "14     SouthwestAir Me on one of your planes Thanks f...\n",
      "15     Stop this madness RT JetBlue Our fleets on fle...\n",
      "16     USAirways my number is 2147251966  CANT WAITLO...\n",
      "17     united the lounge tells us they have no pillow...\n",
      "18     SouthwestAir making me miss TheBachelor right ...\n",
      "19     USAirways you call this a window seat airbus32...\n",
      "20     USAirways contact via FB messages Twitter DM o...\n",
      "21     JetBlue pilyoc dont talk about my friend JetBl...\n",
      "22     united thank you for the reply I emailed your ...\n",
      "23     SouthwestAir how do I find travel funds I have...\n",
      "24     USAirways it would be nice to just pull up to ...\n",
      "25     JetBlue I would like to communicate directly w...\n",
      "26     AmericanAir dont worry you wont steal my money...\n",
      "27     USAirways They were breathing very heavily but...\n",
      "28     united on 768 to Logan  boarding gong show due...\n",
      "29             united all goods Ill call tomorrow thanks\n",
      "...                                                  ...\n",
      "14610  JetBlue No not yet I will notify them Im new a...\n",
      "14611                                 AmericanAir thanks\n",
      "14612  JetBlue loves Cancelled Flightling tickets and...\n",
      "14613  JetBlue Our fleets on fleek httptcoVxn2J36M7V ...\n",
      "14614  JetBlue nope This 845am flight is now not leav...\n",
      "14615  jetblue fly 2301 delayed do to ice at JFK  Can...\n",
      "14616  united I need to speak with a supervisor or so...\n",
      "14617                             JetBlue Just a thought\n",
      "14618        AmericanAir But Eagle is always Late Flight\n",
      "14619  USAirways I was on hold for 2 hours and still ...\n",
      "14620  AmericanAir finally about to take off Thanks f...\n",
      "14621  united Im on hold for the 4th time waiting for...\n",
      "14622  USAirways has no idea what customer service me...\n",
      "14623  USAirways Im sure the people are working very ...\n",
      "14624  AmericanAir Where are your tickets offices in ...\n",
      "14625  USAirways will you hold 475 today for connecti...\n",
      "14626  AmericanAir Why is your cover photo of TWA Jus...\n",
      "14627  usairways Ive been on hold for over an hour on...\n",
      "14628  SouthwestAir thanks so much for making my nigh...\n",
      "14629  USAirways when will FLT 445 get a gate at DEN ...\n",
      "14630  AmericanAir justynmoro I totally agree  You ge...\n",
      "14631                            JetBlue I LOVE JET BLUE\n",
      "14632  AmericanAir 23 I sat on the runway for 4 MORE ...\n",
      "14633  usairways I dont think the US site allows that...\n",
      "14634  AmericanAir  Death of a dear friend has me hea...\n",
      "14635  JetBlue would you say a delay is more likely T...\n",
      "14636  USAirways why does this flight keep getting de...\n",
      "14637  SouthwestAir pleaseeee resume direct flights f...\n",
      "14638  united please tell me Im going to make my conn...\n",
      "14639  AmericanAir is there something wrong with the ...\n",
      "\n",
      "[14640 rows x 1 columns]\n",
      "          label\n",
      "0      positive\n",
      "1      negative\n",
      "2      positive\n",
      "3       neutral\n",
      "4      negative\n",
      "5      negative\n",
      "6      negative\n",
      "7      negative\n",
      "8      negative\n",
      "9      negative\n",
      "10     negative\n",
      "11     negative\n",
      "12      neutral\n",
      "13     negative\n",
      "14     positive\n",
      "15      neutral\n",
      "16     negative\n",
      "17     negative\n",
      "18     negative\n",
      "19     negative\n",
      "20      neutral\n",
      "21      neutral\n",
      "22     negative\n",
      "23      neutral\n",
      "24     negative\n",
      "25     negative\n",
      "26     negative\n",
      "27     positive\n",
      "28     negative\n",
      "29     positive\n",
      "...         ...\n",
      "14610   neutral\n",
      "14611  positive\n",
      "14612  negative\n",
      "14613   neutral\n",
      "14614  negative\n",
      "14615  negative\n",
      "14616  negative\n",
      "14617   neutral\n",
      "14618  negative\n",
      "14619  negative\n",
      "14620  negative\n",
      "14621  negative\n",
      "14622  negative\n",
      "14623  negative\n",
      "14624  negative\n",
      "14625  negative\n",
      "14626   neutral\n",
      "14627  negative\n",
      "14628  positive\n",
      "14629  negative\n",
      "14630  negative\n",
      "14631  positive\n",
      "14632  negative\n",
      "14633   neutral\n",
      "14634  negative\n",
      "14635  positive\n",
      "14636  negative\n",
      "14637  negative\n",
      "14638   neutral\n",
      "14639  negative\n",
      "\n",
      "[14640 rows x 1 columns]\n"
     ]
    }
   ],
   "source": [
    "br_x = pd.DataFrame(data2['module output'])\n",
    "print(br_x)\n",
    "br_y = pd.DataFrame(data2['label'])\n",
    "print(br_y)"
   ]
  },
  {
   "cell_type": "code",
   "execution_count": 267,
   "metadata": {},
   "outputs": [
    {
     "name": "stdout",
     "output_type": "stream",
     "text": [
      "                                         module output\n",
      "0    Make work from home mandatory, there will be l...\n",
      "1    Trump is one who needs caution and compassion ...\n",
      "2    There are flight for July 19 and 20 Bangalore....\n",
      "3    When everything is owned by the government and...\n",
      "4    Remember how Netaji Subhas Chandra Bose was tr...\n",
      "5     Majestic who returned normal after the lockdown.\n",
      "6                                Just retweet no likes\n",
      "7    THE IMPACT ON DESIGN\\r, Naveen G.J., Principal...\n",
      "8                                      Join this group\n",
      "9    bangalore Commissioner Bhaskar Rao Reacts On L...\n",
      "10                                            We will \n",
      "11   \"...it doesn't matter what the judges think if...\n",
      "12   We are all tired, but we need to keep going. T...\n",
      "13     Attendance time \\r\\nRetweet if you're online \\r\n",
      "14   19/07/2020 05:06\\r\\r\\nAir Temperature: 23.7Â°C...\n",
      "15   The speed at which it's spreading now, I don't...\n",
      "16                         Still 12 hrs 30 mins left\\r\n",
      "17   If there is a will there is a way is the sayin...\n",
      "18                      can we get some bangalore love\n",
      "19   Air Temperature: 23.7Â°C\\nReal Feel Temperatur...\n",
      "20   have not received this order. Placed 11 days b...\n",
      "21                                 COME-ON BALD LEGEND\n",
      "22                          Will of a draft beer tower\n",
      "23   Live in Palo Duro Canyon, Texas, USA . Playing...\n",
      "24   1 Bedroom Paying Guest for rent in Electronic ...\n",
      "25                  Increase the speed\\n40m can be hit\n",
      "26   Sir good luck you all be alright no worry we n...\n",
      "27   Retweet if you're participating in the trend a...\n",
      "28   Again lockdown in Bangalore \\r\\nStarting from ...\n",
      "29   I can smell something burning in Mumbai from B...\n",
      "..                                                 ...\n",
      "74   16/07/2020 05:06\\r\\r\\nAir Temperature: 23.7Â°C...\n",
      "75   When using social media, judges should be guid...\n",
      "76            The bike races at the speed of km lifted\n",
      "77   When reality bites it can really hit hard. Wea...\n",
      "78   LATE actor Robin Williams son, Zak, became a m...\n",
      "79   Spotting any celestial event in Bangalore is a...\n",
      "80                Bangalore Apexlegends I love youuu\\r\n",
      "81   Bangalore stretching and putting on runners-\\r...\n",
      "82   Making more defence material in INDIA and make...\n",
      "83                                            Join us \n",
      "84   21/07/2020 05:06We got married\\n\\rAir Temperat...\n",
      "85                                      BANGALORE MAIN\n",
      "86   2011-2019 Bangalore CHENNAI Hyderabad vizag. C...\n",
      "87   More than just a twitter post saying Bangalore...\n",
      "88                             No egos Just retweet \\r\n",
      "89             This is what the death mass trend means\n",
      "90   15/07/2020 05:06\\r\\r\\nAir Temperature: 23.7Â°C...\n",
      "91   Covid-19: Week-long lockdown comes into force ...\n",
      "92   Screenshot your statement: will continue to se...\n",
      "93                         May her soul Rest In Peace.\n",
      "94   Bangalore has more cases per day now than Delh...\n",
      "95   Bangalore be cold like it's December already. ...\n",
      "96   Bangalore City  2020  View & Facts Karnataka  ...\n",
      "97   LOCATION: Bangalore/Gurgaon.\\r\\r\\nQUALIFICATIO...\n",
      "98   Pakistani Reaction on Bangalore City INDIA 202...\n",
      "99   3 Bedroom Apartment  Flat for rent in Akshaya ...\n",
      "100  He's a savage on the field tho, guaranteed yel...\n",
      "101                 Increase Speed ??Mom.Let's put 30m\n",
      "102  Congress runs with people like Vohra, Anthony,...\n",
      "103  That's not a Dad Bod, That is a Fat bod and is...\n",
      "\n",
      "[104 rows x 1 columns]\n",
      "        label\n",
      "0    negative\n",
      "1     neutral\n",
      "2     neutral\n",
      "3     neutral\n",
      "4    negative\n",
      "5     Neutral\n",
      "6     neutral\n",
      "7     neutral\n",
      "8     neutral\n",
      "9    Positive\n",
      "10    neutral\n",
      "11   positive\n",
      "12   negative\n",
      "13    neutral\n",
      "14   negative\n",
      "15   negative\n",
      "16    neutral\n",
      "17   positive\n",
      "18   positive\n",
      "19    neutral\n",
      "20    neutral\n",
      "21    neutral\n",
      "22    neutral\n",
      "23   positive\n",
      "24    neutral\n",
      "25    neutral\n",
      "26   positive\n",
      "27    neutral\n",
      "28    neutral\n",
      "29    neutral\n",
      "..        ...\n",
      "74   negative\n",
      "75    neutral\n",
      "76    Neutral\n",
      "77   negative\n",
      "78   negative\n",
      "79   negative\n",
      "80   positive\n",
      "81    neutral\n",
      "82   positive\n",
      "83   positive\n",
      "84   negative\n",
      "85   positive\n",
      "86    neutral\n",
      "87   positive\n",
      "88    neutral\n",
      "89    neutral\n",
      "90   negative\n",
      "91    neutral\n",
      "92   negative\n",
      "93    neutral\n",
      "94   positive\n",
      "95   negative\n",
      "96   Positive\n",
      "97   positive\n",
      "98   Positive\n",
      "99    neutral\n",
      "100  negative\n",
      "101   neutral\n",
      "102  positive\n",
      "103  negative\n",
      "\n",
      "[104 rows x 1 columns]\n"
     ]
    }
   ],
   "source": [
    "cr_x = pd.DataFrame(data3['module output'])\n",
    "print(cr_x)\n",
    "cr_y = pd.DataFrame(data3['label'])\n",
    "print(cr_y)"
   ]
  },
  {
   "cell_type": "code",
   "execution_count": 268,
   "metadata": {},
   "outputs": [
    {
     "name": "stdout",
     "output_type": "stream",
     "text": [
      "                                          module output\n",
      "0     your system does not recognize spaces in last ...\n",
      "1                   Chaos in over call for secret vote.\n",
      "2     please take all the rest you needwe love you s...\n",
      "3                       1 short of two-thirds majority.\n",
      "4     reverse polarisation and more. In special epap...\n",
      "5         Britain is not becoming xenophobic or hostile\n",
      "6     Appreciate your recent retweets Have a great  ...\n",
      "7         mastermind of module of arrested by police in\n",
      "8     mutual: let's talk more!me: for sure!mutual:  ...\n",
      "9     yes... kind of funny and creepy at the same ti...\n",
      "10                                           love happy\n",
      "11    army blocks key highway. And civilians are suf...\n",
      "12    Palaniswami's victory (and how the dhoti survi...\n",
      "13                Yeesh unhappy  It's fairly warm here.\n",
      "14    Cong forced to  adjournments in pre-noon sessi...\n",
      "15                                            cheeky :D\n",
      "16                        but surges to runner-up slot.\n",
      "17    happy birthday sweet sweet girl! i hope you ha...\n",
      "18    They pinched him on a free? His quality on FM ...\n",
      "19                            and more. Also in epaper.\n",
      "20    mutual: let's talk more!me: for sure!mutual:  ...\n",
      "21    Bihar sets Rs25lakh fee for who skip after sub...\n",
      "22                            In a BJP govt with faces.\n",
      "23         Naila Raheem is now following me on Twitter!\n",
      "24                    Mmmmmmmm love naughty wives smile\n",
      "25    arisun at town hall has pretty terrible servic...\n",
      "26    How 4000 Punjab cops spent night preventing by...\n",
      "27                                          Anne! happy\n",
      "28    clay and hannah   - they were so in love they ...\n",
      "29                                   poor mouse unhappy\n",
      "...                                                 ...\n",
      "3436  Hi ! I want to speak to you about a business p...\n",
      "3437                      A lot of games this month? :D\n",
      "3438  i swear sometimes it's cool to break some mutu...\n",
      "3439                          and more. Also in epaper.\n",
      "3440  thanks so much for following us! We'd love to ...\n",
      "3441  No Celtics or Bruins today unhappy  At least S...\n",
      "3442  begins in 51 Assembly constituencies spread ac...\n",
      "3443                               If you're a CHAMPION\n",
      "3444    that might have cost you $3 a month!!!!   happy\n",
      "3445  I have a cold unhappy  we'll see how I feel to...\n",
      "3446  Share the love you're top engaged community me...\n",
      "3447                       i want harry's phonecase sad\n",
      "3448  I miss Temperance Brennan and Seeley Booth so ...\n",
      "3449                             Funds fear on research\n",
      "3450     The untold love story of and Ayesha Mukherjee.\n",
      "3451       Supreme Court rejects age plea to skip jail.\n",
      "3452  It's okay I've accepted you the way you are un...\n",
      "3453         Match referee and umpires went by the book\n",
      "3454                       kind of like my layout happy\n",
      "3455                        l Congratulate people of UP\n",
      "3456    I'm surprised you don't use an Adblocker! happy\n",
      "3457  What a beauty he scored the other night!! Hope...\n",
      "3458                        Give a little for her happy\n",
      "3459         music and direction by of my favourites by\n",
      "3460                                         From May 1\n",
      "3461       I considered asking where that came from. :D\n",
      "3462                                   no i don%27t :))\n",
      "3463  we finally got jinyoung to wipe it for jaebum ...\n",
      "3464                      Helloo :D chammy (shamirakay)\n",
      "3465                                           patience\n",
      "\n",
      "[3466 rows x 1 columns]\n",
      "         label\n",
      "0     Negative\n",
      "1      Neutral\n",
      "2     Negative\n",
      "3      Neutral\n",
      "4      Neutral\n",
      "5      Neutral\n",
      "6     Positive\n",
      "7      Neutral\n",
      "8     Positive\n",
      "9     Positive\n",
      "10    Positive\n",
      "11     Neutral\n",
      "12     Neutral\n",
      "13    Negative\n",
      "14     Neutral\n",
      "15    Positive\n",
      "16     Neutral\n",
      "17    Negative\n",
      "18    Positive\n",
      "19     Neutral\n",
      "20    Positive\n",
      "21     Neutral\n",
      "22     Neutral\n",
      "23    Positive\n",
      "24    Positive\n",
      "25    Negative\n",
      "26     Neutral\n",
      "27    Positive\n",
      "28    Negative\n",
      "29    Negative\n",
      "...        ...\n",
      "3436  Positive\n",
      "3437  Positive\n",
      "3438  Positive\n",
      "3439   Neutral\n",
      "3440  Positive\n",
      "3441  Negative\n",
      "3442   Neutral\n",
      "3443  Positive\n",
      "3444  Positive\n",
      "3445  Negative\n",
      "3446  Positive\n",
      "3447  Negative\n",
      "3448  Negative\n",
      "3449   Neutral\n",
      "3450   Neutral\n",
      "3451   Neutral\n",
      "3452  Negative\n",
      "3453   Neutral\n",
      "3454  Positive\n",
      "3455   Neutral\n",
      "3456  Positive\n",
      "3457  Positive\n",
      "3458  Positive\n",
      "3459  Positive\n",
      "3460   Neutral\n",
      "3461  Positive\n",
      "3462  Positive\n",
      "3463  Positive\n",
      "3464  Positive\n",
      "3465   Neutral\n",
      "\n",
      "[3466 rows x 1 columns]\n"
     ]
    }
   ],
   "source": [
    "dr_x = pd.DataFrame(data4['module output'])\n",
    "print(dr_x)\n",
    "dr_y = pd.DataFrame(data4['label'])\n",
    "print(dr_y)"
   ]
  },
  {
   "cell_type": "code",
   "execution_count": 269,
   "metadata": {},
   "outputs": [
    {
     "name": "stdout",
     "output_type": "stream",
     "text": [
      "                                        module output\n",
      "0   hellooooooo!!!!!! we finally get to speak!!! a...\n",
      "1                             Call me a taxi, please.\n",
      "2         I saw someone on the hill with a telescope.\n",
      "3        Look at the dog using only one of your eyes.\n",
      "4   can some please explain to me how taxes work? ...\n",
      "5   He read the book his friend had given him last...\n",
      "6                      They fed her the dog biscuits.\n",
      "7   where is the world s largest ice sheet located...\n",
      "8   i love to eat pizza but i have high cholestrol...\n",
      "9                       We need more humane officers.\n",
      "10    They saw the girl who disappeared in the store.\n",
      "11              The dog barked at the cat in the park\n",
      "12                     Flying planes can be dangerous\n",
      "13  Tanaka was awarded the 2002 Nobel Prize in Che...\n",
      "14  friend or foe, in the wake of the confluence, ...\n",
      "15           He looked professional in his chefs hat\n",
      "16  ELON I GOT HEAD IN MY TESLA ON AUTO PILOT AND ...\n",
      "17  The latest character released in dota called v...\n",
      "18  institutional autonomy to restore confidence i...\n",
      "19  i dont see how you cannot like kpop. IT IS AWE...\n",
      "20        when are hops added to the brewing process?\n",
      "21   Write for free tape recorder and tape catalogue!\n",
      "22  I dunno why I was going to mention you on this...\n",
      "23        The girl kidnapper has not been heard from.\n",
      "24  christopher nolan is the most revolutionary di...\n",
      "25  the movie was mediocre and i dont like mediocr...\n",
      "26  Great article! Lucid & wise advice to focus on...\n",
      "27  He turned, and with a firm and rapid step he w...\n",
      "28                             Mary was seen by John.\n",
      "29           I promise Ill give you a ring tomorrow.\n",
      "..                                                ...\n",
      "40  I never ever ever ever want to stop improving ...\n",
      "41  The coronvirus is punishment to Mother India a...\n",
      "42  I dont much like the charger of my new phone b...\n",
      "43                              It is too hot to eat.\n",
      "44     Susan saw the dragon in the cave over the hill\n",
      "45                        He hit the man with a stick\n",
      "46         I asked her mother to call at ten oclock.\n",
      "47                             Did you see her dress?\n",
      "48  i dont like you man, you are mean and despicab...\n",
      "49  you may be fat but that doesn't mean that you ...\n",
      "50           He told the story and laughed with gusto\n",
      "51  please send me a link to this video i love it ...\n",
      "52  I love the guy who works as a news reporter in...\n",
      "53  Well, I've certainly never tasted chicken cook...\n",
      "54                      Lets stop controlling people\n",
      "55     Please find a way to make both more affordable\n",
      "56  i belive in the spirit. there is always salvat...\n",
      "57  Heyy, when are you announcing the giveaway win...\n",
      "58  the ISS is the most expensive man made thing c...\n",
      "59  people who dont like mushrooms are crybabies a...\n",
      "60  The bank is the scene of the crime this is why...\n",
      "61  do not be sorry, be better. your apology is as...\n",
      "62                              how do i grow my cock\n",
      "63  Excellent introductory text and captions in En...\n",
      "64                            The socks belong to her\n",
      "65  They were arguing about exam terms at the end ...\n",
      "66  When billionaires wealth is redistributed to t...\n",
      "67  i love the size of this pillow but it is too s...\n",
      "68        John found the boy studying in the library.\n",
      "69  When space travel becomes as common as air tra...\n",
      "\n",
      "[70 rows x 1 columns]\n",
      "       label\n",
      "0   positive\n",
      "1    neutral\n",
      "2    neutral\n",
      "3    neutral\n",
      "4   negative\n",
      "5   positive\n",
      "6   positive\n",
      "7    neutral\n",
      "8   negative\n",
      "9   negative\n",
      "10  negative\n",
      "11  negative\n",
      "12  positive\n",
      "13   neutral\n",
      "14   neutral\n",
      "15  positive\n",
      "16  positive\n",
      "17  positive\n",
      "18   neutral\n",
      "19  positive\n",
      "20   neutral\n",
      "21  positive\n",
      "22   neutral\n",
      "23  negative\n",
      "24  positive\n",
      "25  negative\n",
      "26  positive\n",
      "27  positive\n",
      "28  positive\n",
      "29  positive\n",
      "..       ...\n",
      "40  positive\n",
      "41  negative\n",
      "42   neutral\n",
      "43  negative\n",
      "44  negative\n",
      "45  negative\n",
      "46   neutral\n",
      "47   neutral\n",
      "48  negative\n",
      "49  positive\n",
      "50  positive\n",
      "51  positive\n",
      "52  positive\n",
      "53  positive\n",
      "54  positive\n",
      "55  negative\n",
      "56  positive\n",
      "57  negative\n",
      "58   neutral\n",
      "59  negative\n",
      "60  negative\n",
      "61  negative\n",
      "62  negative\n",
      "63  positive\n",
      "64   neutral\n",
      "65  negative\n",
      "66  positive\n",
      "67  negative\n",
      "68   neutral\n",
      "69  positive\n",
      "\n",
      "[70 rows x 1 columns]\n"
     ]
    }
   ],
   "source": [
    "fr_x = pd.DataFrame(data6['module output'])\n",
    "print(fr_x)\n",
    "fr_y = pd.DataFrame(data6['label'])\n",
    "print(fr_y)"
   ]
  },
  {
   "cell_type": "code",
   "execution_count": 270,
   "metadata": {},
   "outputs": [
    {
     "name": "stdout",
     "output_type": "stream",
     "text": [
      "(22324, 1)\n",
      "(22324, 1)\n"
     ]
    }
   ],
   "source": [
    "x_feature = pd.concat([ar_x,br_x,cr_x,dr_x,er_x,fr_x],ignore_index=True)\n",
    "print(x_feature.shape)\n",
    "y_feature = pd.concat([ar_y,br_y,cr_y,dr_y,er_y,fr_y],ignore_index=True)\n",
    "print(y_feature.shape)"
   ]
  },
  {
   "cell_type": "code",
   "execution_count": 271,
   "metadata": {},
   "outputs": [],
   "source": [
    "def clean_text1(text):\n",
    "    text = \"\".join([word.lower() for word in text if word not in string.punctuation])\n",
    "    # text = \"\".join([word for word in text if word.isalpha()])\n",
    "    tokens = re.split('\\W+', text)\n",
    "    text = [word for word in tokens if word.isalpha()]\n",
    "    text = \" \".join([lm.lemmatize(word) for word in text if word not in stop])\n",
    "    return text"
   ]
  },
  {
   "cell_type": "code",
   "execution_count": 272,
   "metadata": {},
   "outputs": [
    {
     "data": {
      "text/html": [
       "<div>\n",
       "<style scoped>\n",
       "    .dataframe tbody tr th:only-of-type {\n",
       "        vertical-align: middle;\n",
       "    }\n",
       "\n",
       "    .dataframe tbody tr th {\n",
       "        vertical-align: top;\n",
       "    }\n",
       "\n",
       "    .dataframe thead th {\n",
       "        text-align: right;\n",
       "    }\n",
       "</style>\n",
       "<table border=\"1\" class=\"dataframe\">\n",
       "  <thead>\n",
       "    <tr style=\"text-align: right;\">\n",
       "      <th></th>\n",
       "      <th>module output</th>\n",
       "      <th>body</th>\n",
       "    </tr>\n",
       "  </thead>\n",
       "  <tbody>\n",
       "    <tr>\n",
       "      <th>0</th>\n",
       "      <td>I probably won't be back, to be honest.</td>\n",
       "      <td>probably wont back honest</td>\n",
       "    </tr>\n",
       "    <tr>\n",
       "      <th>1</th>\n",
       "      <td>We waited for thirty minutes to be seated (alt...</td>\n",
       "      <td>waited thirty minute seated although vacant ta...</td>\n",
       "    </tr>\n",
       "    <tr>\n",
       "      <th>2</th>\n",
       "      <td>If you read this because its Star Wars try to ...</td>\n",
       "      <td>read star war try experiment borrow one</td>\n",
       "    </tr>\n",
       "    <tr>\n",
       "      <th>3</th>\n",
       "      <td>The hostel's food was so crap, I was sick</td>\n",
       "      <td>hostel food crap sick</td>\n",
       "    </tr>\n",
       "    <tr>\n",
       "      <th>4</th>\n",
       "      <td>Do you know how to speak english</td>\n",
       "      <td>know speak english</td>\n",
       "    </tr>\n",
       "  </tbody>\n",
       "</table>\n",
       "</div>"
      ],
      "text/plain": [
       "                                       module output  \\\n",
       "0            I probably won't be back, to be honest.   \n",
       "1  We waited for thirty minutes to be seated (alt...   \n",
       "2  If you read this because its Star Wars try to ...   \n",
       "3          The hostel's food was so crap, I was sick   \n",
       "4                   Do you know how to speak english   \n",
       "\n",
       "                                                body  \n",
       "0                          probably wont back honest  \n",
       "1  waited thirty minute seated although vacant ta...  \n",
       "2            read star war try experiment borrow one  \n",
       "3                              hostel food crap sick  \n",
       "4                                 know speak english  "
      ]
     },
     "execution_count": 272,
     "metadata": {},
     "output_type": "execute_result"
    }
   ],
   "source": [
    "x_feature['body']=x_feature['module output'].apply(lambda x:clean_text1(x))\n",
    "x_feature.head()"
   ]
  },
  {
   "cell_type": "code",
   "execution_count": 273,
   "metadata": {},
   "outputs": [
    {
     "data": {
      "text/plain": [
       "array([[   0,    0,    0,    0,    0,    0,    0,    0,    0,    0,    0,\n",
       "           0,    0,    0,    0,    0,    0,    0,    0,    0,    0,    0,\n",
       "           0,  473,  125,   31, 1141],\n",
       "       [   0,    0,    0,    0,    0,    0,    0,    0,    0,    0,    0,\n",
       "           0,    0,    0,    0,    0,    0,    0,  427, 4182,   67, 1592,\n",
       "        1183, 7394,  863,  804,   65],\n",
       "       [   0,    0,    0,    0,    0,    0,    0,    0,    0,    0,    0,\n",
       "           0,    0,    0,    0,    0,    0,    0,    0,    0,  409,  597,\n",
       "        2327,  216, 5245, 2763,   18],\n",
       "       [   0,    0,    0,    0,    0,    0,    0,    0,    0,    0,    0,\n",
       "           0,    0,    0,    0,    0,    0,    0,    0,    0,    0,    0,\n",
       "           0, 5246,  143, 1226,  805],\n",
       "       [   0,    0,    0,    0,    0,    0,    0,    0,    0,    0,    0,\n",
       "           0,    0,    0,    0,    0,    0,    0,    0,    0,    0,    0,\n",
       "           0,    0,   48,  284, 1434]])"
      ]
     },
     "execution_count": 273,
     "metadata": {},
     "output_type": "execute_result"
    }
   ],
   "source": [
    "tokenizer = Tokenizer(num_words=None, split=\" \")\n",
    "tokenizer.fit_on_texts(x_feature['body'].values)\n",
    "\n",
    "X = tokenizer.texts_to_sequences(x_feature['body'].values)\n",
    "#print(X)\n",
    "X = pad_sequences(X) # padding our text vector so they all have the same length\n",
    "X[:5]"
   ]
  },
  {
   "cell_type": "code",
   "execution_count": 274,
   "metadata": {},
   "outputs": [
    {
     "data": {
      "text/plain": [
       "17030"
      ]
     },
     "execution_count": 274,
     "metadata": {},
     "output_type": "execute_result"
    }
   ],
   "source": [
    "index=tokenizer.word_index\n",
    "len(index)"
   ]
  },
  {
   "cell_type": "code",
   "execution_count": 275,
   "metadata": {},
   "outputs": [],
   "source": [
    "y_feature['label1']=y_feature['label'].apply(lambda x:clean_text1(x))"
   ]
  },
  {
   "cell_type": "code",
   "execution_count": 276,
   "metadata": {},
   "outputs": [
    {
     "name": "stderr",
     "output_type": "stream",
     "text": [
      "100%|█████████████████████████████████████████████████████████████████████████| 17030/17030 [00:00<00:00, 44994.19it/s]\n"
     ]
    }
   ],
   "source": [
    "embedding_matrix = np.zeros((len(index)+1, 300))\n",
    "for word, i in tqdm(index.items()):\n",
    "    embedding_vector = embeddings_index.get(word)\n",
    "    if embedding_vector is not None:\n",
    "        embedding_matrix[i] = embedding_vector"
   ]
  },
  {
   "cell_type": "code",
   "execution_count": 277,
   "metadata": {},
   "outputs": [
    {
     "name": "stdout",
     "output_type": "stream",
     "text": [
      "Model: \"sequential_7\"\n",
      "_________________________________________________________________\n",
      "Layer (type)                 Output Shape              Param #   \n",
      "=================================================================\n",
      "embedding_7 (Embedding)      (None, 1000, 300)         5109300   \n",
      "_________________________________________________________________\n",
      "bidirectional_6 (Bidirection (None, 200)               320800    \n",
      "_________________________________________________________________\n",
      "dense_5 (Dense)              (None, 3)                 603       \n",
      "=================================================================\n",
      "Total params: 5,430,703\n",
      "Trainable params: 321,403\n",
      "Non-trainable params: 5,109,300\n",
      "_________________________________________________________________\n"
     ]
    }
   ],
   "source": [
    "model = Sequential()\n",
    "\n",
    "model.add(Embedding(len(index) + 1,300,weights=[embedding_matrix],input_length=1000,trainable=False))\n",
    "model.add(Bidirectional(LSTM(100, dropout=0.2,recurrent_dropout=0.2)))\n",
    "#model.add(Bidirectional(LSTM(200, dropout=0.3, recurrent_dropout=0.2)))\n",
    "model.add(Dense(3, activation='softmax'))\n",
    "model.compile(loss='categorical_crossentropy', optimizer='adam',metrics=['accuracy'])\n",
    "    \n",
    "model.summary()"
   ]
  },
  {
   "cell_type": "code",
   "execution_count": 278,
   "metadata": {},
   "outputs": [
    {
     "name": "stdout",
     "output_type": "stream",
     "text": [
      "negative [1 0 0]\n",
      "negative [1 0 0]\n",
      "neutral [0 1 0]\n",
      "negative [1 0 0]\n",
      "positive [0 0 1]\n"
     ]
    },
    {
     "data": {
      "text/plain": [
       "[None, None, None, None, None]"
      ]
     },
     "execution_count": 278,
     "metadata": {},
     "output_type": "execute_result"
    }
   ],
   "source": [
    "y = pd.get_dummies(y_feature['label1']).values\n",
    "[print(y_feature['label1'][i], y[i]) for i in range(0,5)]"
   ]
  },
  {
   "cell_type": "code",
   "execution_count": 279,
   "metadata": {},
   "outputs": [],
   "source": [
    "X_train, X_test, y_train, y_test = train_test_split(X, y, test_size=0.2, random_state=0)"
   ]
  },
  {
   "cell_type": "code",
   "execution_count": 280,
   "metadata": {},
   "outputs": [
    {
     "data": {
      "text/plain": [
       "(None, 3)"
      ]
     },
     "execution_count": 280,
     "metadata": {},
     "output_type": "execute_result"
    }
   ],
   "source": [
    "model.output_shape"
   ]
  },
  {
   "cell_type": "code",
   "execution_count": 281,
   "metadata": {},
   "outputs": [
    {
     "name": "stdout",
     "output_type": "stream",
     "text": [
      "Epoch 1/6\n",
      "WARNING:tensorflow:Model was constructed with shape (None, 1000) for input Tensor(\"embedding_7_input:0\", shape=(None, 1000), dtype=float32), but it was called on an input with incompatible shape (None, 27).\n",
      "WARNING:tensorflow:Model was constructed with shape (None, 1000) for input Tensor(\"embedding_7_input:0\", shape=(None, 1000), dtype=float32), but it was called on an input with incompatible shape (None, 27).\n"
     ]
    },
    {
     "name": "stdout",
     "output_type": "stream",
     "text": [
      "186/559 [========>.....................] - ETA: 0s - loss: 1.1170 - accuracy: 0.28 - ETA: 1:00 - loss: 1.1028 - accuracy: 0.34 - ETA: 1:18 - loss: 1.0616 - accuracy: 0.41 - ETA: 1:25 - loss: 1.0586 - accuracy: 0.40 - ETA: 1:30 - loss: 1.0672 - accuracy: 0.40 - ETA: 1:34 - loss: 1.0575 - accuracy: 0.41 - ETA: 1:38 - loss: 1.0355 - accuracy: 0.43 - ETA: 1:39 - loss: 1.0137 - accuracy: 0.45 - ETA: 1:40 - loss: 0.9988 - accuracy: 0.46 - ETA: 1:40 - loss: 0.9992 - accuracy: 0.46 - ETA: 1:41 - loss: 0.9861 - accuracy: 0.47 - ETA: 1:43 - loss: 0.9657 - accuracy: 0.48 - ETA: 1:45 - loss: 0.9447 - accuracy: 0.50 - ETA: 1:45 - loss: 0.9407 - accuracy: 0.50 - ETA: 1:45 - loss: 0.9246 - accuracy: 0.51 - ETA: 1:46 - loss: 0.9191 - accuracy: 0.51 - ETA: 1:46 - loss: 0.9176 - accuracy: 0.52 - ETA: 1:46 - loss: 0.9116 - accuracy: 0.52 - ETA: 1:46 - loss: 0.9117 - accuracy: 0.52 - ETA: 1:46 - loss: 0.9091 - accuracy: 0.53 - ETA: 1:47 - loss: 0.9022 - accuracy: 0.54 - ETA: 1:47 - loss: 0.8985 - accuracy: 0.54 - ETA: 1:47 - loss: 0.8952 - accuracy: 0.55 - ETA: 1:47 - loss: 0.8950 - accuracy: 0.55 - ETA: 1:48 - loss: 0.8923 - accuracy: 0.56 - ETA: 1:49 - loss: 0.8947 - accuracy: 0.56 - ETA: 1:49 - loss: 0.8929 - accuracy: 0.56 - ETA: 1:50 - loss: 0.8893 - accuracy: 0.57 - ETA: 1:50 - loss: 0.8857 - accuracy: 0.57 - ETA: 1:50 - loss: 0.8868 - accuracy: 0.58 - ETA: 1:50 - loss: 0.8828 - accuracy: 0.58 - ETA: 1:49 - loss: 0.8728 - accuracy: 0.59 - ETA: 1:50 - loss: 0.8647 - accuracy: 0.59 - ETA: 1:51 - loss: 0.8733 - accuracy: 0.59 - ETA: 1:52 - loss: 0.8681 - accuracy: 0.60 - ETA: 1:52 - loss: 0.8712 - accuracy: 0.59 - ETA: 1:52 - loss: 0.8675 - accuracy: 0.60 - ETA: 1:51 - loss: 0.8647 - accuracy: 0.60 - ETA: 1:51 - loss: 0.8598 - accuracy: 0.60 - ETA: 1:51 - loss: 0.8601 - accuracy: 0.61 - ETA: 1:51 - loss: 0.8596 - accuracy: 0.61 - ETA: 1:51 - loss: 0.8538 - accuracy: 0.61 - ETA: 1:51 - loss: 0.8548 - accuracy: 0.61 - ETA: 1:51 - loss: 0.8510 - accuracy: 0.61 - ETA: 1:51 - loss: 0.8462 - accuracy: 0.61 - ETA: 1:51 - loss: 0.8425 - accuracy: 0.62 - ETA: 1:50 - loss: 0.8377 - accuracy: 0.62 - ETA: 1:50 - loss: 0.8396 - accuracy: 0.62 - ETA: 1:50 - loss: 0.8362 - accuracy: 0.62 - ETA: 1:49 - loss: 0.8292 - accuracy: 0.62 - ETA: 1:49 - loss: 0.8229 - accuracy: 0.63 - ETA: 1:49 - loss: 0.8176 - accuracy: 0.63 - ETA: 1:49 - loss: 0.8162 - accuracy: 0.63 - ETA: 1:48 - loss: 0.8130 - accuracy: 0.64 - ETA: 1:48 - loss: 0.8111 - accuracy: 0.64 - ETA: 1:48 - loss: 0.8085 - accuracy: 0.64 - ETA: 1:47 - loss: 0.8069 - accuracy: 0.64 - ETA: 1:47 - loss: 0.8043 - accuracy: 0.64 - ETA: 1:46 - loss: 0.8002 - accuracy: 0.65 - ETA: 1:46 - loss: 0.7965 - accuracy: 0.65 - ETA: 1:46 - loss: 0.7936 - accuracy: 0.65 - ETA: 1:46 - loss: 0.7969 - accuracy: 0.65 - ETA: 1:45 - loss: 0.7935 - accuracy: 0.65 - ETA: 1:46 - loss: 0.7924 - accuracy: 0.65 - ETA: 1:45 - loss: 0.7878 - accuracy: 0.65 - ETA: 1:45 - loss: 0.7847 - accuracy: 0.65 - ETA: 1:45 - loss: 0.7810 - accuracy: 0.65 - ETA: 1:45 - loss: 0.7779 - accuracy: 0.65 - ETA: 1:45 - loss: 0.7747 - accuracy: 0.66 - ETA: 1:44 - loss: 0.7721 - accuracy: 0.66 - ETA: 1:44 - loss: 0.7712 - accuracy: 0.66 - ETA: 1:44 - loss: 0.7699 - accuracy: 0.66 - ETA: 1:43 - loss: 0.7669 - accuracy: 0.66 - ETA: 1:43 - loss: 0.7652 - accuracy: 0.66 - ETA: 1:43 - loss: 0.7619 - accuracy: 0.66 - ETA: 1:42 - loss: 0.7599 - accuracy: 0.67 - ETA: 1:42 - loss: 0.7602 - accuracy: 0.67 - ETA: 1:42 - loss: 0.7569 - accuracy: 0.67 - ETA: 1:41 - loss: 0.7538 - accuracy: 0.67 - ETA: 1:41 - loss: 0.7555 - accuracy: 0.67 - ETA: 1:41 - loss: 0.7535 - accuracy: 0.67 - ETA: 1:40 - loss: 0.7533 - accuracy: 0.67 - ETA: 1:40 - loss: 0.7524 - accuracy: 0.67 - ETA: 1:40 - loss: 0.7522 - accuracy: 0.67 - ETA: 1:39 - loss: 0.7568 - accuracy: 0.67 - ETA: 1:39 - loss: 0.7562 - accuracy: 0.67 - ETA: 1:39 - loss: 0.7542 - accuracy: 0.67 - ETA: 1:39 - loss: 0.7537 - accuracy: 0.67 - ETA: 1:38 - loss: 0.7534 - accuracy: 0.67 - ETA: 1:38 - loss: 0.7530 - accuracy: 0.67 - ETA: 1:38 - loss: 0.7521 - accuracy: 0.67 - ETA: 1:38 - loss: 0.7484 - accuracy: 0.68 - ETA: 1:37 - loss: 0.7461 - accuracy: 0.68 - ETA: 1:37 - loss: 0.7441 - accuracy: 0.68 - ETA: 1:37 - loss: 0.7436 - accuracy: 0.68 - ETA: 1:37 - loss: 0.7416 - accuracy: 0.68 - ETA: 1:36 - loss: 0.7394 - accuracy: 0.68 - ETA: 1:36 - loss: 0.7378 - accuracy: 0.68 - ETA: 1:36 - loss: 0.7387 - accuracy: 0.68 - ETA: 1:35 - loss: 0.7392 - accuracy: 0.68 - ETA: 1:35 - loss: 0.7392 - accuracy: 0.68 - ETA: 1:35 - loss: 0.7404 - accuracy: 0.68 - ETA: 1:35 - loss: 0.7394 - accuracy: 0.68 - ETA: 1:34 - loss: 0.7400 - accuracy: 0.68 - ETA: 1:34 - loss: 0.7396 - accuracy: 0.68 - ETA: 1:34 - loss: 0.7371 - accuracy: 0.68 - ETA: 1:34 - loss: 0.7368 - accuracy: 0.68 - ETA: 1:33 - loss: 0.7380 - accuracy: 0.68 - ETA: 1:33 - loss: 0.7382 - accuracy: 0.68 - ETA: 1:33 - loss: 0.7387 - accuracy: 0.68 - ETA: 1:32 - loss: 0.7382 - accuracy: 0.68 - ETA: 1:32 - loss: 0.7365 - accuracy: 0.68 - ETA: 1:32 - loss: 0.7351 - accuracy: 0.68 - ETA: 1:32 - loss: 0.7368 - accuracy: 0.68 - ETA: 1:32 - loss: 0.7340 - accuracy: 0.68 - ETA: 1:31 - loss: 0.7330 - accuracy: 0.68 - ETA: 1:31 - loss: 0.7311 - accuracy: 0.69 - ETA: 1:31 - loss: 0.7282 - accuracy: 0.69 - ETA: 1:31 - loss: 0.7255 - accuracy: 0.69 - ETA: 1:31 - loss: 0.7248 - accuracy: 0.69 - ETA: 1:30 - loss: 0.7236 - accuracy: 0.69 - ETA: 1:30 - loss: 0.7227 - accuracy: 0.69 - ETA: 1:30 - loss: 0.7232 - accuracy: 0.69 - ETA: 1:30 - loss: 0.7222 - accuracy: 0.69 - ETA: 1:29 - loss: 0.7228 - accuracy: 0.69 - ETA: 1:29 - loss: 0.7232 - accuracy: 0.69 - ETA: 1:29 - loss: 0.7234 - accuracy: 0.69 - ETA: 1:29 - loss: 0.7225 - accuracy: 0.69 - ETA: 1:28 - loss: 0.7203 - accuracy: 0.69 - ETA: 1:28 - loss: 0.7184 - accuracy: 0.69 - ETA: 1:28 - loss: 0.7180 - accuracy: 0.69 - ETA: 1:28 - loss: 0.7173 - accuracy: 0.69 - ETA: 1:27 - loss: 0.7171 - accuracy: 0.69 - ETA: 1:27 - loss: 0.7170 - accuracy: 0.69 - ETA: 1:27 - loss: 0.7156 - accuracy: 0.69 - ETA: 1:27 - loss: 0.7142 - accuracy: 0.69 - ETA: 1:26 - loss: 0.7149 - accuracy: 0.69 - ETA: 1:26 - loss: 0.7144 - accuracy: 0.69 - ETA: 1:26 - loss: 0.7128 - accuracy: 0.69 - ETA: 1:26 - loss: 0.7105 - accuracy: 0.70 - ETA: 1:26 - loss: 0.7096 - accuracy: 0.70 - ETA: 1:25 - loss: 0.7097 - accuracy: 0.70 - ETA: 1:25 - loss: 0.7092 - accuracy: 0.70 - ETA: 1:25 - loss: 0.7096 - accuracy: 0.70 - ETA: 1:25 - loss: 0.7094 - accuracy: 0.70 - ETA: 1:24 - loss: 0.7100 - accuracy: 0.70 - ETA: 1:24 - loss: 0.7102 - accuracy: 0.70 - ETA: 1:24 - loss: 0.7090 - accuracy: 0.70 - ETA: 1:24 - loss: 0.7097 - accuracy: 0.70 - ETA: 1:24 - loss: 0.7089 - accuracy: 0.70 - ETA: 1:23 - loss: 0.7086 - accuracy: 0.70 - ETA: 1:23 - loss: 0.7095 - accuracy: 0.70 - ETA: 1:23 - loss: 0.7090 - accuracy: 0.70 - ETA: 1:23 - loss: 0.7097 - accuracy: 0.70 - ETA: 1:22 - loss: 0.7095 - accuracy: 0.70 - ETA: 1:22 - loss: 0.7090 - accuracy: 0.70 - ETA: 1:22 - loss: 0.7101 - accuracy: 0.70 - ETA: 1:22 - loss: 0.7093 - accuracy: 0.70 - ETA: 1:22 - loss: 0.7091 - accuracy: 0.70 - ETA: 1:21 - loss: 0.7098 - accuracy: 0.70 - ETA: 1:21 - loss: 0.7100 - accuracy: 0.70 - ETA: 1:21 - loss: 0.7097 - accuracy: 0.70 - ETA: 1:21 - loss: 0.7082 - accuracy: 0.70 - ETA: 1:20 - loss: 0.7082 - accuracy: 0.70 - ETA: 1:20 - loss: 0.7083 - accuracy: 0.70 - ETA: 1:20 - loss: 0.7081 - accuracy: 0.70 - ETA: 1:20 - loss: 0.7081 - accuracy: 0.70 - ETA: 1:20 - loss: 0.7074 - accuracy: 0.70 - ETA: 1:19 - loss: 0.7072 - accuracy: 0.70 - ETA: 1:19 - loss: 0.7066 - accuracy: 0.70 - ETA: 1:19 - loss: 0.7065 - accuracy: 0.70 - ETA: 1:19 - loss: 0.7050 - accuracy: 0.70 - ETA: 1:18 - loss: 0.7055 - accuracy: 0.70 - ETA: 1:18 - loss: 0.7043 - accuracy: 0.70 - ETA: 1:18 - loss: 0.7028 - accuracy: 0.70 - ETA: 1:18 - loss: 0.7028 - accuracy: 0.70 - ETA: 1:18 - loss: 0.7025 - accuracy: 0.70 - ETA: 1:17 - loss: 0.7011 - accuracy: 0.70 - ETA: 1:17 - loss: 0.6993 - accuracy: 0.70 - ETA: 1:17 - loss: 0.6994 - accuracy: 0.70 - ETA: 1:17 - loss: 0.6992 - accuracy: 0.70 - ETA: 1:17 - loss: 0.6988 - accuracy: 0.70 - ETA: 1:16 - loss: 0.6974 - accuracy: 0.70 - ETA: 1:16 - loss: 0.6974 - accuracy: 0.70 - ETA: 1:16 - loss: 0.6981 - accuracy: 0.70 - ETA: 1:16 - loss: 0.6991 - accuracy: 0.7080"
     ]
    },
    {
     "name": "stdout",
     "output_type": "stream",
     "text": [
      "372/559 [==================>...........] - ETA: 1:15 - loss: 0.6979 - accuracy: 0.70 - ETA: 1:15 - loss: 0.6969 - accuracy: 0.70 - ETA: 1:15 - loss: 0.6966 - accuracy: 0.70 - ETA: 1:15 - loss: 0.6953 - accuracy: 0.71 - ETA: 1:15 - loss: 0.6950 - accuracy: 0.71 - ETA: 1:14 - loss: 0.6944 - accuracy: 0.71 - ETA: 1:14 - loss: 0.6940 - accuracy: 0.71 - ETA: 1:14 - loss: 0.6928 - accuracy: 0.71 - ETA: 1:14 - loss: 0.6924 - accuracy: 0.71 - ETA: 1:13 - loss: 0.6913 - accuracy: 0.71 - ETA: 1:13 - loss: 0.6921 - accuracy: 0.71 - ETA: 1:13 - loss: 0.6914 - accuracy: 0.71 - ETA: 1:13 - loss: 0.6906 - accuracy: 0.71 - ETA: 1:13 - loss: 0.6884 - accuracy: 0.71 - ETA: 1:12 - loss: 0.6868 - accuracy: 0.71 - ETA: 1:12 - loss: 0.6857 - accuracy: 0.71 - ETA: 1:12 - loss: 0.6846 - accuracy: 0.71 - ETA: 1:12 - loss: 0.6841 - accuracy: 0.71 - ETA: 1:12 - loss: 0.6834 - accuracy: 0.71 - ETA: 1:11 - loss: 0.6823 - accuracy: 0.71 - ETA: 1:11 - loss: 0.6823 - accuracy: 0.71 - ETA: 1:11 - loss: 0.6833 - accuracy: 0.71 - ETA: 1:11 - loss: 0.6833 - accuracy: 0.71 - ETA: 1:11 - loss: 0.6833 - accuracy: 0.71 - ETA: 1:10 - loss: 0.6824 - accuracy: 0.71 - ETA: 1:10 - loss: 0.6822 - accuracy: 0.71 - ETA: 1:10 - loss: 0.6820 - accuracy: 0.71 - ETA: 1:10 - loss: 0.6803 - accuracy: 0.71 - ETA: 1:09 - loss: 0.6799 - accuracy: 0.71 - ETA: 1:09 - loss: 0.6791 - accuracy: 0.71 - ETA: 1:09 - loss: 0.6791 - accuracy: 0.71 - ETA: 1:09 - loss: 0.6783 - accuracy: 0.71 - ETA: 1:09 - loss: 0.6776 - accuracy: 0.71 - ETA: 1:09 - loss: 0.6781 - accuracy: 0.71 - ETA: 1:08 - loss: 0.6774 - accuracy: 0.71 - ETA: 1:08 - loss: 0.6771 - accuracy: 0.71 - ETA: 1:08 - loss: 0.6760 - accuracy: 0.71 - ETA: 1:08 - loss: 0.6759 - accuracy: 0.71 - ETA: 1:08 - loss: 0.6754 - accuracy: 0.71 - ETA: 1:07 - loss: 0.6745 - accuracy: 0.71 - ETA: 1:07 - loss: 0.6740 - accuracy: 0.72 - ETA: 1:07 - loss: 0.6735 - accuracy: 0.72 - ETA: 1:07 - loss: 0.6732 - accuracy: 0.72 - ETA: 1:06 - loss: 0.6729 - accuracy: 0.72 - ETA: 1:06 - loss: 0.6721 - accuracy: 0.72 - ETA: 1:06 - loss: 0.6716 - accuracy: 0.72 - ETA: 1:06 - loss: 0.6714 - accuracy: 0.72 - ETA: 1:06 - loss: 0.6707 - accuracy: 0.72 - ETA: 1:05 - loss: 0.6713 - accuracy: 0.72 - ETA: 1:05 - loss: 0.6706 - accuracy: 0.72 - ETA: 1:05 - loss: 0.6702 - accuracy: 0.72 - ETA: 1:05 - loss: 0.6689 - accuracy: 0.72 - ETA: 1:05 - loss: 0.6681 - accuracy: 0.72 - ETA: 1:04 - loss: 0.6682 - accuracy: 0.72 - ETA: 1:04 - loss: 0.6678 - accuracy: 0.72 - ETA: 1:04 - loss: 0.6671 - accuracy: 0.72 - ETA: 1:04 - loss: 0.6667 - accuracy: 0.72 - ETA: 1:03 - loss: 0.6663 - accuracy: 0.72 - ETA: 1:03 - loss: 0.6665 - accuracy: 0.72 - ETA: 1:03 - loss: 0.6664 - accuracy: 0.72 - ETA: 1:03 - loss: 0.6654 - accuracy: 0.72 - ETA: 1:03 - loss: 0.6655 - accuracy: 0.72 - ETA: 1:02 - loss: 0.6644 - accuracy: 0.72 - ETA: 1:02 - loss: 0.6646 - accuracy: 0.72 - ETA: 1:02 - loss: 0.6650 - accuracy: 0.72 - ETA: 1:02 - loss: 0.6646 - accuracy: 0.72 - ETA: 1:02 - loss: 0.6645 - accuracy: 0.72 - ETA: 1:01 - loss: 0.6639 - accuracy: 0.72 - ETA: 1:01 - loss: 0.6628 - accuracy: 0.72 - ETA: 1:01 - loss: 0.6623 - accuracy: 0.72 - ETA: 1:01 - loss: 0.6617 - accuracy: 0.72 - ETA: 1:01 - loss: 0.6624 - accuracy: 0.72 - ETA: 1:00 - loss: 0.6624 - accuracy: 0.72 - ETA: 1:00 - loss: 0.6625 - accuracy: 0.72 - ETA: 1:00 - loss: 0.6630 - accuracy: 0.72 - ETA: 1:00 - loss: 0.6631 - accuracy: 0.72 - ETA: 1:00 - loss: 0.6617 - accuracy: 0.72 - ETA: 59s - loss: 0.6616 - accuracy: 0.7267 - ETA: 59s - loss: 0.6610 - accuracy: 0.726 - ETA: 59s - loss: 0.6613 - accuracy: 0.726 - ETA: 59s - loss: 0.6611 - accuracy: 0.726 - ETA: 58s - loss: 0.6616 - accuracy: 0.726 - ETA: 58s - loss: 0.6607 - accuracy: 0.727 - ETA: 58s - loss: 0.6608 - accuracy: 0.727 - ETA: 58s - loss: 0.6607 - accuracy: 0.727 - ETA: 58s - loss: 0.6604 - accuracy: 0.727 - ETA: 57s - loss: 0.6598 - accuracy: 0.727 - ETA: 57s - loss: 0.6584 - accuracy: 0.728 - ETA: 57s - loss: 0.6577 - accuracy: 0.729 - ETA: 57s - loss: 0.6581 - accuracy: 0.729 - ETA: 57s - loss: 0.6579 - accuracy: 0.729 - ETA: 56s - loss: 0.6581 - accuracy: 0.728 - ETA: 56s - loss: 0.6573 - accuracy: 0.729 - ETA: 56s - loss: 0.6572 - accuracy: 0.729 - ETA: 56s - loss: 0.6569 - accuracy: 0.729 - ETA: 56s - loss: 0.6565 - accuracy: 0.729 - ETA: 55s - loss: 0.6568 - accuracy: 0.729 - ETA: 55s - loss: 0.6567 - accuracy: 0.729 - ETA: 55s - loss: 0.6564 - accuracy: 0.729 - ETA: 55s - loss: 0.6566 - accuracy: 0.729 - ETA: 55s - loss: 0.6558 - accuracy: 0.730 - ETA: 54s - loss: 0.6559 - accuracy: 0.729 - ETA: 54s - loss: 0.6565 - accuracy: 0.729 - ETA: 54s - loss: 0.6561 - accuracy: 0.730 - ETA: 54s - loss: 0.6552 - accuracy: 0.730 - ETA: 54s - loss: 0.6550 - accuracy: 0.730 - ETA: 53s - loss: 0.6550 - accuracy: 0.730 - ETA: 53s - loss: 0.6545 - accuracy: 0.730 - ETA: 53s - loss: 0.6537 - accuracy: 0.730 - ETA: 53s - loss: 0.6543 - accuracy: 0.730 - ETA: 53s - loss: 0.6551 - accuracy: 0.730 - ETA: 52s - loss: 0.6551 - accuracy: 0.730 - ETA: 52s - loss: 0.6544 - accuracy: 0.730 - ETA: 52s - loss: 0.6540 - accuracy: 0.731 - ETA: 52s - loss: 0.6536 - accuracy: 0.731 - ETA: 52s - loss: 0.6534 - accuracy: 0.731 - ETA: 51s - loss: 0.6531 - accuracy: 0.731 - ETA: 51s - loss: 0.6530 - accuracy: 0.731 - ETA: 51s - loss: 0.6526 - accuracy: 0.731 - ETA: 51s - loss: 0.6524 - accuracy: 0.731 - ETA: 51s - loss: 0.6518 - accuracy: 0.732 - ETA: 50s - loss: 0.6506 - accuracy: 0.732 - ETA: 50s - loss: 0.6497 - accuracy: 0.733 - ETA: 50s - loss: 0.6495 - accuracy: 0.733 - ETA: 50s - loss: 0.6495 - accuracy: 0.733 - ETA: 50s - loss: 0.6493 - accuracy: 0.733 - ETA: 49s - loss: 0.6483 - accuracy: 0.734 - ETA: 49s - loss: 0.6481 - accuracy: 0.734 - ETA: 49s - loss: 0.6483 - accuracy: 0.734 - ETA: 49s - loss: 0.6479 - accuracy: 0.734 - ETA: 48s - loss: 0.6479 - accuracy: 0.734 - ETA: 48s - loss: 0.6474 - accuracy: 0.734 - ETA: 48s - loss: 0.6469 - accuracy: 0.734 - ETA: 48s - loss: 0.6465 - accuracy: 0.735 - ETA: 48s - loss: 0.6458 - accuracy: 0.735 - ETA: 47s - loss: 0.6462 - accuracy: 0.735 - ETA: 47s - loss: 0.6457 - accuracy: 0.735 - ETA: 47s - loss: 0.6457 - accuracy: 0.735 - ETA: 47s - loss: 0.6448 - accuracy: 0.736 - ETA: 47s - loss: 0.6447 - accuracy: 0.736 - ETA: 46s - loss: 0.6444 - accuracy: 0.736 - ETA: 46s - loss: 0.6441 - accuracy: 0.736 - ETA: 46s - loss: 0.6441 - accuracy: 0.736 - ETA: 46s - loss: 0.6433 - accuracy: 0.736 - ETA: 46s - loss: 0.6423 - accuracy: 0.737 - ETA: 45s - loss: 0.6427 - accuracy: 0.737 - ETA: 45s - loss: 0.6423 - accuracy: 0.737 - ETA: 45s - loss: 0.6415 - accuracy: 0.737 - ETA: 45s - loss: 0.6411 - accuracy: 0.737 - ETA: 45s - loss: 0.6407 - accuracy: 0.737 - ETA: 44s - loss: 0.6404 - accuracy: 0.737 - ETA: 44s - loss: 0.6398 - accuracy: 0.738 - ETA: 44s - loss: 0.6400 - accuracy: 0.738 - ETA: 44s - loss: 0.6395 - accuracy: 0.738 - ETA: 44s - loss: 0.6392 - accuracy: 0.738 - ETA: 43s - loss: 0.6397 - accuracy: 0.738 - ETA: 43s - loss: 0.6393 - accuracy: 0.738 - ETA: 43s - loss: 0.6395 - accuracy: 0.738 - ETA: 43s - loss: 0.6391 - accuracy: 0.738 - ETA: 43s - loss: 0.6393 - accuracy: 0.738 - ETA: 42s - loss: 0.6404 - accuracy: 0.738 - ETA: 42s - loss: 0.6403 - accuracy: 0.738 - ETA: 42s - loss: 0.6404 - accuracy: 0.738 - ETA: 42s - loss: 0.6401 - accuracy: 0.738 - ETA: 42s - loss: 0.6403 - accuracy: 0.738 - ETA: 41s - loss: 0.6406 - accuracy: 0.738 - ETA: 41s - loss: 0.6402 - accuracy: 0.738 - ETA: 41s - loss: 0.6399 - accuracy: 0.738 - ETA: 41s - loss: 0.6400 - accuracy: 0.738 - ETA: 40s - loss: 0.6399 - accuracy: 0.738 - ETA: 40s - loss: 0.6396 - accuracy: 0.738 - ETA: 40s - loss: 0.6401 - accuracy: 0.738 - ETA: 40s - loss: 0.6397 - accuracy: 0.738 - ETA: 40s - loss: 0.6394 - accuracy: 0.738 - ETA: 40s - loss: 0.6394 - accuracy: 0.738 - ETA: 39s - loss: 0.6393 - accuracy: 0.738 - ETA: 39s - loss: 0.6387 - accuracy: 0.738 - ETA: 39s - loss: 0.6388 - accuracy: 0.738 - ETA: 39s - loss: 0.6383 - accuracy: 0.739 - ETA: 38s - loss: 0.6386 - accuracy: 0.738 - ETA: 38s - loss: 0.6390 - accuracy: 0.738 - ETA: 38s - loss: 0.6388 - accuracy: 0.738 - ETA: 38s - loss: 0.6396 - accuracy: 0.738 - ETA: 38s - loss: 0.6395 - accuracy: 0.738 - ETA: 37s - loss: 0.6393 - accuracy: 0.738 - ETA: 37s - loss: 0.6390 - accuracy: 0.7386"
     ]
    },
    {
     "name": "stdout",
     "output_type": "stream",
     "text": [
      "559/559 [==============================] - ETA: 37s - loss: 0.6388 - accuracy: 0.738 - ETA: 37s - loss: 0.6391 - accuracy: 0.738 - ETA: 37s - loss: 0.6386 - accuracy: 0.739 - ETA: 36s - loss: 0.6382 - accuracy: 0.739 - ETA: 36s - loss: 0.6378 - accuracy: 0.739 - ETA: 36s - loss: 0.6373 - accuracy: 0.739 - ETA: 36s - loss: 0.6370 - accuracy: 0.739 - ETA: 36s - loss: 0.6365 - accuracy: 0.739 - ETA: 35s - loss: 0.6363 - accuracy: 0.739 - ETA: 35s - loss: 0.6357 - accuracy: 0.740 - ETA: 35s - loss: 0.6354 - accuracy: 0.740 - ETA: 35s - loss: 0.6355 - accuracy: 0.740 - ETA: 35s - loss: 0.6353 - accuracy: 0.740 - ETA: 34s - loss: 0.6365 - accuracy: 0.739 - ETA: 34s - loss: 0.6358 - accuracy: 0.739 - ETA: 34s - loss: 0.6359 - accuracy: 0.739 - ETA: 34s - loss: 0.6366 - accuracy: 0.739 - ETA: 34s - loss: 0.6365 - accuracy: 0.739 - ETA: 33s - loss: 0.6361 - accuracy: 0.740 - ETA: 33s - loss: 0.6358 - accuracy: 0.740 - ETA: 33s - loss: 0.6358 - accuracy: 0.740 - ETA: 33s - loss: 0.6358 - accuracy: 0.740 - ETA: 33s - loss: 0.6353 - accuracy: 0.740 - ETA: 32s - loss: 0.6357 - accuracy: 0.740 - ETA: 32s - loss: 0.6355 - accuracy: 0.740 - ETA: 32s - loss: 0.6362 - accuracy: 0.740 - ETA: 32s - loss: 0.6364 - accuracy: 0.740 - ETA: 32s - loss: 0.6359 - accuracy: 0.740 - ETA: 31s - loss: 0.6361 - accuracy: 0.740 - ETA: 31s - loss: 0.6358 - accuracy: 0.740 - ETA: 31s - loss: 0.6357 - accuracy: 0.740 - ETA: 31s - loss: 0.6351 - accuracy: 0.740 - ETA: 31s - loss: 0.6347 - accuracy: 0.740 - ETA: 30s - loss: 0.6345 - accuracy: 0.741 - ETA: 30s - loss: 0.6343 - accuracy: 0.741 - ETA: 30s - loss: 0.6341 - accuracy: 0.741 - ETA: 30s - loss: 0.6342 - accuracy: 0.741 - ETA: 30s - loss: 0.6347 - accuracy: 0.741 - ETA: 29s - loss: 0.6346 - accuracy: 0.741 - ETA: 29s - loss: 0.6348 - accuracy: 0.741 - ETA: 29s - loss: 0.6346 - accuracy: 0.740 - ETA: 29s - loss: 0.6344 - accuracy: 0.740 - ETA: 29s - loss: 0.6339 - accuracy: 0.741 - ETA: 28s - loss: 0.6338 - accuracy: 0.741 - ETA: 28s - loss: 0.6333 - accuracy: 0.741 - ETA: 28s - loss: 0.6330 - accuracy: 0.741 - ETA: 28s - loss: 0.6329 - accuracy: 0.741 - ETA: 28s - loss: 0.6321 - accuracy: 0.741 - ETA: 27s - loss: 0.6315 - accuracy: 0.742 - ETA: 27s - loss: 0.6316 - accuracy: 0.742 - ETA: 27s - loss: 0.6312 - accuracy: 0.742 - ETA: 27s - loss: 0.6311 - accuracy: 0.742 - ETA: 26s - loss: 0.6311 - accuracy: 0.742 - ETA: 26s - loss: 0.6313 - accuracy: 0.742 - ETA: 26s - loss: 0.6309 - accuracy: 0.742 - ETA: 26s - loss: 0.6309 - accuracy: 0.742 - ETA: 26s - loss: 0.6306 - accuracy: 0.742 - ETA: 25s - loss: 0.6300 - accuracy: 0.742 - ETA: 25s - loss: 0.6295 - accuracy: 0.743 - ETA: 25s - loss: 0.6288 - accuracy: 0.743 - ETA: 25s - loss: 0.6287 - accuracy: 0.743 - ETA: 25s - loss: 0.6288 - accuracy: 0.743 - ETA: 24s - loss: 0.6283 - accuracy: 0.743 - ETA: 24s - loss: 0.6288 - accuracy: 0.743 - ETA: 24s - loss: 0.6286 - accuracy: 0.743 - ETA: 24s - loss: 0.6284 - accuracy: 0.743 - ETA: 24s - loss: 0.6280 - accuracy: 0.743 - ETA: 23s - loss: 0.6279 - accuracy: 0.743 - ETA: 23s - loss: 0.6278 - accuracy: 0.743 - ETA: 23s - loss: 0.6280 - accuracy: 0.743 - ETA: 23s - loss: 0.6277 - accuracy: 0.743 - ETA: 23s - loss: 0.6270 - accuracy: 0.744 - ETA: 22s - loss: 0.6273 - accuracy: 0.744 - ETA: 22s - loss: 0.6271 - accuracy: 0.744 - ETA: 22s - loss: 0.6264 - accuracy: 0.744 - ETA: 22s - loss: 0.6260 - accuracy: 0.744 - ETA: 22s - loss: 0.6257 - accuracy: 0.744 - ETA: 21s - loss: 0.6252 - accuracy: 0.745 - ETA: 21s - loss: 0.6251 - accuracy: 0.745 - ETA: 21s - loss: 0.6248 - accuracy: 0.745 - ETA: 21s - loss: 0.6247 - accuracy: 0.745 - ETA: 21s - loss: 0.6243 - accuracy: 0.745 - ETA: 20s - loss: 0.6244 - accuracy: 0.745 - ETA: 20s - loss: 0.6240 - accuracy: 0.745 - ETA: 20s - loss: 0.6243 - accuracy: 0.745 - ETA: 20s - loss: 0.6248 - accuracy: 0.745 - ETA: 20s - loss: 0.6246 - accuracy: 0.744 - ETA: 19s - loss: 0.6244 - accuracy: 0.745 - ETA: 19s - loss: 0.6240 - accuracy: 0.745 - ETA: 19s - loss: 0.6241 - accuracy: 0.745 - ETA: 19s - loss: 0.6240 - accuracy: 0.745 - ETA: 19s - loss: 0.6235 - accuracy: 0.745 - ETA: 18s - loss: 0.6242 - accuracy: 0.745 - ETA: 18s - loss: 0.6244 - accuracy: 0.744 - ETA: 18s - loss: 0.6243 - accuracy: 0.745 - ETA: 18s - loss: 0.6241 - accuracy: 0.745 - ETA: 18s - loss: 0.6240 - accuracy: 0.745 - ETA: 17s - loss: 0.6237 - accuracy: 0.745 - ETA: 17s - loss: 0.6236 - accuracy: 0.745 - ETA: 17s - loss: 0.6230 - accuracy: 0.745 - ETA: 17s - loss: 0.6231 - accuracy: 0.745 - ETA: 17s - loss: 0.6229 - accuracy: 0.745 - ETA: 16s - loss: 0.6224 - accuracy: 0.745 - ETA: 16s - loss: 0.6226 - accuracy: 0.745 - ETA: 16s - loss: 0.6228 - accuracy: 0.745 - ETA: 16s - loss: 0.6223 - accuracy: 0.745 - ETA: 16s - loss: 0.6225 - accuracy: 0.745 - ETA: 15s - loss: 0.6220 - accuracy: 0.745 - ETA: 15s - loss: 0.6220 - accuracy: 0.745 - ETA: 15s - loss: 0.6220 - accuracy: 0.745 - ETA: 15s - loss: 0.6227 - accuracy: 0.745 - ETA: 15s - loss: 0.6223 - accuracy: 0.745 - ETA: 14s - loss: 0.6220 - accuracy: 0.745 - ETA: 14s - loss: 0.6218 - accuracy: 0.745 - ETA: 14s - loss: 0.6215 - accuracy: 0.746 - ETA: 14s - loss: 0.6218 - accuracy: 0.745 - ETA: 14s - loss: 0.6214 - accuracy: 0.746 - ETA: 13s - loss: 0.6216 - accuracy: 0.746 - ETA: 13s - loss: 0.6216 - accuracy: 0.746 - ETA: 13s - loss: 0.6216 - accuracy: 0.745 - ETA: 13s - loss: 0.6214 - accuracy: 0.745 - ETA: 13s - loss: 0.6213 - accuracy: 0.746 - ETA: 12s - loss: 0.6211 - accuracy: 0.746 - ETA: 12s - loss: 0.6212 - accuracy: 0.746 - ETA: 12s - loss: 0.6207 - accuracy: 0.746 - ETA: 12s - loss: 0.6204 - accuracy: 0.746 - ETA: 12s - loss: 0.6203 - accuracy: 0.746 - ETA: 11s - loss: 0.6200 - accuracy: 0.746 - ETA: 11s - loss: 0.6196 - accuracy: 0.747 - ETA: 11s - loss: 0.6198 - accuracy: 0.746 - ETA: 11s - loss: 0.6197 - accuracy: 0.747 - ETA: 11s - loss: 0.6199 - accuracy: 0.746 - ETA: 10s - loss: 0.6194 - accuracy: 0.747 - ETA: 10s - loss: 0.6195 - accuracy: 0.747 - ETA: 10s - loss: 0.6193 - accuracy: 0.747 - ETA: 10s - loss: 0.6197 - accuracy: 0.747 - ETA: 10s - loss: 0.6198 - accuracy: 0.747 - ETA: 9s - loss: 0.6196 - accuracy: 0.747 - ETA: 9s - loss: 0.6197 - accuracy: 0.74 - ETA: 9s - loss: 0.6198 - accuracy: 0.74 - ETA: 9s - loss: 0.6197 - accuracy: 0.74 - ETA: 9s - loss: 0.6196 - accuracy: 0.74 - ETA: 8s - loss: 0.6196 - accuracy: 0.74 - ETA: 8s - loss: 0.6195 - accuracy: 0.74 - ETA: 8s - loss: 0.6195 - accuracy: 0.74 - ETA: 8s - loss: 0.6189 - accuracy: 0.74 - ETA: 8s - loss: 0.6187 - accuracy: 0.74 - ETA: 7s - loss: 0.6184 - accuracy: 0.74 - ETA: 7s - loss: 0.6191 - accuracy: 0.74 - ETA: 7s - loss: 0.6191 - accuracy: 0.74 - ETA: 7s - loss: 0.6188 - accuracy: 0.74 - ETA: 7s - loss: 0.6183 - accuracy: 0.74 - ETA: 6s - loss: 0.6187 - accuracy: 0.74 - ETA: 6s - loss: 0.6188 - accuracy: 0.74 - ETA: 6s - loss: 0.6184 - accuracy: 0.74 - ETA: 6s - loss: 0.6184 - accuracy: 0.74 - ETA: 6s - loss: 0.6180 - accuracy: 0.74 - ETA: 5s - loss: 0.6179 - accuracy: 0.74 - ETA: 5s - loss: 0.6179 - accuracy: 0.74 - ETA: 5s - loss: 0.6182 - accuracy: 0.74 - ETA: 5s - loss: 0.6180 - accuracy: 0.74 - ETA: 5s - loss: 0.6179 - accuracy: 0.74 - ETA: 4s - loss: 0.6177 - accuracy: 0.74 - ETA: 4s - loss: 0.6175 - accuracy: 0.74 - ETA: 4s - loss: 0.6172 - accuracy: 0.74 - ETA: 4s - loss: 0.6168 - accuracy: 0.74 - ETA: 4s - loss: 0.6165 - accuracy: 0.74 - ETA: 3s - loss: 0.6163 - accuracy: 0.74 - ETA: 3s - loss: 0.6161 - accuracy: 0.74 - ETA: 3s - loss: 0.6155 - accuracy: 0.74 - ETA: 3s - loss: 0.6158 - accuracy: 0.74 - ETA: 3s - loss: 0.6158 - accuracy: 0.74 - ETA: 2s - loss: 0.6158 - accuracy: 0.74 - ETA: 2s - loss: 0.6159 - accuracy: 0.74 - ETA: 2s - loss: 0.6160 - accuracy: 0.74 - ETA: 2s - loss: 0.6155 - accuracy: 0.74 - ETA: 2s - loss: 0.6151 - accuracy: 0.74 - ETA: 1s - loss: 0.6152 - accuracy: 0.74 - ETA: 1s - loss: 0.6152 - accuracy: 0.74 - ETA: 1s - loss: 0.6154 - accuracy: 0.74 - ETA: 1s - loss: 0.6151 - accuracy: 0.74 - ETA: 1s - loss: 0.6150 - accuracy: 0.74 - ETA: 0s - loss: 0.6148 - accuracy: 0.74 - ETA: 0s - loss: 0.6147 - accuracy: 0.74 - ETA: 0s - loss: 0.6145 - accuracy: 0.74 - ETA: 0s - loss: 0.6142 - accuracy: 0.74 - ETA: 0s - loss: 0.6144 - accuracy: 0.74 - 112s 201ms/step - loss: 0.6144 - accuracy: 0.7487\n"
     ]
    },
    {
     "name": "stdout",
     "output_type": "stream",
     "text": [
      "Epoch 2/6\n"
     ]
    },
    {
     "name": "stdout",
     "output_type": "stream",
     "text": [
      "186/559 [========>.....................] - ETA: 0s - loss: 0.5358 - accuracy: 0.78 - ETA: 52s - loss: 0.5309 - accuracy: 0.781 - ETA: 1:08 - loss: 0.5974 - accuracy: 0.77 - ETA: 1:20 - loss: 0.6180 - accuracy: 0.75 - ETA: 1:27 - loss: 0.5833 - accuracy: 0.77 - ETA: 1:32 - loss: 0.5563 - accuracy: 0.78 - ETA: 1:35 - loss: 0.5492 - accuracy: 0.78 - ETA: 1:36 - loss: 0.5648 - accuracy: 0.76 - ETA: 1:36 - loss: 0.5344 - accuracy: 0.78 - ETA: 1:40 - loss: 0.5244 - accuracy: 0.79 - ETA: 1:41 - loss: 0.5371 - accuracy: 0.78 - ETA: 1:41 - loss: 0.5410 - accuracy: 0.78 - ETA: 1:41 - loss: 0.5422 - accuracy: 0.78 - ETA: 1:41 - loss: 0.5574 - accuracy: 0.77 - ETA: 1:43 - loss: 0.5544 - accuracy: 0.76 - ETA: 1:43 - loss: 0.5594 - accuracy: 0.76 - ETA: 1:43 - loss: 0.5601 - accuracy: 0.77 - ETA: 1:43 - loss: 0.5556 - accuracy: 0.77 - ETA: 1:42 - loss: 0.5533 - accuracy: 0.77 - ETA: 1:42 - loss: 0.5529 - accuracy: 0.77 - ETA: 1:42 - loss: 0.5547 - accuracy: 0.77 - ETA: 1:42 - loss: 0.5542 - accuracy: 0.77 - ETA: 1:42 - loss: 0.5514 - accuracy: 0.77 - ETA: 1:42 - loss: 0.5500 - accuracy: 0.77 - ETA: 1:41 - loss: 0.5454 - accuracy: 0.77 - ETA: 1:41 - loss: 0.5494 - accuracy: 0.77 - ETA: 1:41 - loss: 0.5389 - accuracy: 0.78 - ETA: 1:41 - loss: 0.5396 - accuracy: 0.78 - ETA: 1:41 - loss: 0.5432 - accuracy: 0.78 - ETA: 1:40 - loss: 0.5403 - accuracy: 0.78 - ETA: 1:40 - loss: 0.5389 - accuracy: 0.78 - ETA: 1:40 - loss: 0.5387 - accuracy: 0.78 - ETA: 1:41 - loss: 0.5425 - accuracy: 0.78 - ETA: 1:40 - loss: 0.5437 - accuracy: 0.78 - ETA: 1:40 - loss: 0.5384 - accuracy: 0.78 - ETA: 1:40 - loss: 0.5317 - accuracy: 0.78 - ETA: 1:40 - loss: 0.5343 - accuracy: 0.78 - ETA: 1:40 - loss: 0.5371 - accuracy: 0.78 - ETA: 1:40 - loss: 0.5387 - accuracy: 0.78 - ETA: 1:40 - loss: 0.5393 - accuracy: 0.78 - ETA: 1:39 - loss: 0.5380 - accuracy: 0.78 - ETA: 1:40 - loss: 0.5341 - accuracy: 0.78 - ETA: 1:40 - loss: 0.5314 - accuracy: 0.78 - ETA: 1:39 - loss: 0.5370 - accuracy: 0.78 - ETA: 1:39 - loss: 0.5391 - accuracy: 0.78 - ETA: 1:39 - loss: 0.5400 - accuracy: 0.78 - ETA: 1:39 - loss: 0.5367 - accuracy: 0.78 - ETA: 1:39 - loss: 0.5334 - accuracy: 0.78 - ETA: 1:38 - loss: 0.5373 - accuracy: 0.78 - ETA: 1:38 - loss: 0.5351 - accuracy: 0.78 - ETA: 1:38 - loss: 0.5405 - accuracy: 0.78 - ETA: 1:38 - loss: 0.5402 - accuracy: 0.78 - ETA: 1:37 - loss: 0.5418 - accuracy: 0.78 - ETA: 1:37 - loss: 0.5429 - accuracy: 0.78 - ETA: 1:37 - loss: 0.5429 - accuracy: 0.78 - ETA: 1:37 - loss: 0.5441 - accuracy: 0.78 - ETA: 1:37 - loss: 0.5406 - accuracy: 0.78 - ETA: 1:36 - loss: 0.5428 - accuracy: 0.78 - ETA: 1:36 - loss: 0.5443 - accuracy: 0.78 - ETA: 1:36 - loss: 0.5459 - accuracy: 0.78 - ETA: 1:36 - loss: 0.5444 - accuracy: 0.78 - ETA: 1:36 - loss: 0.5445 - accuracy: 0.78 - ETA: 1:36 - loss: 0.5435 - accuracy: 0.78 - ETA: 1:36 - loss: 0.5472 - accuracy: 0.78 - ETA: 1:36 - loss: 0.5464 - accuracy: 0.78 - ETA: 1:35 - loss: 0.5436 - accuracy: 0.78 - ETA: 1:35 - loss: 0.5433 - accuracy: 0.78 - ETA: 1:35 - loss: 0.5449 - accuracy: 0.78 - ETA: 1:35 - loss: 0.5482 - accuracy: 0.78 - ETA: 1:35 - loss: 0.5481 - accuracy: 0.78 - ETA: 1:35 - loss: 0.5460 - accuracy: 0.78 - ETA: 1:35 - loss: 0.5446 - accuracy: 0.78 - ETA: 1:34 - loss: 0.5462 - accuracy: 0.78 - ETA: 1:34 - loss: 0.5464 - accuracy: 0.78 - ETA: 1:34 - loss: 0.5454 - accuracy: 0.78 - ETA: 1:34 - loss: 0.5445 - accuracy: 0.78 - ETA: 1:34 - loss: 0.5440 - accuracy: 0.78 - ETA: 1:33 - loss: 0.5442 - accuracy: 0.78 - ETA: 1:33 - loss: 0.5465 - accuracy: 0.78 - ETA: 1:33 - loss: 0.5433 - accuracy: 0.78 - ETA: 1:33 - loss: 0.5467 - accuracy: 0.78 - ETA: 1:33 - loss: 0.5469 - accuracy: 0.78 - ETA: 1:32 - loss: 0.5477 - accuracy: 0.78 - ETA: 1:32 - loss: 0.5454 - accuracy: 0.78 - ETA: 1:32 - loss: 0.5475 - accuracy: 0.78 - ETA: 1:32 - loss: 0.5457 - accuracy: 0.78 - ETA: 1:32 - loss: 0.5449 - accuracy: 0.78 - ETA: 1:32 - loss: 0.5477 - accuracy: 0.78 - ETA: 1:31 - loss: 0.5469 - accuracy: 0.78 - ETA: 1:31 - loss: 0.5463 - accuracy: 0.78 - ETA: 1:31 - loss: 0.5472 - accuracy: 0.78 - ETA: 1:31 - loss: 0.5492 - accuracy: 0.77 - ETA: 1:31 - loss: 0.5517 - accuracy: 0.77 - ETA: 1:30 - loss: 0.5519 - accuracy: 0.77 - ETA: 1:30 - loss: 0.5505 - accuracy: 0.77 - ETA: 1:30 - loss: 0.5491 - accuracy: 0.78 - ETA: 1:30 - loss: 0.5491 - accuracy: 0.78 - ETA: 1:30 - loss: 0.5494 - accuracy: 0.78 - ETA: 1:30 - loss: 0.5495 - accuracy: 0.77 - ETA: 1:30 - loss: 0.5493 - accuracy: 0.77 - ETA: 1:29 - loss: 0.5490 - accuracy: 0.77 - ETA: 1:29 - loss: 0.5522 - accuracy: 0.77 - ETA: 1:29 - loss: 0.5514 - accuracy: 0.77 - ETA: 1:29 - loss: 0.5519 - accuracy: 0.77 - ETA: 1:28 - loss: 0.5512 - accuracy: 0.77 - ETA: 1:28 - loss: 0.5503 - accuracy: 0.77 - ETA: 1:28 - loss: 0.5501 - accuracy: 0.77 - ETA: 1:28 - loss: 0.5525 - accuracy: 0.77 - ETA: 1:28 - loss: 0.5510 - accuracy: 0.77 - ETA: 1:27 - loss: 0.5498 - accuracy: 0.77 - ETA: 1:27 - loss: 0.5480 - accuracy: 0.77 - ETA: 1:27 - loss: 0.5474 - accuracy: 0.77 - ETA: 1:27 - loss: 0.5456 - accuracy: 0.78 - ETA: 1:27 - loss: 0.5456 - accuracy: 0.78 - ETA: 1:27 - loss: 0.5451 - accuracy: 0.77 - ETA: 1:26 - loss: 0.5451 - accuracy: 0.78 - ETA: 1:26 - loss: 0.5462 - accuracy: 0.78 - ETA: 1:26 - loss: 0.5455 - accuracy: 0.78 - ETA: 1:26 - loss: 0.5448 - accuracy: 0.78 - ETA: 1:26 - loss: 0.5465 - accuracy: 0.77 - ETA: 1:26 - loss: 0.5456 - accuracy: 0.78 - ETA: 1:25 - loss: 0.5468 - accuracy: 0.78 - ETA: 1:25 - loss: 0.5470 - accuracy: 0.78 - ETA: 1:25 - loss: 0.5474 - accuracy: 0.78 - ETA: 1:25 - loss: 0.5475 - accuracy: 0.78 - ETA: 1:25 - loss: 0.5479 - accuracy: 0.78 - ETA: 1:25 - loss: 0.5457 - accuracy: 0.78 - ETA: 1:24 - loss: 0.5468 - accuracy: 0.78 - ETA: 1:24 - loss: 0.5456 - accuracy: 0.78 - ETA: 1:24 - loss: 0.5467 - accuracy: 0.78 - ETA: 1:24 - loss: 0.5450 - accuracy: 0.78 - ETA: 1:24 - loss: 0.5459 - accuracy: 0.78 - ETA: 1:24 - loss: 0.5462 - accuracy: 0.78 - ETA: 1:24 - loss: 0.5466 - accuracy: 0.78 - ETA: 1:23 - loss: 0.5467 - accuracy: 0.78 - ETA: 1:23 - loss: 0.5454 - accuracy: 0.78 - ETA: 1:23 - loss: 0.5439 - accuracy: 0.78 - ETA: 1:23 - loss: 0.5456 - accuracy: 0.78 - ETA: 1:23 - loss: 0.5461 - accuracy: 0.78 - ETA: 1:23 - loss: 0.5453 - accuracy: 0.78 - ETA: 1:23 - loss: 0.5445 - accuracy: 0.78 - ETA: 1:23 - loss: 0.5461 - accuracy: 0.78 - ETA: 1:23 - loss: 0.5452 - accuracy: 0.78 - ETA: 1:22 - loss: 0.5456 - accuracy: 0.78 - ETA: 1:22 - loss: 0.5455 - accuracy: 0.78 - ETA: 1:22 - loss: 0.5467 - accuracy: 0.78 - ETA: 1:22 - loss: 0.5472 - accuracy: 0.78 - ETA: 1:22 - loss: 0.5467 - accuracy: 0.78 - ETA: 1:22 - loss: 0.5458 - accuracy: 0.78 - ETA: 1:21 - loss: 0.5459 - accuracy: 0.78 - ETA: 1:21 - loss: 0.5444 - accuracy: 0.78 - ETA: 1:21 - loss: 0.5433 - accuracy: 0.78 - ETA: 1:21 - loss: 0.5419 - accuracy: 0.78 - ETA: 1:21 - loss: 0.5410 - accuracy: 0.78 - ETA: 1:21 - loss: 0.5411 - accuracy: 0.78 - ETA: 1:21 - loss: 0.5413 - accuracy: 0.78 - ETA: 1:20 - loss: 0.5410 - accuracy: 0.78 - ETA: 1:20 - loss: 0.5398 - accuracy: 0.78 - ETA: 1:20 - loss: 0.5391 - accuracy: 0.78 - ETA: 1:20 - loss: 0.5401 - accuracy: 0.78 - ETA: 1:20 - loss: 0.5411 - accuracy: 0.78 - ETA: 1:20 - loss: 0.5412 - accuracy: 0.78 - ETA: 1:20 - loss: 0.5404 - accuracy: 0.78 - ETA: 1:20 - loss: 0.5400 - accuracy: 0.78 - ETA: 1:19 - loss: 0.5399 - accuracy: 0.78 - ETA: 1:19 - loss: 0.5408 - accuracy: 0.78 - ETA: 1:19 - loss: 0.5407 - accuracy: 0.78 - ETA: 1:19 - loss: 0.5407 - accuracy: 0.78 - ETA: 1:19 - loss: 0.5409 - accuracy: 0.78 - ETA: 1:19 - loss: 0.5405 - accuracy: 0.78 - ETA: 1:18 - loss: 0.5403 - accuracy: 0.78 - ETA: 1:18 - loss: 0.5390 - accuracy: 0.78 - ETA: 1:18 - loss: 0.5396 - accuracy: 0.78 - ETA: 1:18 - loss: 0.5406 - accuracy: 0.78 - ETA: 1:18 - loss: 0.5412 - accuracy: 0.78 - ETA: 1:17 - loss: 0.5398 - accuracy: 0.78 - ETA: 1:17 - loss: 0.5399 - accuracy: 0.78 - ETA: 1:17 - loss: 0.5392 - accuracy: 0.78 - ETA: 1:17 - loss: 0.5377 - accuracy: 0.78 - ETA: 1:17 - loss: 0.5373 - accuracy: 0.78 - ETA: 1:16 - loss: 0.5366 - accuracy: 0.78 - ETA: 1:16 - loss: 0.5357 - accuracy: 0.78 - ETA: 1:16 - loss: 0.5360 - accuracy: 0.78 - ETA: 1:16 - loss: 0.5366 - accuracy: 0.78 - ETA: 1:16 - loss: 0.5368 - accuracy: 0.78 - ETA: 1:15 - loss: 0.5369 - accuracy: 0.7831\b\b\b\b\b\b\b\b\b\b\b\b\b\b\b\b\b\b\b\b\b\b\b\b\b\b\b\b\b\b\b\b\b\b\b\b\b\b\b\b\b\b\b\b\b\b\b\b\b\b\b\b\b\b\b\b\b\b\b\b\b\b\b\b\b\b\b\b\b\b\b\b\b\b\b\b\b\b\b\b\b\b\b\b\b\b"
     ]
    },
    {
     "name": "stdout",
     "output_type": "stream",
     "text": [
      "372/559 [==================>...........] - ETA: 1:15 - loss: 0.5371 - accuracy: 0.78 - ETA: 1:15 - loss: 0.5363 - accuracy: 0.78 - ETA: 1:15 - loss: 0.5362 - accuracy: 0.78 - ETA: 1:15 - loss: 0.5370 - accuracy: 0.78 - ETA: 1:14 - loss: 0.5364 - accuracy: 0.78 - ETA: 1:14 - loss: 0.5360 - accuracy: 0.78 - ETA: 1:14 - loss: 0.5363 - accuracy: 0.78 - ETA: 1:14 - loss: 0.5367 - accuracy: 0.78 - ETA: 1:14 - loss: 0.5366 - accuracy: 0.78 - ETA: 1:14 - loss: 0.5367 - accuracy: 0.78 - ETA: 1:13 - loss: 0.5366 - accuracy: 0.78 - ETA: 1:13 - loss: 0.5373 - accuracy: 0.78 - ETA: 1:13 - loss: 0.5383 - accuracy: 0.78 - ETA: 1:13 - loss: 0.5380 - accuracy: 0.78 - ETA: 1:13 - loss: 0.5378 - accuracy: 0.78 - ETA: 1:12 - loss: 0.5374 - accuracy: 0.78 - ETA: 1:12 - loss: 0.5379 - accuracy: 0.78 - ETA: 1:12 - loss: 0.5387 - accuracy: 0.78 - ETA: 1:12 - loss: 0.5391 - accuracy: 0.78 - ETA: 1:12 - loss: 0.5399 - accuracy: 0.78 - ETA: 1:12 - loss: 0.5401 - accuracy: 0.78 - ETA: 1:11 - loss: 0.5394 - accuracy: 0.78 - ETA: 1:11 - loss: 0.5396 - accuracy: 0.78 - ETA: 1:11 - loss: 0.5393 - accuracy: 0.78 - ETA: 1:11 - loss: 0.5380 - accuracy: 0.78 - ETA: 1:11 - loss: 0.5374 - accuracy: 0.78 - ETA: 1:10 - loss: 0.5366 - accuracy: 0.78 - ETA: 1:10 - loss: 0.5361 - accuracy: 0.78 - ETA: 1:10 - loss: 0.5365 - accuracy: 0.78 - ETA: 1:10 - loss: 0.5369 - accuracy: 0.78 - ETA: 1:10 - loss: 0.5370 - accuracy: 0.78 - ETA: 1:09 - loss: 0.5395 - accuracy: 0.78 - ETA: 1:09 - loss: 0.5398 - accuracy: 0.78 - ETA: 1:09 - loss: 0.5403 - accuracy: 0.78 - ETA: 1:09 - loss: 0.5401 - accuracy: 0.78 - ETA: 1:09 - loss: 0.5401 - accuracy: 0.78 - ETA: 1:08 - loss: 0.5398 - accuracy: 0.78 - ETA: 1:08 - loss: 0.5390 - accuracy: 0.78 - ETA: 1:08 - loss: 0.5390 - accuracy: 0.78 - ETA: 1:08 - loss: 0.5393 - accuracy: 0.78 - ETA: 1:08 - loss: 0.5387 - accuracy: 0.78 - ETA: 1:07 - loss: 0.5382 - accuracy: 0.78 - ETA: 1:07 - loss: 0.5368 - accuracy: 0.78 - ETA: 1:07 - loss: 0.5368 - accuracy: 0.78 - ETA: 1:07 - loss: 0.5366 - accuracy: 0.78 - ETA: 1:07 - loss: 0.5368 - accuracy: 0.78 - ETA: 1:06 - loss: 0.5365 - accuracy: 0.78 - ETA: 1:06 - loss: 0.5366 - accuracy: 0.78 - ETA: 1:06 - loss: 0.5366 - accuracy: 0.78 - ETA: 1:06 - loss: 0.5355 - accuracy: 0.78 - ETA: 1:06 - loss: 0.5366 - accuracy: 0.78 - ETA: 1:05 - loss: 0.5367 - accuracy: 0.78 - ETA: 1:05 - loss: 0.5371 - accuracy: 0.78 - ETA: 1:05 - loss: 0.5375 - accuracy: 0.78 - ETA: 1:05 - loss: 0.5367 - accuracy: 0.78 - ETA: 1:05 - loss: 0.5358 - accuracy: 0.78 - ETA: 1:04 - loss: 0.5352 - accuracy: 0.78 - ETA: 1:04 - loss: 0.5355 - accuracy: 0.78 - ETA: 1:04 - loss: 0.5357 - accuracy: 0.78 - ETA: 1:04 - loss: 0.5361 - accuracy: 0.78 - ETA: 1:04 - loss: 0.5358 - accuracy: 0.78 - ETA: 1:04 - loss: 0.5370 - accuracy: 0.78 - ETA: 1:04 - loss: 0.5369 - accuracy: 0.78 - ETA: 1:03 - loss: 0.5376 - accuracy: 0.78 - ETA: 1:03 - loss: 0.5376 - accuracy: 0.78 - ETA: 1:03 - loss: 0.5373 - accuracy: 0.78 - ETA: 1:03 - loss: 0.5363 - accuracy: 0.78 - ETA: 1:03 - loss: 0.5367 - accuracy: 0.78 - ETA: 1:02 - loss: 0.5373 - accuracy: 0.78 - ETA: 1:02 - loss: 0.5374 - accuracy: 0.78 - ETA: 1:02 - loss: 0.5375 - accuracy: 0.78 - ETA: 1:02 - loss: 0.5381 - accuracy: 0.78 - ETA: 1:02 - loss: 0.5381 - accuracy: 0.78 - ETA: 1:01 - loss: 0.5380 - accuracy: 0.78 - ETA: 1:01 - loss: 0.5384 - accuracy: 0.78 - ETA: 1:01 - loss: 0.5389 - accuracy: 0.78 - ETA: 1:01 - loss: 0.5391 - accuracy: 0.78 - ETA: 1:01 - loss: 0.5386 - accuracy: 0.78 - ETA: 1:00 - loss: 0.5390 - accuracy: 0.78 - ETA: 1:00 - loss: 0.5392 - accuracy: 0.78 - ETA: 1:00 - loss: 0.5399 - accuracy: 0.78 - ETA: 1:00 - loss: 0.5400 - accuracy: 0.78 - ETA: 1:00 - loss: 0.5400 - accuracy: 0.78 - ETA: 59s - loss: 0.5399 - accuracy: 0.7822 - ETA: 59s - loss: 0.5402 - accuracy: 0.781 - ETA: 59s - loss: 0.5399 - accuracy: 0.781 - ETA: 59s - loss: 0.5392 - accuracy: 0.782 - ETA: 59s - loss: 0.5385 - accuracy: 0.782 - ETA: 58s - loss: 0.5391 - accuracy: 0.782 - ETA: 58s - loss: 0.5392 - accuracy: 0.782 - ETA: 58s - loss: 0.5385 - accuracy: 0.782 - ETA: 58s - loss: 0.5393 - accuracy: 0.782 - ETA: 57s - loss: 0.5389 - accuracy: 0.782 - ETA: 57s - loss: 0.5391 - accuracy: 0.782 - ETA: 57s - loss: 0.5395 - accuracy: 0.782 - ETA: 57s - loss: 0.5393 - accuracy: 0.782 - ETA: 57s - loss: 0.5387 - accuracy: 0.782 - ETA: 56s - loss: 0.5385 - accuracy: 0.782 - ETA: 56s - loss: 0.5385 - accuracy: 0.782 - ETA: 56s - loss: 0.5378 - accuracy: 0.782 - ETA: 56s - loss: 0.5384 - accuracy: 0.782 - ETA: 56s - loss: 0.5378 - accuracy: 0.783 - ETA: 55s - loss: 0.5386 - accuracy: 0.782 - ETA: 55s - loss: 0.5388 - accuracy: 0.782 - ETA: 55s - loss: 0.5385 - accuracy: 0.782 - ETA: 55s - loss: 0.5384 - accuracy: 0.782 - ETA: 55s - loss: 0.5384 - accuracy: 0.782 - ETA: 54s - loss: 0.5378 - accuracy: 0.782 - ETA: 54s - loss: 0.5378 - accuracy: 0.782 - ETA: 54s - loss: 0.5381 - accuracy: 0.782 - ETA: 54s - loss: 0.5381 - accuracy: 0.781 - ETA: 54s - loss: 0.5379 - accuracy: 0.782 - ETA: 53s - loss: 0.5374 - accuracy: 0.782 - ETA: 53s - loss: 0.5372 - accuracy: 0.782 - ETA: 53s - loss: 0.5376 - accuracy: 0.782 - ETA: 53s - loss: 0.5372 - accuracy: 0.782 - ETA: 53s - loss: 0.5365 - accuracy: 0.783 - ETA: 52s - loss: 0.5366 - accuracy: 0.783 - ETA: 52s - loss: 0.5367 - accuracy: 0.782 - ETA: 52s - loss: 0.5365 - accuracy: 0.782 - ETA: 52s - loss: 0.5355 - accuracy: 0.783 - ETA: 52s - loss: 0.5354 - accuracy: 0.783 - ETA: 51s - loss: 0.5350 - accuracy: 0.783 - ETA: 51s - loss: 0.5351 - accuracy: 0.783 - ETA: 51s - loss: 0.5348 - accuracy: 0.783 - ETA: 51s - loss: 0.5351 - accuracy: 0.783 - ETA: 51s - loss: 0.5346 - accuracy: 0.783 - ETA: 50s - loss: 0.5339 - accuracy: 0.783 - ETA: 50s - loss: 0.5338 - accuracy: 0.783 - ETA: 50s - loss: 0.5335 - accuracy: 0.784 - ETA: 50s - loss: 0.5335 - accuracy: 0.783 - ETA: 50s - loss: 0.5335 - accuracy: 0.784 - ETA: 49s - loss: 0.5335 - accuracy: 0.784 - ETA: 49s - loss: 0.5343 - accuracy: 0.783 - ETA: 49s - loss: 0.5344 - accuracy: 0.783 - ETA: 49s - loss: 0.5350 - accuracy: 0.783 - ETA: 49s - loss: 0.5351 - accuracy: 0.783 - ETA: 48s - loss: 0.5349 - accuracy: 0.783 - ETA: 48s - loss: 0.5354 - accuracy: 0.783 - ETA: 48s - loss: 0.5348 - accuracy: 0.783 - ETA: 48s - loss: 0.5341 - accuracy: 0.783 - ETA: 48s - loss: 0.5333 - accuracy: 0.784 - ETA: 47s - loss: 0.5339 - accuracy: 0.784 - ETA: 47s - loss: 0.5335 - accuracy: 0.784 - ETA: 47s - loss: 0.5336 - accuracy: 0.784 - ETA: 47s - loss: 0.5330 - accuracy: 0.784 - ETA: 47s - loss: 0.5328 - accuracy: 0.784 - ETA: 46s - loss: 0.5321 - accuracy: 0.785 - ETA: 46s - loss: 0.5321 - accuracy: 0.785 - ETA: 46s - loss: 0.5323 - accuracy: 0.785 - ETA: 46s - loss: 0.5317 - accuracy: 0.785 - ETA: 46s - loss: 0.5314 - accuracy: 0.785 - ETA: 45s - loss: 0.5305 - accuracy: 0.786 - ETA: 45s - loss: 0.5299 - accuracy: 0.786 - ETA: 45s - loss: 0.5304 - accuracy: 0.786 - ETA: 45s - loss: 0.5304 - accuracy: 0.786 - ETA: 45s - loss: 0.5297 - accuracy: 0.786 - ETA: 44s - loss: 0.5294 - accuracy: 0.786 - ETA: 44s - loss: 0.5298 - accuracy: 0.786 - ETA: 44s - loss: 0.5294 - accuracy: 0.786 - ETA: 44s - loss: 0.5292 - accuracy: 0.786 - ETA: 44s - loss: 0.5291 - accuracy: 0.786 - ETA: 43s - loss: 0.5295 - accuracy: 0.786 - ETA: 43s - loss: 0.5299 - accuracy: 0.785 - ETA: 43s - loss: 0.5300 - accuracy: 0.785 - ETA: 43s - loss: 0.5303 - accuracy: 0.786 - ETA: 42s - loss: 0.5302 - accuracy: 0.785 - ETA: 42s - loss: 0.5299 - accuracy: 0.785 - ETA: 42s - loss: 0.5301 - accuracy: 0.785 - ETA: 42s - loss: 0.5299 - accuracy: 0.785 - ETA: 42s - loss: 0.5297 - accuracy: 0.785 - ETA: 41s - loss: 0.5295 - accuracy: 0.785 - ETA: 41s - loss: 0.5298 - accuracy: 0.785 - ETA: 41s - loss: 0.5299 - accuracy: 0.785 - ETA: 41s - loss: 0.5298 - accuracy: 0.785 - ETA: 41s - loss: 0.5299 - accuracy: 0.785 - ETA: 40s - loss: 0.5295 - accuracy: 0.785 - ETA: 40s - loss: 0.5296 - accuracy: 0.785 - ETA: 40s - loss: 0.5295 - accuracy: 0.785 - ETA: 40s - loss: 0.5294 - accuracy: 0.785 - ETA: 40s - loss: 0.5292 - accuracy: 0.785 - ETA: 39s - loss: 0.5298 - accuracy: 0.785 - ETA: 39s - loss: 0.5298 - accuracy: 0.785 - ETA: 39s - loss: 0.5308 - accuracy: 0.784 - ETA: 39s - loss: 0.5307 - accuracy: 0.784 - ETA: 39s - loss: 0.5309 - accuracy: 0.7847"
     ]
    },
    {
     "name": "stdout",
     "output_type": "stream",
     "text": [
      "559/559 [==============================] - ETA: 38s - loss: 0.5313 - accuracy: 0.784 - ETA: 38s - loss: 0.5312 - accuracy: 0.784 - ETA: 38s - loss: 0.5314 - accuracy: 0.784 - ETA: 38s - loss: 0.5312 - accuracy: 0.784 - ETA: 38s - loss: 0.5313 - accuracy: 0.784 - ETA: 37s - loss: 0.5316 - accuracy: 0.784 - ETA: 37s - loss: 0.5321 - accuracy: 0.784 - ETA: 37s - loss: 0.5319 - accuracy: 0.784 - ETA: 37s - loss: 0.5317 - accuracy: 0.784 - ETA: 36s - loss: 0.5321 - accuracy: 0.783 - ETA: 36s - loss: 0.5316 - accuracy: 0.784 - ETA: 36s - loss: 0.5314 - accuracy: 0.784 - ETA: 36s - loss: 0.5311 - accuracy: 0.784 - ETA: 36s - loss: 0.5315 - accuracy: 0.784 - ETA: 35s - loss: 0.5315 - accuracy: 0.784 - ETA: 35s - loss: 0.5310 - accuracy: 0.784 - ETA: 35s - loss: 0.5313 - accuracy: 0.784 - ETA: 35s - loss: 0.5313 - accuracy: 0.784 - ETA: 35s - loss: 0.5313 - accuracy: 0.784 - ETA: 34s - loss: 0.5312 - accuracy: 0.784 - ETA: 34s - loss: 0.5315 - accuracy: 0.784 - ETA: 34s - loss: 0.5314 - accuracy: 0.784 - ETA: 34s - loss: 0.5314 - accuracy: 0.784 - ETA: 34s - loss: 0.5316 - accuracy: 0.784 - ETA: 33s - loss: 0.5315 - accuracy: 0.784 - ETA: 33s - loss: 0.5312 - accuracy: 0.784 - ETA: 33s - loss: 0.5313 - accuracy: 0.784 - ETA: 33s - loss: 0.5311 - accuracy: 0.784 - ETA: 33s - loss: 0.5311 - accuracy: 0.784 - ETA: 32s - loss: 0.5310 - accuracy: 0.784 - ETA: 32s - loss: 0.5315 - accuracy: 0.784 - ETA: 32s - loss: 0.5311 - accuracy: 0.784 - ETA: 32s - loss: 0.5307 - accuracy: 0.784 - ETA: 32s - loss: 0.5316 - accuracy: 0.784 - ETA: 31s - loss: 0.5312 - accuracy: 0.784 - ETA: 31s - loss: 0.5317 - accuracy: 0.784 - ETA: 31s - loss: 0.5315 - accuracy: 0.784 - ETA: 31s - loss: 0.5315 - accuracy: 0.784 - ETA: 30s - loss: 0.5309 - accuracy: 0.784 - ETA: 30s - loss: 0.5312 - accuracy: 0.784 - ETA: 30s - loss: 0.5312 - accuracy: 0.784 - ETA: 30s - loss: 0.5310 - accuracy: 0.784 - ETA: 30s - loss: 0.5306 - accuracy: 0.784 - ETA: 29s - loss: 0.5307 - accuracy: 0.784 - ETA: 29s - loss: 0.5303 - accuracy: 0.784 - ETA: 29s - loss: 0.5309 - accuracy: 0.784 - ETA: 29s - loss: 0.5311 - accuracy: 0.784 - ETA: 29s - loss: 0.5306 - accuracy: 0.784 - ETA: 28s - loss: 0.5307 - accuracy: 0.784 - ETA: 28s - loss: 0.5302 - accuracy: 0.785 - ETA: 28s - loss: 0.5297 - accuracy: 0.785 - ETA: 28s - loss: 0.5295 - accuracy: 0.785 - ETA: 28s - loss: 0.5297 - accuracy: 0.785 - ETA: 27s - loss: 0.5296 - accuracy: 0.785 - ETA: 27s - loss: 0.5293 - accuracy: 0.785 - ETA: 27s - loss: 0.5291 - accuracy: 0.785 - ETA: 27s - loss: 0.5298 - accuracy: 0.785 - ETA: 27s - loss: 0.5298 - accuracy: 0.785 - ETA: 26s - loss: 0.5299 - accuracy: 0.784 - ETA: 26s - loss: 0.5299 - accuracy: 0.785 - ETA: 26s - loss: 0.5298 - accuracy: 0.784 - ETA: 26s - loss: 0.5296 - accuracy: 0.785 - ETA: 25s - loss: 0.5301 - accuracy: 0.785 - ETA: 25s - loss: 0.5300 - accuracy: 0.785 - ETA: 25s - loss: 0.5298 - accuracy: 0.785 - ETA: 25s - loss: 0.5293 - accuracy: 0.785 - ETA: 25s - loss: 0.5295 - accuracy: 0.785 - ETA: 24s - loss: 0.5294 - accuracy: 0.785 - ETA: 24s - loss: 0.5294 - accuracy: 0.785 - ETA: 24s - loss: 0.5292 - accuracy: 0.785 - ETA: 24s - loss: 0.5291 - accuracy: 0.785 - ETA: 24s - loss: 0.5290 - accuracy: 0.785 - ETA: 23s - loss: 0.5291 - accuracy: 0.785 - ETA: 23s - loss: 0.5296 - accuracy: 0.785 - ETA: 23s - loss: 0.5295 - accuracy: 0.785 - ETA: 23s - loss: 0.5301 - accuracy: 0.785 - ETA: 23s - loss: 0.5300 - accuracy: 0.785 - ETA: 22s - loss: 0.5295 - accuracy: 0.785 - ETA: 22s - loss: 0.5296 - accuracy: 0.785 - ETA: 22s - loss: 0.5302 - accuracy: 0.785 - ETA: 22s - loss: 0.5300 - accuracy: 0.785 - ETA: 22s - loss: 0.5305 - accuracy: 0.785 - ETA: 21s - loss: 0.5309 - accuracy: 0.784 - ETA: 21s - loss: 0.5309 - accuracy: 0.784 - ETA: 21s - loss: 0.5304 - accuracy: 0.785 - ETA: 21s - loss: 0.5303 - accuracy: 0.785 - ETA: 21s - loss: 0.5298 - accuracy: 0.785 - ETA: 20s - loss: 0.5297 - accuracy: 0.785 - ETA: 20s - loss: 0.5298 - accuracy: 0.785 - ETA: 20s - loss: 0.5293 - accuracy: 0.785 - ETA: 20s - loss: 0.5289 - accuracy: 0.786 - ETA: 19s - loss: 0.5288 - accuracy: 0.786 - ETA: 19s - loss: 0.5288 - accuracy: 0.786 - ETA: 19s - loss: 0.5291 - accuracy: 0.785 - ETA: 19s - loss: 0.5291 - accuracy: 0.785 - ETA: 19s - loss: 0.5288 - accuracy: 0.785 - ETA: 18s - loss: 0.5286 - accuracy: 0.786 - ETA: 18s - loss: 0.5284 - accuracy: 0.786 - ETA: 18s - loss: 0.5286 - accuracy: 0.786 - ETA: 18s - loss: 0.5285 - accuracy: 0.786 - ETA: 18s - loss: 0.5289 - accuracy: 0.785 - ETA: 17s - loss: 0.5290 - accuracy: 0.785 - ETA: 17s - loss: 0.5292 - accuracy: 0.785 - ETA: 17s - loss: 0.5288 - accuracy: 0.785 - ETA: 17s - loss: 0.5291 - accuracy: 0.785 - ETA: 17s - loss: 0.5289 - accuracy: 0.785 - ETA: 16s - loss: 0.5295 - accuracy: 0.785 - ETA: 16s - loss: 0.5295 - accuracy: 0.785 - ETA: 16s - loss: 0.5295 - accuracy: 0.785 - ETA: 16s - loss: 0.5292 - accuracy: 0.785 - ETA: 16s - loss: 0.5291 - accuracy: 0.785 - ETA: 15s - loss: 0.5288 - accuracy: 0.785 - ETA: 15s - loss: 0.5292 - accuracy: 0.785 - ETA: 15s - loss: 0.5292 - accuracy: 0.785 - ETA: 15s - loss: 0.5293 - accuracy: 0.785 - ETA: 14s - loss: 0.5292 - accuracy: 0.785 - ETA: 14s - loss: 0.5294 - accuracy: 0.785 - ETA: 14s - loss: 0.5293 - accuracy: 0.785 - ETA: 14s - loss: 0.5291 - accuracy: 0.785 - ETA: 14s - loss: 0.5290 - accuracy: 0.786 - ETA: 13s - loss: 0.5289 - accuracy: 0.786 - ETA: 13s - loss: 0.5288 - accuracy: 0.786 - ETA: 13s - loss: 0.5293 - accuracy: 0.785 - ETA: 13s - loss: 0.5291 - accuracy: 0.785 - ETA: 13s - loss: 0.5291 - accuracy: 0.785 - ETA: 12s - loss: 0.5290 - accuracy: 0.785 - ETA: 12s - loss: 0.5289 - accuracy: 0.786 - ETA: 12s - loss: 0.5290 - accuracy: 0.786 - ETA: 12s - loss: 0.5291 - accuracy: 0.786 - ETA: 12s - loss: 0.5295 - accuracy: 0.785 - ETA: 11s - loss: 0.5293 - accuracy: 0.786 - ETA: 11s - loss: 0.5290 - accuracy: 0.786 - ETA: 11s - loss: 0.5292 - accuracy: 0.786 - ETA: 11s - loss: 0.5291 - accuracy: 0.786 - ETA: 10s - loss: 0.5294 - accuracy: 0.786 - ETA: 10s - loss: 0.5294 - accuracy: 0.786 - ETA: 10s - loss: 0.5296 - accuracy: 0.785 - ETA: 10s - loss: 0.5299 - accuracy: 0.785 - ETA: 10s - loss: 0.5299 - accuracy: 0.785 - ETA: 9s - loss: 0.5294 - accuracy: 0.785 - ETA: 9s - loss: 0.5295 - accuracy: 0.78 - ETA: 9s - loss: 0.5296 - accuracy: 0.78 - ETA: 9s - loss: 0.5298 - accuracy: 0.78 - ETA: 9s - loss: 0.5295 - accuracy: 0.78 - ETA: 8s - loss: 0.5295 - accuracy: 0.78 - ETA: 8s - loss: 0.5292 - accuracy: 0.78 - ETA: 8s - loss: 0.5291 - accuracy: 0.78 - ETA: 8s - loss: 0.5288 - accuracy: 0.78 - ETA: 8s - loss: 0.5285 - accuracy: 0.78 - ETA: 7s - loss: 0.5286 - accuracy: 0.78 - ETA: 7s - loss: 0.5284 - accuracy: 0.78 - ETA: 7s - loss: 0.5281 - accuracy: 0.78 - ETA: 7s - loss: 0.5277 - accuracy: 0.78 - ETA: 6s - loss: 0.5275 - accuracy: 0.78 - ETA: 6s - loss: 0.5277 - accuracy: 0.78 - ETA: 6s - loss: 0.5277 - accuracy: 0.78 - ETA: 6s - loss: 0.5277 - accuracy: 0.78 - ETA: 6s - loss: 0.5279 - accuracy: 0.78 - ETA: 5s - loss: 0.5278 - accuracy: 0.78 - ETA: 5s - loss: 0.5278 - accuracy: 0.78 - ETA: 5s - loss: 0.5276 - accuracy: 0.78 - ETA: 5s - loss: 0.5275 - accuracy: 0.78 - ETA: 5s - loss: 0.5278 - accuracy: 0.78 - ETA: 4s - loss: 0.5277 - accuracy: 0.78 - ETA: 4s - loss: 0.5273 - accuracy: 0.78 - ETA: 4s - loss: 0.5274 - accuracy: 0.78 - ETA: 4s - loss: 0.5274 - accuracy: 0.78 - ETA: 4s - loss: 0.5270 - accuracy: 0.78 - ETA: 3s - loss: 0.5269 - accuracy: 0.78 - ETA: 3s - loss: 0.5267 - accuracy: 0.78 - ETA: 3s - loss: 0.5269 - accuracy: 0.78 - ETA: 3s - loss: 0.5265 - accuracy: 0.78 - ETA: 2s - loss: 0.5263 - accuracy: 0.78 - ETA: 2s - loss: 0.5265 - accuracy: 0.78 - ETA: 2s - loss: 0.5261 - accuracy: 0.78 - ETA: 2s - loss: 0.5259 - accuracy: 0.78 - ETA: 2s - loss: 0.5257 - accuracy: 0.78 - ETA: 1s - loss: 0.5254 - accuracy: 0.78 - ETA: 1s - loss: 0.5249 - accuracy: 0.78 - ETA: 1s - loss: 0.5250 - accuracy: 0.78 - ETA: 1s - loss: 0.5248 - accuracy: 0.78 - ETA: 1s - loss: 0.5250 - accuracy: 0.78 - ETA: 0s - loss: 0.5252 - accuracy: 0.78 - ETA: 0s - loss: 0.5252 - accuracy: 0.78 - ETA: 0s - loss: 0.5253 - accuracy: 0.78 - ETA: 0s - loss: 0.5255 - accuracy: 0.78 - ETA: 0s - loss: 0.5256 - accuracy: 0.78 - 118s 211ms/step - loss: 0.5256 - accuracy: 0.7877\n"
     ]
    },
    {
     "name": "stdout",
     "output_type": "stream",
     "text": [
      "Epoch 3/6\n"
     ]
    },
    {
     "name": "stdout",
     "output_type": "stream",
     "text": [
      "186/559 [========>.....................] - ETA: 0s - loss: 0.5910 - accuracy: 0.78 - ETA: 56s - loss: 0.5669 - accuracy: 0.750 - ETA: 1:27 - loss: 0.5350 - accuracy: 0.77 - ETA: 1:40 - loss: 0.4827 - accuracy: 0.79 - ETA: 1:45 - loss: 0.4682 - accuracy: 0.80 - ETA: 1:46 - loss: 0.4845 - accuracy: 0.78 - ETA: 1:49 - loss: 0.4916 - accuracy: 0.79 - ETA: 1:49 - loss: 0.4834 - accuracy: 0.80 - ETA: 1:49 - loss: 0.4746 - accuracy: 0.80 - ETA: 1:50 - loss: 0.4663 - accuracy: 0.81 - ETA: 1:50 - loss: 0.4670 - accuracy: 0.81 - ETA: 1:50 - loss: 0.4762 - accuracy: 0.80 - ETA: 1:50 - loss: 0.4659 - accuracy: 0.81 - ETA: 1:50 - loss: 0.4708 - accuracy: 0.80 - ETA: 1:51 - loss: 0.4793 - accuracy: 0.80 - ETA: 1:50 - loss: 0.4713 - accuracy: 0.81 - ETA: 1:50 - loss: 0.4851 - accuracy: 0.81 - ETA: 1:50 - loss: 0.4767 - accuracy: 0.81 - ETA: 1:50 - loss: 0.4687 - accuracy: 0.81 - ETA: 1:50 - loss: 0.4744 - accuracy: 0.81 - ETA: 1:51 - loss: 0.4721 - accuracy: 0.81 - ETA: 1:52 - loss: 0.4775 - accuracy: 0.81 - ETA: 1:52 - loss: 0.4760 - accuracy: 0.81 - ETA: 1:52 - loss: 0.4738 - accuracy: 0.81 - ETA: 1:52 - loss: 0.4692 - accuracy: 0.81 - ETA: 1:52 - loss: 0.4606 - accuracy: 0.82 - ETA: 1:53 - loss: 0.4625 - accuracy: 0.81 - ETA: 1:53 - loss: 0.4726 - accuracy: 0.81 - ETA: 1:54 - loss: 0.4778 - accuracy: 0.81 - ETA: 1:54 - loss: 0.4806 - accuracy: 0.80 - ETA: 1:55 - loss: 0.4841 - accuracy: 0.80 - ETA: 1:54 - loss: 0.4782 - accuracy: 0.81 - ETA: 1:54 - loss: 0.4863 - accuracy: 0.80 - ETA: 1:54 - loss: 0.4877 - accuracy: 0.80 - ETA: 1:53 - loss: 0.4829 - accuracy: 0.80 - ETA: 1:53 - loss: 0.4879 - accuracy: 0.80 - ETA: 1:52 - loss: 0.4866 - accuracy: 0.80 - ETA: 1:52 - loss: 0.4817 - accuracy: 0.81 - ETA: 1:52 - loss: 0.4826 - accuracy: 0.81 - ETA: 1:52 - loss: 0.4800 - accuracy: 0.81 - ETA: 1:51 - loss: 0.4813 - accuracy: 0.81 - ETA: 1:51 - loss: 0.4830 - accuracy: 0.81 - ETA: 1:51 - loss: 0.4813 - accuracy: 0.81 - ETA: 1:50 - loss: 0.4853 - accuracy: 0.80 - ETA: 1:50 - loss: 0.4864 - accuracy: 0.80 - ETA: 1:50 - loss: 0.4837 - accuracy: 0.80 - ETA: 1:50 - loss: 0.4822 - accuracy: 0.80 - ETA: 1:50 - loss: 0.4808 - accuracy: 0.80 - ETA: 1:50 - loss: 0.4769 - accuracy: 0.81 - ETA: 1:49 - loss: 0.4764 - accuracy: 0.81 - ETA: 1:49 - loss: 0.4781 - accuracy: 0.81 - ETA: 1:49 - loss: 0.4800 - accuracy: 0.81 - ETA: 1:50 - loss: 0.4813 - accuracy: 0.80 - ETA: 1:49 - loss: 0.4834 - accuracy: 0.80 - ETA: 1:49 - loss: 0.4819 - accuracy: 0.80 - ETA: 1:49 - loss: 0.4828 - accuracy: 0.80 - ETA: 1:49 - loss: 0.4819 - accuracy: 0.80 - ETA: 1:49 - loss: 0.4879 - accuracy: 0.80 - ETA: 1:49 - loss: 0.4883 - accuracy: 0.80 - ETA: 1:49 - loss: 0.4897 - accuracy: 0.80 - ETA: 1:49 - loss: 0.4931 - accuracy: 0.80 - ETA: 1:48 - loss: 0.4927 - accuracy: 0.80 - ETA: 1:48 - loss: 0.4914 - accuracy: 0.80 - ETA: 1:48 - loss: 0.4903 - accuracy: 0.80 - ETA: 1:48 - loss: 0.4920 - accuracy: 0.80 - ETA: 1:48 - loss: 0.4916 - accuracy: 0.79 - ETA: 1:47 - loss: 0.4943 - accuracy: 0.79 - ETA: 1:47 - loss: 0.4975 - accuracy: 0.79 - ETA: 1:47 - loss: 0.4979 - accuracy: 0.79 - ETA: 1:47 - loss: 0.4980 - accuracy: 0.79 - ETA: 1:46 - loss: 0.4998 - accuracy: 0.79 - ETA: 1:46 - loss: 0.5000 - accuracy: 0.79 - ETA: 1:46 - loss: 0.5014 - accuracy: 0.79 - ETA: 1:46 - loss: 0.5008 - accuracy: 0.79 - ETA: 1:45 - loss: 0.5005 - accuracy: 0.79 - ETA: 1:45 - loss: 0.5015 - accuracy: 0.79 - ETA: 1:45 - loss: 0.5026 - accuracy: 0.79 - ETA: 1:45 - loss: 0.5007 - accuracy: 0.79 - ETA: 1:45 - loss: 0.5027 - accuracy: 0.79 - ETA: 1:44 - loss: 0.5028 - accuracy: 0.79 - ETA: 1:44 - loss: 0.5023 - accuracy: 0.79 - ETA: 1:44 - loss: 0.5029 - accuracy: 0.79 - ETA: 1:44 - loss: 0.5029 - accuracy: 0.79 - ETA: 1:43 - loss: 0.5017 - accuracy: 0.79 - ETA: 1:43 - loss: 0.5004 - accuracy: 0.79 - ETA: 1:43 - loss: 0.5026 - accuracy: 0.79 - ETA: 1:43 - loss: 0.5022 - accuracy: 0.79 - ETA: 1:42 - loss: 0.5038 - accuracy: 0.79 - ETA: 1:42 - loss: 0.5029 - accuracy: 0.79 - ETA: 1:42 - loss: 0.5055 - accuracy: 0.79 - ETA: 1:42 - loss: 0.5048 - accuracy: 0.79 - ETA: 1:41 - loss: 0.5039 - accuracy: 0.79 - ETA: 1:41 - loss: 0.5036 - accuracy: 0.79 - ETA: 1:40 - loss: 0.5042 - accuracy: 0.79 - ETA: 1:40 - loss: 0.5029 - accuracy: 0.79 - ETA: 1:40 - loss: 0.5027 - accuracy: 0.79 - ETA: 1:40 - loss: 0.5007 - accuracy: 0.79 - ETA: 1:40 - loss: 0.5009 - accuracy: 0.79 - ETA: 1:39 - loss: 0.5003 - accuracy: 0.79 - ETA: 1:39 - loss: 0.5009 - accuracy: 0.79 - ETA: 1:39 - loss: 0.4990 - accuracy: 0.79 - ETA: 1:39 - loss: 0.4980 - accuracy: 0.79 - ETA: 1:38 - loss: 0.4979 - accuracy: 0.79 - ETA: 1:38 - loss: 0.4967 - accuracy: 0.79 - ETA: 1:38 - loss: 0.4963 - accuracy: 0.79 - ETA: 1:38 - loss: 0.4946 - accuracy: 0.79 - ETA: 1:38 - loss: 0.4943 - accuracy: 0.79 - ETA: 1:38 - loss: 0.4951 - accuracy: 0.79 - ETA: 1:37 - loss: 0.4963 - accuracy: 0.79 - ETA: 1:37 - loss: 0.4969 - accuracy: 0.79 - ETA: 1:37 - loss: 0.4975 - accuracy: 0.79 - ETA: 1:37 - loss: 0.4973 - accuracy: 0.79 - ETA: 1:36 - loss: 0.4959 - accuracy: 0.79 - ETA: 1:36 - loss: 0.4962 - accuracy: 0.79 - ETA: 1:36 - loss: 0.4964 - accuracy: 0.79 - ETA: 1:36 - loss: 0.4969 - accuracy: 0.79 - ETA: 1:35 - loss: 0.4966 - accuracy: 0.79 - ETA: 1:35 - loss: 0.4967 - accuracy: 0.79 - ETA: 1:35 - loss: 0.4962 - accuracy: 0.79 - ETA: 1:34 - loss: 0.4944 - accuracy: 0.79 - ETA: 1:34 - loss: 0.4937 - accuracy: 0.79 - ETA: 1:34 - loss: 0.4927 - accuracy: 0.80 - ETA: 1:34 - loss: 0.4926 - accuracy: 0.80 - ETA: 1:34 - loss: 0.4933 - accuracy: 0.80 - ETA: 1:33 - loss: 0.4926 - accuracy: 0.80 - ETA: 1:33 - loss: 0.4923 - accuracy: 0.80 - ETA: 1:33 - loss: 0.4956 - accuracy: 0.80 - ETA: 1:33 - loss: 0.4954 - accuracy: 0.80 - ETA: 1:33 - loss: 0.4947 - accuracy: 0.80 - ETA: 1:32 - loss: 0.4942 - accuracy: 0.80 - ETA: 1:32 - loss: 0.4942 - accuracy: 0.80 - ETA: 1:32 - loss: 0.4924 - accuracy: 0.80 - ETA: 1:32 - loss: 0.4931 - accuracy: 0.80 - ETA: 1:31 - loss: 0.4926 - accuracy: 0.80 - ETA: 1:31 - loss: 0.4921 - accuracy: 0.80 - ETA: 1:31 - loss: 0.4924 - accuracy: 0.80 - ETA: 1:31 - loss: 0.4904 - accuracy: 0.80 - ETA: 1:30 - loss: 0.4921 - accuracy: 0.80 - ETA: 1:30 - loss: 0.4932 - accuracy: 0.80 - ETA: 1:30 - loss: 0.4915 - accuracy: 0.80 - ETA: 1:30 - loss: 0.4906 - accuracy: 0.80 - ETA: 1:29 - loss: 0.4889 - accuracy: 0.80 - ETA: 1:29 - loss: 0.4889 - accuracy: 0.80 - ETA: 1:29 - loss: 0.4888 - accuracy: 0.80 - ETA: 1:28 - loss: 0.4892 - accuracy: 0.80 - ETA: 1:28 - loss: 0.4885 - accuracy: 0.80 - ETA: 1:28 - loss: 0.4881 - accuracy: 0.80 - ETA: 1:28 - loss: 0.4872 - accuracy: 0.80 - ETA: 1:28 - loss: 0.4867 - accuracy: 0.80 - ETA: 1:27 - loss: 0.4861 - accuracy: 0.80 - ETA: 1:27 - loss: 0.4852 - accuracy: 0.80 - ETA: 1:27 - loss: 0.4845 - accuracy: 0.80 - ETA: 1:27 - loss: 0.4843 - accuracy: 0.80 - ETA: 1:27 - loss: 0.4880 - accuracy: 0.80 - ETA: 1:26 - loss: 0.4871 - accuracy: 0.80 - ETA: 1:26 - loss: 0.4863 - accuracy: 0.80 - ETA: 1:26 - loss: 0.4870 - accuracy: 0.80 - ETA: 1:26 - loss: 0.4874 - accuracy: 0.80 - ETA: 1:26 - loss: 0.4868 - accuracy: 0.80 - ETA: 1:25 - loss: 0.4861 - accuracy: 0.80 - ETA: 1:25 - loss: 0.4849 - accuracy: 0.80 - ETA: 1:25 - loss: 0.4850 - accuracy: 0.80 - ETA: 1:25 - loss: 0.4840 - accuracy: 0.80 - ETA: 1:24 - loss: 0.4831 - accuracy: 0.80 - ETA: 1:24 - loss: 0.4836 - accuracy: 0.80 - ETA: 1:24 - loss: 0.4840 - accuracy: 0.80 - ETA: 1:24 - loss: 0.4836 - accuracy: 0.80 - ETA: 1:23 - loss: 0.4833 - accuracy: 0.80 - ETA: 1:23 - loss: 0.4826 - accuracy: 0.80 - ETA: 1:23 - loss: 0.4828 - accuracy: 0.80 - ETA: 1:23 - loss: 0.4831 - accuracy: 0.80 - ETA: 1:22 - loss: 0.4822 - accuracy: 0.80 - ETA: 1:22 - loss: 0.4816 - accuracy: 0.80 - ETA: 1:22 - loss: 0.4818 - accuracy: 0.80 - ETA: 1:22 - loss: 0.4824 - accuracy: 0.80 - ETA: 1:22 - loss: 0.4838 - accuracy: 0.80 - ETA: 1:21 - loss: 0.4832 - accuracy: 0.80 - ETA: 1:21 - loss: 0.4837 - accuracy: 0.80 - ETA: 1:21 - loss: 0.4838 - accuracy: 0.80 - ETA: 1:21 - loss: 0.4837 - accuracy: 0.80 - ETA: 1:21 - loss: 0.4835 - accuracy: 0.80 - ETA: 1:20 - loss: 0.4837 - accuracy: 0.80 - ETA: 1:20 - loss: 0.4833 - accuracy: 0.80 - ETA: 1:20 - loss: 0.4823 - accuracy: 0.80 - ETA: 1:20 - loss: 0.4823 - accuracy: 0.80 - ETA: 1:20 - loss: 0.4816 - accuracy: 0.8048\b\b\b\b\b\b\b\b\b\b\b\b\b\b\b\b\b\b\b\b\b\b\b\b\b\b\b\b\b\b\b\b\b\b\b\b\b\b\b\b\b\b\b\b\b\b\b\b\b\b\b\b\b\b\b\b\b\b\b\b\b\b\b\b\b\b\b\b\b\b\b\b\b\b\b\b\b\b\b\b\b\b\b\b\b\b"
     ]
    },
    {
     "name": "stdout",
     "output_type": "stream",
     "text": [
      "372/559 [==================>...........] - ETA: 1:19 - loss: 0.4822 - accuracy: 0.80 - ETA: 1:19 - loss: 0.4815 - accuracy: 0.80 - ETA: 1:19 - loss: 0.4809 - accuracy: 0.80 - ETA: 1:19 - loss: 0.4810 - accuracy: 0.80 - ETA: 1:18 - loss: 0.4809 - accuracy: 0.80 - ETA: 1:18 - loss: 0.4807 - accuracy: 0.80 - ETA: 1:18 - loss: 0.4801 - accuracy: 0.80 - ETA: 1:18 - loss: 0.4791 - accuracy: 0.80 - ETA: 1:17 - loss: 0.4784 - accuracy: 0.80 - ETA: 1:17 - loss: 0.4783 - accuracy: 0.80 - ETA: 1:17 - loss: 0.4776 - accuracy: 0.80 - ETA: 1:17 - loss: 0.4774 - accuracy: 0.80 - ETA: 1:17 - loss: 0.4773 - accuracy: 0.80 - ETA: 1:16 - loss: 0.4781 - accuracy: 0.80 - ETA: 1:16 - loss: 0.4776 - accuracy: 0.80 - ETA: 1:16 - loss: 0.4771 - accuracy: 0.80 - ETA: 1:16 - loss: 0.4769 - accuracy: 0.80 - ETA: 1:16 - loss: 0.4762 - accuracy: 0.80 - ETA: 1:15 - loss: 0.4756 - accuracy: 0.80 - ETA: 1:15 - loss: 0.4754 - accuracy: 0.80 - ETA: 1:15 - loss: 0.4749 - accuracy: 0.80 - ETA: 1:15 - loss: 0.4750 - accuracy: 0.80 - ETA: 1:14 - loss: 0.4763 - accuracy: 0.80 - ETA: 1:14 - loss: 0.4758 - accuracy: 0.80 - ETA: 1:14 - loss: 0.4758 - accuracy: 0.80 - ETA: 1:14 - loss: 0.4754 - accuracy: 0.80 - ETA: 1:14 - loss: 0.4750 - accuracy: 0.80 - ETA: 1:13 - loss: 0.4749 - accuracy: 0.80 - ETA: 1:13 - loss: 0.4747 - accuracy: 0.80 - ETA: 1:13 - loss: 0.4738 - accuracy: 0.80 - ETA: 1:13 - loss: 0.4738 - accuracy: 0.80 - ETA: 1:12 - loss: 0.4748 - accuracy: 0.80 - ETA: 1:12 - loss: 0.4747 - accuracy: 0.80 - ETA: 1:12 - loss: 0.4743 - accuracy: 0.80 - ETA: 1:12 - loss: 0.4754 - accuracy: 0.80 - ETA: 1:12 - loss: 0.4745 - accuracy: 0.80 - ETA: 1:11 - loss: 0.4756 - accuracy: 0.80 - ETA: 1:11 - loss: 0.4750 - accuracy: 0.80 - ETA: 1:11 - loss: 0.4745 - accuracy: 0.80 - ETA: 1:11 - loss: 0.4739 - accuracy: 0.80 - ETA: 1:11 - loss: 0.4744 - accuracy: 0.80 - ETA: 1:10 - loss: 0.4739 - accuracy: 0.80 - ETA: 1:10 - loss: 0.4738 - accuracy: 0.80 - ETA: 1:10 - loss: 0.4738 - accuracy: 0.80 - ETA: 1:10 - loss: 0.4737 - accuracy: 0.80 - ETA: 1:09 - loss: 0.4738 - accuracy: 0.80 - ETA: 1:09 - loss: 0.4749 - accuracy: 0.80 - ETA: 1:09 - loss: 0.4756 - accuracy: 0.80 - ETA: 1:09 - loss: 0.4758 - accuracy: 0.80 - ETA: 1:09 - loss: 0.4755 - accuracy: 0.80 - ETA: 1:08 - loss: 0.4756 - accuracy: 0.80 - ETA: 1:08 - loss: 0.4759 - accuracy: 0.80 - ETA: 1:08 - loss: 0.4756 - accuracy: 0.80 - ETA: 1:08 - loss: 0.4761 - accuracy: 0.80 - ETA: 1:07 - loss: 0.4775 - accuracy: 0.80 - ETA: 1:07 - loss: 0.4773 - accuracy: 0.80 - ETA: 1:07 - loss: 0.4775 - accuracy: 0.80 - ETA: 1:07 - loss: 0.4778 - accuracy: 0.80 - ETA: 1:06 - loss: 0.4779 - accuracy: 0.80 - ETA: 1:06 - loss: 0.4779 - accuracy: 0.80 - ETA: 1:06 - loss: 0.4782 - accuracy: 0.80 - ETA: 1:06 - loss: 0.4792 - accuracy: 0.80 - ETA: 1:06 - loss: 0.4785 - accuracy: 0.80 - ETA: 1:05 - loss: 0.4782 - accuracy: 0.80 - ETA: 1:05 - loss: 0.4783 - accuracy: 0.80 - ETA: 1:05 - loss: 0.4771 - accuracy: 0.80 - ETA: 1:05 - loss: 0.4770 - accuracy: 0.80 - ETA: 1:04 - loss: 0.4774 - accuracy: 0.80 - ETA: 1:04 - loss: 0.4777 - accuracy: 0.80 - ETA: 1:04 - loss: 0.4784 - accuracy: 0.80 - ETA: 1:04 - loss: 0.4781 - accuracy: 0.80 - ETA: 1:04 - loss: 0.4783 - accuracy: 0.80 - ETA: 1:03 - loss: 0.4785 - accuracy: 0.80 - ETA: 1:03 - loss: 0.4784 - accuracy: 0.80 - ETA: 1:03 - loss: 0.4788 - accuracy: 0.80 - ETA: 1:03 - loss: 0.4791 - accuracy: 0.80 - ETA: 1:02 - loss: 0.4788 - accuracy: 0.80 - ETA: 1:02 - loss: 0.4782 - accuracy: 0.80 - ETA: 1:02 - loss: 0.4779 - accuracy: 0.80 - ETA: 1:02 - loss: 0.4785 - accuracy: 0.80 - ETA: 1:02 - loss: 0.4793 - accuracy: 0.80 - ETA: 1:01 - loss: 0.4789 - accuracy: 0.80 - ETA: 1:01 - loss: 0.4787 - accuracy: 0.80 - ETA: 1:01 - loss: 0.4789 - accuracy: 0.80 - ETA: 1:01 - loss: 0.4784 - accuracy: 0.80 - ETA: 1:00 - loss: 0.4777 - accuracy: 0.80 - ETA: 1:00 - loss: 0.4772 - accuracy: 0.80 - ETA: 1:00 - loss: 0.4770 - accuracy: 0.80 - ETA: 1:00 - loss: 0.4772 - accuracy: 0.80 - ETA: 1:00 - loss: 0.4773 - accuracy: 0.80 - ETA: 59s - loss: 0.4770 - accuracy: 0.8098 - ETA: 59s - loss: 0.4767 - accuracy: 0.809 - ETA: 59s - loss: 0.4765 - accuracy: 0.810 - ETA: 59s - loss: 0.4760 - accuracy: 0.810 - ETA: 59s - loss: 0.4757 - accuracy: 0.810 - ETA: 58s - loss: 0.4758 - accuracy: 0.810 - ETA: 58s - loss: 0.4756 - accuracy: 0.810 - ETA: 58s - loss: 0.4753 - accuracy: 0.810 - ETA: 58s - loss: 0.4745 - accuracy: 0.810 - ETA: 57s - loss: 0.4751 - accuracy: 0.810 - ETA: 57s - loss: 0.4751 - accuracy: 0.810 - ETA: 57s - loss: 0.4750 - accuracy: 0.810 - ETA: 57s - loss: 0.4748 - accuracy: 0.810 - ETA: 57s - loss: 0.4748 - accuracy: 0.810 - ETA: 56s - loss: 0.4759 - accuracy: 0.810 - ETA: 56s - loss: 0.4762 - accuracy: 0.810 - ETA: 56s - loss: 0.4759 - accuracy: 0.810 - ETA: 56s - loss: 0.4760 - accuracy: 0.810 - ETA: 56s - loss: 0.4760 - accuracy: 0.810 - ETA: 55s - loss: 0.4761 - accuracy: 0.810 - ETA: 55s - loss: 0.4766 - accuracy: 0.809 - ETA: 55s - loss: 0.4761 - accuracy: 0.810 - ETA: 55s - loss: 0.4757 - accuracy: 0.810 - ETA: 54s - loss: 0.4764 - accuracy: 0.810 - ETA: 54s - loss: 0.4759 - accuracy: 0.810 - ETA: 54s - loss: 0.4760 - accuracy: 0.810 - ETA: 54s - loss: 0.4763 - accuracy: 0.810 - ETA: 54s - loss: 0.4762 - accuracy: 0.810 - ETA: 53s - loss: 0.4756 - accuracy: 0.810 - ETA: 53s - loss: 0.4749 - accuracy: 0.811 - ETA: 53s - loss: 0.4751 - accuracy: 0.811 - ETA: 53s - loss: 0.4752 - accuracy: 0.811 - ETA: 53s - loss: 0.4757 - accuracy: 0.810 - ETA: 52s - loss: 0.4757 - accuracy: 0.810 - ETA: 52s - loss: 0.4750 - accuracy: 0.811 - ETA: 52s - loss: 0.4753 - accuracy: 0.810 - ETA: 52s - loss: 0.4752 - accuracy: 0.810 - ETA: 52s - loss: 0.4754 - accuracy: 0.810 - ETA: 51s - loss: 0.4755 - accuracy: 0.810 - ETA: 51s - loss: 0.4761 - accuracy: 0.810 - ETA: 51s - loss: 0.4761 - accuracy: 0.810 - ETA: 51s - loss: 0.4761 - accuracy: 0.810 - ETA: 50s - loss: 0.4768 - accuracy: 0.809 - ETA: 50s - loss: 0.4762 - accuracy: 0.810 - ETA: 50s - loss: 0.4761 - accuracy: 0.810 - ETA: 50s - loss: 0.4763 - accuracy: 0.810 - ETA: 50s - loss: 0.4765 - accuracy: 0.810 - ETA: 49s - loss: 0.4761 - accuracy: 0.810 - ETA: 49s - loss: 0.4759 - accuracy: 0.810 - ETA: 49s - loss: 0.4760 - accuracy: 0.810 - ETA: 49s - loss: 0.4762 - accuracy: 0.810 - ETA: 49s - loss: 0.4759 - accuracy: 0.810 - ETA: 48s - loss: 0.4750 - accuracy: 0.811 - ETA: 48s - loss: 0.4756 - accuracy: 0.811 - ETA: 48s - loss: 0.4751 - accuracy: 0.811 - ETA: 48s - loss: 0.4759 - accuracy: 0.811 - ETA: 48s - loss: 0.4753 - accuracy: 0.811 - ETA: 47s - loss: 0.4755 - accuracy: 0.811 - ETA: 47s - loss: 0.4751 - accuracy: 0.811 - ETA: 47s - loss: 0.4750 - accuracy: 0.811 - ETA: 47s - loss: 0.4746 - accuracy: 0.811 - ETA: 46s - loss: 0.4757 - accuracy: 0.811 - ETA: 46s - loss: 0.4752 - accuracy: 0.811 - ETA: 46s - loss: 0.4751 - accuracy: 0.811 - ETA: 46s - loss: 0.4746 - accuracy: 0.811 - ETA: 46s - loss: 0.4747 - accuracy: 0.811 - ETA: 45s - loss: 0.4751 - accuracy: 0.810 - ETA: 45s - loss: 0.4754 - accuracy: 0.810 - ETA: 45s - loss: 0.4751 - accuracy: 0.810 - ETA: 45s - loss: 0.4752 - accuracy: 0.810 - ETA: 44s - loss: 0.4762 - accuracy: 0.810 - ETA: 44s - loss: 0.4757 - accuracy: 0.810 - ETA: 44s - loss: 0.4759 - accuracy: 0.810 - ETA: 44s - loss: 0.4758 - accuracy: 0.810 - ETA: 44s - loss: 0.4766 - accuracy: 0.809 - ETA: 43s - loss: 0.4770 - accuracy: 0.809 - ETA: 43s - loss: 0.4773 - accuracy: 0.809 - ETA: 43s - loss: 0.4775 - accuracy: 0.809 - ETA: 43s - loss: 0.4775 - accuracy: 0.809 - ETA: 43s - loss: 0.4784 - accuracy: 0.808 - ETA: 42s - loss: 0.4788 - accuracy: 0.808 - ETA: 42s - loss: 0.4787 - accuracy: 0.808 - ETA: 42s - loss: 0.4783 - accuracy: 0.809 - ETA: 42s - loss: 0.4782 - accuracy: 0.809 - ETA: 42s - loss: 0.4787 - accuracy: 0.808 - ETA: 41s - loss: 0.4782 - accuracy: 0.809 - ETA: 41s - loss: 0.4779 - accuracy: 0.809 - ETA: 41s - loss: 0.4784 - accuracy: 0.809 - ETA: 41s - loss: 0.4790 - accuracy: 0.808 - ETA: 40s - loss: 0.4784 - accuracy: 0.809 - ETA: 40s - loss: 0.4781 - accuracy: 0.809 - ETA: 40s - loss: 0.4782 - accuracy: 0.809 - ETA: 40s - loss: 0.4780 - accuracy: 0.809 - ETA: 40s - loss: 0.4784 - accuracy: 0.809 - ETA: 39s - loss: 0.4784 - accuracy: 0.809 - ETA: 39s - loss: 0.4782 - accuracy: 0.8095"
     ]
    },
    {
     "name": "stdout",
     "output_type": "stream",
     "text": [
      "559/559 [==============================] - ETA: 39s - loss: 0.4782 - accuracy: 0.809 - ETA: 39s - loss: 0.4786 - accuracy: 0.809 - ETA: 39s - loss: 0.4784 - accuracy: 0.809 - ETA: 38s - loss: 0.4783 - accuracy: 0.809 - ETA: 38s - loss: 0.4785 - accuracy: 0.809 - ETA: 38s - loss: 0.4789 - accuracy: 0.809 - ETA: 38s - loss: 0.4792 - accuracy: 0.809 - ETA: 38s - loss: 0.4788 - accuracy: 0.809 - ETA: 37s - loss: 0.4795 - accuracy: 0.808 - ETA: 37s - loss: 0.4797 - accuracy: 0.808 - ETA: 37s - loss: 0.4794 - accuracy: 0.808 - ETA: 37s - loss: 0.4795 - accuracy: 0.808 - ETA: 36s - loss: 0.4790 - accuracy: 0.809 - ETA: 36s - loss: 0.4783 - accuracy: 0.809 - ETA: 36s - loss: 0.4787 - accuracy: 0.809 - ETA: 36s - loss: 0.4791 - accuracy: 0.809 - ETA: 36s - loss: 0.4786 - accuracy: 0.809 - ETA: 35s - loss: 0.4784 - accuracy: 0.809 - ETA: 35s - loss: 0.4786 - accuracy: 0.809 - ETA: 35s - loss: 0.4788 - accuracy: 0.809 - ETA: 35s - loss: 0.4792 - accuracy: 0.809 - ETA: 35s - loss: 0.4789 - accuracy: 0.809 - ETA: 34s - loss: 0.4792 - accuracy: 0.808 - ETA: 34s - loss: 0.4795 - accuracy: 0.808 - ETA: 34s - loss: 0.4799 - accuracy: 0.808 - ETA: 34s - loss: 0.4802 - accuracy: 0.808 - ETA: 33s - loss: 0.4801 - accuracy: 0.808 - ETA: 33s - loss: 0.4802 - accuracy: 0.808 - ETA: 33s - loss: 0.4810 - accuracy: 0.808 - ETA: 33s - loss: 0.4810 - accuracy: 0.808 - ETA: 33s - loss: 0.4813 - accuracy: 0.807 - ETA: 32s - loss: 0.4814 - accuracy: 0.807 - ETA: 32s - loss: 0.4816 - accuracy: 0.807 - ETA: 32s - loss: 0.4814 - accuracy: 0.807 - ETA: 32s - loss: 0.4816 - accuracy: 0.807 - ETA: 32s - loss: 0.4816 - accuracy: 0.807 - ETA: 31s - loss: 0.4815 - accuracy: 0.807 - ETA: 31s - loss: 0.4821 - accuracy: 0.807 - ETA: 31s - loss: 0.4822 - accuracy: 0.807 - ETA: 31s - loss: 0.4817 - accuracy: 0.807 - ETA: 30s - loss: 0.4815 - accuracy: 0.808 - ETA: 30s - loss: 0.4815 - accuracy: 0.808 - ETA: 30s - loss: 0.4815 - accuracy: 0.808 - ETA: 30s - loss: 0.4811 - accuracy: 0.808 - ETA: 30s - loss: 0.4813 - accuracy: 0.808 - ETA: 29s - loss: 0.4813 - accuracy: 0.808 - ETA: 29s - loss: 0.4813 - accuracy: 0.808 - ETA: 29s - loss: 0.4817 - accuracy: 0.808 - ETA: 29s - loss: 0.4819 - accuracy: 0.808 - ETA: 29s - loss: 0.4815 - accuracy: 0.808 - ETA: 28s - loss: 0.4813 - accuracy: 0.808 - ETA: 28s - loss: 0.4812 - accuracy: 0.808 - ETA: 28s - loss: 0.4811 - accuracy: 0.808 - ETA: 28s - loss: 0.4810 - accuracy: 0.808 - ETA: 28s - loss: 0.4811 - accuracy: 0.807 - ETA: 27s - loss: 0.4810 - accuracy: 0.807 - ETA: 27s - loss: 0.4813 - accuracy: 0.807 - ETA: 27s - loss: 0.4808 - accuracy: 0.807 - ETA: 27s - loss: 0.4807 - accuracy: 0.807 - ETA: 26s - loss: 0.4804 - accuracy: 0.808 - ETA: 26s - loss: 0.4803 - accuracy: 0.808 - ETA: 26s - loss: 0.4802 - accuracy: 0.808 - ETA: 26s - loss: 0.4801 - accuracy: 0.808 - ETA: 26s - loss: 0.4799 - accuracy: 0.808 - ETA: 25s - loss: 0.4797 - accuracy: 0.808 - ETA: 25s - loss: 0.4796 - accuracy: 0.808 - ETA: 25s - loss: 0.4794 - accuracy: 0.808 - ETA: 25s - loss: 0.4793 - accuracy: 0.808 - ETA: 25s - loss: 0.4794 - accuracy: 0.808 - ETA: 24s - loss: 0.4795 - accuracy: 0.808 - ETA: 24s - loss: 0.4803 - accuracy: 0.808 - ETA: 24s - loss: 0.4801 - accuracy: 0.807 - ETA: 24s - loss: 0.4803 - accuracy: 0.807 - ETA: 23s - loss: 0.4807 - accuracy: 0.807 - ETA: 23s - loss: 0.4804 - accuracy: 0.807 - ETA: 23s - loss: 0.4802 - accuracy: 0.808 - ETA: 23s - loss: 0.4803 - accuracy: 0.807 - ETA: 23s - loss: 0.4804 - accuracy: 0.807 - ETA: 22s - loss: 0.4804 - accuracy: 0.807 - ETA: 22s - loss: 0.4805 - accuracy: 0.807 - ETA: 22s - loss: 0.4805 - accuracy: 0.807 - ETA: 22s - loss: 0.4808 - accuracy: 0.807 - ETA: 22s - loss: 0.4807 - accuracy: 0.807 - ETA: 21s - loss: 0.4809 - accuracy: 0.807 - ETA: 21s - loss: 0.4812 - accuracy: 0.807 - ETA: 21s - loss: 0.4811 - accuracy: 0.807 - ETA: 21s - loss: 0.4811 - accuracy: 0.807 - ETA: 21s - loss: 0.4810 - accuracy: 0.806 - ETA: 20s - loss: 0.4811 - accuracy: 0.806 - ETA: 20s - loss: 0.4808 - accuracy: 0.807 - ETA: 20s - loss: 0.4804 - accuracy: 0.807 - ETA: 20s - loss: 0.4805 - accuracy: 0.807 - ETA: 19s - loss: 0.4804 - accuracy: 0.807 - ETA: 19s - loss: 0.4804 - accuracy: 0.807 - ETA: 19s - loss: 0.4804 - accuracy: 0.807 - ETA: 19s - loss: 0.4802 - accuracy: 0.807 - ETA: 19s - loss: 0.4800 - accuracy: 0.807 - ETA: 18s - loss: 0.4801 - accuracy: 0.807 - ETA: 18s - loss: 0.4802 - accuracy: 0.807 - ETA: 18s - loss: 0.4799 - accuracy: 0.807 - ETA: 18s - loss: 0.4794 - accuracy: 0.808 - ETA: 18s - loss: 0.4796 - accuracy: 0.808 - ETA: 17s - loss: 0.4796 - accuracy: 0.808 - ETA: 17s - loss: 0.4796 - accuracy: 0.808 - ETA: 17s - loss: 0.4797 - accuracy: 0.808 - ETA: 17s - loss: 0.4795 - accuracy: 0.808 - ETA: 16s - loss: 0.4803 - accuracy: 0.807 - ETA: 16s - loss: 0.4803 - accuracy: 0.807 - ETA: 16s - loss: 0.4802 - accuracy: 0.807 - ETA: 16s - loss: 0.4803 - accuracy: 0.807 - ETA: 16s - loss: 0.4801 - accuracy: 0.807 - ETA: 15s - loss: 0.4804 - accuracy: 0.807 - ETA: 15s - loss: 0.4808 - accuracy: 0.807 - ETA: 15s - loss: 0.4805 - accuracy: 0.807 - ETA: 15s - loss: 0.4805 - accuracy: 0.807 - ETA: 15s - loss: 0.4803 - accuracy: 0.807 - ETA: 14s - loss: 0.4805 - accuracy: 0.807 - ETA: 14s - loss: 0.4807 - accuracy: 0.807 - ETA: 14s - loss: 0.4806 - accuracy: 0.807 - ETA: 14s - loss: 0.4808 - accuracy: 0.807 - ETA: 13s - loss: 0.4806 - accuracy: 0.807 - ETA: 13s - loss: 0.4807 - accuracy: 0.807 - ETA: 13s - loss: 0.4807 - accuracy: 0.807 - ETA: 13s - loss: 0.4804 - accuracy: 0.807 - ETA: 13s - loss: 0.4802 - accuracy: 0.807 - ETA: 12s - loss: 0.4802 - accuracy: 0.807 - ETA: 12s - loss: 0.4801 - accuracy: 0.807 - ETA: 12s - loss: 0.4800 - accuracy: 0.807 - ETA: 12s - loss: 0.4803 - accuracy: 0.807 - ETA: 12s - loss: 0.4805 - accuracy: 0.806 - ETA: 11s - loss: 0.4806 - accuracy: 0.806 - ETA: 11s - loss: 0.4810 - accuracy: 0.806 - ETA: 11s - loss: 0.4811 - accuracy: 0.806 - ETA: 11s - loss: 0.4813 - accuracy: 0.806 - ETA: 11s - loss: 0.4813 - accuracy: 0.806 - ETA: 10s - loss: 0.4812 - accuracy: 0.806 - ETA: 10s - loss: 0.4809 - accuracy: 0.806 - ETA: 10s - loss: 0.4810 - accuracy: 0.806 - ETA: 10s - loss: 0.4815 - accuracy: 0.806 - ETA: 9s - loss: 0.4815 - accuracy: 0.806 - ETA: 9s - loss: 0.4811 - accuracy: 0.80 - ETA: 9s - loss: 0.4813 - accuracy: 0.80 - ETA: 9s - loss: 0.4811 - accuracy: 0.80 - ETA: 9s - loss: 0.4808 - accuracy: 0.80 - ETA: 8s - loss: 0.4808 - accuracy: 0.80 - ETA: 8s - loss: 0.4807 - accuracy: 0.80 - ETA: 8s - loss: 0.4807 - accuracy: 0.80 - ETA: 8s - loss: 0.4810 - accuracy: 0.80 - ETA: 8s - loss: 0.4811 - accuracy: 0.80 - ETA: 7s - loss: 0.4813 - accuracy: 0.80 - ETA: 7s - loss: 0.4812 - accuracy: 0.80 - ETA: 7s - loss: 0.4816 - accuracy: 0.80 - ETA: 7s - loss: 0.4812 - accuracy: 0.80 - ETA: 7s - loss: 0.4812 - accuracy: 0.80 - ETA: 6s - loss: 0.4815 - accuracy: 0.80 - ETA: 6s - loss: 0.4811 - accuracy: 0.80 - ETA: 6s - loss: 0.4812 - accuracy: 0.80 - ETA: 6s - loss: 0.4815 - accuracy: 0.80 - ETA: 5s - loss: 0.4820 - accuracy: 0.80 - ETA: 5s - loss: 0.4819 - accuracy: 0.80 - ETA: 5s - loss: 0.4821 - accuracy: 0.80 - ETA: 5s - loss: 0.4823 - accuracy: 0.80 - ETA: 5s - loss: 0.4819 - accuracy: 0.80 - ETA: 4s - loss: 0.4822 - accuracy: 0.80 - ETA: 4s - loss: 0.4823 - accuracy: 0.80 - ETA: 4s - loss: 0.4826 - accuracy: 0.80 - ETA: 4s - loss: 0.4826 - accuracy: 0.80 - ETA: 4s - loss: 0.4833 - accuracy: 0.80 - ETA: 3s - loss: 0.4835 - accuracy: 0.80 - ETA: 3s - loss: 0.4833 - accuracy: 0.80 - ETA: 3s - loss: 0.4830 - accuracy: 0.80 - ETA: 3s - loss: 0.4829 - accuracy: 0.80 - ETA: 2s - loss: 0.4831 - accuracy: 0.80 - ETA: 2s - loss: 0.4831 - accuracy: 0.80 - ETA: 2s - loss: 0.4830 - accuracy: 0.80 - ETA: 2s - loss: 0.4828 - accuracy: 0.80 - ETA: 2s - loss: 0.4829 - accuracy: 0.80 - ETA: 1s - loss: 0.4828 - accuracy: 0.80 - ETA: 1s - loss: 0.4829 - accuracy: 0.80 - ETA: 1s - loss: 0.4831 - accuracy: 0.80 - ETA: 1s - loss: 0.4834 - accuracy: 0.80 - ETA: 1s - loss: 0.4831 - accuracy: 0.80 - ETA: 0s - loss: 0.4836 - accuracy: 0.80 - ETA: 0s - loss: 0.4838 - accuracy: 0.80 - ETA: 0s - loss: 0.4839 - accuracy: 0.80 - ETA: 0s - loss: 0.4837 - accuracy: 0.80 - ETA: 0s - loss: 0.4837 - accuracy: 0.80 - 119s 213ms/step - loss: 0.4837 - accuracy: 0.8064\n"
     ]
    },
    {
     "name": "stdout",
     "output_type": "stream",
     "text": [
      "Epoch 4/6\n"
     ]
    },
    {
     "name": "stdout",
     "output_type": "stream",
     "text": [
      "186/559 [========>.....................] - ETA: 0s - loss: 0.3335 - accuracy: 0.87 - ETA: 54s - loss: 0.4084 - accuracy: 0.859 - ETA: 1:16 - loss: 0.4356 - accuracy: 0.86 - ETA: 1:24 - loss: 0.4472 - accuracy: 0.83 - ETA: 1:29 - loss: 0.4253 - accuracy: 0.84 - ETA: 1:33 - loss: 0.4325 - accuracy: 0.83 - ETA: 1:39 - loss: 0.4360 - accuracy: 0.83 - ETA: 1:43 - loss: 0.4380 - accuracy: 0.82 - ETA: 1:45 - loss: 0.4360 - accuracy: 0.82 - ETA: 1:48 - loss: 0.4349 - accuracy: 0.82 - ETA: 1:50 - loss: 0.4430 - accuracy: 0.82 - ETA: 1:52 - loss: 0.4376 - accuracy: 0.82 - ETA: 1:54 - loss: 0.4274 - accuracy: 0.82 - ETA: 1:57 - loss: 0.4310 - accuracy: 0.83 - ETA: 1:58 - loss: 0.4310 - accuracy: 0.83 - ETA: 1:57 - loss: 0.4259 - accuracy: 0.83 - ETA: 1:58 - loss: 0.4212 - accuracy: 0.83 - ETA: 1:59 - loss: 0.4286 - accuracy: 0.83 - ETA: 1:58 - loss: 0.4365 - accuracy: 0.83 - ETA: 1:59 - loss: 0.4336 - accuracy: 0.83 - ETA: 2:00 - loss: 0.4397 - accuracy: 0.83 - ETA: 1:59 - loss: 0.4368 - accuracy: 0.83 - ETA: 1:58 - loss: 0.4409 - accuracy: 0.83 - ETA: 1:57 - loss: 0.4383 - accuracy: 0.83 - ETA: 1:56 - loss: 0.4419 - accuracy: 0.83 - ETA: 1:57 - loss: 0.4424 - accuracy: 0.82 - ETA: 1:56 - loss: 0.4384 - accuracy: 0.83 - ETA: 1:55 - loss: 0.4363 - accuracy: 0.83 - ETA: 1:55 - loss: 0.4406 - accuracy: 0.83 - ETA: 1:55 - loss: 0.4398 - accuracy: 0.83 - ETA: 1:55 - loss: 0.4393 - accuracy: 0.83 - ETA: 1:55 - loss: 0.4404 - accuracy: 0.83 - ETA: 1:54 - loss: 0.4357 - accuracy: 0.83 - ETA: 1:54 - loss: 0.4357 - accuracy: 0.83 - ETA: 1:53 - loss: 0.4339 - accuracy: 0.83 - ETA: 1:53 - loss: 0.4285 - accuracy: 0.83 - ETA: 1:52 - loss: 0.4275 - accuracy: 0.83 - ETA: 1:52 - loss: 0.4273 - accuracy: 0.83 - ETA: 1:52 - loss: 0.4279 - accuracy: 0.83 - ETA: 1:51 - loss: 0.4256 - accuracy: 0.84 - ETA: 1:51 - loss: 0.4302 - accuracy: 0.83 - ETA: 1:51 - loss: 0.4308 - accuracy: 0.83 - ETA: 1:50 - loss: 0.4323 - accuracy: 0.83 - ETA: 1:50 - loss: 0.4307 - accuracy: 0.83 - ETA: 1:49 - loss: 0.4296 - accuracy: 0.83 - ETA: 1:49 - loss: 0.4290 - accuracy: 0.83 - ETA: 1:49 - loss: 0.4257 - accuracy: 0.83 - ETA: 1:49 - loss: 0.4244 - accuracy: 0.83 - ETA: 1:48 - loss: 0.4210 - accuracy: 0.84 - ETA: 1:48 - loss: 0.4207 - accuracy: 0.84 - ETA: 1:48 - loss: 0.4274 - accuracy: 0.83 - ETA: 1:48 - loss: 0.4272 - accuracy: 0.83 - ETA: 1:48 - loss: 0.4257 - accuracy: 0.83 - ETA: 1:47 - loss: 0.4268 - accuracy: 0.83 - ETA: 1:47 - loss: 0.4236 - accuracy: 0.83 - ETA: 1:47 - loss: 0.4207 - accuracy: 0.84 - ETA: 1:47 - loss: 0.4259 - accuracy: 0.83 - ETA: 1:47 - loss: 0.4240 - accuracy: 0.83 - ETA: 1:46 - loss: 0.4269 - accuracy: 0.83 - ETA: 1:46 - loss: 0.4284 - accuracy: 0.83 - ETA: 1:46 - loss: 0.4337 - accuracy: 0.83 - ETA: 1:46 - loss: 0.4350 - accuracy: 0.83 - ETA: 1:46 - loss: 0.4359 - accuracy: 0.83 - ETA: 1:46 - loss: 0.4357 - accuracy: 0.83 - ETA: 1:46 - loss: 0.4354 - accuracy: 0.83 - ETA: 1:46 - loss: 0.4367 - accuracy: 0.83 - ETA: 1:46 - loss: 0.4352 - accuracy: 0.83 - ETA: 1:45 - loss: 0.4353 - accuracy: 0.83 - ETA: 1:45 - loss: 0.4340 - accuracy: 0.83 - ETA: 1:45 - loss: 0.4332 - accuracy: 0.83 - ETA: 1:45 - loss: 0.4329 - accuracy: 0.83 - ETA: 1:45 - loss: 0.4362 - accuracy: 0.83 - ETA: 1:44 - loss: 0.4344 - accuracy: 0.83 - ETA: 1:44 - loss: 0.4324 - accuracy: 0.83 - ETA: 1:44 - loss: 0.4314 - accuracy: 0.83 - ETA: 1:44 - loss: 0.4285 - accuracy: 0.83 - ETA: 1:43 - loss: 0.4283 - accuracy: 0.83 - ETA: 1:43 - loss: 0.4289 - accuracy: 0.83 - ETA: 1:43 - loss: 0.4288 - accuracy: 0.83 - ETA: 1:42 - loss: 0.4307 - accuracy: 0.83 - ETA: 1:42 - loss: 0.4295 - accuracy: 0.83 - ETA: 1:42 - loss: 0.4303 - accuracy: 0.83 - ETA: 1:41 - loss: 0.4294 - accuracy: 0.83 - ETA: 1:41 - loss: 0.4280 - accuracy: 0.83 - ETA: 1:41 - loss: 0.4289 - accuracy: 0.83 - ETA: 1:41 - loss: 0.4318 - accuracy: 0.83 - ETA: 1:40 - loss: 0.4294 - accuracy: 0.83 - ETA: 1:40 - loss: 0.4312 - accuracy: 0.83 - ETA: 1:40 - loss: 0.4294 - accuracy: 0.83 - ETA: 1:40 - loss: 0.4314 - accuracy: 0.83 - ETA: 1:40 - loss: 0.4282 - accuracy: 0.83 - ETA: 1:40 - loss: 0.4300 - accuracy: 0.83 - ETA: 1:39 - loss: 0.4292 - accuracy: 0.83 - ETA: 1:39 - loss: 0.4315 - accuracy: 0.83 - ETA: 1:39 - loss: 0.4311 - accuracy: 0.83 - ETA: 1:39 - loss: 0.4320 - accuracy: 0.83 - ETA: 1:39 - loss: 0.4315 - accuracy: 0.83 - ETA: 1:38 - loss: 0.4303 - accuracy: 0.83 - ETA: 1:38 - loss: 0.4296 - accuracy: 0.83 - ETA: 1:38 - loss: 0.4318 - accuracy: 0.83 - ETA: 1:38 - loss: 0.4322 - accuracy: 0.83 - ETA: 1:37 - loss: 0.4336 - accuracy: 0.83 - ETA: 1:37 - loss: 0.4364 - accuracy: 0.83 - ETA: 1:37 - loss: 0.4352 - accuracy: 0.83 - ETA: 1:36 - loss: 0.4340 - accuracy: 0.83 - ETA: 1:36 - loss: 0.4357 - accuracy: 0.83 - ETA: 1:36 - loss: 0.4360 - accuracy: 0.83 - ETA: 1:36 - loss: 0.4368 - accuracy: 0.83 - ETA: 1:35 - loss: 0.4378 - accuracy: 0.83 - ETA: 1:35 - loss: 0.4374 - accuracy: 0.83 - ETA: 1:35 - loss: 0.4370 - accuracy: 0.83 - ETA: 1:35 - loss: 0.4383 - accuracy: 0.83 - ETA: 1:34 - loss: 0.4366 - accuracy: 0.83 - ETA: 1:34 - loss: 0.4379 - accuracy: 0.83 - ETA: 1:34 - loss: 0.4380 - accuracy: 0.83 - ETA: 1:34 - loss: 0.4372 - accuracy: 0.83 - ETA: 1:33 - loss: 0.4382 - accuracy: 0.83 - ETA: 1:33 - loss: 0.4387 - accuracy: 0.83 - ETA: 1:33 - loss: 0.4375 - accuracy: 0.83 - ETA: 1:33 - loss: 0.4370 - accuracy: 0.83 - ETA: 1:33 - loss: 0.4381 - accuracy: 0.83 - ETA: 1:33 - loss: 0.4371 - accuracy: 0.83 - ETA: 1:32 - loss: 0.4367 - accuracy: 0.83 - ETA: 1:32 - loss: 0.4359 - accuracy: 0.83 - ETA: 1:32 - loss: 0.4358 - accuracy: 0.83 - ETA: 1:32 - loss: 0.4354 - accuracy: 0.83 - ETA: 1:31 - loss: 0.4347 - accuracy: 0.83 - ETA: 1:31 - loss: 0.4348 - accuracy: 0.83 - ETA: 1:31 - loss: 0.4334 - accuracy: 0.83 - ETA: 1:31 - loss: 0.4336 - accuracy: 0.83 - ETA: 1:31 - loss: 0.4341 - accuracy: 0.83 - ETA: 1:30 - loss: 0.4339 - accuracy: 0.83 - ETA: 1:30 - loss: 0.4333 - accuracy: 0.83 - ETA: 1:30 - loss: 0.4340 - accuracy: 0.83 - ETA: 1:30 - loss: 0.4332 - accuracy: 0.83 - ETA: 1:30 - loss: 0.4339 - accuracy: 0.83 - ETA: 1:29 - loss: 0.4330 - accuracy: 0.83 - ETA: 1:29 - loss: 0.4331 - accuracy: 0.83 - ETA: 1:29 - loss: 0.4350 - accuracy: 0.83 - ETA: 1:29 - loss: 0.4355 - accuracy: 0.83 - ETA: 1:29 - loss: 0.4340 - accuracy: 0.83 - ETA: 1:28 - loss: 0.4342 - accuracy: 0.83 - ETA: 1:28 - loss: 0.4334 - accuracy: 0.83 - ETA: 1:28 - loss: 0.4339 - accuracy: 0.83 - ETA: 1:28 - loss: 0.4322 - accuracy: 0.83 - ETA: 1:28 - loss: 0.4322 - accuracy: 0.83 - ETA: 1:27 - loss: 0.4324 - accuracy: 0.83 - ETA: 1:27 - loss: 0.4332 - accuracy: 0.83 - ETA: 1:27 - loss: 0.4331 - accuracy: 0.83 - ETA: 1:27 - loss: 0.4323 - accuracy: 0.83 - ETA: 1:26 - loss: 0.4329 - accuracy: 0.83 - ETA: 1:26 - loss: 0.4329 - accuracy: 0.83 - ETA: 1:26 - loss: 0.4346 - accuracy: 0.83 - ETA: 1:26 - loss: 0.4346 - accuracy: 0.83 - ETA: 1:26 - loss: 0.4345 - accuracy: 0.83 - ETA: 1:25 - loss: 0.4347 - accuracy: 0.83 - ETA: 1:25 - loss: 0.4349 - accuracy: 0.83 - ETA: 1:25 - loss: 0.4356 - accuracy: 0.83 - ETA: 1:25 - loss: 0.4358 - accuracy: 0.83 - ETA: 1:24 - loss: 0.4352 - accuracy: 0.83 - ETA: 1:24 - loss: 0.4354 - accuracy: 0.83 - ETA: 1:24 - loss: 0.4360 - accuracy: 0.83 - ETA: 1:24 - loss: 0.4366 - accuracy: 0.83 - ETA: 1:23 - loss: 0.4364 - accuracy: 0.83 - ETA: 1:23 - loss: 0.4362 - accuracy: 0.83 - ETA: 1:23 - loss: 0.4355 - accuracy: 0.83 - ETA: 1:23 - loss: 0.4361 - accuracy: 0.83 - ETA: 1:23 - loss: 0.4367 - accuracy: 0.83 - ETA: 1:23 - loss: 0.4370 - accuracy: 0.83 - ETA: 1:22 - loss: 0.4367 - accuracy: 0.83 - ETA: 1:22 - loss: 0.4364 - accuracy: 0.83 - ETA: 1:22 - loss: 0.4366 - accuracy: 0.83 - ETA: 1:22 - loss: 0.4367 - accuracy: 0.83 - ETA: 1:22 - loss: 0.4362 - accuracy: 0.83 - ETA: 1:21 - loss: 0.4371 - accuracy: 0.83 - ETA: 1:21 - loss: 0.4374 - accuracy: 0.83 - ETA: 1:21 - loss: 0.4375 - accuracy: 0.83 - ETA: 1:21 - loss: 0.4361 - accuracy: 0.83 - ETA: 1:20 - loss: 0.4367 - accuracy: 0.83 - ETA: 1:20 - loss: 0.4363 - accuracy: 0.83 - ETA: 1:20 - loss: 0.4371 - accuracy: 0.83 - ETA: 1:20 - loss: 0.4372 - accuracy: 0.83 - ETA: 1:19 - loss: 0.4376 - accuracy: 0.83 - ETA: 1:19 - loss: 0.4370 - accuracy: 0.83 - ETA: 1:19 - loss: 0.4368 - accuracy: 0.83 - ETA: 1:19 - loss: 0.4365 - accuracy: 0.8327\b\b\b\b\b\b\b\b\b\b\b\b\b\b\b\b\b\b\b\b\b\b\b\b\b\b\b\b\b\b\b\b\b\b\b\b\b\b\b\b\b\b\b\b\b\b\b\b\b\b\b\b\b\b\b\b\b\b\b\b\b\b\b\b\b\b\b\b\b\b\b\b\b\b\b\b\b\b\b\b\b\b\b\b\b\b"
     ]
    },
    {
     "name": "stdout",
     "output_type": "stream",
     "text": [
      "372/559 [==================>...........] - ETA: 1:19 - loss: 0.4363 - accuracy: 0.83 - ETA: 1:18 - loss: 0.4359 - accuracy: 0.83 - ETA: 1:18 - loss: 0.4362 - accuracy: 0.83 - ETA: 1:18 - loss: 0.4359 - accuracy: 0.83 - ETA: 1:18 - loss: 0.4355 - accuracy: 0.83 - ETA: 1:18 - loss: 0.4354 - accuracy: 0.83 - ETA: 1:17 - loss: 0.4359 - accuracy: 0.83 - ETA: 1:17 - loss: 0.4360 - accuracy: 0.83 - ETA: 1:17 - loss: 0.4356 - accuracy: 0.83 - ETA: 1:17 - loss: 0.4363 - accuracy: 0.83 - ETA: 1:17 - loss: 0.4369 - accuracy: 0.83 - ETA: 1:16 - loss: 0.4365 - accuracy: 0.83 - ETA: 1:16 - loss: 0.4363 - accuracy: 0.83 - ETA: 1:16 - loss: 0.4366 - accuracy: 0.83 - ETA: 1:16 - loss: 0.4364 - accuracy: 0.83 - ETA: 1:16 - loss: 0.4373 - accuracy: 0.83 - ETA: 1:15 - loss: 0.4376 - accuracy: 0.83 - ETA: 1:15 - loss: 0.4381 - accuracy: 0.83 - ETA: 1:15 - loss: 0.4391 - accuracy: 0.83 - ETA: 1:15 - loss: 0.4398 - accuracy: 0.83 - ETA: 1:14 - loss: 0.4406 - accuracy: 0.83 - ETA: 1:14 - loss: 0.4401 - accuracy: 0.83 - ETA: 1:14 - loss: 0.4397 - accuracy: 0.83 - ETA: 1:14 - loss: 0.4390 - accuracy: 0.83 - ETA: 1:14 - loss: 0.4390 - accuracy: 0.83 - ETA: 1:13 - loss: 0.4386 - accuracy: 0.83 - ETA: 1:13 - loss: 0.4379 - accuracy: 0.83 - ETA: 1:13 - loss: 0.4377 - accuracy: 0.83 - ETA: 1:13 - loss: 0.4372 - accuracy: 0.83 - ETA: 1:12 - loss: 0.4367 - accuracy: 0.83 - ETA: 1:12 - loss: 0.4368 - accuracy: 0.83 - ETA: 1:12 - loss: 0.4374 - accuracy: 0.83 - ETA: 1:12 - loss: 0.4367 - accuracy: 0.83 - ETA: 1:12 - loss: 0.4373 - accuracy: 0.83 - ETA: 1:12 - loss: 0.4374 - accuracy: 0.83 - ETA: 1:11 - loss: 0.4374 - accuracy: 0.83 - ETA: 1:11 - loss: 0.4374 - accuracy: 0.83 - ETA: 1:11 - loss: 0.4372 - accuracy: 0.83 - ETA: 1:11 - loss: 0.4376 - accuracy: 0.83 - ETA: 1:10 - loss: 0.4381 - accuracy: 0.83 - ETA: 1:10 - loss: 0.4376 - accuracy: 0.83 - ETA: 1:10 - loss: 0.4374 - accuracy: 0.83 - ETA: 1:10 - loss: 0.4375 - accuracy: 0.83 - ETA: 1:10 - loss: 0.4375 - accuracy: 0.83 - ETA: 1:09 - loss: 0.4380 - accuracy: 0.83 - ETA: 1:09 - loss: 0.4379 - accuracy: 0.83 - ETA: 1:09 - loss: 0.4374 - accuracy: 0.83 - ETA: 1:09 - loss: 0.4384 - accuracy: 0.83 - ETA: 1:08 - loss: 0.4384 - accuracy: 0.83 - ETA: 1:08 - loss: 0.4380 - accuracy: 0.83 - ETA: 1:08 - loss: 0.4380 - accuracy: 0.83 - ETA: 1:08 - loss: 0.4385 - accuracy: 0.83 - ETA: 1:08 - loss: 0.4382 - accuracy: 0.83 - ETA: 1:07 - loss: 0.4381 - accuracy: 0.83 - ETA: 1:07 - loss: 0.4381 - accuracy: 0.83 - ETA: 1:07 - loss: 0.4391 - accuracy: 0.83 - ETA: 1:07 - loss: 0.4392 - accuracy: 0.83 - ETA: 1:07 - loss: 0.4393 - accuracy: 0.83 - ETA: 1:06 - loss: 0.4392 - accuracy: 0.83 - ETA: 1:06 - loss: 0.4386 - accuracy: 0.83 - ETA: 1:06 - loss: 0.4377 - accuracy: 0.83 - ETA: 1:06 - loss: 0.4376 - accuracy: 0.83 - ETA: 1:06 - loss: 0.4384 - accuracy: 0.83 - ETA: 1:05 - loss: 0.4389 - accuracy: 0.83 - ETA: 1:05 - loss: 0.4387 - accuracy: 0.83 - ETA: 1:05 - loss: 0.4385 - accuracy: 0.83 - ETA: 1:05 - loss: 0.4385 - accuracy: 0.83 - ETA: 1:04 - loss: 0.4384 - accuracy: 0.83 - ETA: 1:04 - loss: 0.4388 - accuracy: 0.83 - ETA: 1:04 - loss: 0.4389 - accuracy: 0.82 - ETA: 1:04 - loss: 0.4387 - accuracy: 0.82 - ETA: 1:04 - loss: 0.4385 - accuracy: 0.82 - ETA: 1:03 - loss: 0.4381 - accuracy: 0.82 - ETA: 1:03 - loss: 0.4374 - accuracy: 0.83 - ETA: 1:03 - loss: 0.4377 - accuracy: 0.83 - ETA: 1:03 - loss: 0.4378 - accuracy: 0.83 - ETA: 1:02 - loss: 0.4385 - accuracy: 0.83 - ETA: 1:02 - loss: 0.4387 - accuracy: 0.83 - ETA: 1:02 - loss: 0.4393 - accuracy: 0.82 - ETA: 1:02 - loss: 0.4394 - accuracy: 0.82 - ETA: 1:02 - loss: 0.4385 - accuracy: 0.82 - ETA: 1:02 - loss: 0.4394 - accuracy: 0.82 - ETA: 1:01 - loss: 0.4396 - accuracy: 0.82 - ETA: 1:01 - loss: 0.4396 - accuracy: 0.82 - ETA: 1:01 - loss: 0.4389 - accuracy: 0.82 - ETA: 1:01 - loss: 0.4390 - accuracy: 0.82 - ETA: 1:00 - loss: 0.4394 - accuracy: 0.82 - ETA: 1:00 - loss: 0.4395 - accuracy: 0.82 - ETA: 1:00 - loss: 0.4390 - accuracy: 0.82 - ETA: 1:00 - loss: 0.4383 - accuracy: 0.82 - ETA: 1:00 - loss: 0.4384 - accuracy: 0.82 - ETA: 59s - loss: 0.4378 - accuracy: 0.8300 - ETA: 59s - loss: 0.4379 - accuracy: 0.830 - ETA: 59s - loss: 0.4381 - accuracy: 0.829 - ETA: 59s - loss: 0.4377 - accuracy: 0.830 - ETA: 59s - loss: 0.4372 - accuracy: 0.830 - ETA: 58s - loss: 0.4367 - accuracy: 0.830 - ETA: 58s - loss: 0.4369 - accuracy: 0.830 - ETA: 58s - loss: 0.4376 - accuracy: 0.830 - ETA: 58s - loss: 0.4378 - accuracy: 0.829 - ETA: 57s - loss: 0.4379 - accuracy: 0.829 - ETA: 57s - loss: 0.4387 - accuracy: 0.829 - ETA: 57s - loss: 0.4381 - accuracy: 0.829 - ETA: 57s - loss: 0.4388 - accuracy: 0.829 - ETA: 57s - loss: 0.4388 - accuracy: 0.829 - ETA: 56s - loss: 0.4396 - accuracy: 0.829 - ETA: 56s - loss: 0.4400 - accuracy: 0.828 - ETA: 56s - loss: 0.4400 - accuracy: 0.829 - ETA: 56s - loss: 0.4395 - accuracy: 0.829 - ETA: 56s - loss: 0.4397 - accuracy: 0.828 - ETA: 55s - loss: 0.4396 - accuracy: 0.828 - ETA: 55s - loss: 0.4405 - accuracy: 0.828 - ETA: 55s - loss: 0.4402 - accuracy: 0.828 - ETA: 55s - loss: 0.4407 - accuracy: 0.828 - ETA: 54s - loss: 0.4404 - accuracy: 0.828 - ETA: 54s - loss: 0.4399 - accuracy: 0.828 - ETA: 54s - loss: 0.4393 - accuracy: 0.829 - ETA: 54s - loss: 0.4399 - accuracy: 0.828 - ETA: 54s - loss: 0.4396 - accuracy: 0.829 - ETA: 53s - loss: 0.4395 - accuracy: 0.829 - ETA: 53s - loss: 0.4396 - accuracy: 0.829 - ETA: 53s - loss: 0.4393 - accuracy: 0.829 - ETA: 53s - loss: 0.4386 - accuracy: 0.829 - ETA: 53s - loss: 0.4387 - accuracy: 0.829 - ETA: 52s - loss: 0.4390 - accuracy: 0.829 - ETA: 52s - loss: 0.4390 - accuracy: 0.829 - ETA: 52s - loss: 0.4390 - accuracy: 0.829 - ETA: 52s - loss: 0.4388 - accuracy: 0.829 - ETA: 51s - loss: 0.4391 - accuracy: 0.829 - ETA: 51s - loss: 0.4400 - accuracy: 0.828 - ETA: 51s - loss: 0.4406 - accuracy: 0.828 - ETA: 51s - loss: 0.4407 - accuracy: 0.828 - ETA: 51s - loss: 0.4409 - accuracy: 0.827 - ETA: 50s - loss: 0.4408 - accuracy: 0.828 - ETA: 50s - loss: 0.4414 - accuracy: 0.827 - ETA: 50s - loss: 0.4414 - accuracy: 0.827 - ETA: 50s - loss: 0.4415 - accuracy: 0.827 - ETA: 50s - loss: 0.4413 - accuracy: 0.827 - ETA: 49s - loss: 0.4410 - accuracy: 0.827 - ETA: 49s - loss: 0.4411 - accuracy: 0.827 - ETA: 49s - loss: 0.4411 - accuracy: 0.827 - ETA: 49s - loss: 0.4408 - accuracy: 0.827 - ETA: 48s - loss: 0.4406 - accuracy: 0.827 - ETA: 48s - loss: 0.4410 - accuracy: 0.827 - ETA: 48s - loss: 0.4411 - accuracy: 0.827 - ETA: 48s - loss: 0.4411 - accuracy: 0.827 - ETA: 48s - loss: 0.4413 - accuracy: 0.827 - ETA: 47s - loss: 0.4412 - accuracy: 0.826 - ETA: 47s - loss: 0.4411 - accuracy: 0.827 - ETA: 47s - loss: 0.4417 - accuracy: 0.826 - ETA: 47s - loss: 0.4412 - accuracy: 0.827 - ETA: 46s - loss: 0.4413 - accuracy: 0.827 - ETA: 46s - loss: 0.4413 - accuracy: 0.826 - ETA: 46s - loss: 0.4411 - accuracy: 0.827 - ETA: 46s - loss: 0.4411 - accuracy: 0.827 - ETA: 46s - loss: 0.4418 - accuracy: 0.826 - ETA: 45s - loss: 0.4417 - accuracy: 0.826 - ETA: 45s - loss: 0.4415 - accuracy: 0.826 - ETA: 45s - loss: 0.4414 - accuracy: 0.826 - ETA: 45s - loss: 0.4418 - accuracy: 0.826 - ETA: 45s - loss: 0.4422 - accuracy: 0.826 - ETA: 44s - loss: 0.4431 - accuracy: 0.825 - ETA: 44s - loss: 0.4433 - accuracy: 0.825 - ETA: 44s - loss: 0.4431 - accuracy: 0.826 - ETA: 44s - loss: 0.4434 - accuracy: 0.825 - ETA: 43s - loss: 0.4433 - accuracy: 0.825 - ETA: 43s - loss: 0.4431 - accuracy: 0.825 - ETA: 43s - loss: 0.4431 - accuracy: 0.825 - ETA: 43s - loss: 0.4430 - accuracy: 0.826 - ETA: 43s - loss: 0.4434 - accuracy: 0.825 - ETA: 42s - loss: 0.4434 - accuracy: 0.826 - ETA: 42s - loss: 0.4438 - accuracy: 0.825 - ETA: 42s - loss: 0.4438 - accuracy: 0.825 - ETA: 42s - loss: 0.4434 - accuracy: 0.826 - ETA: 41s - loss: 0.4432 - accuracy: 0.826 - ETA: 41s - loss: 0.4435 - accuracy: 0.825 - ETA: 41s - loss: 0.4437 - accuracy: 0.825 - ETA: 41s - loss: 0.4435 - accuracy: 0.826 - ETA: 41s - loss: 0.4437 - accuracy: 0.825 - ETA: 40s - loss: 0.4432 - accuracy: 0.826 - ETA: 40s - loss: 0.4441 - accuracy: 0.825 - ETA: 40s - loss: 0.4442 - accuracy: 0.825 - ETA: 40s - loss: 0.4438 - accuracy: 0.826 - ETA: 40s - loss: 0.4433 - accuracy: 0.826 - ETA: 39s - loss: 0.4439 - accuracy: 0.826 - ETA: 39s - loss: 0.4439 - accuracy: 0.8259"
     ]
    },
    {
     "name": "stdout",
     "output_type": "stream",
     "text": [
      "559/559 [==============================] - ETA: 39s - loss: 0.4443 - accuracy: 0.825 - ETA: 39s - loss: 0.4443 - accuracy: 0.825 - ETA: 39s - loss: 0.4441 - accuracy: 0.825 - ETA: 38s - loss: 0.4444 - accuracy: 0.825 - ETA: 38s - loss: 0.4439 - accuracy: 0.825 - ETA: 38s - loss: 0.4440 - accuracy: 0.825 - ETA: 38s - loss: 0.4437 - accuracy: 0.825 - ETA: 37s - loss: 0.4442 - accuracy: 0.825 - ETA: 37s - loss: 0.4446 - accuracy: 0.825 - ETA: 37s - loss: 0.4444 - accuracy: 0.825 - ETA: 37s - loss: 0.4444 - accuracy: 0.825 - ETA: 37s - loss: 0.4445 - accuracy: 0.825 - ETA: 36s - loss: 0.4440 - accuracy: 0.825 - ETA: 36s - loss: 0.4441 - accuracy: 0.825 - ETA: 36s - loss: 0.4441 - accuracy: 0.825 - ETA: 36s - loss: 0.4445 - accuracy: 0.825 - ETA: 36s - loss: 0.4441 - accuracy: 0.825 - ETA: 35s - loss: 0.4439 - accuracy: 0.825 - ETA: 35s - loss: 0.4438 - accuracy: 0.825 - ETA: 35s - loss: 0.4434 - accuracy: 0.825 - ETA: 35s - loss: 0.4440 - accuracy: 0.825 - ETA: 35s - loss: 0.4442 - accuracy: 0.825 - ETA: 34s - loss: 0.4440 - accuracy: 0.825 - ETA: 34s - loss: 0.4438 - accuracy: 0.825 - ETA: 34s - loss: 0.4437 - accuracy: 0.825 - ETA: 34s - loss: 0.4435 - accuracy: 0.825 - ETA: 33s - loss: 0.4432 - accuracy: 0.825 - ETA: 33s - loss: 0.4428 - accuracy: 0.826 - ETA: 33s - loss: 0.4426 - accuracy: 0.826 - ETA: 33s - loss: 0.4426 - accuracy: 0.826 - ETA: 33s - loss: 0.4430 - accuracy: 0.826 - ETA: 32s - loss: 0.4440 - accuracy: 0.825 - ETA: 32s - loss: 0.4436 - accuracy: 0.825 - ETA: 32s - loss: 0.4437 - accuracy: 0.825 - ETA: 32s - loss: 0.4437 - accuracy: 0.825 - ETA: 32s - loss: 0.4437 - accuracy: 0.825 - ETA: 31s - loss: 0.4437 - accuracy: 0.825 - ETA: 31s - loss: 0.4439 - accuracy: 0.825 - ETA: 31s - loss: 0.4437 - accuracy: 0.825 - ETA: 31s - loss: 0.4440 - accuracy: 0.825 - ETA: 30s - loss: 0.4441 - accuracy: 0.825 - ETA: 30s - loss: 0.4442 - accuracy: 0.825 - ETA: 30s - loss: 0.4445 - accuracy: 0.825 - ETA: 30s - loss: 0.4445 - accuracy: 0.825 - ETA: 30s - loss: 0.4450 - accuracy: 0.825 - ETA: 29s - loss: 0.4447 - accuracy: 0.825 - ETA: 29s - loss: 0.4452 - accuracy: 0.824 - ETA: 29s - loss: 0.4450 - accuracy: 0.825 - ETA: 29s - loss: 0.4446 - accuracy: 0.825 - ETA: 29s - loss: 0.4450 - accuracy: 0.824 - ETA: 28s - loss: 0.4450 - accuracy: 0.825 - ETA: 28s - loss: 0.4448 - accuracy: 0.825 - ETA: 28s - loss: 0.4449 - accuracy: 0.825 - ETA: 28s - loss: 0.4449 - accuracy: 0.825 - ETA: 27s - loss: 0.4446 - accuracy: 0.825 - ETA: 27s - loss: 0.4445 - accuracy: 0.824 - ETA: 27s - loss: 0.4447 - accuracy: 0.825 - ETA: 27s - loss: 0.4444 - accuracy: 0.825 - ETA: 27s - loss: 0.4445 - accuracy: 0.825 - ETA: 26s - loss: 0.4443 - accuracy: 0.825 - ETA: 26s - loss: 0.4443 - accuracy: 0.825 - ETA: 26s - loss: 0.4443 - accuracy: 0.824 - ETA: 26s - loss: 0.4443 - accuracy: 0.824 - ETA: 26s - loss: 0.4443 - accuracy: 0.824 - ETA: 25s - loss: 0.4445 - accuracy: 0.824 - ETA: 25s - loss: 0.4445 - accuracy: 0.824 - ETA: 25s - loss: 0.4444 - accuracy: 0.824 - ETA: 25s - loss: 0.4443 - accuracy: 0.824 - ETA: 24s - loss: 0.4438 - accuracy: 0.825 - ETA: 24s - loss: 0.4442 - accuracy: 0.824 - ETA: 24s - loss: 0.4439 - accuracy: 0.824 - ETA: 24s - loss: 0.4440 - accuracy: 0.824 - ETA: 24s - loss: 0.4437 - accuracy: 0.824 - ETA: 23s - loss: 0.4440 - accuracy: 0.824 - ETA: 23s - loss: 0.4444 - accuracy: 0.824 - ETA: 23s - loss: 0.4447 - accuracy: 0.824 - ETA: 23s - loss: 0.4448 - accuracy: 0.824 - ETA: 23s - loss: 0.4449 - accuracy: 0.824 - ETA: 22s - loss: 0.4447 - accuracy: 0.824 - ETA: 22s - loss: 0.4444 - accuracy: 0.824 - ETA: 22s - loss: 0.4442 - accuracy: 0.824 - ETA: 22s - loss: 0.4445 - accuracy: 0.824 - ETA: 22s - loss: 0.4442 - accuracy: 0.824 - ETA: 21s - loss: 0.4439 - accuracy: 0.824 - ETA: 21s - loss: 0.4440 - accuracy: 0.824 - ETA: 21s - loss: 0.4440 - accuracy: 0.824 - ETA: 21s - loss: 0.4434 - accuracy: 0.824 - ETA: 20s - loss: 0.4435 - accuracy: 0.824 - ETA: 20s - loss: 0.4438 - accuracy: 0.824 - ETA: 20s - loss: 0.4440 - accuracy: 0.824 - ETA: 20s - loss: 0.4441 - accuracy: 0.824 - ETA: 20s - loss: 0.4439 - accuracy: 0.824 - ETA: 19s - loss: 0.4439 - accuracy: 0.824 - ETA: 19s - loss: 0.4439 - accuracy: 0.824 - ETA: 19s - loss: 0.4443 - accuracy: 0.824 - ETA: 19s - loss: 0.4449 - accuracy: 0.824 - ETA: 19s - loss: 0.4447 - accuracy: 0.824 - ETA: 18s - loss: 0.4445 - accuracy: 0.824 - ETA: 18s - loss: 0.4445 - accuracy: 0.824 - ETA: 18s - loss: 0.4447 - accuracy: 0.824 - ETA: 18s - loss: 0.4442 - accuracy: 0.824 - ETA: 18s - loss: 0.4442 - accuracy: 0.824 - ETA: 17s - loss: 0.4442 - accuracy: 0.824 - ETA: 17s - loss: 0.4440 - accuracy: 0.824 - ETA: 17s - loss: 0.4438 - accuracy: 0.824 - ETA: 17s - loss: 0.4436 - accuracy: 0.824 - ETA: 16s - loss: 0.4434 - accuracy: 0.824 - ETA: 16s - loss: 0.4438 - accuracy: 0.824 - ETA: 16s - loss: 0.4438 - accuracy: 0.824 - ETA: 16s - loss: 0.4439 - accuracy: 0.824 - ETA: 16s - loss: 0.4440 - accuracy: 0.824 - ETA: 15s - loss: 0.4439 - accuracy: 0.824 - ETA: 15s - loss: 0.4439 - accuracy: 0.824 - ETA: 15s - loss: 0.4435 - accuracy: 0.824 - ETA: 15s - loss: 0.4435 - accuracy: 0.824 - ETA: 15s - loss: 0.4437 - accuracy: 0.824 - ETA: 14s - loss: 0.4440 - accuracy: 0.824 - ETA: 14s - loss: 0.4440 - accuracy: 0.824 - ETA: 14s - loss: 0.4439 - accuracy: 0.824 - ETA: 14s - loss: 0.4439 - accuracy: 0.824 - ETA: 13s - loss: 0.4438 - accuracy: 0.824 - ETA: 13s - loss: 0.4441 - accuracy: 0.824 - ETA: 13s - loss: 0.4444 - accuracy: 0.824 - ETA: 13s - loss: 0.4451 - accuracy: 0.824 - ETA: 13s - loss: 0.4449 - accuracy: 0.824 - ETA: 12s - loss: 0.4448 - accuracy: 0.824 - ETA: 12s - loss: 0.4444 - accuracy: 0.824 - ETA: 12s - loss: 0.4446 - accuracy: 0.824 - ETA: 12s - loss: 0.4447 - accuracy: 0.824 - ETA: 12s - loss: 0.4448 - accuracy: 0.824 - ETA: 11s - loss: 0.4451 - accuracy: 0.824 - ETA: 11s - loss: 0.4445 - accuracy: 0.824 - ETA: 11s - loss: 0.4445 - accuracy: 0.824 - ETA: 11s - loss: 0.4447 - accuracy: 0.824 - ETA: 11s - loss: 0.4447 - accuracy: 0.824 - ETA: 10s - loss: 0.4446 - accuracy: 0.824 - ETA: 10s - loss: 0.4446 - accuracy: 0.824 - ETA: 10s - loss: 0.4452 - accuracy: 0.824 - ETA: 10s - loss: 0.4455 - accuracy: 0.824 - ETA: 9s - loss: 0.4452 - accuracy: 0.824 - ETA: 9s - loss: 0.4452 - accuracy: 0.82 - ETA: 9s - loss: 0.4450 - accuracy: 0.82 - ETA: 9s - loss: 0.4450 - accuracy: 0.82 - ETA: 9s - loss: 0.4447 - accuracy: 0.82 - ETA: 8s - loss: 0.4449 - accuracy: 0.82 - ETA: 8s - loss: 0.4447 - accuracy: 0.82 - ETA: 8s - loss: 0.4446 - accuracy: 0.82 - ETA: 8s - loss: 0.4449 - accuracy: 0.82 - ETA: 8s - loss: 0.4446 - accuracy: 0.82 - ETA: 7s - loss: 0.4446 - accuracy: 0.82 - ETA: 7s - loss: 0.4445 - accuracy: 0.82 - ETA: 7s - loss: 0.4447 - accuracy: 0.82 - ETA: 7s - loss: 0.4451 - accuracy: 0.82 - ETA: 7s - loss: 0.4450 - accuracy: 0.82 - ETA: 6s - loss: 0.4449 - accuracy: 0.82 - ETA: 6s - loss: 0.4450 - accuracy: 0.82 - ETA: 6s - loss: 0.4450 - accuracy: 0.82 - ETA: 6s - loss: 0.4449 - accuracy: 0.82 - ETA: 5s - loss: 0.4450 - accuracy: 0.82 - ETA: 5s - loss: 0.4451 - accuracy: 0.82 - ETA: 5s - loss: 0.4452 - accuracy: 0.82 - ETA: 5s - loss: 0.4454 - accuracy: 0.82 - ETA: 5s - loss: 0.4457 - accuracy: 0.82 - ETA: 4s - loss: 0.4455 - accuracy: 0.82 - ETA: 4s - loss: 0.4455 - accuracy: 0.82 - ETA: 4s - loss: 0.4458 - accuracy: 0.82 - ETA: 4s - loss: 0.4455 - accuracy: 0.82 - ETA: 4s - loss: 0.4457 - accuracy: 0.82 - ETA: 3s - loss: 0.4461 - accuracy: 0.82 - ETA: 3s - loss: 0.4465 - accuracy: 0.82 - ETA: 3s - loss: 0.4463 - accuracy: 0.82 - ETA: 3s - loss: 0.4463 - accuracy: 0.82 - ETA: 2s - loss: 0.4466 - accuracy: 0.82 - ETA: 2s - loss: 0.4465 - accuracy: 0.82 - ETA: 2s - loss: 0.4466 - accuracy: 0.82 - ETA: 2s - loss: 0.4463 - accuracy: 0.82 - ETA: 2s - loss: 0.4462 - accuracy: 0.82 - ETA: 1s - loss: 0.4462 - accuracy: 0.82 - ETA: 1s - loss: 0.4462 - accuracy: 0.82 - ETA: 1s - loss: 0.4459 - accuracy: 0.82 - ETA: 1s - loss: 0.4458 - accuracy: 0.82 - ETA: 1s - loss: 0.4454 - accuracy: 0.82 - ETA: 0s - loss: 0.4454 - accuracy: 0.82 - ETA: 0s - loss: 0.4459 - accuracy: 0.82 - ETA: 0s - loss: 0.4460 - accuracy: 0.82 - ETA: 0s - loss: 0.4464 - accuracy: 0.82 - ETA: 0s - loss: 0.4463 - accuracy: 0.82 - 119s 212ms/step - loss: 0.4463 - accuracy: 0.8231\n"
     ]
    },
    {
     "name": "stdout",
     "output_type": "stream",
     "text": [
      "Epoch 5/6\n"
     ]
    },
    {
     "name": "stdout",
     "output_type": "stream",
     "text": [
      "186/559 [========>.....................] - ETA: 0s - loss: 0.5175 - accuracy: 0.81 - ETA: 1:00 - loss: 0.4712 - accuracy: 0.85 - ETA: 1:17 - loss: 0.4108 - accuracy: 0.88 - ETA: 1:25 - loss: 0.4286 - accuracy: 0.87 - ETA: 1:31 - loss: 0.4124 - accuracy: 0.87 - ETA: 1:37 - loss: 0.4148 - accuracy: 0.88 - ETA: 1:39 - loss: 0.3893 - accuracy: 0.88 - ETA: 1:40 - loss: 0.3778 - accuracy: 0.89 - ETA: 1:42 - loss: 0.3802 - accuracy: 0.88 - ETA: 1:43 - loss: 0.3862 - accuracy: 0.88 - ETA: 1:43 - loss: 0.3755 - accuracy: 0.88 - ETA: 1:44 - loss: 0.3723 - accuracy: 0.88 - ETA: 1:45 - loss: 0.3703 - accuracy: 0.88 - ETA: 1:47 - loss: 0.3722 - accuracy: 0.88 - ETA: 1:47 - loss: 0.3708 - accuracy: 0.88 - ETA: 1:47 - loss: 0.3747 - accuracy: 0.88 - ETA: 1:47 - loss: 0.3680 - accuracy: 0.88 - ETA: 1:47 - loss: 0.3624 - accuracy: 0.88 - ETA: 1:47 - loss: 0.3574 - accuracy: 0.88 - ETA: 1:47 - loss: 0.3568 - accuracy: 0.88 - ETA: 1:46 - loss: 0.3600 - accuracy: 0.88 - ETA: 1:47 - loss: 0.3647 - accuracy: 0.88 - ETA: 1:46 - loss: 0.3657 - accuracy: 0.88 - ETA: 1:46 - loss: 0.3682 - accuracy: 0.88 - ETA: 1:46 - loss: 0.3635 - accuracy: 0.88 - ETA: 1:46 - loss: 0.3649 - accuracy: 0.88 - ETA: 1:46 - loss: 0.3610 - accuracy: 0.88 - ETA: 1:46 - loss: 0.3644 - accuracy: 0.88 - ETA: 1:46 - loss: 0.3624 - accuracy: 0.88 - ETA: 1:46 - loss: 0.3614 - accuracy: 0.88 - ETA: 1:46 - loss: 0.3617 - accuracy: 0.88 - ETA: 1:46 - loss: 0.3633 - accuracy: 0.87 - ETA: 1:46 - loss: 0.3698 - accuracy: 0.87 - ETA: 1:46 - loss: 0.3726 - accuracy: 0.87 - ETA: 1:46 - loss: 0.3696 - accuracy: 0.87 - ETA: 1:46 - loss: 0.3699 - accuracy: 0.87 - ETA: 1:46 - loss: 0.3731 - accuracy: 0.87 - ETA: 1:46 - loss: 0.3747 - accuracy: 0.86 - ETA: 1:46 - loss: 0.3735 - accuracy: 0.87 - ETA: 1:46 - loss: 0.3814 - accuracy: 0.86 - ETA: 1:46 - loss: 0.3838 - accuracy: 0.86 - ETA: 1:46 - loss: 0.3859 - accuracy: 0.86 - ETA: 1:45 - loss: 0.3864 - accuracy: 0.86 - ETA: 1:45 - loss: 0.3859 - accuracy: 0.86 - ETA: 1:45 - loss: 0.3872 - accuracy: 0.86 - ETA: 1:45 - loss: 0.3869 - accuracy: 0.86 - ETA: 1:44 - loss: 0.3893 - accuracy: 0.86 - ETA: 1:44 - loss: 0.3898 - accuracy: 0.86 - ETA: 1:44 - loss: 0.3875 - accuracy: 0.86 - ETA: 1:43 - loss: 0.3893 - accuracy: 0.86 - ETA: 1:43 - loss: 0.3873 - accuracy: 0.86 - ETA: 1:43 - loss: 0.3878 - accuracy: 0.86 - ETA: 1:43 - loss: 0.3864 - accuracy: 0.86 - ETA: 1:43 - loss: 0.3863 - accuracy: 0.86 - ETA: 1:42 - loss: 0.3844 - accuracy: 0.86 - ETA: 1:42 - loss: 0.3838 - accuracy: 0.86 - ETA: 1:43 - loss: 0.3816 - accuracy: 0.86 - ETA: 1:42 - loss: 0.3793 - accuracy: 0.86 - ETA: 1:42 - loss: 0.3824 - accuracy: 0.86 - ETA: 1:42 - loss: 0.3812 - accuracy: 0.86 - ETA: 1:42 - loss: 0.3817 - accuracy: 0.86 - ETA: 1:42 - loss: 0.3863 - accuracy: 0.85 - ETA: 1:41 - loss: 0.3867 - accuracy: 0.85 - ETA: 1:41 - loss: 0.3845 - accuracy: 0.85 - ETA: 1:41 - loss: 0.3838 - accuracy: 0.85 - ETA: 1:41 - loss: 0.3840 - accuracy: 0.85 - ETA: 1:41 - loss: 0.3845 - accuracy: 0.85 - ETA: 1:41 - loss: 0.3827 - accuracy: 0.85 - ETA: 1:41 - loss: 0.3841 - accuracy: 0.85 - ETA: 1:40 - loss: 0.3858 - accuracy: 0.85 - ETA: 1:40 - loss: 0.3877 - accuracy: 0.85 - ETA: 1:40 - loss: 0.3923 - accuracy: 0.85 - ETA: 1:40 - loss: 0.3932 - accuracy: 0.85 - ETA: 1:39 - loss: 0.3939 - accuracy: 0.85 - ETA: 1:39 - loss: 0.3925 - accuracy: 0.85 - ETA: 1:39 - loss: 0.3955 - accuracy: 0.85 - ETA: 1:39 - loss: 0.3958 - accuracy: 0.85 - ETA: 1:39 - loss: 0.3968 - accuracy: 0.85 - ETA: 1:38 - loss: 0.3968 - accuracy: 0.85 - ETA: 1:38 - loss: 0.3974 - accuracy: 0.85 - ETA: 1:38 - loss: 0.3998 - accuracy: 0.84 - ETA: 1:38 - loss: 0.4022 - accuracy: 0.84 - ETA: 1:38 - loss: 0.4019 - accuracy: 0.84 - ETA: 1:38 - loss: 0.4021 - accuracy: 0.84 - ETA: 1:38 - loss: 0.4039 - accuracy: 0.84 - ETA: 1:38 - loss: 0.4071 - accuracy: 0.84 - ETA: 1:37 - loss: 0.4063 - accuracy: 0.84 - ETA: 1:37 - loss: 0.4052 - accuracy: 0.84 - ETA: 1:37 - loss: 0.4050 - accuracy: 0.84 - ETA: 1:37 - loss: 0.4060 - accuracy: 0.84 - ETA: 1:37 - loss: 0.4055 - accuracy: 0.84 - ETA: 1:36 - loss: 0.4052 - accuracy: 0.84 - ETA: 1:36 - loss: 0.4061 - accuracy: 0.84 - ETA: 1:36 - loss: 0.4055 - accuracy: 0.84 - ETA: 1:36 - loss: 0.4053 - accuracy: 0.84 - ETA: 1:35 - loss: 0.4071 - accuracy: 0.84 - ETA: 1:35 - loss: 0.4070 - accuracy: 0.84 - ETA: 1:35 - loss: 0.4080 - accuracy: 0.84 - ETA: 1:35 - loss: 0.4067 - accuracy: 0.84 - ETA: 1:34 - loss: 0.4060 - accuracy: 0.84 - ETA: 1:34 - loss: 0.4055 - accuracy: 0.84 - ETA: 1:34 - loss: 0.4055 - accuracy: 0.84 - ETA: 1:34 - loss: 0.4059 - accuracy: 0.84 - ETA: 1:34 - loss: 0.4059 - accuracy: 0.84 - ETA: 1:33 - loss: 0.4057 - accuracy: 0.84 - ETA: 1:33 - loss: 0.4055 - accuracy: 0.84 - ETA: 1:33 - loss: 0.4059 - accuracy: 0.84 - ETA: 1:33 - loss: 0.4054 - accuracy: 0.84 - ETA: 1:33 - loss: 0.4059 - accuracy: 0.84 - ETA: 1:33 - loss: 0.4046 - accuracy: 0.84 - ETA: 1:33 - loss: 0.4036 - accuracy: 0.84 - ETA: 1:32 - loss: 0.4032 - accuracy: 0.84 - ETA: 1:32 - loss: 0.4043 - accuracy: 0.84 - ETA: 1:32 - loss: 0.4039 - accuracy: 0.84 - ETA: 1:32 - loss: 0.4076 - accuracy: 0.84 - ETA: 1:32 - loss: 0.4097 - accuracy: 0.84 - ETA: 1:32 - loss: 0.4099 - accuracy: 0.84 - ETA: 1:31 - loss: 0.4083 - accuracy: 0.84 - ETA: 1:31 - loss: 0.4060 - accuracy: 0.84 - ETA: 1:31 - loss: 0.4054 - accuracy: 0.84 - ETA: 1:31 - loss: 0.4044 - accuracy: 0.84 - ETA: 1:31 - loss: 0.4066 - accuracy: 0.84 - ETA: 1:30 - loss: 0.4076 - accuracy: 0.84 - ETA: 1:30 - loss: 0.4074 - accuracy: 0.84 - ETA: 1:30 - loss: 0.4079 - accuracy: 0.84 - ETA: 1:30 - loss: 0.4089 - accuracy: 0.84 - ETA: 1:29 - loss: 0.4087 - accuracy: 0.84 - ETA: 1:29 - loss: 0.4080 - accuracy: 0.84 - ETA: 1:29 - loss: 0.4070 - accuracy: 0.84 - ETA: 1:29 - loss: 0.4080 - accuracy: 0.84 - ETA: 1:29 - loss: 0.4078 - accuracy: 0.84 - ETA: 1:28 - loss: 0.4080 - accuracy: 0.84 - ETA: 1:28 - loss: 0.4098 - accuracy: 0.84 - ETA: 1:28 - loss: 0.4095 - accuracy: 0.84 - ETA: 1:28 - loss: 0.4100 - accuracy: 0.84 - ETA: 1:28 - loss: 0.4103 - accuracy: 0.84 - ETA: 1:28 - loss: 0.4094 - accuracy: 0.84 - ETA: 1:27 - loss: 0.4088 - accuracy: 0.84 - ETA: 1:27 - loss: 0.4082 - accuracy: 0.84 - ETA: 1:27 - loss: 0.4094 - accuracy: 0.84 - ETA: 1:27 - loss: 0.4100 - accuracy: 0.84 - ETA: 1:27 - loss: 0.4096 - accuracy: 0.84 - ETA: 1:26 - loss: 0.4100 - accuracy: 0.84 - ETA: 1:26 - loss: 0.4108 - accuracy: 0.84 - ETA: 1:26 - loss: 0.4115 - accuracy: 0.84 - ETA: 1:26 - loss: 0.4112 - accuracy: 0.84 - ETA: 1:26 - loss: 0.4110 - accuracy: 0.84 - ETA: 1:25 - loss: 0.4113 - accuracy: 0.84 - ETA: 1:25 - loss: 0.4111 - accuracy: 0.84 - ETA: 1:25 - loss: 0.4107 - accuracy: 0.84 - ETA: 1:25 - loss: 0.4106 - accuracy: 0.84 - ETA: 1:25 - loss: 0.4096 - accuracy: 0.84 - ETA: 1:24 - loss: 0.4086 - accuracy: 0.84 - ETA: 1:24 - loss: 0.4074 - accuracy: 0.84 - ETA: 1:24 - loss: 0.4073 - accuracy: 0.84 - ETA: 1:24 - loss: 0.4069 - accuracy: 0.84 - ETA: 1:23 - loss: 0.4067 - accuracy: 0.84 - ETA: 1:23 - loss: 0.4069 - accuracy: 0.84 - ETA: 1:23 - loss: 0.4062 - accuracy: 0.84 - ETA: 1:23 - loss: 0.4067 - accuracy: 0.84 - ETA: 1:23 - loss: 0.4068 - accuracy: 0.84 - ETA: 1:22 - loss: 0.4080 - accuracy: 0.84 - ETA: 1:22 - loss: 0.4066 - accuracy: 0.84 - ETA: 1:22 - loss: 0.4068 - accuracy: 0.84 - ETA: 1:22 - loss: 0.4070 - accuracy: 0.84 - ETA: 1:22 - loss: 0.4066 - accuracy: 0.84 - ETA: 1:21 - loss: 0.4063 - accuracy: 0.84 - ETA: 1:21 - loss: 0.4063 - accuracy: 0.84 - ETA: 1:21 - loss: 0.4049 - accuracy: 0.84 - ETA: 1:21 - loss: 0.4049 - accuracy: 0.84 - ETA: 1:20 - loss: 0.4047 - accuracy: 0.84 - ETA: 1:20 - loss: 0.4053 - accuracy: 0.84 - ETA: 1:20 - loss: 0.4048 - accuracy: 0.84 - ETA: 1:20 - loss: 0.4049 - accuracy: 0.84 - ETA: 1:20 - loss: 0.4053 - accuracy: 0.84 - ETA: 1:19 - loss: 0.4049 - accuracy: 0.84 - ETA: 1:19 - loss: 0.4045 - accuracy: 0.84 - ETA: 1:19 - loss: 0.4037 - accuracy: 0.84 - ETA: 1:19 - loss: 0.4030 - accuracy: 0.84 - ETA: 1:19 - loss: 0.4043 - accuracy: 0.84 - ETA: 1:18 - loss: 0.4051 - accuracy: 0.84 - ETA: 1:18 - loss: 0.4045 - accuracy: 0.84 - ETA: 1:18 - loss: 0.4047 - accuracy: 0.84 - ETA: 1:18 - loss: 0.4043 - accuracy: 0.84 - ETA: 1:17 - loss: 0.4042 - accuracy: 0.84 - ETA: 1:17 - loss: 0.4036 - accuracy: 0.8446\b\b\b\b\b\b\b\b\b\b\b\b\b\b\b\b\b\b\b\b\b\b\b\b\b\b\b\b\b\b\b\b\b\b\b\b\b\b\b\b\b\b\b\b\b\b\b\b\b\b\b\b\b\b\b\b\b\b\b\b\b\b\b\b\b\b\b\b\b\b\b\b\b\b\b\b\b\b\b\b\b\b\b\b\b\b"
     ]
    },
    {
     "name": "stdout",
     "output_type": "stream",
     "text": [
      "372/559 [==================>...........] - ETA: 1:17 - loss: 0.4031 - accuracy: 0.84 - ETA: 1:17 - loss: 0.4033 - accuracy: 0.84 - ETA: 1:17 - loss: 0.4035 - accuracy: 0.84 - ETA: 1:17 - loss: 0.4034 - accuracy: 0.84 - ETA: 1:16 - loss: 0.4038 - accuracy: 0.84 - ETA: 1:16 - loss: 0.4032 - accuracy: 0.84 - ETA: 1:16 - loss: 0.4031 - accuracy: 0.84 - ETA: 1:16 - loss: 0.4028 - accuracy: 0.84 - ETA: 1:16 - loss: 0.4032 - accuracy: 0.84 - ETA: 1:15 - loss: 0.4027 - accuracy: 0.84 - ETA: 1:15 - loss: 0.4022 - accuracy: 0.84 - ETA: 1:15 - loss: 0.4018 - accuracy: 0.84 - ETA: 1:15 - loss: 0.4017 - accuracy: 0.84 - ETA: 1:14 - loss: 0.4023 - accuracy: 0.84 - ETA: 1:14 - loss: 0.4034 - accuracy: 0.84 - ETA: 1:14 - loss: 0.4030 - accuracy: 0.84 - ETA: 1:14 - loss: 0.4028 - accuracy: 0.84 - ETA: 1:14 - loss: 0.4027 - accuracy: 0.84 - ETA: 1:13 - loss: 0.4024 - accuracy: 0.84 - ETA: 1:13 - loss: 0.4023 - accuracy: 0.84 - ETA: 1:13 - loss: 0.4026 - accuracy: 0.84 - ETA: 1:13 - loss: 0.4028 - accuracy: 0.84 - ETA: 1:13 - loss: 0.4023 - accuracy: 0.84 - ETA: 1:12 - loss: 0.4025 - accuracy: 0.84 - ETA: 1:12 - loss: 0.4024 - accuracy: 0.84 - ETA: 1:12 - loss: 0.4030 - accuracy: 0.84 - ETA: 1:12 - loss: 0.4024 - accuracy: 0.84 - ETA: 1:12 - loss: 0.4018 - accuracy: 0.84 - ETA: 1:11 - loss: 0.4011 - accuracy: 0.84 - ETA: 1:11 - loss: 0.4011 - accuracy: 0.84 - ETA: 1:11 - loss: 0.4009 - accuracy: 0.84 - ETA: 1:11 - loss: 0.4009 - accuracy: 0.84 - ETA: 1:11 - loss: 0.4014 - accuracy: 0.84 - ETA: 1:10 - loss: 0.4024 - accuracy: 0.84 - ETA: 1:10 - loss: 0.4020 - accuracy: 0.84 - ETA: 1:10 - loss: 0.4026 - accuracy: 0.84 - ETA: 1:10 - loss: 0.4026 - accuracy: 0.84 - ETA: 1:10 - loss: 0.4034 - accuracy: 0.84 - ETA: 1:09 - loss: 0.4030 - accuracy: 0.84 - ETA: 1:09 - loss: 0.4033 - accuracy: 0.84 - ETA: 1:09 - loss: 0.4029 - accuracy: 0.84 - ETA: 1:09 - loss: 0.4025 - accuracy: 0.84 - ETA: 1:09 - loss: 0.4022 - accuracy: 0.84 - ETA: 1:09 - loss: 0.4031 - accuracy: 0.84 - ETA: 1:08 - loss: 0.4029 - accuracy: 0.84 - ETA: 1:08 - loss: 0.4024 - accuracy: 0.84 - ETA: 1:08 - loss: 0.4021 - accuracy: 0.84 - ETA: 1:08 - loss: 0.4017 - accuracy: 0.84 - ETA: 1:08 - loss: 0.4016 - accuracy: 0.84 - ETA: 1:08 - loss: 0.4017 - accuracy: 0.84 - ETA: 1:07 - loss: 0.4019 - accuracy: 0.84 - ETA: 1:07 - loss: 0.4013 - accuracy: 0.84 - ETA: 1:07 - loss: 0.4010 - accuracy: 0.84 - ETA: 1:07 - loss: 0.4010 - accuracy: 0.84 - ETA: 1:06 - loss: 0.4011 - accuracy: 0.84 - ETA: 1:06 - loss: 0.4012 - accuracy: 0.84 - ETA: 1:06 - loss: 0.4010 - accuracy: 0.84 - ETA: 1:06 - loss: 0.4008 - accuracy: 0.84 - ETA: 1:06 - loss: 0.4006 - accuracy: 0.84 - ETA: 1:05 - loss: 0.3999 - accuracy: 0.84 - ETA: 1:05 - loss: 0.4004 - accuracy: 0.84 - ETA: 1:05 - loss: 0.4000 - accuracy: 0.84 - ETA: 1:05 - loss: 0.4001 - accuracy: 0.84 - ETA: 1:05 - loss: 0.4001 - accuracy: 0.84 - ETA: 1:04 - loss: 0.4000 - accuracy: 0.84 - ETA: 1:04 - loss: 0.3998 - accuracy: 0.84 - ETA: 1:04 - loss: 0.4006 - accuracy: 0.84 - ETA: 1:04 - loss: 0.4003 - accuracy: 0.84 - ETA: 1:04 - loss: 0.4004 - accuracy: 0.84 - ETA: 1:03 - loss: 0.4005 - accuracy: 0.84 - ETA: 1:03 - loss: 0.4019 - accuracy: 0.84 - ETA: 1:03 - loss: 0.4020 - accuracy: 0.84 - ETA: 1:03 - loss: 0.4016 - accuracy: 0.84 - ETA: 1:03 - loss: 0.4018 - accuracy: 0.84 - ETA: 1:02 - loss: 0.4023 - accuracy: 0.84 - ETA: 1:02 - loss: 0.4024 - accuracy: 0.84 - ETA: 1:02 - loss: 0.4030 - accuracy: 0.84 - ETA: 1:02 - loss: 0.4025 - accuracy: 0.84 - ETA: 1:02 - loss: 0.4020 - accuracy: 0.84 - ETA: 1:01 - loss: 0.4017 - accuracy: 0.84 - ETA: 1:01 - loss: 0.4013 - accuracy: 0.84 - ETA: 1:01 - loss: 0.4012 - accuracy: 0.84 - ETA: 1:01 - loss: 0.4012 - accuracy: 0.84 - ETA: 1:01 - loss: 0.4022 - accuracy: 0.84 - ETA: 1:00 - loss: 0.4022 - accuracy: 0.84 - ETA: 1:00 - loss: 0.4019 - accuracy: 0.84 - ETA: 1:00 - loss: 0.4015 - accuracy: 0.84 - ETA: 1:00 - loss: 0.4016 - accuracy: 0.84 - ETA: 59s - loss: 0.4017 - accuracy: 0.8439 - ETA: 59s - loss: 0.4024 - accuracy: 0.843 - ETA: 59s - loss: 0.4021 - accuracy: 0.843 - ETA: 59s - loss: 0.4019 - accuracy: 0.843 - ETA: 59s - loss: 0.4016 - accuracy: 0.843 - ETA: 58s - loss: 0.4009 - accuracy: 0.844 - ETA: 58s - loss: 0.4011 - accuracy: 0.844 - ETA: 58s - loss: 0.4014 - accuracy: 0.844 - ETA: 58s - loss: 0.4019 - accuracy: 0.844 - ETA: 58s - loss: 0.4011 - accuracy: 0.844 - ETA: 57s - loss: 0.4017 - accuracy: 0.844 - ETA: 57s - loss: 0.4021 - accuracy: 0.843 - ETA: 57s - loss: 0.4020 - accuracy: 0.844 - ETA: 57s - loss: 0.4021 - accuracy: 0.843 - ETA: 57s - loss: 0.4032 - accuracy: 0.843 - ETA: 56s - loss: 0.4044 - accuracy: 0.842 - ETA: 56s - loss: 0.4047 - accuracy: 0.842 - ETA: 56s - loss: 0.4048 - accuracy: 0.842 - ETA: 56s - loss: 0.4046 - accuracy: 0.842 - ETA: 56s - loss: 0.4047 - accuracy: 0.842 - ETA: 55s - loss: 0.4045 - accuracy: 0.843 - ETA: 55s - loss: 0.4041 - accuracy: 0.843 - ETA: 55s - loss: 0.4044 - accuracy: 0.843 - ETA: 55s - loss: 0.4041 - accuracy: 0.843 - ETA: 54s - loss: 0.4043 - accuracy: 0.843 - ETA: 54s - loss: 0.4045 - accuracy: 0.843 - ETA: 54s - loss: 0.4047 - accuracy: 0.842 - ETA: 54s - loss: 0.4052 - accuracy: 0.842 - ETA: 54s - loss: 0.4047 - accuracy: 0.843 - ETA: 53s - loss: 0.4043 - accuracy: 0.843 - ETA: 53s - loss: 0.4045 - accuracy: 0.843 - ETA: 53s - loss: 0.4048 - accuracy: 0.843 - ETA: 53s - loss: 0.4042 - accuracy: 0.843 - ETA: 53s - loss: 0.4042 - accuracy: 0.843 - ETA: 52s - loss: 0.4042 - accuracy: 0.843 - ETA: 52s - loss: 0.4045 - accuracy: 0.843 - ETA: 52s - loss: 0.4050 - accuracy: 0.842 - ETA: 52s - loss: 0.4052 - accuracy: 0.842 - ETA: 51s - loss: 0.4056 - accuracy: 0.843 - ETA: 51s - loss: 0.4058 - accuracy: 0.842 - ETA: 51s - loss: 0.4060 - accuracy: 0.842 - ETA: 51s - loss: 0.4058 - accuracy: 0.842 - ETA: 51s - loss: 0.4062 - accuracy: 0.842 - ETA: 50s - loss: 0.4063 - accuracy: 0.842 - ETA: 50s - loss: 0.4070 - accuracy: 0.842 - ETA: 50s - loss: 0.4068 - accuracy: 0.842 - ETA: 50s - loss: 0.4067 - accuracy: 0.842 - ETA: 50s - loss: 0.4062 - accuracy: 0.842 - ETA: 49s - loss: 0.4059 - accuracy: 0.842 - ETA: 49s - loss: 0.4061 - accuracy: 0.842 - ETA: 49s - loss: 0.4056 - accuracy: 0.842 - ETA: 49s - loss: 0.4059 - accuracy: 0.842 - ETA: 49s - loss: 0.4057 - accuracy: 0.842 - ETA: 48s - loss: 0.4054 - accuracy: 0.842 - ETA: 48s - loss: 0.4055 - accuracy: 0.842 - ETA: 48s - loss: 0.4056 - accuracy: 0.842 - ETA: 48s - loss: 0.4050 - accuracy: 0.842 - ETA: 48s - loss: 0.4050 - accuracy: 0.842 - ETA: 47s - loss: 0.4045 - accuracy: 0.843 - ETA: 47s - loss: 0.4042 - accuracy: 0.843 - ETA: 47s - loss: 0.4048 - accuracy: 0.843 - ETA: 47s - loss: 0.4047 - accuracy: 0.843 - ETA: 46s - loss: 0.4050 - accuracy: 0.843 - ETA: 46s - loss: 0.4050 - accuracy: 0.843 - ETA: 46s - loss: 0.4050 - accuracy: 0.843 - ETA: 46s - loss: 0.4048 - accuracy: 0.843 - ETA: 46s - loss: 0.4049 - accuracy: 0.843 - ETA: 45s - loss: 0.4046 - accuracy: 0.843 - ETA: 45s - loss: 0.4040 - accuracy: 0.843 - ETA: 45s - loss: 0.4037 - accuracy: 0.843 - ETA: 45s - loss: 0.4042 - accuracy: 0.843 - ETA: 45s - loss: 0.4042 - accuracy: 0.843 - ETA: 44s - loss: 0.4043 - accuracy: 0.843 - ETA: 44s - loss: 0.4045 - accuracy: 0.843 - ETA: 44s - loss: 0.4053 - accuracy: 0.843 - ETA: 44s - loss: 0.4053 - accuracy: 0.843 - ETA: 44s - loss: 0.4048 - accuracy: 0.843 - ETA: 43s - loss: 0.4049 - accuracy: 0.843 - ETA: 43s - loss: 0.4050 - accuracy: 0.843 - ETA: 43s - loss: 0.4051 - accuracy: 0.843 - ETA: 43s - loss: 0.4047 - accuracy: 0.843 - ETA: 42s - loss: 0.4049 - accuracy: 0.843 - ETA: 42s - loss: 0.4051 - accuracy: 0.843 - ETA: 42s - loss: 0.4052 - accuracy: 0.843 - ETA: 42s - loss: 0.4052 - accuracy: 0.843 - ETA: 42s - loss: 0.4054 - accuracy: 0.843 - ETA: 41s - loss: 0.4053 - accuracy: 0.843 - ETA: 41s - loss: 0.4055 - accuracy: 0.843 - ETA: 41s - loss: 0.4059 - accuracy: 0.843 - ETA: 41s - loss: 0.4062 - accuracy: 0.843 - ETA: 41s - loss: 0.4059 - accuracy: 0.843 - ETA: 40s - loss: 0.4061 - accuracy: 0.843 - ETA: 40s - loss: 0.4062 - accuracy: 0.843 - ETA: 40s - loss: 0.4062 - accuracy: 0.843 - ETA: 40s - loss: 0.4065 - accuracy: 0.842 - ETA: 40s - loss: 0.4062 - accuracy: 0.842 - ETA: 39s - loss: 0.4063 - accuracy: 0.842 - ETA: 39s - loss: 0.4061 - accuracy: 0.8427"
     ]
    },
    {
     "name": "stdout",
     "output_type": "stream",
     "text": [
      "559/559 [==============================] - ETA: 39s - loss: 0.4059 - accuracy: 0.842 - ETA: 39s - loss: 0.4055 - accuracy: 0.842 - ETA: 38s - loss: 0.4057 - accuracy: 0.842 - ETA: 38s - loss: 0.4056 - accuracy: 0.842 - ETA: 38s - loss: 0.4056 - accuracy: 0.842 - ETA: 38s - loss: 0.4055 - accuracy: 0.842 - ETA: 38s - loss: 0.4059 - accuracy: 0.842 - ETA: 37s - loss: 0.4057 - accuracy: 0.842 - ETA: 37s - loss: 0.4057 - accuracy: 0.842 - ETA: 37s - loss: 0.4053 - accuracy: 0.842 - ETA: 37s - loss: 0.4056 - accuracy: 0.842 - ETA: 37s - loss: 0.4054 - accuracy: 0.842 - ETA: 36s - loss: 0.4055 - accuracy: 0.841 - ETA: 36s - loss: 0.4058 - accuracy: 0.841 - ETA: 36s - loss: 0.4059 - accuracy: 0.841 - ETA: 36s - loss: 0.4060 - accuracy: 0.841 - ETA: 35s - loss: 0.4061 - accuracy: 0.841 - ETA: 35s - loss: 0.4066 - accuracy: 0.841 - ETA: 35s - loss: 0.4068 - accuracy: 0.841 - ETA: 35s - loss: 0.4067 - accuracy: 0.841 - ETA: 35s - loss: 0.4066 - accuracy: 0.841 - ETA: 34s - loss: 0.4062 - accuracy: 0.841 - ETA: 34s - loss: 0.4064 - accuracy: 0.841 - ETA: 34s - loss: 0.4063 - accuracy: 0.841 - ETA: 34s - loss: 0.4062 - accuracy: 0.841 - ETA: 34s - loss: 0.4065 - accuracy: 0.841 - ETA: 33s - loss: 0.4064 - accuracy: 0.841 - ETA: 33s - loss: 0.4064 - accuracy: 0.841 - ETA: 33s - loss: 0.4063 - accuracy: 0.841 - ETA: 33s - loss: 0.4060 - accuracy: 0.841 - ETA: 32s - loss: 0.4064 - accuracy: 0.841 - ETA: 32s - loss: 0.4063 - accuracy: 0.841 - ETA: 32s - loss: 0.4062 - accuracy: 0.841 - ETA: 32s - loss: 0.4062 - accuracy: 0.841 - ETA: 32s - loss: 0.4064 - accuracy: 0.841 - ETA: 31s - loss: 0.4059 - accuracy: 0.841 - ETA: 31s - loss: 0.4057 - accuracy: 0.841 - ETA: 31s - loss: 0.4059 - accuracy: 0.841 - ETA: 31s - loss: 0.4057 - accuracy: 0.841 - ETA: 31s - loss: 0.4057 - accuracy: 0.841 - ETA: 30s - loss: 0.4062 - accuracy: 0.841 - ETA: 30s - loss: 0.4063 - accuracy: 0.841 - ETA: 30s - loss: 0.4061 - accuracy: 0.841 - ETA: 30s - loss: 0.4062 - accuracy: 0.840 - ETA: 30s - loss: 0.4062 - accuracy: 0.841 - ETA: 29s - loss: 0.4060 - accuracy: 0.841 - ETA: 29s - loss: 0.4061 - accuracy: 0.840 - ETA: 29s - loss: 0.4058 - accuracy: 0.841 - ETA: 29s - loss: 0.4058 - accuracy: 0.841 - ETA: 28s - loss: 0.4058 - accuracy: 0.841 - ETA: 28s - loss: 0.4061 - accuracy: 0.841 - ETA: 28s - loss: 0.4063 - accuracy: 0.841 - ETA: 28s - loss: 0.4060 - accuracy: 0.841 - ETA: 28s - loss: 0.4060 - accuracy: 0.841 - ETA: 27s - loss: 0.4059 - accuracy: 0.841 - ETA: 27s - loss: 0.4060 - accuracy: 0.841 - ETA: 27s - loss: 0.4058 - accuracy: 0.841 - ETA: 27s - loss: 0.4059 - accuracy: 0.841 - ETA: 27s - loss: 0.4059 - accuracy: 0.841 - ETA: 26s - loss: 0.4059 - accuracy: 0.841 - ETA: 26s - loss: 0.4060 - accuracy: 0.841 - ETA: 26s - loss: 0.4060 - accuracy: 0.841 - ETA: 26s - loss: 0.4065 - accuracy: 0.840 - ETA: 26s - loss: 0.4064 - accuracy: 0.840 - ETA: 25s - loss: 0.4066 - accuracy: 0.840 - ETA: 25s - loss: 0.4062 - accuracy: 0.840 - ETA: 25s - loss: 0.4058 - accuracy: 0.841 - ETA: 25s - loss: 0.4065 - accuracy: 0.840 - ETA: 24s - loss: 0.4061 - accuracy: 0.840 - ETA: 24s - loss: 0.4065 - accuracy: 0.840 - ETA: 24s - loss: 0.4062 - accuracy: 0.840 - ETA: 24s - loss: 0.4060 - accuracy: 0.841 - ETA: 24s - loss: 0.4060 - accuracy: 0.841 - ETA: 23s - loss: 0.4062 - accuracy: 0.840 - ETA: 23s - loss: 0.4064 - accuracy: 0.841 - ETA: 23s - loss: 0.4064 - accuracy: 0.840 - ETA: 23s - loss: 0.4060 - accuracy: 0.841 - ETA: 23s - loss: 0.4062 - accuracy: 0.840 - ETA: 22s - loss: 0.4059 - accuracy: 0.841 - ETA: 22s - loss: 0.4057 - accuracy: 0.841 - ETA: 22s - loss: 0.4057 - accuracy: 0.840 - ETA: 22s - loss: 0.4057 - accuracy: 0.841 - ETA: 22s - loss: 0.4055 - accuracy: 0.841 - ETA: 21s - loss: 0.4055 - accuracy: 0.841 - ETA: 21s - loss: 0.4056 - accuracy: 0.841 - ETA: 21s - loss: 0.4058 - accuracy: 0.841 - ETA: 21s - loss: 0.4057 - accuracy: 0.841 - ETA: 21s - loss: 0.4063 - accuracy: 0.840 - ETA: 20s - loss: 0.4065 - accuracy: 0.840 - ETA: 20s - loss: 0.4063 - accuracy: 0.840 - ETA: 20s - loss: 0.4063 - accuracy: 0.840 - ETA: 20s - loss: 0.4061 - accuracy: 0.840 - ETA: 19s - loss: 0.4062 - accuracy: 0.840 - ETA: 19s - loss: 0.4060 - accuracy: 0.840 - ETA: 19s - loss: 0.4056 - accuracy: 0.840 - ETA: 19s - loss: 0.4057 - accuracy: 0.840 - ETA: 19s - loss: 0.4055 - accuracy: 0.841 - ETA: 18s - loss: 0.4051 - accuracy: 0.841 - ETA: 18s - loss: 0.4052 - accuracy: 0.841 - ETA: 18s - loss: 0.4050 - accuracy: 0.841 - ETA: 18s - loss: 0.4046 - accuracy: 0.841 - ETA: 18s - loss: 0.4047 - accuracy: 0.841 - ETA: 17s - loss: 0.4055 - accuracy: 0.840 - ETA: 17s - loss: 0.4052 - accuracy: 0.840 - ETA: 17s - loss: 0.4052 - accuracy: 0.840 - ETA: 17s - loss: 0.4050 - accuracy: 0.840 - ETA: 17s - loss: 0.4048 - accuracy: 0.840 - ETA: 16s - loss: 0.4050 - accuracy: 0.840 - ETA: 16s - loss: 0.4054 - accuracy: 0.840 - ETA: 16s - loss: 0.4055 - accuracy: 0.840 - ETA: 16s - loss: 0.4054 - accuracy: 0.840 - ETA: 15s - loss: 0.4055 - accuracy: 0.840 - ETA: 15s - loss: 0.4057 - accuracy: 0.840 - ETA: 15s - loss: 0.4054 - accuracy: 0.840 - ETA: 15s - loss: 0.4057 - accuracy: 0.840 - ETA: 15s - loss: 0.4055 - accuracy: 0.840 - ETA: 14s - loss: 0.4054 - accuracy: 0.840 - ETA: 14s - loss: 0.4052 - accuracy: 0.840 - ETA: 14s - loss: 0.4049 - accuracy: 0.840 - ETA: 14s - loss: 0.4049 - accuracy: 0.840 - ETA: 14s - loss: 0.4051 - accuracy: 0.840 - ETA: 13s - loss: 0.4050 - accuracy: 0.840 - ETA: 13s - loss: 0.4054 - accuracy: 0.840 - ETA: 13s - loss: 0.4060 - accuracy: 0.839 - ETA: 13s - loss: 0.4061 - accuracy: 0.839 - ETA: 12s - loss: 0.4065 - accuracy: 0.839 - ETA: 12s - loss: 0.4064 - accuracy: 0.839 - ETA: 12s - loss: 0.4068 - accuracy: 0.839 - ETA: 12s - loss: 0.4069 - accuracy: 0.839 - ETA: 12s - loss: 0.4065 - accuracy: 0.839 - ETA: 11s - loss: 0.4064 - accuracy: 0.839 - ETA: 11s - loss: 0.4066 - accuracy: 0.839 - ETA: 11s - loss: 0.4063 - accuracy: 0.839 - ETA: 11s - loss: 0.4064 - accuracy: 0.839 - ETA: 11s - loss: 0.4065 - accuracy: 0.839 - ETA: 10s - loss: 0.4070 - accuracy: 0.839 - ETA: 10s - loss: 0.4066 - accuracy: 0.839 - ETA: 10s - loss: 0.4066 - accuracy: 0.839 - ETA: 10s - loss: 0.4064 - accuracy: 0.839 - ETA: 10s - loss: 0.4065 - accuracy: 0.839 - ETA: 9s - loss: 0.4072 - accuracy: 0.839 - ETA: 9s - loss: 0.4070 - accuracy: 0.83 - ETA: 9s - loss: 0.4068 - accuracy: 0.83 - ETA: 9s - loss: 0.4068 - accuracy: 0.83 - ETA: 8s - loss: 0.4070 - accuracy: 0.83 - ETA: 8s - loss: 0.4071 - accuracy: 0.83 - ETA: 8s - loss: 0.4071 - accuracy: 0.83 - ETA: 8s - loss: 0.4068 - accuracy: 0.83 - ETA: 8s - loss: 0.4068 - accuracy: 0.83 - ETA: 7s - loss: 0.4066 - accuracy: 0.83 - ETA: 7s - loss: 0.4068 - accuracy: 0.83 - ETA: 7s - loss: 0.4069 - accuracy: 0.83 - ETA: 7s - loss: 0.4070 - accuracy: 0.83 - ETA: 7s - loss: 0.4070 - accuracy: 0.83 - ETA: 6s - loss: 0.4070 - accuracy: 0.83 - ETA: 6s - loss: 0.4070 - accuracy: 0.83 - ETA: 6s - loss: 0.4068 - accuracy: 0.83 - ETA: 6s - loss: 0.4070 - accuracy: 0.83 - ETA: 5s - loss: 0.4072 - accuracy: 0.83 - ETA: 5s - loss: 0.4071 - accuracy: 0.83 - ETA: 5s - loss: 0.4069 - accuracy: 0.83 - ETA: 5s - loss: 0.4069 - accuracy: 0.83 - ETA: 5s - loss: 0.4069 - accuracy: 0.83 - ETA: 4s - loss: 0.4068 - accuracy: 0.83 - ETA: 4s - loss: 0.4068 - accuracy: 0.83 - ETA: 4s - loss: 0.4067 - accuracy: 0.83 - ETA: 4s - loss: 0.4067 - accuracy: 0.83 - ETA: 4s - loss: 0.4064 - accuracy: 0.83 - ETA: 3s - loss: 0.4065 - accuracy: 0.83 - ETA: 3s - loss: 0.4063 - accuracy: 0.83 - ETA: 3s - loss: 0.4067 - accuracy: 0.83 - ETA: 3s - loss: 0.4065 - accuracy: 0.83 - ETA: 2s - loss: 0.4063 - accuracy: 0.83 - ETA: 2s - loss: 0.4062 - accuracy: 0.83 - ETA: 2s - loss: 0.4061 - accuracy: 0.84 - ETA: 2s - loss: 0.4059 - accuracy: 0.84 - ETA: 2s - loss: 0.4058 - accuracy: 0.84 - ETA: 1s - loss: 0.4062 - accuracy: 0.84 - ETA: 1s - loss: 0.4064 - accuracy: 0.84 - ETA: 1s - loss: 0.4061 - accuracy: 0.84 - ETA: 1s - loss: 0.4061 - accuracy: 0.84 - ETA: 1s - loss: 0.4060 - accuracy: 0.84 - ETA: 0s - loss: 0.4065 - accuracy: 0.84 - ETA: 0s - loss: 0.4066 - accuracy: 0.84 - ETA: 0s - loss: 0.4065 - accuracy: 0.83 - ETA: 0s - loss: 0.4064 - accuracy: 0.83 - ETA: 0s - loss: 0.4063 - accuracy: 0.83 - 120s 214ms/step - loss: 0.4063 - accuracy: 0.8399\n"
     ]
    },
    {
     "name": "stdout",
     "output_type": "stream",
     "text": [
      "Epoch 6/6\n"
     ]
    },
    {
     "name": "stdout",
     "output_type": "stream",
     "text": [
      "186/559 [========>.....................] - ETA: 0s - loss: 0.3433 - accuracy: 0.84 - ETA: 58s - loss: 0.3282 - accuracy: 0.859 - ETA: 1:18 - loss: 0.3389 - accuracy: 0.86 - ETA: 1:27 - loss: 0.3359 - accuracy: 0.87 - ETA: 1:32 - loss: 0.3439 - accuracy: 0.87 - ETA: 1:38 - loss: 0.3229 - accuracy: 0.87 - ETA: 1:40 - loss: 0.3089 - accuracy: 0.87 - ETA: 1:42 - loss: 0.3173 - accuracy: 0.86 - ETA: 1:43 - loss: 0.3033 - accuracy: 0.86 - ETA: 1:45 - loss: 0.3172 - accuracy: 0.86 - ETA: 1:46 - loss: 0.3328 - accuracy: 0.85 - ETA: 1:46 - loss: 0.3335 - accuracy: 0.85 - ETA: 1:47 - loss: 0.3418 - accuracy: 0.85 - ETA: 1:47 - loss: 0.3474 - accuracy: 0.85 - ETA: 1:48 - loss: 0.3381 - accuracy: 0.86 - ETA: 1:49 - loss: 0.3253 - accuracy: 0.87 - ETA: 1:50 - loss: 0.3207 - accuracy: 0.87 - ETA: 1:50 - loss: 0.3232 - accuracy: 0.87 - ETA: 1:49 - loss: 0.3252 - accuracy: 0.87 - ETA: 1:51 - loss: 0.3267 - accuracy: 0.87 - ETA: 1:51 - loss: 0.3274 - accuracy: 0.87 - ETA: 1:50 - loss: 0.3249 - accuracy: 0.87 - ETA: 1:50 - loss: 0.3286 - accuracy: 0.87 - ETA: 1:50 - loss: 0.3231 - accuracy: 0.87 - ETA: 1:51 - loss: 0.3211 - accuracy: 0.88 - ETA: 1:50 - loss: 0.3234 - accuracy: 0.87 - ETA: 1:50 - loss: 0.3223 - accuracy: 0.87 - ETA: 1:50 - loss: 0.3280 - accuracy: 0.87 - ETA: 1:50 - loss: 0.3263 - accuracy: 0.87 - ETA: 1:50 - loss: 0.3274 - accuracy: 0.87 - ETA: 1:50 - loss: 0.3332 - accuracy: 0.87 - ETA: 1:49 - loss: 0.3312 - accuracy: 0.87 - ETA: 1:49 - loss: 0.3328 - accuracy: 0.87 - ETA: 1:49 - loss: 0.3362 - accuracy: 0.87 - ETA: 1:49 - loss: 0.3332 - accuracy: 0.87 - ETA: 1:48 - loss: 0.3330 - accuracy: 0.87 - ETA: 1:48 - loss: 0.3368 - accuracy: 0.87 - ETA: 1:48 - loss: 0.3359 - accuracy: 0.87 - ETA: 1:47 - loss: 0.3352 - accuracy: 0.87 - ETA: 1:48 - loss: 0.3333 - accuracy: 0.87 - ETA: 1:48 - loss: 0.3346 - accuracy: 0.87 - ETA: 1:48 - loss: 0.3341 - accuracy: 0.87 - ETA: 1:48 - loss: 0.3362 - accuracy: 0.87 - ETA: 1:48 - loss: 0.3366 - accuracy: 0.87 - ETA: 1:48 - loss: 0.3382 - accuracy: 0.87 - ETA: 1:48 - loss: 0.3384 - accuracy: 0.87 - ETA: 1:47 - loss: 0.3391 - accuracy: 0.87 - ETA: 1:47 - loss: 0.3367 - accuracy: 0.87 - ETA: 1:47 - loss: 0.3338 - accuracy: 0.87 - ETA: 1:47 - loss: 0.3320 - accuracy: 0.87 - ETA: 1:47 - loss: 0.3318 - accuracy: 0.87 - ETA: 1:46 - loss: 0.3321 - accuracy: 0.87 - ETA: 1:46 - loss: 0.3287 - accuracy: 0.87 - ETA: 1:46 - loss: 0.3279 - accuracy: 0.87 - ETA: 1:46 - loss: 0.3317 - accuracy: 0.87 - ETA: 1:45 - loss: 0.3322 - accuracy: 0.87 - ETA: 1:45 - loss: 0.3287 - accuracy: 0.87 - ETA: 1:45 - loss: 0.3300 - accuracy: 0.87 - ETA: 1:44 - loss: 0.3303 - accuracy: 0.87 - ETA: 1:44 - loss: 0.3345 - accuracy: 0.87 - ETA: 1:44 - loss: 0.3369 - accuracy: 0.87 - ETA: 1:44 - loss: 0.3346 - accuracy: 0.87 - ETA: 1:43 - loss: 0.3350 - accuracy: 0.87 - ETA: 1:43 - loss: 0.3348 - accuracy: 0.87 - ETA: 1:43 - loss: 0.3349 - accuracy: 0.87 - ETA: 1:43 - loss: 0.3366 - accuracy: 0.87 - ETA: 1:43 - loss: 0.3358 - accuracy: 0.87 - ETA: 1:43 - loss: 0.3368 - accuracy: 0.87 - ETA: 1:42 - loss: 0.3362 - accuracy: 0.87 - ETA: 1:42 - loss: 0.3366 - accuracy: 0.87 - ETA: 1:42 - loss: 0.3378 - accuracy: 0.87 - ETA: 1:42 - loss: 0.3397 - accuracy: 0.87 - ETA: 1:42 - loss: 0.3381 - accuracy: 0.87 - ETA: 1:42 - loss: 0.3364 - accuracy: 0.87 - ETA: 1:41 - loss: 0.3346 - accuracy: 0.87 - ETA: 1:41 - loss: 0.3335 - accuracy: 0.87 - ETA: 1:41 - loss: 0.3322 - accuracy: 0.87 - ETA: 1:41 - loss: 0.3322 - accuracy: 0.87 - ETA: 1:41 - loss: 0.3318 - accuracy: 0.87 - ETA: 1:40 - loss: 0.3302 - accuracy: 0.87 - ETA: 1:40 - loss: 0.3302 - accuracy: 0.87 - ETA: 1:40 - loss: 0.3324 - accuracy: 0.87 - ETA: 1:40 - loss: 0.3325 - accuracy: 0.87 - ETA: 1:39 - loss: 0.3338 - accuracy: 0.87 - ETA: 1:39 - loss: 0.3364 - accuracy: 0.87 - ETA: 1:39 - loss: 0.3375 - accuracy: 0.87 - ETA: 1:39 - loss: 0.3376 - accuracy: 0.87 - ETA: 1:39 - loss: 0.3372 - accuracy: 0.87 - ETA: 1:38 - loss: 0.3394 - accuracy: 0.87 - ETA: 1:38 - loss: 0.3421 - accuracy: 0.87 - ETA: 1:38 - loss: 0.3419 - accuracy: 0.87 - ETA: 1:38 - loss: 0.3412 - accuracy: 0.87 - ETA: 1:38 - loss: 0.3404 - accuracy: 0.87 - ETA: 1:38 - loss: 0.3395 - accuracy: 0.87 - ETA: 1:38 - loss: 0.3383 - accuracy: 0.87 - ETA: 1:38 - loss: 0.3424 - accuracy: 0.86 - ETA: 1:37 - loss: 0.3436 - accuracy: 0.86 - ETA: 1:37 - loss: 0.3428 - accuracy: 0.86 - ETA: 1:37 - loss: 0.3440 - accuracy: 0.86 - ETA: 1:37 - loss: 0.3434 - accuracy: 0.87 - ETA: 1:37 - loss: 0.3443 - accuracy: 0.86 - ETA: 1:36 - loss: 0.3438 - accuracy: 0.86 - ETA: 1:36 - loss: 0.3426 - accuracy: 0.87 - ETA: 1:36 - loss: 0.3433 - accuracy: 0.86 - ETA: 1:36 - loss: 0.3436 - accuracy: 0.86 - ETA: 1:36 - loss: 0.3461 - accuracy: 0.86 - ETA: 1:35 - loss: 0.3471 - accuracy: 0.86 - ETA: 1:35 - loss: 0.3475 - accuracy: 0.86 - ETA: 1:35 - loss: 0.3462 - accuracy: 0.86 - ETA: 1:35 - loss: 0.3446 - accuracy: 0.86 - ETA: 1:35 - loss: 0.3435 - accuracy: 0.86 - ETA: 1:34 - loss: 0.3433 - accuracy: 0.86 - ETA: 1:34 - loss: 0.3435 - accuracy: 0.86 - ETA: 1:34 - loss: 0.3435 - accuracy: 0.86 - ETA: 1:34 - loss: 0.3432 - accuracy: 0.86 - ETA: 1:34 - loss: 0.3427 - accuracy: 0.86 - ETA: 1:33 - loss: 0.3455 - accuracy: 0.86 - ETA: 1:33 - loss: 0.3434 - accuracy: 0.86 - ETA: 1:33 - loss: 0.3454 - accuracy: 0.86 - ETA: 1:33 - loss: 0.3472 - accuracy: 0.86 - ETA: 1:33 - loss: 0.3482 - accuracy: 0.86 - ETA: 1:32 - loss: 0.3471 - accuracy: 0.86 - ETA: 1:32 - loss: 0.3472 - accuracy: 0.86 - ETA: 1:32 - loss: 0.3478 - accuracy: 0.86 - ETA: 1:32 - loss: 0.3469 - accuracy: 0.86 - ETA: 1:32 - loss: 0.3487 - accuracy: 0.86 - ETA: 1:32 - loss: 0.3480 - accuracy: 0.86 - ETA: 1:31 - loss: 0.3474 - accuracy: 0.86 - ETA: 1:31 - loss: 0.3487 - accuracy: 0.86 - ETA: 1:31 - loss: 0.3489 - accuracy: 0.86 - ETA: 1:31 - loss: 0.3494 - accuracy: 0.86 - ETA: 1:30 - loss: 0.3486 - accuracy: 0.86 - ETA: 1:30 - loss: 0.3488 - accuracy: 0.86 - ETA: 1:30 - loss: 0.3480 - accuracy: 0.86 - ETA: 1:30 - loss: 0.3484 - accuracy: 0.86 - ETA: 1:29 - loss: 0.3492 - accuracy: 0.86 - ETA: 1:29 - loss: 0.3524 - accuracy: 0.86 - ETA: 1:29 - loss: 0.3514 - accuracy: 0.86 - ETA: 1:29 - loss: 0.3502 - accuracy: 0.86 - ETA: 1:28 - loss: 0.3503 - accuracy: 0.86 - ETA: 1:28 - loss: 0.3506 - accuracy: 0.86 - ETA: 1:28 - loss: 0.3498 - accuracy: 0.86 - ETA: 1:28 - loss: 0.3495 - accuracy: 0.86 - ETA: 1:28 - loss: 0.3495 - accuracy: 0.86 - ETA: 1:28 - loss: 0.3496 - accuracy: 0.86 - ETA: 1:27 - loss: 0.3489 - accuracy: 0.86 - ETA: 1:27 - loss: 0.3482 - accuracy: 0.86 - ETA: 1:27 - loss: 0.3500 - accuracy: 0.86 - ETA: 1:27 - loss: 0.3494 - accuracy: 0.86 - ETA: 1:27 - loss: 0.3500 - accuracy: 0.86 - ETA: 1:26 - loss: 0.3497 - accuracy: 0.86 - ETA: 1:26 - loss: 0.3498 - accuracy: 0.86 - ETA: 1:26 - loss: 0.3493 - accuracy: 0.86 - ETA: 1:26 - loss: 0.3486 - accuracy: 0.86 - ETA: 1:25 - loss: 0.3488 - accuracy: 0.86 - ETA: 1:25 - loss: 0.3490 - accuracy: 0.86 - ETA: 1:25 - loss: 0.3497 - accuracy: 0.86 - ETA: 1:25 - loss: 0.3494 - accuracy: 0.86 - ETA: 1:25 - loss: 0.3489 - accuracy: 0.86 - ETA: 1:24 - loss: 0.3484 - accuracy: 0.86 - ETA: 1:24 - loss: 0.3488 - accuracy: 0.86 - ETA: 1:24 - loss: 0.3486 - accuracy: 0.86 - ETA: 1:24 - loss: 0.3495 - accuracy: 0.86 - ETA: 1:23 - loss: 0.3486 - accuracy: 0.86 - ETA: 1:23 - loss: 0.3477 - accuracy: 0.86 - ETA: 1:23 - loss: 0.3493 - accuracy: 0.86 - ETA: 1:23 - loss: 0.3490 - accuracy: 0.86 - ETA: 1:22 - loss: 0.3487 - accuracy: 0.86 - ETA: 1:22 - loss: 0.3496 - accuracy: 0.86 - ETA: 1:22 - loss: 0.3505 - accuracy: 0.86 - ETA: 1:22 - loss: 0.3500 - accuracy: 0.86 - ETA: 1:22 - loss: 0.3517 - accuracy: 0.86 - ETA: 1:21 - loss: 0.3516 - accuracy: 0.86 - ETA: 1:21 - loss: 0.3522 - accuracy: 0.86 - ETA: 1:21 - loss: 0.3526 - accuracy: 0.86 - ETA: 1:21 - loss: 0.3530 - accuracy: 0.86 - ETA: 1:21 - loss: 0.3527 - accuracy: 0.86 - ETA: 1:20 - loss: 0.3524 - accuracy: 0.86 - ETA: 1:20 - loss: 0.3519 - accuracy: 0.86 - ETA: 1:20 - loss: 0.3509 - accuracy: 0.86 - ETA: 1:20 - loss: 0.3507 - accuracy: 0.86 - ETA: 1:19 - loss: 0.3505 - accuracy: 0.86 - ETA: 1:19 - loss: 0.3506 - accuracy: 0.86 - ETA: 1:19 - loss: 0.3508 - accuracy: 0.86 - ETA: 1:19 - loss: 0.3501 - accuracy: 0.86 - ETA: 1:18 - loss: 0.3504 - accuracy: 0.8646\b\b\b\b\b\b\b\b\b\b\b\b\b\b\b\b\b\b\b\b\b\b\b\b\b\b\b\b\b\b\b\b\b\b\b\b\b\b\b\b\b\b\b\b\b\b\b\b\b\b\b\b\b\b\b\b\b\b\b\b\b\b\b\b\b\b\b\b\b\b\b\b\b\b\b\b\b\b\b\b\b\b\b\b\b\b"
     ]
    },
    {
     "name": "stdout",
     "output_type": "stream",
     "text": [
      "372/559 [==================>...........] - ETA: 1:18 - loss: 0.3497 - accuracy: 0.86 - ETA: 1:18 - loss: 0.3506 - accuracy: 0.86 - ETA: 1:18 - loss: 0.3509 - accuracy: 0.86 - ETA: 1:17 - loss: 0.3508 - accuracy: 0.86 - ETA: 1:17 - loss: 0.3514 - accuracy: 0.86 - ETA: 1:17 - loss: 0.3526 - accuracy: 0.86 - ETA: 1:17 - loss: 0.3521 - accuracy: 0.86 - ETA: 1:17 - loss: 0.3529 - accuracy: 0.86 - ETA: 1:16 - loss: 0.3522 - accuracy: 0.86 - ETA: 1:16 - loss: 0.3521 - accuracy: 0.86 - ETA: 1:16 - loss: 0.3511 - accuracy: 0.86 - ETA: 1:16 - loss: 0.3515 - accuracy: 0.86 - ETA: 1:15 - loss: 0.3516 - accuracy: 0.86 - ETA: 1:15 - loss: 0.3513 - accuracy: 0.86 - ETA: 1:15 - loss: 0.3513 - accuracy: 0.86 - ETA: 1:15 - loss: 0.3515 - accuracy: 0.86 - ETA: 1:15 - loss: 0.3520 - accuracy: 0.86 - ETA: 1:14 - loss: 0.3523 - accuracy: 0.86 - ETA: 1:14 - loss: 0.3537 - accuracy: 0.86 - ETA: 1:14 - loss: 0.3546 - accuracy: 0.86 - ETA: 1:14 - loss: 0.3542 - accuracy: 0.86 - ETA: 1:13 - loss: 0.3551 - accuracy: 0.86 - ETA: 1:13 - loss: 0.3555 - accuracy: 0.86 - ETA: 1:13 - loss: 0.3553 - accuracy: 0.86 - ETA: 1:13 - loss: 0.3551 - accuracy: 0.86 - ETA: 1:12 - loss: 0.3560 - accuracy: 0.86 - ETA: 1:12 - loss: 0.3563 - accuracy: 0.86 - ETA: 1:12 - loss: 0.3562 - accuracy: 0.86 - ETA: 1:12 - loss: 0.3562 - accuracy: 0.86 - ETA: 1:12 - loss: 0.3562 - accuracy: 0.86 - ETA: 1:11 - loss: 0.3574 - accuracy: 0.86 - ETA: 1:11 - loss: 0.3576 - accuracy: 0.86 - ETA: 1:11 - loss: 0.3580 - accuracy: 0.86 - ETA: 1:11 - loss: 0.3573 - accuracy: 0.86 - ETA: 1:11 - loss: 0.3577 - accuracy: 0.86 - ETA: 1:10 - loss: 0.3575 - accuracy: 0.86 - ETA: 1:10 - loss: 0.3574 - accuracy: 0.86 - ETA: 1:10 - loss: 0.3572 - accuracy: 0.86 - ETA: 1:10 - loss: 0.3564 - accuracy: 0.86 - ETA: 1:10 - loss: 0.3562 - accuracy: 0.86 - ETA: 1:09 - loss: 0.3562 - accuracy: 0.86 - ETA: 1:09 - loss: 0.3557 - accuracy: 0.86 - ETA: 1:09 - loss: 0.3556 - accuracy: 0.86 - ETA: 1:09 - loss: 0.3563 - accuracy: 0.86 - ETA: 1:08 - loss: 0.3559 - accuracy: 0.86 - ETA: 1:08 - loss: 0.3566 - accuracy: 0.86 - ETA: 1:08 - loss: 0.3569 - accuracy: 0.86 - ETA: 1:08 - loss: 0.3566 - accuracy: 0.86 - ETA: 1:07 - loss: 0.3571 - accuracy: 0.86 - ETA: 1:07 - loss: 0.3583 - accuracy: 0.85 - ETA: 1:07 - loss: 0.3582 - accuracy: 0.86 - ETA: 1:07 - loss: 0.3595 - accuracy: 0.85 - ETA: 1:07 - loss: 0.3594 - accuracy: 0.85 - ETA: 1:06 - loss: 0.3594 - accuracy: 0.85 - ETA: 1:06 - loss: 0.3596 - accuracy: 0.85 - ETA: 1:06 - loss: 0.3593 - accuracy: 0.85 - ETA: 1:06 - loss: 0.3599 - accuracy: 0.85 - ETA: 1:06 - loss: 0.3593 - accuracy: 0.85 - ETA: 1:05 - loss: 0.3597 - accuracy: 0.85 - ETA: 1:05 - loss: 0.3593 - accuracy: 0.85 - ETA: 1:05 - loss: 0.3591 - accuracy: 0.85 - ETA: 1:05 - loss: 0.3597 - accuracy: 0.85 - ETA: 1:05 - loss: 0.3593 - accuracy: 0.85 - ETA: 1:04 - loss: 0.3592 - accuracy: 0.85 - ETA: 1:04 - loss: 0.3591 - accuracy: 0.85 - ETA: 1:04 - loss: 0.3594 - accuracy: 0.85 - ETA: 1:04 - loss: 0.3599 - accuracy: 0.85 - ETA: 1:03 - loss: 0.3604 - accuracy: 0.85 - ETA: 1:03 - loss: 0.3604 - accuracy: 0.85 - ETA: 1:03 - loss: 0.3601 - accuracy: 0.85 - ETA: 1:03 - loss: 0.3600 - accuracy: 0.85 - ETA: 1:03 - loss: 0.3595 - accuracy: 0.85 - ETA: 1:02 - loss: 0.3591 - accuracy: 0.85 - ETA: 1:02 - loss: 0.3594 - accuracy: 0.85 - ETA: 1:02 - loss: 0.3590 - accuracy: 0.85 - ETA: 1:02 - loss: 0.3594 - accuracy: 0.85 - ETA: 1:01 - loss: 0.3594 - accuracy: 0.85 - ETA: 1:01 - loss: 0.3601 - accuracy: 0.85 - ETA: 1:01 - loss: 0.3604 - accuracy: 0.85 - ETA: 1:01 - loss: 0.3606 - accuracy: 0.85 - ETA: 1:01 - loss: 0.3607 - accuracy: 0.85 - ETA: 1:00 - loss: 0.3605 - accuracy: 0.85 - ETA: 1:00 - loss: 0.3606 - accuracy: 0.85 - ETA: 1:00 - loss: 0.3606 - accuracy: 0.85 - ETA: 1:00 - loss: 0.3607 - accuracy: 0.85 - ETA: 1:00 - loss: 0.3611 - accuracy: 0.85 - ETA: 59s - loss: 0.3609 - accuracy: 0.8589 - ETA: 59s - loss: 0.3607 - accuracy: 0.858 - ETA: 59s - loss: 0.3611 - accuracy: 0.858 - ETA: 59s - loss: 0.3609 - accuracy: 0.858 - ETA: 59s - loss: 0.3614 - accuracy: 0.858 - ETA: 58s - loss: 0.3613 - accuracy: 0.858 - ETA: 58s - loss: 0.3612 - accuracy: 0.858 - ETA: 58s - loss: 0.3610 - accuracy: 0.858 - ETA: 58s - loss: 0.3611 - accuracy: 0.858 - ETA: 58s - loss: 0.3608 - accuracy: 0.858 - ETA: 57s - loss: 0.3608 - accuracy: 0.858 - ETA: 57s - loss: 0.3616 - accuracy: 0.858 - ETA: 57s - loss: 0.3611 - accuracy: 0.858 - ETA: 57s - loss: 0.3621 - accuracy: 0.858 - ETA: 56s - loss: 0.3625 - accuracy: 0.858 - ETA: 56s - loss: 0.3633 - accuracy: 0.858 - ETA: 56s - loss: 0.3630 - accuracy: 0.858 - ETA: 56s - loss: 0.3629 - accuracy: 0.858 - ETA: 56s - loss: 0.3632 - accuracy: 0.857 - ETA: 55s - loss: 0.3640 - accuracy: 0.857 - ETA: 55s - loss: 0.3641 - accuracy: 0.857 - ETA: 55s - loss: 0.3642 - accuracy: 0.857 - ETA: 55s - loss: 0.3642 - accuracy: 0.857 - ETA: 54s - loss: 0.3639 - accuracy: 0.857 - ETA: 54s - loss: 0.3639 - accuracy: 0.857 - ETA: 54s - loss: 0.3635 - accuracy: 0.857 - ETA: 54s - loss: 0.3633 - accuracy: 0.857 - ETA: 54s - loss: 0.3639 - accuracy: 0.857 - ETA: 53s - loss: 0.3641 - accuracy: 0.857 - ETA: 53s - loss: 0.3642 - accuracy: 0.857 - ETA: 53s - loss: 0.3643 - accuracy: 0.857 - ETA: 53s - loss: 0.3639 - accuracy: 0.857 - ETA: 53s - loss: 0.3640 - accuracy: 0.857 - ETA: 52s - loss: 0.3646 - accuracy: 0.857 - ETA: 52s - loss: 0.3641 - accuracy: 0.857 - ETA: 52s - loss: 0.3638 - accuracy: 0.857 - ETA: 52s - loss: 0.3639 - accuracy: 0.857 - ETA: 52s - loss: 0.3638 - accuracy: 0.857 - ETA: 51s - loss: 0.3637 - accuracy: 0.857 - ETA: 51s - loss: 0.3638 - accuracy: 0.857 - ETA: 51s - loss: 0.3638 - accuracy: 0.857 - ETA: 51s - loss: 0.3637 - accuracy: 0.857 - ETA: 50s - loss: 0.3635 - accuracy: 0.857 - ETA: 50s - loss: 0.3638 - accuracy: 0.857 - ETA: 50s - loss: 0.3638 - accuracy: 0.857 - ETA: 50s - loss: 0.3640 - accuracy: 0.857 - ETA: 50s - loss: 0.3641 - accuracy: 0.857 - ETA: 49s - loss: 0.3641 - accuracy: 0.856 - ETA: 49s - loss: 0.3643 - accuracy: 0.856 - ETA: 49s - loss: 0.3645 - accuracy: 0.856 - ETA: 49s - loss: 0.3649 - accuracy: 0.856 - ETA: 49s - loss: 0.3646 - accuracy: 0.856 - ETA: 48s - loss: 0.3644 - accuracy: 0.856 - ETA: 48s - loss: 0.3643 - accuracy: 0.856 - ETA: 48s - loss: 0.3647 - accuracy: 0.856 - ETA: 48s - loss: 0.3656 - accuracy: 0.856 - ETA: 47s - loss: 0.3651 - accuracy: 0.856 - ETA: 47s - loss: 0.3648 - accuracy: 0.856 - ETA: 47s - loss: 0.3649 - accuracy: 0.856 - ETA: 47s - loss: 0.3645 - accuracy: 0.856 - ETA: 47s - loss: 0.3647 - accuracy: 0.856 - ETA: 46s - loss: 0.3645 - accuracy: 0.856 - ETA: 46s - loss: 0.3641 - accuracy: 0.856 - ETA: 46s - loss: 0.3635 - accuracy: 0.856 - ETA: 46s - loss: 0.3635 - accuracy: 0.856 - ETA: 46s - loss: 0.3636 - accuracy: 0.856 - ETA: 45s - loss: 0.3634 - accuracy: 0.856 - ETA: 45s - loss: 0.3634 - accuracy: 0.856 - ETA: 45s - loss: 0.3629 - accuracy: 0.856 - ETA: 45s - loss: 0.3625 - accuracy: 0.856 - ETA: 44s - loss: 0.3626 - accuracy: 0.856 - ETA: 44s - loss: 0.3630 - accuracy: 0.856 - ETA: 44s - loss: 0.3624 - accuracy: 0.856 - ETA: 44s - loss: 0.3625 - accuracy: 0.856 - ETA: 44s - loss: 0.3624 - accuracy: 0.857 - ETA: 43s - loss: 0.3629 - accuracy: 0.856 - ETA: 43s - loss: 0.3633 - accuracy: 0.856 - ETA: 43s - loss: 0.3638 - accuracy: 0.856 - ETA: 43s - loss: 0.3642 - accuracy: 0.856 - ETA: 43s - loss: 0.3642 - accuracy: 0.856 - ETA: 42s - loss: 0.3643 - accuracy: 0.856 - ETA: 42s - loss: 0.3640 - accuracy: 0.856 - ETA: 42s - loss: 0.3636 - accuracy: 0.856 - ETA: 42s - loss: 0.3637 - accuracy: 0.856 - ETA: 42s - loss: 0.3635 - accuracy: 0.856 - ETA: 41s - loss: 0.3632 - accuracy: 0.856 - ETA: 41s - loss: 0.3631 - accuracy: 0.856 - ETA: 41s - loss: 0.3637 - accuracy: 0.856 - ETA: 41s - loss: 0.3637 - accuracy: 0.856 - ETA: 40s - loss: 0.3636 - accuracy: 0.856 - ETA: 40s - loss: 0.3637 - accuracy: 0.856 - ETA: 40s - loss: 0.3636 - accuracy: 0.856 - ETA: 40s - loss: 0.3633 - accuracy: 0.856 - ETA: 40s - loss: 0.3632 - accuracy: 0.856 - ETA: 39s - loss: 0.3634 - accuracy: 0.856 - ETA: 39s - loss: 0.3631 - accuracy: 0.856 - ETA: 39s - loss: 0.3632 - accuracy: 0.856 - ETA: 39s - loss: 0.3636 - accuracy: 0.856 - ETA: 39s - loss: 0.3633 - accuracy: 0.856 - ETA: 38s - loss: 0.3634 - accuracy: 0.8564"
     ]
    },
    {
     "name": "stdout",
     "output_type": "stream",
     "text": [
      "559/559 [==============================] - ETA: 38s - loss: 0.3636 - accuracy: 0.856 - ETA: 38s - loss: 0.3636 - accuracy: 0.856 - ETA: 38s - loss: 0.3637 - accuracy: 0.856 - ETA: 37s - loss: 0.3636 - accuracy: 0.856 - ETA: 37s - loss: 0.3639 - accuracy: 0.856 - ETA: 37s - loss: 0.3635 - accuracy: 0.856 - ETA: 37s - loss: 0.3640 - accuracy: 0.856 - ETA: 37s - loss: 0.3638 - accuracy: 0.856 - ETA: 36s - loss: 0.3640 - accuracy: 0.856 - ETA: 36s - loss: 0.3637 - accuracy: 0.856 - ETA: 36s - loss: 0.3634 - accuracy: 0.856 - ETA: 36s - loss: 0.3633 - accuracy: 0.856 - ETA: 36s - loss: 0.3631 - accuracy: 0.856 - ETA: 35s - loss: 0.3629 - accuracy: 0.856 - ETA: 35s - loss: 0.3629 - accuracy: 0.856 - ETA: 35s - loss: 0.3628 - accuracy: 0.856 - ETA: 35s - loss: 0.3628 - accuracy: 0.856 - ETA: 35s - loss: 0.3633 - accuracy: 0.856 - ETA: 34s - loss: 0.3643 - accuracy: 0.856 - ETA: 34s - loss: 0.3646 - accuracy: 0.856 - ETA: 34s - loss: 0.3645 - accuracy: 0.856 - ETA: 34s - loss: 0.3646 - accuracy: 0.856 - ETA: 34s - loss: 0.3648 - accuracy: 0.855 - ETA: 33s - loss: 0.3648 - accuracy: 0.855 - ETA: 33s - loss: 0.3646 - accuracy: 0.855 - ETA: 33s - loss: 0.3645 - accuracy: 0.855 - ETA: 33s - loss: 0.3644 - accuracy: 0.855 - ETA: 32s - loss: 0.3643 - accuracy: 0.855 - ETA: 32s - loss: 0.3641 - accuracy: 0.855 - ETA: 32s - loss: 0.3641 - accuracy: 0.855 - ETA: 32s - loss: 0.3636 - accuracy: 0.856 - ETA: 32s - loss: 0.3634 - accuracy: 0.856 - ETA: 31s - loss: 0.3634 - accuracy: 0.856 - ETA: 31s - loss: 0.3630 - accuracy: 0.856 - ETA: 31s - loss: 0.3634 - accuracy: 0.856 - ETA: 31s - loss: 0.3631 - accuracy: 0.856 - ETA: 31s - loss: 0.3636 - accuracy: 0.855 - ETA: 30s - loss: 0.3638 - accuracy: 0.855 - ETA: 30s - loss: 0.3638 - accuracy: 0.855 - ETA: 30s - loss: 0.3635 - accuracy: 0.856 - ETA: 30s - loss: 0.3638 - accuracy: 0.856 - ETA: 30s - loss: 0.3634 - accuracy: 0.856 - ETA: 29s - loss: 0.3632 - accuracy: 0.856 - ETA: 29s - loss: 0.3628 - accuracy: 0.856 - ETA: 29s - loss: 0.3634 - accuracy: 0.856 - ETA: 29s - loss: 0.3638 - accuracy: 0.856 - ETA: 28s - loss: 0.3642 - accuracy: 0.855 - ETA: 28s - loss: 0.3643 - accuracy: 0.855 - ETA: 28s - loss: 0.3646 - accuracy: 0.855 - ETA: 28s - loss: 0.3648 - accuracy: 0.855 - ETA: 28s - loss: 0.3644 - accuracy: 0.855 - ETA: 27s - loss: 0.3646 - accuracy: 0.855 - ETA: 27s - loss: 0.3652 - accuracy: 0.855 - ETA: 27s - loss: 0.3650 - accuracy: 0.855 - ETA: 27s - loss: 0.3651 - accuracy: 0.855 - ETA: 27s - loss: 0.3657 - accuracy: 0.855 - ETA: 26s - loss: 0.3657 - accuracy: 0.855 - ETA: 26s - loss: 0.3656 - accuracy: 0.854 - ETA: 26s - loss: 0.3654 - accuracy: 0.854 - ETA: 26s - loss: 0.3656 - accuracy: 0.854 - ETA: 26s - loss: 0.3654 - accuracy: 0.854 - ETA: 25s - loss: 0.3656 - accuracy: 0.854 - ETA: 25s - loss: 0.3657 - accuracy: 0.854 - ETA: 25s - loss: 0.3663 - accuracy: 0.854 - ETA: 25s - loss: 0.3663 - accuracy: 0.854 - ETA: 25s - loss: 0.3659 - accuracy: 0.854 - ETA: 24s - loss: 0.3659 - accuracy: 0.854 - ETA: 24s - loss: 0.3656 - accuracy: 0.854 - ETA: 24s - loss: 0.3662 - accuracy: 0.854 - ETA: 24s - loss: 0.3660 - accuracy: 0.854 - ETA: 23s - loss: 0.3659 - accuracy: 0.854 - ETA: 23s - loss: 0.3656 - accuracy: 0.854 - ETA: 23s - loss: 0.3657 - accuracy: 0.854 - ETA: 23s - loss: 0.3654 - accuracy: 0.854 - ETA: 23s - loss: 0.3655 - accuracy: 0.854 - ETA: 22s - loss: 0.3654 - accuracy: 0.854 - ETA: 22s - loss: 0.3652 - accuracy: 0.855 - ETA: 22s - loss: 0.3650 - accuracy: 0.855 - ETA: 22s - loss: 0.3647 - accuracy: 0.855 - ETA: 22s - loss: 0.3650 - accuracy: 0.854 - ETA: 21s - loss: 0.3645 - accuracy: 0.855 - ETA: 21s - loss: 0.3646 - accuracy: 0.855 - ETA: 21s - loss: 0.3644 - accuracy: 0.855 - ETA: 21s - loss: 0.3641 - accuracy: 0.855 - ETA: 21s - loss: 0.3642 - accuracy: 0.855 - ETA: 20s - loss: 0.3642 - accuracy: 0.855 - ETA: 20s - loss: 0.3641 - accuracy: 0.855 - ETA: 20s - loss: 0.3642 - accuracy: 0.855 - ETA: 20s - loss: 0.3645 - accuracy: 0.855 - ETA: 20s - loss: 0.3643 - accuracy: 0.855 - ETA: 19s - loss: 0.3641 - accuracy: 0.855 - ETA: 19s - loss: 0.3647 - accuracy: 0.855 - ETA: 19s - loss: 0.3645 - accuracy: 0.855 - ETA: 19s - loss: 0.3649 - accuracy: 0.855 - ETA: 19s - loss: 0.3651 - accuracy: 0.855 - ETA: 18s - loss: 0.3653 - accuracy: 0.855 - ETA: 18s - loss: 0.3649 - accuracy: 0.855 - ETA: 18s - loss: 0.3650 - accuracy: 0.855 - ETA: 18s - loss: 0.3649 - accuracy: 0.855 - ETA: 17s - loss: 0.3649 - accuracy: 0.855 - ETA: 17s - loss: 0.3649 - accuracy: 0.855 - ETA: 17s - loss: 0.3649 - accuracy: 0.855 - ETA: 17s - loss: 0.3647 - accuracy: 0.855 - ETA: 17s - loss: 0.3647 - accuracy: 0.855 - ETA: 16s - loss: 0.3650 - accuracy: 0.854 - ETA: 16s - loss: 0.3649 - accuracy: 0.854 - ETA: 16s - loss: 0.3646 - accuracy: 0.855 - ETA: 16s - loss: 0.3644 - accuracy: 0.855 - ETA: 16s - loss: 0.3642 - accuracy: 0.855 - ETA: 15s - loss: 0.3642 - accuracy: 0.855 - ETA: 15s - loss: 0.3642 - accuracy: 0.855 - ETA: 15s - loss: 0.3641 - accuracy: 0.855 - ETA: 15s - loss: 0.3641 - accuracy: 0.855 - ETA: 15s - loss: 0.3640 - accuracy: 0.855 - ETA: 14s - loss: 0.3644 - accuracy: 0.855 - ETA: 14s - loss: 0.3643 - accuracy: 0.855 - ETA: 14s - loss: 0.3643 - accuracy: 0.855 - ETA: 14s - loss: 0.3641 - accuracy: 0.855 - ETA: 14s - loss: 0.3637 - accuracy: 0.855 - ETA: 13s - loss: 0.3639 - accuracy: 0.855 - ETA: 13s - loss: 0.3638 - accuracy: 0.855 - ETA: 13s - loss: 0.3638 - accuracy: 0.855 - ETA: 13s - loss: 0.3640 - accuracy: 0.855 - ETA: 13s - loss: 0.3640 - accuracy: 0.855 - ETA: 12s - loss: 0.3643 - accuracy: 0.855 - ETA: 12s - loss: 0.3643 - accuracy: 0.855 - ETA: 12s - loss: 0.3640 - accuracy: 0.855 - ETA: 12s - loss: 0.3648 - accuracy: 0.855 - ETA: 11s - loss: 0.3651 - accuracy: 0.855 - ETA: 11s - loss: 0.3649 - accuracy: 0.855 - ETA: 11s - loss: 0.3651 - accuracy: 0.855 - ETA: 11s - loss: 0.3653 - accuracy: 0.854 - ETA: 11s - loss: 0.3653 - accuracy: 0.854 - ETA: 10s - loss: 0.3651 - accuracy: 0.855 - ETA: 10s - loss: 0.3649 - accuracy: 0.855 - ETA: 10s - loss: 0.3650 - accuracy: 0.855 - ETA: 10s - loss: 0.3651 - accuracy: 0.855 - ETA: 10s - loss: 0.3652 - accuracy: 0.854 - ETA: 9s - loss: 0.3657 - accuracy: 0.854 - ETA: 9s - loss: 0.3659 - accuracy: 0.85 - ETA: 9s - loss: 0.3657 - accuracy: 0.85 - ETA: 9s - loss: 0.3660 - accuracy: 0.85 - ETA: 9s - loss: 0.3657 - accuracy: 0.85 - ETA: 8s - loss: 0.3657 - accuracy: 0.85 - ETA: 8s - loss: 0.3657 - accuracy: 0.85 - ETA: 8s - loss: 0.3659 - accuracy: 0.85 - ETA: 8s - loss: 0.3659 - accuracy: 0.85 - ETA: 8s - loss: 0.3660 - accuracy: 0.85 - ETA: 7s - loss: 0.3660 - accuracy: 0.85 - ETA: 7s - loss: 0.3660 - accuracy: 0.85 - ETA: 7s - loss: 0.3660 - accuracy: 0.85 - ETA: 7s - loss: 0.3662 - accuracy: 0.85 - ETA: 7s - loss: 0.3661 - accuracy: 0.85 - ETA: 6s - loss: 0.3661 - accuracy: 0.85 - ETA: 6s - loss: 0.3660 - accuracy: 0.85 - ETA: 6s - loss: 0.3664 - accuracy: 0.85 - ETA: 6s - loss: 0.3664 - accuracy: 0.85 - ETA: 6s - loss: 0.3665 - accuracy: 0.85 - ETA: 5s - loss: 0.3666 - accuracy: 0.85 - ETA: 5s - loss: 0.3665 - accuracy: 0.85 - ETA: 5s - loss: 0.3666 - accuracy: 0.85 - ETA: 5s - loss: 0.3665 - accuracy: 0.85 - ETA: 4s - loss: 0.3665 - accuracy: 0.85 - ETA: 4s - loss: 0.3662 - accuracy: 0.85 - ETA: 4s - loss: 0.3662 - accuracy: 0.85 - ETA: 4s - loss: 0.3662 - accuracy: 0.85 - ETA: 4s - loss: 0.3663 - accuracy: 0.85 - ETA: 3s - loss: 0.3660 - accuracy: 0.85 - ETA: 3s - loss: 0.3663 - accuracy: 0.85 - ETA: 3s - loss: 0.3662 - accuracy: 0.85 - ETA: 3s - loss: 0.3665 - accuracy: 0.85 - ETA: 3s - loss: 0.3664 - accuracy: 0.85 - ETA: 2s - loss: 0.3664 - accuracy: 0.85 - ETA: 2s - loss: 0.3664 - accuracy: 0.85 - ETA: 2s - loss: 0.3663 - accuracy: 0.85 - ETA: 2s - loss: 0.3663 - accuracy: 0.85 - ETA: 2s - loss: 0.3663 - accuracy: 0.85 - ETA: 1s - loss: 0.3665 - accuracy: 0.85 - ETA: 1s - loss: 0.3665 - accuracy: 0.85 - ETA: 1s - loss: 0.3663 - accuracy: 0.85 - ETA: 1s - loss: 0.3664 - accuracy: 0.85 - ETA: 1s - loss: 0.3660 - accuracy: 0.85 - ETA: 0s - loss: 0.3662 - accuracy: 0.85 - ETA: 0s - loss: 0.3659 - accuracy: 0.85 - ETA: 0s - loss: 0.3665 - accuracy: 0.85 - ETA: 0s - loss: 0.3668 - accuracy: 0.85 - ETA: 0s - loss: 0.3668 - accuracy: 0.85 - 116s 207ms/step - loss: 0.3668 - accuracy: 0.8544\n"
     ]
    },
    {
     "data": {
      "text/plain": [
       "<tensorflow.python.keras.callbacks.History at 0x151825b7dd8>"
      ]
     },
     "execution_count": 281,
     "metadata": {},
     "output_type": "execute_result"
    }
   ],
   "source": [
    "from keras.callbacks import EarlyStopping\n",
    "batch_size = 32\n",
    "epochs = 6\n",
    "#es_callback = EarlyStopping(monitor='val_loss', patience=3,restore_best_weights=True)\n",
    "\n",
    "#model.fit(X_train,y_train, callbacks=[es_callback],verbose=1)\n",
    "model.fit(X_train, y_train, epochs=epochs, batch_size=batch_size)"
   ]
  },
  {
   "cell_type": "code",
   "execution_count": 326,
   "metadata": {},
   "outputs": [
    {
     "name": "stdout",
     "output_type": "stream",
     "text": [
      "probably wont back honest [0.13139129 0.8627709  0.00583779] [0 1 0]\n",
      "waited thirty minute seated although vacant table folk waiting [0.8664016  0.10569184 0.02790651] [1 0 0]\n",
      "read star war try experiment borrow one [0.13093668 0.852275   0.01678836] [1 0 0]\n",
      "hostel food crap sick [9.9854028e-01 1.3914889e-03 6.8221074e-05] [1 0 0]\n",
      "know speak english [0.08232123 0.70845926 0.20921947] [0 1 0]\n"
     ]
    },
    {
     "data": {
      "text/plain": [
       "[None, None, None, None, None]"
      ]
     },
     "execution_count": 326,
     "metadata": {},
     "output_type": "execute_result"
    }
   ],
   "source": [
    "predictions = model.predict(X_test)\n",
    "[print(x_feature['body'][i], predictions[i], y_test[i]) for i in range(0, 5)]"
   ]
  },
  {
   "cell_type": "code",
   "execution_count": 327,
   "metadata": {},
   "outputs": [
    {
     "name": "stdout",
     "output_type": "stream",
     "text": [
      "Positive predictions: 933\n",
      "Neutral predictions: 1184\n",
      "Negative predictions: 2348\n",
      "Real positive: 1001\n",
      "Real neutral: 1141\n",
      "Real negative: 2323\n"
     ]
    }
   ],
   "source": [
    "pos_count, neu_count, neg_count = 0, 0, 0\n",
    "real_pos, real_neu, real_neg = 0, 0, 0\n",
    "for i, prediction in enumerate(predictions):\n",
    "    if np.argmax(prediction)==2:\n",
    "        pos_count += 1\n",
    "    elif np.argmax(prediction)==1:\n",
    "        neu_count += 1\n",
    "    else:\n",
    "        neg_count += 1\n",
    "    \n",
    "    if np.argmax(y_test[i])==2:\n",
    "        real_pos += 1\n",
    "    elif np.argmax(y_test[i])==1:    \n",
    "        real_neu += 1\n",
    "    else:\n",
    "        real_neg +=1\n",
    "\n",
    "print('Positive predictions:', pos_count)\n",
    "print('Neutral predictions:', neu_count)\n",
    "print('Negative predictions:', neg_count)\n",
    "print('Real positive:', real_pos)\n",
    "print('Real neutral:', real_neu)\n",
    "print('Real negative:', real_neg)"
   ]
  },
  {
   "cell_type": "code",
   "execution_count": 348,
   "metadata": {},
   "outputs": [
    {
     "data": {
      "text/plain": [
       "[[1141]]"
      ]
     },
     "execution_count": 348,
     "metadata": {},
     "output_type": "execute_result"
    }
   ],
   "source": [
    "tt=tokenizer.texts_to_sequences(['honest'])\n",
    "tt"
   ]
  },
  {
   "cell_type": "code",
   "execution_count": 344,
   "metadata": {},
   "outputs": [
    {
     "data": {
      "text/plain": [
       "array([[ 7, 38]])"
      ]
     },
     "execution_count": 344,
     "metadata": {},
     "output_type": "execute_result"
    }
   ],
   "source": [
    "tt=pad_sequences(tt)\n",
    "tt"
   ]
  },
  {
   "cell_type": "code",
   "execution_count": 345,
   "metadata": {},
   "outputs": [
    {
     "data": {
      "text/plain": [
       "array([[0.7608152 , 0.10702538, 0.13215938]], dtype=float32)"
      ]
     },
     "execution_count": 345,
     "metadata": {},
     "output_type": "execute_result"
    }
   ],
   "source": [
    "model.predict(tt)"
   ]
  },
  {
   "cell_type": "code",
   "execution_count": 346,
   "metadata": {},
   "outputs": [],
   "source": [
    "model.save('glove6.h5')"
   ]
  },
  {
   "cell_type": "code",
   "execution_count": 347,
   "metadata": {},
   "outputs": [],
   "source": [
    "with open('pickle6.pickle', 'wb') as handle:\n",
    "    pickle.dump(tokenizer, handle, protocol=pickle.HIGHEST_PROTOCOL)"
   ]
  },
  {
   "cell_type": "code",
   "execution_count": 206,
   "metadata": {},
   "outputs": [],
   "source": [
    "from keras.callbacks import EarlyStopping"
   ]
  },
  {
   "cell_type": "code",
   "execution_count": null,
   "metadata": {},
   "outputs": [],
   "source": [
    "print"
   ]
  }
 ],
 "metadata": {
  "kernelspec": {
   "display_name": "Python 3",
   "language": "python",
   "name": "python3"
  },
  "language_info": {
   "codemirror_mode": {
    "name": "ipython",
    "version": 3
   },
   "file_extension": ".py",
   "mimetype": "text/x-python",
   "name": "python",
   "nbconvert_exporter": "python",
   "pygments_lexer": "ipython3",
   "version": "3.7.1"
  }
 },
 "nbformat": 4,
 "nbformat_minor": 2
}

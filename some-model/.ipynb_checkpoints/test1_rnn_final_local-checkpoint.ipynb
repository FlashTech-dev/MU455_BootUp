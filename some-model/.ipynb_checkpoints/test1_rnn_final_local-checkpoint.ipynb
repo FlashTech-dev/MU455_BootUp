{
 "cells": [
  {
   "cell_type": "code",
   "execution_count": 2,
   "metadata": {
    "colab": {
     "base_uri": "https://localhost:8080/",
     "height": 1000
    },
    "colab_type": "code",
    "id": "NimMMBOnTMZr",
    "outputId": "8ad43a1e-7c88-4e37-b494-313bd5132e4e"
   },
   "outputs": [
    {
     "name": "stderr",
     "output_type": "stream",
     "text": [
      "[nltk_data] Downloading collection 'all'\n",
      "[nltk_data]    | \n",
      "[nltk_data]    | Downloading package abc to C:\\Users\\Pratik\n",
      "[nltk_data]    |     Temkar\\AppData\\Roaming\\nltk_data...\n",
      "[nltk_data]    |   Package abc is already up-to-date!\n",
      "[nltk_data]    | Downloading package alpino to C:\\Users\\Pratik\n",
      "[nltk_data]    |     Temkar\\AppData\\Roaming\\nltk_data...\n",
      "[nltk_data]    |   Package alpino is already up-to-date!\n",
      "[nltk_data]    | Downloading package biocreative_ppi to\n",
      "[nltk_data]    |     C:\\Users\\Pratik\n",
      "[nltk_data]    |     Temkar\\AppData\\Roaming\\nltk_data...\n",
      "[nltk_data]    |   Package biocreative_ppi is already up-to-date!\n",
      "[nltk_data]    | Downloading package brown to C:\\Users\\Pratik\n",
      "[nltk_data]    |     Temkar\\AppData\\Roaming\\nltk_data...\n",
      "[nltk_data]    |   Package brown is already up-to-date!\n",
      "[nltk_data]    | Downloading package brown_tei to C:\\Users\\Pratik\n",
      "[nltk_data]    |     Temkar\\AppData\\Roaming\\nltk_data...\n",
      "[nltk_data]    |   Package brown_tei is already up-to-date!\n",
      "[nltk_data]    | Downloading package cess_cat to C:\\Users\\Pratik\n",
      "[nltk_data]    |     Temkar\\AppData\\Roaming\\nltk_data...\n",
      "[nltk_data]    |   Package cess_cat is already up-to-date!\n",
      "[nltk_data]    | Downloading package cess_esp to C:\\Users\\Pratik\n",
      "[nltk_data]    |     Temkar\\AppData\\Roaming\\nltk_data...\n",
      "[nltk_data]    |   Package cess_esp is already up-to-date!\n",
      "[nltk_data]    | Downloading package chat80 to C:\\Users\\Pratik\n",
      "[nltk_data]    |     Temkar\\AppData\\Roaming\\nltk_data...\n",
      "[nltk_data]    |   Package chat80 is already up-to-date!\n",
      "[nltk_data]    | Downloading package city_database to C:\\Users\\Pratik\n",
      "[nltk_data]    |     Temkar\\AppData\\Roaming\\nltk_data...\n",
      "[nltk_data]    |   Package city_database is already up-to-date!\n",
      "[nltk_data]    | Downloading package cmudict to C:\\Users\\Pratik\n",
      "[nltk_data]    |     Temkar\\AppData\\Roaming\\nltk_data...\n",
      "[nltk_data]    |   Package cmudict is already up-to-date!\n",
      "[nltk_data]    | Downloading package comparative_sentences to\n",
      "[nltk_data]    |     C:\\Users\\Pratik\n",
      "[nltk_data]    |     Temkar\\AppData\\Roaming\\nltk_data...\n",
      "[nltk_data]    |   Package comparative_sentences is already up-to-\n",
      "[nltk_data]    |       date!\n",
      "[nltk_data]    | Downloading package comtrans to C:\\Users\\Pratik\n",
      "[nltk_data]    |     Temkar\\AppData\\Roaming\\nltk_data...\n",
      "[nltk_data]    |   Package comtrans is already up-to-date!\n",
      "[nltk_data]    | Downloading package conll2000 to C:\\Users\\Pratik\n",
      "[nltk_data]    |     Temkar\\AppData\\Roaming\\nltk_data...\n",
      "[nltk_data]    |   Package conll2000 is already up-to-date!\n",
      "[nltk_data]    | Downloading package conll2002 to C:\\Users\\Pratik\n",
      "[nltk_data]    |     Temkar\\AppData\\Roaming\\nltk_data...\n",
      "[nltk_data]    |   Package conll2002 is already up-to-date!\n",
      "[nltk_data]    | Downloading package conll2007 to C:\\Users\\Pratik\n",
      "[nltk_data]    |     Temkar\\AppData\\Roaming\\nltk_data...\n",
      "[nltk_data]    |   Package conll2007 is already up-to-date!\n",
      "[nltk_data]    | Downloading package crubadan to C:\\Users\\Pratik\n",
      "[nltk_data]    |     Temkar\\AppData\\Roaming\\nltk_data...\n",
      "[nltk_data]    |   Package crubadan is already up-to-date!\n",
      "[nltk_data]    | Downloading package dependency_treebank to\n",
      "[nltk_data]    |     C:\\Users\\Pratik\n",
      "[nltk_data]    |     Temkar\\AppData\\Roaming\\nltk_data...\n",
      "[nltk_data]    |   Package dependency_treebank is already up-to-date!\n",
      "[nltk_data]    | Downloading package dolch to C:\\Users\\Pratik\n",
      "[nltk_data]    |     Temkar\\AppData\\Roaming\\nltk_data...\n",
      "[nltk_data]    |   Package dolch is already up-to-date!\n",
      "[nltk_data]    | Downloading package europarl_raw to C:\\Users\\Pratik\n",
      "[nltk_data]    |     Temkar\\AppData\\Roaming\\nltk_data...\n",
      "[nltk_data]    |   Package europarl_raw is already up-to-date!\n",
      "[nltk_data]    | Downloading package floresta to C:\\Users\\Pratik\n",
      "[nltk_data]    |     Temkar\\AppData\\Roaming\\nltk_data...\n",
      "[nltk_data]    |   Package floresta is already up-to-date!\n",
      "[nltk_data]    | Downloading package framenet_v15 to C:\\Users\\Pratik\n",
      "[nltk_data]    |     Temkar\\AppData\\Roaming\\nltk_data...\n",
      "[nltk_data]    |   Package framenet_v15 is already up-to-date!\n",
      "[nltk_data]    | Downloading package framenet_v17 to C:\\Users\\Pratik\n",
      "[nltk_data]    |     Temkar\\AppData\\Roaming\\nltk_data...\n",
      "[nltk_data]    |   Package framenet_v17 is already up-to-date!\n",
      "[nltk_data]    | Downloading package gazetteers to C:\\Users\\Pratik\n",
      "[nltk_data]    |     Temkar\\AppData\\Roaming\\nltk_data...\n",
      "[nltk_data]    |   Package gazetteers is already up-to-date!\n",
      "[nltk_data]    | Downloading package genesis to C:\\Users\\Pratik\n",
      "[nltk_data]    |     Temkar\\AppData\\Roaming\\nltk_data...\n",
      "[nltk_data]    |   Package genesis is already up-to-date!\n",
      "[nltk_data]    | Downloading package gutenberg to C:\\Users\\Pratik\n",
      "[nltk_data]    |     Temkar\\AppData\\Roaming\\nltk_data...\n",
      "[nltk_data]    |   Package gutenberg is already up-to-date!\n",
      "[nltk_data]    | Downloading package ieer to C:\\Users\\Pratik\n",
      "[nltk_data]    |     Temkar\\AppData\\Roaming\\nltk_data...\n",
      "[nltk_data]    |   Package ieer is already up-to-date!\n",
      "[nltk_data]    | Downloading package inaugural to C:\\Users\\Pratik\n",
      "[nltk_data]    |     Temkar\\AppData\\Roaming\\nltk_data...\n",
      "[nltk_data]    |   Package inaugural is already up-to-date!\n",
      "[nltk_data]    | Downloading package indian to C:\\Users\\Pratik\n",
      "[nltk_data]    |     Temkar\\AppData\\Roaming\\nltk_data...\n",
      "[nltk_data]    |   Package indian is already up-to-date!\n",
      "[nltk_data]    | Downloading package jeita to C:\\Users\\Pratik\n",
      "[nltk_data]    |     Temkar\\AppData\\Roaming\\nltk_data...\n",
      "[nltk_data]    |   Package jeita is already up-to-date!\n",
      "[nltk_data]    | Downloading package kimmo to C:\\Users\\Pratik\n",
      "[nltk_data]    |     Temkar\\AppData\\Roaming\\nltk_data...\n",
      "[nltk_data]    |   Package kimmo is already up-to-date!\n",
      "[nltk_data]    | Downloading package knbc to C:\\Users\\Pratik\n",
      "[nltk_data]    |     Temkar\\AppData\\Roaming\\nltk_data...\n",
      "[nltk_data]    |   Package knbc is already up-to-date!\n",
      "[nltk_data]    | Downloading package lin_thesaurus to C:\\Users\\Pratik\n",
      "[nltk_data]    |     Temkar\\AppData\\Roaming\\nltk_data...\n",
      "[nltk_data]    |   Package lin_thesaurus is already up-to-date!\n",
      "[nltk_data]    | Downloading package mac_morpho to C:\\Users\\Pratik\n",
      "[nltk_data]    |     Temkar\\AppData\\Roaming\\nltk_data...\n",
      "[nltk_data]    |   Package mac_morpho is already up-to-date!\n",
      "[nltk_data]    | Downloading package machado to C:\\Users\\Pratik\n",
      "[nltk_data]    |     Temkar\\AppData\\Roaming\\nltk_data...\n",
      "[nltk_data]    |   Package machado is already up-to-date!\n",
      "[nltk_data]    | Downloading package masc_tagged to C:\\Users\\Pratik\n",
      "[nltk_data]    |     Temkar\\AppData\\Roaming\\nltk_data...\n",
      "[nltk_data]    |   Package masc_tagged is already up-to-date!\n",
      "[nltk_data]    | Downloading package moses_sample to C:\\Users\\Pratik\n",
      "[nltk_data]    |     Temkar\\AppData\\Roaming\\nltk_data...\n",
      "[nltk_data]    |   Package moses_sample is already up-to-date!\n",
      "[nltk_data]    | Downloading package movie_reviews to C:\\Users\\Pratik\n",
      "[nltk_data]    |     Temkar\\AppData\\Roaming\\nltk_data...\n",
      "[nltk_data]    |   Package movie_reviews is already up-to-date!\n",
      "[nltk_data]    | Downloading package names to C:\\Users\\Pratik\n",
      "[nltk_data]    |     Temkar\\AppData\\Roaming\\nltk_data...\n",
      "[nltk_data]    |   Package names is already up-to-date!\n",
      "[nltk_data]    | Downloading package nombank.1.0 to C:\\Users\\Pratik\n",
      "[nltk_data]    |     Temkar\\AppData\\Roaming\\nltk_data...\n",
      "[nltk_data]    |   Package nombank.1.0 is already up-to-date!\n",
      "[nltk_data]    | Downloading package nps_chat to C:\\Users\\Pratik\n",
      "[nltk_data]    |     Temkar\\AppData\\Roaming\\nltk_data...\n",
      "[nltk_data]    |   Package nps_chat is already up-to-date!\n",
      "[nltk_data]    | Downloading package omw to C:\\Users\\Pratik\n",
      "[nltk_data]    |     Temkar\\AppData\\Roaming\\nltk_data...\n",
      "[nltk_data]    |   Package omw is already up-to-date!\n",
      "[nltk_data]    | Downloading package opinion_lexicon to\n",
      "[nltk_data]    |     C:\\Users\\Pratik\n",
      "[nltk_data]    |     Temkar\\AppData\\Roaming\\nltk_data...\n",
      "[nltk_data]    |   Package opinion_lexicon is already up-to-date!\n",
      "[nltk_data]    | Downloading package paradigms to C:\\Users\\Pratik\n",
      "[nltk_data]    |     Temkar\\AppData\\Roaming\\nltk_data...\n",
      "[nltk_data]    |   Package paradigms is already up-to-date!\n",
      "[nltk_data]    | Downloading package pil to C:\\Users\\Pratik\n",
      "[nltk_data]    |     Temkar\\AppData\\Roaming\\nltk_data...\n",
      "[nltk_data]    |   Package pil is already up-to-date!\n",
      "[nltk_data]    | Downloading package pl196x to C:\\Users\\Pratik\n",
      "[nltk_data]    |     Temkar\\AppData\\Roaming\\nltk_data...\n",
      "[nltk_data]    |   Package pl196x is already up-to-date!\n",
      "[nltk_data]    | Downloading package ppattach to C:\\Users\\Pratik\n",
      "[nltk_data]    |     Temkar\\AppData\\Roaming\\nltk_data...\n",
      "[nltk_data]    |   Package ppattach is already up-to-date!\n",
      "[nltk_data]    | Downloading package problem_reports to\n",
      "[nltk_data]    |     C:\\Users\\Pratik\n",
      "[nltk_data]    |     Temkar\\AppData\\Roaming\\nltk_data...\n",
      "[nltk_data]    |   Package problem_reports is already up-to-date!\n",
      "[nltk_data]    | Downloading package propbank to C:\\Users\\Pratik\n",
      "[nltk_data]    |     Temkar\\AppData\\Roaming\\nltk_data...\n",
      "[nltk_data]    |   Package propbank is already up-to-date!\n",
      "[nltk_data]    | Downloading package ptb to C:\\Users\\Pratik\n",
      "[nltk_data]    |     Temkar\\AppData\\Roaming\\nltk_data...\n",
      "[nltk_data]    |   Package ptb is already up-to-date!\n",
      "[nltk_data]    | Downloading package product_reviews_1 to\n",
      "[nltk_data]    |     C:\\Users\\Pratik\n",
      "[nltk_data]    |     Temkar\\AppData\\Roaming\\nltk_data...\n",
      "[nltk_data]    |   Package product_reviews_1 is already up-to-date!\n",
      "[nltk_data]    | Downloading package product_reviews_2 to\n",
      "[nltk_data]    |     C:\\Users\\Pratik\n",
      "[nltk_data]    |     Temkar\\AppData\\Roaming\\nltk_data...\n",
      "[nltk_data]    |   Package product_reviews_2 is already up-to-date!\n",
      "[nltk_data]    | Downloading package pros_cons to C:\\Users\\Pratik\n",
      "[nltk_data]    |     Temkar\\AppData\\Roaming\\nltk_data...\n",
      "[nltk_data]    |   Package pros_cons is already up-to-date!\n",
      "[nltk_data]    | Downloading package qc to C:\\Users\\Pratik\n",
      "[nltk_data]    |     Temkar\\AppData\\Roaming\\nltk_data...\n",
      "[nltk_data]    |   Package qc is already up-to-date!\n",
      "[nltk_data]    | Downloading package reuters to C:\\Users\\Pratik\n",
      "[nltk_data]    |     Temkar\\AppData\\Roaming\\nltk_data...\n",
      "[nltk_data]    |   Package reuters is already up-to-date!\n",
      "[nltk_data]    | Downloading package rte to C:\\Users\\Pratik\n",
      "[nltk_data]    |     Temkar\\AppData\\Roaming\\nltk_data...\n",
      "[nltk_data]    |   Package rte is already up-to-date!\n",
      "[nltk_data]    | Downloading package semcor to C:\\Users\\Pratik\n",
      "[nltk_data]    |     Temkar\\AppData\\Roaming\\nltk_data...\n",
      "[nltk_data]    |   Package semcor is already up-to-date!\n",
      "[nltk_data]    | Downloading package senseval to C:\\Users\\Pratik\n",
      "[nltk_data]    |     Temkar\\AppData\\Roaming\\nltk_data...\n"
     ]
    },
    {
     "name": "stderr",
     "output_type": "stream",
     "text": [
      "[nltk_data]    |   Package senseval is already up-to-date!\n",
      "[nltk_data]    | Downloading package sentiwordnet to C:\\Users\\Pratik\n",
      "[nltk_data]    |     Temkar\\AppData\\Roaming\\nltk_data...\n",
      "[nltk_data]    |   Package sentiwordnet is already up-to-date!\n",
      "[nltk_data]    | Downloading package sentence_polarity to\n",
      "[nltk_data]    |     C:\\Users\\Pratik\n",
      "[nltk_data]    |     Temkar\\AppData\\Roaming\\nltk_data...\n",
      "[nltk_data]    |   Package sentence_polarity is already up-to-date!\n",
      "[nltk_data]    | Downloading package shakespeare to C:\\Users\\Pratik\n",
      "[nltk_data]    |     Temkar\\AppData\\Roaming\\nltk_data...\n",
      "[nltk_data]    |   Package shakespeare is already up-to-date!\n",
      "[nltk_data]    | Downloading package sinica_treebank to\n",
      "[nltk_data]    |     C:\\Users\\Pratik\n",
      "[nltk_data]    |     Temkar\\AppData\\Roaming\\nltk_data...\n",
      "[nltk_data]    |   Package sinica_treebank is already up-to-date!\n",
      "[nltk_data]    | Downloading package smultron to C:\\Users\\Pratik\n",
      "[nltk_data]    |     Temkar\\AppData\\Roaming\\nltk_data...\n",
      "[nltk_data]    |   Package smultron is already up-to-date!\n",
      "[nltk_data]    | Downloading package state_union to C:\\Users\\Pratik\n",
      "[nltk_data]    |     Temkar\\AppData\\Roaming\\nltk_data...\n",
      "[nltk_data]    |   Package state_union is already up-to-date!\n",
      "[nltk_data]    | Downloading package stopwords to C:\\Users\\Pratik\n",
      "[nltk_data]    |     Temkar\\AppData\\Roaming\\nltk_data...\n",
      "[nltk_data]    |   Package stopwords is already up-to-date!\n",
      "[nltk_data]    | Downloading package subjectivity to C:\\Users\\Pratik\n",
      "[nltk_data]    |     Temkar\\AppData\\Roaming\\nltk_data...\n",
      "[nltk_data]    |   Package subjectivity is already up-to-date!\n",
      "[nltk_data]    | Downloading package swadesh to C:\\Users\\Pratik\n",
      "[nltk_data]    |     Temkar\\AppData\\Roaming\\nltk_data...\n",
      "[nltk_data]    |   Package swadesh is already up-to-date!\n",
      "[nltk_data]    | Downloading package switchboard to C:\\Users\\Pratik\n",
      "[nltk_data]    |     Temkar\\AppData\\Roaming\\nltk_data...\n",
      "[nltk_data]    |   Package switchboard is already up-to-date!\n",
      "[nltk_data]    | Downloading package timit to C:\\Users\\Pratik\n",
      "[nltk_data]    |     Temkar\\AppData\\Roaming\\nltk_data...\n",
      "[nltk_data]    |   Package timit is already up-to-date!\n",
      "[nltk_data]    | Downloading package toolbox to C:\\Users\\Pratik\n",
      "[nltk_data]    |     Temkar\\AppData\\Roaming\\nltk_data...\n",
      "[nltk_data]    |   Package toolbox is already up-to-date!\n",
      "[nltk_data]    | Downloading package treebank to C:\\Users\\Pratik\n",
      "[nltk_data]    |     Temkar\\AppData\\Roaming\\nltk_data...\n",
      "[nltk_data]    |   Package treebank is already up-to-date!\n",
      "[nltk_data]    | Downloading package twitter_samples to\n",
      "[nltk_data]    |     C:\\Users\\Pratik\n",
      "[nltk_data]    |     Temkar\\AppData\\Roaming\\nltk_data...\n",
      "[nltk_data]    |   Package twitter_samples is already up-to-date!\n",
      "[nltk_data]    | Downloading package udhr to C:\\Users\\Pratik\n",
      "[nltk_data]    |     Temkar\\AppData\\Roaming\\nltk_data...\n",
      "[nltk_data]    |   Package udhr is already up-to-date!\n",
      "[nltk_data]    | Downloading package udhr2 to C:\\Users\\Pratik\n",
      "[nltk_data]    |     Temkar\\AppData\\Roaming\\nltk_data...\n",
      "[nltk_data]    |   Package udhr2 is already up-to-date!\n",
      "[nltk_data]    | Downloading package unicode_samples to\n",
      "[nltk_data]    |     C:\\Users\\Pratik\n",
      "[nltk_data]    |     Temkar\\AppData\\Roaming\\nltk_data...\n",
      "[nltk_data]    |   Package unicode_samples is already up-to-date!\n",
      "[nltk_data]    | Downloading package universal_treebanks_v20 to\n",
      "[nltk_data]    |     C:\\Users\\Pratik\n",
      "[nltk_data]    |     Temkar\\AppData\\Roaming\\nltk_data...\n",
      "[nltk_data]    |   Package universal_treebanks_v20 is already up-to-\n",
      "[nltk_data]    |       date!\n",
      "[nltk_data]    | Downloading package verbnet to C:\\Users\\Pratik\n",
      "[nltk_data]    |     Temkar\\AppData\\Roaming\\nltk_data...\n",
      "[nltk_data]    |   Package verbnet is already up-to-date!\n",
      "[nltk_data]    | Downloading package verbnet3 to C:\\Users\\Pratik\n",
      "[nltk_data]    |     Temkar\\AppData\\Roaming\\nltk_data...\n",
      "[nltk_data]    |   Package verbnet3 is already up-to-date!\n",
      "[nltk_data]    | Downloading package webtext to C:\\Users\\Pratik\n",
      "[nltk_data]    |     Temkar\\AppData\\Roaming\\nltk_data...\n",
      "[nltk_data]    |   Package webtext is already up-to-date!\n",
      "[nltk_data]    | Downloading package wordnet to C:\\Users\\Pratik\n",
      "[nltk_data]    |     Temkar\\AppData\\Roaming\\nltk_data...\n",
      "[nltk_data]    |   Package wordnet is already up-to-date!\n",
      "[nltk_data]    | Downloading package wordnet_ic to C:\\Users\\Pratik\n",
      "[nltk_data]    |     Temkar\\AppData\\Roaming\\nltk_data...\n",
      "[nltk_data]    |   Package wordnet_ic is already up-to-date!\n",
      "[nltk_data]    | Downloading package words to C:\\Users\\Pratik\n",
      "[nltk_data]    |     Temkar\\AppData\\Roaming\\nltk_data...\n",
      "[nltk_data]    |   Package words is already up-to-date!\n",
      "[nltk_data]    | Downloading package ycoe to C:\\Users\\Pratik\n",
      "[nltk_data]    |     Temkar\\AppData\\Roaming\\nltk_data...\n",
      "[nltk_data]    |   Package ycoe is already up-to-date!\n",
      "[nltk_data]    | Downloading package rslp to C:\\Users\\Pratik\n",
      "[nltk_data]    |     Temkar\\AppData\\Roaming\\nltk_data...\n",
      "[nltk_data]    |   Package rslp is already up-to-date!\n",
      "[nltk_data]    | Downloading package maxent_treebank_pos_tagger to\n",
      "[nltk_data]    |     C:\\Users\\Pratik\n",
      "[nltk_data]    |     Temkar\\AppData\\Roaming\\nltk_data...\n",
      "[nltk_data]    |   Package maxent_treebank_pos_tagger is already up-\n",
      "[nltk_data]    |       to-date!\n",
      "[nltk_data]    | Downloading package universal_tagset to\n",
      "[nltk_data]    |     C:\\Users\\Pratik\n",
      "[nltk_data]    |     Temkar\\AppData\\Roaming\\nltk_data...\n",
      "[nltk_data]    |   Package universal_tagset is already up-to-date!\n",
      "[nltk_data]    | Downloading package maxent_ne_chunker to\n",
      "[nltk_data]    |     C:\\Users\\Pratik\n",
      "[nltk_data]    |     Temkar\\AppData\\Roaming\\nltk_data...\n",
      "[nltk_data]    |   Package maxent_ne_chunker is already up-to-date!\n",
      "[nltk_data]    | Downloading package punkt to C:\\Users\\Pratik\n",
      "[nltk_data]    |     Temkar\\AppData\\Roaming\\nltk_data...\n",
      "[nltk_data]    |   Package punkt is already up-to-date!\n",
      "[nltk_data]    | Downloading package book_grammars to C:\\Users\\Pratik\n",
      "[nltk_data]    |     Temkar\\AppData\\Roaming\\nltk_data...\n",
      "[nltk_data]    |   Package book_grammars is already up-to-date!\n",
      "[nltk_data]    | Downloading package sample_grammars to\n",
      "[nltk_data]    |     C:\\Users\\Pratik\n",
      "[nltk_data]    |     Temkar\\AppData\\Roaming\\nltk_data...\n",
      "[nltk_data]    |   Package sample_grammars is already up-to-date!\n",
      "[nltk_data]    | Downloading package spanish_grammars to\n",
      "[nltk_data]    |     C:\\Users\\Pratik\n",
      "[nltk_data]    |     Temkar\\AppData\\Roaming\\nltk_data...\n",
      "[nltk_data]    |   Package spanish_grammars is already up-to-date!\n",
      "[nltk_data]    | Downloading package basque_grammars to\n",
      "[nltk_data]    |     C:\\Users\\Pratik\n",
      "[nltk_data]    |     Temkar\\AppData\\Roaming\\nltk_data...\n",
      "[nltk_data]    |   Package basque_grammars is already up-to-date!\n",
      "[nltk_data]    | Downloading package large_grammars to C:\\Users\\Pratik\n",
      "[nltk_data]    |     Temkar\\AppData\\Roaming\\nltk_data...\n",
      "[nltk_data]    |   Package large_grammars is already up-to-date!\n",
      "[nltk_data]    | Downloading package tagsets to C:\\Users\\Pratik\n",
      "[nltk_data]    |     Temkar\\AppData\\Roaming\\nltk_data...\n",
      "[nltk_data]    |   Package tagsets is already up-to-date!\n",
      "[nltk_data]    | Downloading package snowball_data to C:\\Users\\Pratik\n",
      "[nltk_data]    |     Temkar\\AppData\\Roaming\\nltk_data...\n",
      "[nltk_data]    |   Package snowball_data is already up-to-date!\n",
      "[nltk_data]    | Downloading package bllip_wsj_no_aux to\n",
      "[nltk_data]    |     C:\\Users\\Pratik\n",
      "[nltk_data]    |     Temkar\\AppData\\Roaming\\nltk_data...\n",
      "[nltk_data]    |   Package bllip_wsj_no_aux is already up-to-date!\n",
      "[nltk_data]    | Downloading package word2vec_sample to\n",
      "[nltk_data]    |     C:\\Users\\Pratik\n",
      "[nltk_data]    |     Temkar\\AppData\\Roaming\\nltk_data...\n",
      "[nltk_data]    |   Package word2vec_sample is already up-to-date!\n",
      "[nltk_data]    | Downloading package panlex_swadesh to C:\\Users\\Pratik\n",
      "[nltk_data]    |     Temkar\\AppData\\Roaming\\nltk_data...\n",
      "[nltk_data]    |   Package panlex_swadesh is already up-to-date!\n",
      "[nltk_data]    | Downloading package mte_teip5 to C:\\Users\\Pratik\n",
      "[nltk_data]    |     Temkar\\AppData\\Roaming\\nltk_data...\n",
      "[nltk_data]    |   Package mte_teip5 is already up-to-date!\n",
      "[nltk_data]    | Downloading package averaged_perceptron_tagger to\n",
      "[nltk_data]    |     C:\\Users\\Pratik\n",
      "[nltk_data]    |     Temkar\\AppData\\Roaming\\nltk_data...\n",
      "[nltk_data]    |   Package averaged_perceptron_tagger is already up-\n",
      "[nltk_data]    |       to-date!\n",
      "[nltk_data]    | Downloading package averaged_perceptron_tagger_ru to\n",
      "[nltk_data]    |     C:\\Users\\Pratik\n",
      "[nltk_data]    |     Temkar\\AppData\\Roaming\\nltk_data...\n",
      "[nltk_data]    |   Package averaged_perceptron_tagger_ru is already\n",
      "[nltk_data]    |       up-to-date!\n",
      "[nltk_data]    | Downloading package perluniprops to C:\\Users\\Pratik\n",
      "[nltk_data]    |     Temkar\\AppData\\Roaming\\nltk_data...\n",
      "[nltk_data]    |   Package perluniprops is already up-to-date!\n",
      "[nltk_data]    | Downloading package nonbreaking_prefixes to\n",
      "[nltk_data]    |     C:\\Users\\Pratik\n",
      "[nltk_data]    |     Temkar\\AppData\\Roaming\\nltk_data...\n",
      "[nltk_data]    |   Package nonbreaking_prefixes is already up-to-date!\n",
      "[nltk_data]    | Downloading package vader_lexicon to C:\\Users\\Pratik\n",
      "[nltk_data]    |     Temkar\\AppData\\Roaming\\nltk_data...\n",
      "[nltk_data]    |   Package vader_lexicon is already up-to-date!\n",
      "[nltk_data]    | Downloading package porter_test to C:\\Users\\Pratik\n",
      "[nltk_data]    |     Temkar\\AppData\\Roaming\\nltk_data...\n",
      "[nltk_data]    |   Package porter_test is already up-to-date!\n",
      "[nltk_data]    | Downloading package wmt15_eval to C:\\Users\\Pratik\n",
      "[nltk_data]    |     Temkar\\AppData\\Roaming\\nltk_data...\n",
      "[nltk_data]    |   Package wmt15_eval is already up-to-date!\n",
      "[nltk_data]    | Downloading package mwa_ppdb to C:\\Users\\Pratik\n",
      "[nltk_data]    |     Temkar\\AppData\\Roaming\\nltk_data...\n",
      "[nltk_data]    |   Package mwa_ppdb is already up-to-date!\n",
      "[nltk_data]    | \n",
      "[nltk_data]  Done downloading collection all\n"
     ]
    }
   ],
   "source": [
    "import pandas as pd\n",
    "import re\n",
    "import numpy as np\n",
    "from sklearn.model_selection import train_test_split\n",
    "import matplotlib.pyplot as plt\n",
    "\n",
    "from keras.models import Sequential,load_model\n",
    "from keras.layers import Dense,LSTM,Embedding,Dropout\n",
    "from keras.preprocessing.text import Tokenizer\n",
    "from keras.preprocessing.sequence import pad_sequences\n",
    "\n",
    "import nltk\n",
    "nltk.download('all')\n",
    "import string\n",
    "import re\n",
    "from nltk.corpus import stopwords\n",
    "stop = stopwords.words('english')\n",
    "ps = nltk.PorterStemmer()\n",
    "lm = nltk.WordNetLemmatizer()\n",
    "from keras.models import load_model\n",
    "import pickle\n",
    "\n",
    "# from google.colab import files\n",
    "import io"
   ]
  },
  {
   "cell_type": "code",
   "execution_count": 3,
   "metadata": {
    "colab": {
     "base_uri": "https://localhost:8080/",
     "height": 213
    },
    "colab_type": "code",
    "id": "4igG8mneTMZv",
    "outputId": "e51cefa2-216d-4588-afb5-5b198b0c936a"
   },
   "outputs": [
    {
     "name": "stdout",
     "output_type": "stream",
     "text": [
      "(4015, 3)\n"
     ]
    },
    {
     "data": {
      "text/html": [
       "<div>\n",
       "<style scoped>\n",
       "    .dataframe tbody tr th:only-of-type {\n",
       "        vertical-align: middle;\n",
       "    }\n",
       "\n",
       "    .dataframe tbody tr th {\n",
       "        vertical-align: top;\n",
       "    }\n",
       "\n",
       "    .dataframe thead th {\n",
       "        text-align: right;\n",
       "    }\n",
       "</style>\n",
       "<table border=\"1\" class=\"dataframe\">\n",
       "  <thead>\n",
       "    <tr style=\"text-align: right;\">\n",
       "      <th></th>\n",
       "      <th>module output</th>\n",
       "      <th>emotion</th>\n",
       "      <th>label</th>\n",
       "    </tr>\n",
       "  </thead>\n",
       "  <tbody>\n",
       "    <tr>\n",
       "      <th>0</th>\n",
       "      <td>Having just finished a long journey through \"T...</td>\n",
       "      <td>neutral</td>\n",
       "      <td>Neutral</td>\n",
       "    </tr>\n",
       "    <tr>\n",
       "      <th>1</th>\n",
       "      <td>I do love sushi, but I found Kabuki to be over...</td>\n",
       "      <td>Neutral</td>\n",
       "      <td>Neutral</td>\n",
       "    </tr>\n",
       "    <tr>\n",
       "      <th>2</th>\n",
       "      <td>Rattle our hearts when we hear</td>\n",
       "      <td>love</td>\n",
       "      <td>neutral</td>\n",
       "    </tr>\n",
       "    <tr>\n",
       "      <th>3</th>\n",
       "      <td>Next month is the dedication of the new Phoeni...</td>\n",
       "      <td>neutral</td>\n",
       "      <td>neutral</td>\n",
       "    </tr>\n",
       "    <tr>\n",
       "      <th>4</th>\n",
       "      <td>I LOVED their mussels cooked in this wine redu...</td>\n",
       "      <td>Neutral</td>\n",
       "      <td>Positive</td>\n",
       "    </tr>\n",
       "  </tbody>\n",
       "</table>\n",
       "</div>"
      ],
      "text/plain": [
       "                                       module output  emotion     label\n",
       "0  Having just finished a long journey through \"T...  neutral   Neutral\n",
       "1  I do love sushi, but I found Kabuki to be over...  Neutral   Neutral\n",
       "2                     Rattle our hearts when we hear     love   neutral\n",
       "3  Next month is the dedication of the new Phoeni...  neutral   neutral\n",
       "4  I LOVED their mussels cooked in this wine redu...  Neutral  Positive"
      ]
     },
     "execution_count": 3,
     "metadata": {},
     "output_type": "execute_result"
    }
   ],
   "source": [
    "data1=pd.read_csv(\"SIH2020_Dataset (1).csv\",encoding= 'unicode_escape')\n",
    "data1=data1.sample(frac=1).reset_index(drop=True)\n",
    "print(data1.shape)\n",
    "data1.head()"
   ]
  },
  {
   "cell_type": "code",
   "execution_count": 4,
   "metadata": {
    "colab": {
     "base_uri": "https://localhost:8080/",
     "height": 34
    },
    "colab_type": "code",
    "id": "YMKm0cUSTMZz",
    "outputId": "d3e19fca-fc21-4777-9bbc-b4c66d36c866"
   },
   "outputs": [
    {
     "data": {
      "text/plain": [
       "(4015, 3)"
      ]
     },
     "execution_count": 4,
     "metadata": {},
     "output_type": "execute_result"
    }
   ],
   "source": [
    "data1.shape"
   ]
  },
  {
   "cell_type": "code",
   "execution_count": 5,
   "metadata": {
    "colab": {
     "base_uri": "https://localhost:8080/",
     "height": 195
    },
    "colab_type": "code",
    "id": "2YKwQ5hDTMZ2",
    "outputId": "af749c22-d8e8-4076-8ed2-835a6564bceb"
   },
   "outputs": [
    {
     "data": {
      "text/html": [
       "<div>\n",
       "<style scoped>\n",
       "    .dataframe tbody tr th:only-of-type {\n",
       "        vertical-align: middle;\n",
       "    }\n",
       "\n",
       "    .dataframe tbody tr th {\n",
       "        vertical-align: top;\n",
       "    }\n",
       "\n",
       "    .dataframe thead th {\n",
       "        text-align: right;\n",
       "    }\n",
       "</style>\n",
       "<table border=\"1\" class=\"dataframe\">\n",
       "  <thead>\n",
       "    <tr style=\"text-align: right;\">\n",
       "      <th></th>\n",
       "      <th>module output</th>\n",
       "      <th>label</th>\n",
       "    </tr>\n",
       "  </thead>\n",
       "  <tbody>\n",
       "    <tr>\n",
       "      <th>0</th>\n",
       "      <td>Having just finished a long journey through \"T...</td>\n",
       "      <td>Neutral</td>\n",
       "    </tr>\n",
       "    <tr>\n",
       "      <th>1</th>\n",
       "      <td>I do love sushi, but I found Kabuki to be over...</td>\n",
       "      <td>Neutral</td>\n",
       "    </tr>\n",
       "    <tr>\n",
       "      <th>2</th>\n",
       "      <td>Rattle our hearts when we hear</td>\n",
       "      <td>neutral</td>\n",
       "    </tr>\n",
       "    <tr>\n",
       "      <th>3</th>\n",
       "      <td>Next month is the dedication of the new Phoeni...</td>\n",
       "      <td>neutral</td>\n",
       "    </tr>\n",
       "    <tr>\n",
       "      <th>4</th>\n",
       "      <td>I LOVED their mussels cooked in this wine redu...</td>\n",
       "      <td>Positive</td>\n",
       "    </tr>\n",
       "  </tbody>\n",
       "</table>\n",
       "</div>"
      ],
      "text/plain": [
       "                                       module output     label\n",
       "0  Having just finished a long journey through \"T...   Neutral\n",
       "1  I do love sushi, but I found Kabuki to be over...   Neutral\n",
       "2                     Rattle our hearts when we hear   neutral\n",
       "3  Next month is the dedication of the new Phoeni...   neutral\n",
       "4  I LOVED their mussels cooked in this wine redu...  Positive"
      ]
     },
     "execution_count": 5,
     "metadata": {},
     "output_type": "execute_result"
    }
   ],
   "source": [
    "data1=data1[['module output','label']]\n",
    "data1.head()"
   ]
  },
  {
   "cell_type": "code",
   "execution_count": 6,
   "metadata": {
    "colab": {
     "base_uri": "https://localhost:8080/",
     "height": 502
    },
    "colab_type": "code",
    "id": "nw4X_N8qTMZ4",
    "outputId": "1bd1cec6-bc5e-4881-f9b0-802bb9f2996e"
   },
   "outputs": [
    {
     "name": "stdout",
     "output_type": "stream",
     "text": [
      "(14640, 15)\n"
     ]
    },
    {
     "data": {
      "text/html": [
       "<div>\n",
       "<style scoped>\n",
       "    .dataframe tbody tr th:only-of-type {\n",
       "        vertical-align: middle;\n",
       "    }\n",
       "\n",
       "    .dataframe tbody tr th {\n",
       "        vertical-align: top;\n",
       "    }\n",
       "\n",
       "    .dataframe thead th {\n",
       "        text-align: right;\n",
       "    }\n",
       "</style>\n",
       "<table border=\"1\" class=\"dataframe\">\n",
       "  <thead>\n",
       "    <tr style=\"text-align: right;\">\n",
       "      <th></th>\n",
       "      <th>tweet_id</th>\n",
       "      <th>label</th>\n",
       "      <th>airline_sentiment_confidence</th>\n",
       "      <th>negativereason</th>\n",
       "      <th>negativereason_confidence</th>\n",
       "      <th>airline</th>\n",
       "      <th>airline_sentiment_gold</th>\n",
       "      <th>name</th>\n",
       "      <th>negativereason_gold</th>\n",
       "      <th>retweet_count</th>\n",
       "      <th>module output</th>\n",
       "      <th>tweet_coord</th>\n",
       "      <th>tweet_created</th>\n",
       "      <th>tweet_location</th>\n",
       "      <th>user_timezone</th>\n",
       "    </tr>\n",
       "  </thead>\n",
       "  <tbody>\n",
       "    <tr>\n",
       "      <th>0</th>\n",
       "      <td>5.691170e+17</td>\n",
       "      <td>negative</td>\n",
       "      <td>1.0000</td>\n",
       "      <td>Flight Booking Problems</td>\n",
       "      <td>0.6714</td>\n",
       "      <td>US Airways</td>\n",
       "      <td>NaN</td>\n",
       "      <td>shaun_g</td>\n",
       "      <td>NaN</td>\n",
       "      <td>0</td>\n",
       "      <td>@USAirways bumping people off a flight ten min...</td>\n",
       "      <td>NaN</td>\n",
       "      <td>2015-02-21 04:52:07 -0800</td>\n",
       "      <td>Nairobi</td>\n",
       "      <td>Nairobi</td>\n",
       "    </tr>\n",
       "    <tr>\n",
       "      <th>1</th>\n",
       "      <td>5.685330e+17</td>\n",
       "      <td>neutral</td>\n",
       "      <td>1.0000</td>\n",
       "      <td>NaN</td>\n",
       "      <td>NaN</td>\n",
       "      <td>United</td>\n",
       "      <td>NaN</td>\n",
       "      <td>NoviceFlyer</td>\n",
       "      <td>NaN</td>\n",
       "      <td>0</td>\n",
       "      <td>@united can I access Frankfurt arrival lounge ...</td>\n",
       "      <td>NaN</td>\n",
       "      <td>2015-02-19 14:11:33 -0800</td>\n",
       "      <td>Tulsa, OK</td>\n",
       "      <td>Central Time (US &amp; Canada)</td>\n",
       "    </tr>\n",
       "    <tr>\n",
       "      <th>2</th>\n",
       "      <td>5.698290e+17</td>\n",
       "      <td>neutral</td>\n",
       "      <td>0.6849</td>\n",
       "      <td>NaN</td>\n",
       "      <td>0.0000</td>\n",
       "      <td>American</td>\n",
       "      <td>NaN</td>\n",
       "      <td>ThatsKathalina</td>\n",
       "      <td>NaN</td>\n",
       "      <td>0</td>\n",
       "      <td>@AmericanAir , CHECK DM PLEASE!</td>\n",
       "      <td>NaN</td>\n",
       "      <td>2015-02-23 04:00:50 -0800</td>\n",
       "      <td>NaN</td>\n",
       "      <td>Eastern Time (US &amp; Canada)</td>\n",
       "    </tr>\n",
       "    <tr>\n",
       "      <th>3</th>\n",
       "      <td>5.696440e+17</td>\n",
       "      <td>neutral</td>\n",
       "      <td>1.0000</td>\n",
       "      <td>NaN</td>\n",
       "      <td>NaN</td>\n",
       "      <td>Southwest</td>\n",
       "      <td>NaN</td>\n",
       "      <td>TaylorLumsden</td>\n",
       "      <td>NaN</td>\n",
       "      <td>0</td>\n",
       "      <td>@SouthwestAir still planing on flights into Da...</td>\n",
       "      <td>NaN</td>\n",
       "      <td>2015-02-22 15:46:26 -0800</td>\n",
       "      <td>Dallas, Texas</td>\n",
       "      <td>Mountain Time (US &amp; Canada)</td>\n",
       "    </tr>\n",
       "    <tr>\n",
       "      <th>4</th>\n",
       "      <td>5.696490e+17</td>\n",
       "      <td>positive</td>\n",
       "      <td>1.0000</td>\n",
       "      <td>NaN</td>\n",
       "      <td>NaN</td>\n",
       "      <td>American</td>\n",
       "      <td>NaN</td>\n",
       "      <td>hautetravelgirl</td>\n",
       "      <td>NaN</td>\n",
       "      <td>0</td>\n",
       "      <td>@AmericanAir many trips coming up!  I will see...</td>\n",
       "      <td>NaN</td>\n",
       "      <td>2015-02-22 16:05:16 -0800</td>\n",
       "      <td>Santa Monica, CA</td>\n",
       "      <td>NaN</td>\n",
       "    </tr>\n",
       "  </tbody>\n",
       "</table>\n",
       "</div>"
      ],
      "text/plain": [
       "       tweet_id     label  airline_sentiment_confidence  \\\n",
       "0  5.691170e+17  negative                        1.0000   \n",
       "1  5.685330e+17   neutral                        1.0000   \n",
       "2  5.698290e+17   neutral                        0.6849   \n",
       "3  5.696440e+17   neutral                        1.0000   \n",
       "4  5.696490e+17  positive                        1.0000   \n",
       "\n",
       "            negativereason  negativereason_confidence     airline  \\\n",
       "0  Flight Booking Problems                     0.6714  US Airways   \n",
       "1                      NaN                        NaN      United   \n",
       "2                      NaN                     0.0000    American   \n",
       "3                      NaN                        NaN   Southwest   \n",
       "4                      NaN                        NaN    American   \n",
       "\n",
       "  airline_sentiment_gold             name negativereason_gold  retweet_count  \\\n",
       "0                    NaN          shaun_g                 NaN              0   \n",
       "1                    NaN      NoviceFlyer                 NaN              0   \n",
       "2                    NaN   ThatsKathalina                 NaN              0   \n",
       "3                    NaN    TaylorLumsden                 NaN              0   \n",
       "4                    NaN  hautetravelgirl                 NaN              0   \n",
       "\n",
       "                                       module output tweet_coord  \\\n",
       "0  @USAirways bumping people off a flight ten min...         NaN   \n",
       "1  @united can I access Frankfurt arrival lounge ...         NaN   \n",
       "2                    @AmericanAir , CHECK DM PLEASE!         NaN   \n",
       "3  @SouthwestAir still planing on flights into Da...         NaN   \n",
       "4  @AmericanAir many trips coming up!  I will see...         NaN   \n",
       "\n",
       "               tweet_created    tweet_location                user_timezone  \n",
       "0  2015-02-21 04:52:07 -0800           Nairobi                      Nairobi  \n",
       "1  2015-02-19 14:11:33 -0800         Tulsa, OK   Central Time (US & Canada)  \n",
       "2  2015-02-23 04:00:50 -0800               NaN   Eastern Time (US & Canada)  \n",
       "3  2015-02-22 15:46:26 -0800     Dallas, Texas  Mountain Time (US & Canada)  \n",
       "4  2015-02-22 16:05:16 -0800  Santa Monica, CA                          NaN  "
      ]
     },
     "execution_count": 6,
     "metadata": {},
     "output_type": "execute_result"
    }
   ],
   "source": [
    "data2 = pd.read_csv('Tweets.csv')\n",
    "data2 = data2.sample(frac=1).reset_index(drop=True)\n",
    "print(data2.shape)\n",
    "data2.head()"
   ]
  },
  {
   "cell_type": "code",
   "execution_count": 7,
   "metadata": {
    "colab": {
     "base_uri": "https://localhost:8080/",
     "height": 195
    },
    "colab_type": "code",
    "id": "wQuYNcB-TMZ6",
    "outputId": "59ec5e30-a903-41c3-b6f0-afb150cdf1cd"
   },
   "outputs": [
    {
     "data": {
      "text/html": [
       "<div>\n",
       "<style scoped>\n",
       "    .dataframe tbody tr th:only-of-type {\n",
       "        vertical-align: middle;\n",
       "    }\n",
       "\n",
       "    .dataframe tbody tr th {\n",
       "        vertical-align: top;\n",
       "    }\n",
       "\n",
       "    .dataframe thead th {\n",
       "        text-align: right;\n",
       "    }\n",
       "</style>\n",
       "<table border=\"1\" class=\"dataframe\">\n",
       "  <thead>\n",
       "    <tr style=\"text-align: right;\">\n",
       "      <th></th>\n",
       "      <th>module output</th>\n",
       "      <th>label</th>\n",
       "    </tr>\n",
       "  </thead>\n",
       "  <tbody>\n",
       "    <tr>\n",
       "      <th>0</th>\n",
       "      <td>@USAirways bumping people off a flight ten min...</td>\n",
       "      <td>negative</td>\n",
       "    </tr>\n",
       "    <tr>\n",
       "      <th>1</th>\n",
       "      <td>@united can I access Frankfurt arrival lounge ...</td>\n",
       "      <td>neutral</td>\n",
       "    </tr>\n",
       "    <tr>\n",
       "      <th>2</th>\n",
       "      <td>@AmericanAir , CHECK DM PLEASE!</td>\n",
       "      <td>neutral</td>\n",
       "    </tr>\n",
       "    <tr>\n",
       "      <th>3</th>\n",
       "      <td>@SouthwestAir still planing on flights into Da...</td>\n",
       "      <td>neutral</td>\n",
       "    </tr>\n",
       "    <tr>\n",
       "      <th>4</th>\n",
       "      <td>@AmericanAir many trips coming up!  I will see...</td>\n",
       "      <td>positive</td>\n",
       "    </tr>\n",
       "  </tbody>\n",
       "</table>\n",
       "</div>"
      ],
      "text/plain": [
       "                                       module output     label\n",
       "0  @USAirways bumping people off a flight ten min...  negative\n",
       "1  @united can I access Frankfurt arrival lounge ...   neutral\n",
       "2                    @AmericanAir , CHECK DM PLEASE!   neutral\n",
       "3  @SouthwestAir still planing on flights into Da...   neutral\n",
       "4  @AmericanAir many trips coming up!  I will see...  positive"
      ]
     },
     "execution_count": 7,
     "metadata": {},
     "output_type": "execute_result"
    }
   ],
   "source": [
    "data2 = data2[['module output', 'label']]\n",
    "data2.head()"
   ]
  },
  {
   "cell_type": "code",
   "execution_count": 8,
   "metadata": {
    "colab": {
     "base_uri": "https://localhost:8080/",
     "height": 195
    },
    "colab_type": "code",
    "id": "v_V9eLk7TMZ8",
    "outputId": "8a8d4821-a4b6-4bfc-b590-3768a0da8c9d"
   },
   "outputs": [
    {
     "data": {
      "text/html": [
       "<div>\n",
       "<style scoped>\n",
       "    .dataframe tbody tr th:only-of-type {\n",
       "        vertical-align: middle;\n",
       "    }\n",
       "\n",
       "    .dataframe tbody tr th {\n",
       "        vertical-align: top;\n",
       "    }\n",
       "\n",
       "    .dataframe thead th {\n",
       "        text-align: right;\n",
       "    }\n",
       "</style>\n",
       "<table border=\"1\" class=\"dataframe\">\n",
       "  <thead>\n",
       "    <tr style=\"text-align: right;\">\n",
       "      <th></th>\n",
       "      <th>module output</th>\n",
       "      <th>label</th>\n",
       "    </tr>\n",
       "  </thead>\n",
       "  <tbody>\n",
       "    <tr>\n",
       "      <th>0</th>\n",
       "      <td>@USAirways bumping people off a flight ten min...</td>\n",
       "      <td>negative</td>\n",
       "    </tr>\n",
       "    <tr>\n",
       "      <th>1</th>\n",
       "      <td>@united can I access Frankfurt arrival lounge ...</td>\n",
       "      <td>neutral</td>\n",
       "    </tr>\n",
       "    <tr>\n",
       "      <th>2</th>\n",
       "      <td>@AmericanAir , CHECK DM PLEASE!</td>\n",
       "      <td>neutral</td>\n",
       "    </tr>\n",
       "    <tr>\n",
       "      <th>3</th>\n",
       "      <td>@SouthwestAir still planing on flights into Da...</td>\n",
       "      <td>neutral</td>\n",
       "    </tr>\n",
       "    <tr>\n",
       "      <th>4</th>\n",
       "      <td>@AmericanAir many trips coming up!  I will see...</td>\n",
       "      <td>positive</td>\n",
       "    </tr>\n",
       "  </tbody>\n",
       "</table>\n",
       "</div>"
      ],
      "text/plain": [
       "                                       module output     label\n",
       "0  @USAirways bumping people off a flight ten min...  negative\n",
       "1  @united can I access Frankfurt arrival lounge ...   neutral\n",
       "2                    @AmericanAir , CHECK DM PLEASE!   neutral\n",
       "3  @SouthwestAir still planing on flights into Da...   neutral\n",
       "4  @AmericanAir many trips coming up!  I will see...  positive"
      ]
     },
     "execution_count": 8,
     "metadata": {},
     "output_type": "execute_result"
    }
   ],
   "source": [
    "data2['module output'] = data2['module output'].str.replace('@VirginAmerica', '')\n",
    "data2.head()"
   ]
  },
  {
   "cell_type": "code",
   "execution_count": 9,
   "metadata": {
    "colab": {
     "base_uri": "https://localhost:8080/",
     "height": 122
    },
    "colab_type": "code",
    "id": "NO3b3aqkTMaA",
    "outputId": "5438b85b-628c-487f-f4ad-4d3f3c73d40c"
   },
   "outputs": [
    {
     "data": {
      "text/plain": [
       "0    USAirways bumping people off a flight ten minu...\n",
       "1    united can I access Frankfurt arrival lounge w...\n",
       "2                         AmericanAir  CHECK DM PLEASE\n",
       "3    SouthwestAir still planing on flights into Dal...\n",
       "4    AmericanAir many trips coming up  I will see y...\n",
       "Name: module output, dtype: object"
      ]
     },
     "execution_count": 9,
     "metadata": {},
     "output_type": "execute_result"
    }
   ],
   "source": [
    "data2['module output'].apply(lambda x: x.lower()) #transform text to lowercase\n",
    "data2['module output'] = data2['module output'].apply(lambda x: re.sub('[^a-zA-z0-9\\s]', '', x))\n",
    "data2['module output'].head()"
   ]
  },
  {
   "cell_type": "code",
   "execution_count": 10,
   "metadata": {
    "colab": {
     "base_uri": "https://localhost:8080/",
     "height": 213
    },
    "colab_type": "code",
    "id": "lGrdAgCVmOUs",
    "outputId": "f2f7671d-3795-407f-c3dc-c9204d19ae60"
   },
   "outputs": [
    {
     "name": "stdout",
     "output_type": "stream",
     "text": [
      "(104, 3)\n"
     ]
    },
    {
     "data": {
      "text/html": [
       "<div>\n",
       "<style scoped>\n",
       "    .dataframe tbody tr th:only-of-type {\n",
       "        vertical-align: middle;\n",
       "    }\n",
       "\n",
       "    .dataframe tbody tr th {\n",
       "        vertical-align: top;\n",
       "    }\n",
       "\n",
       "    .dataframe thead th {\n",
       "        text-align: right;\n",
       "    }\n",
       "</style>\n",
       "<table border=\"1\" class=\"dataframe\">\n",
       "  <thead>\n",
       "    <tr style=\"text-align: right;\">\n",
       "      <th></th>\n",
       "      <th>module output</th>\n",
       "      <th>Emotion</th>\n",
       "      <th>label</th>\n",
       "    </tr>\n",
       "  </thead>\n",
       "  <tbody>\n",
       "    <tr>\n",
       "      <th>0</th>\n",
       "      <td>Axis bank credit card department no work from ...</td>\n",
       "      <td>worry</td>\n",
       "      <td>neutral</td>\n",
       "    </tr>\n",
       "    <tr>\n",
       "      <th>1</th>\n",
       "      <td>Bangalore is a good city</td>\n",
       "      <td>happiness</td>\n",
       "      <td>positive</td>\n",
       "    </tr>\n",
       "    <tr>\n",
       "      <th>2</th>\n",
       "      <td>OMG! Current windoswap window has DOGGOS in it...</td>\n",
       "      <td>happiness</td>\n",
       "      <td>positive</td>\n",
       "    </tr>\n",
       "    <tr>\n",
       "      <th>3</th>\n",
       "      <td>Just retweet no likes</td>\n",
       "      <td>empty</td>\n",
       "      <td>neutral</td>\n",
       "    </tr>\n",
       "    <tr>\n",
       "      <th>4</th>\n",
       "      <td>Can it be delivered to Bangalore???</td>\n",
       "      <td>worry</td>\n",
       "      <td>neutral</td>\n",
       "    </tr>\n",
       "  </tbody>\n",
       "</table>\n",
       "</div>"
      ],
      "text/plain": [
       "                                       module output    Emotion     label\n",
       "0  Axis bank credit card department no work from ...      worry   neutral\n",
       "1                           Bangalore is a good city  happiness  positive\n",
       "2  OMG! Current windoswap window has DOGGOS in it...  happiness  positive\n",
       "3                              Just retweet no likes      empty   neutral\n",
       "4                Can it be delivered to Bangalore???      worry   neutral"
      ]
     },
     "execution_count": 10,
     "metadata": {},
     "output_type": "execute_result"
    }
   ],
   "source": [
    "data3=pd.read_csv(\"sample_dataset_given.csv\",encoding= 'unicode_escape')\n",
    "data3=data3.sample(frac=1).reset_index(drop=True)\n",
    "print(data3.shape)\n",
    "data3.head()"
   ]
  },
  {
   "cell_type": "code",
   "execution_count": 11,
   "metadata": {
    "colab": {
     "base_uri": "https://localhost:8080/",
     "height": 195
    },
    "colab_type": "code",
    "id": "PhQAEGXumQaV",
    "outputId": "4c8af31a-4395-4211-f39c-ab0f36372a9e"
   },
   "outputs": [
    {
     "data": {
      "text/html": [
       "<div>\n",
       "<style scoped>\n",
       "    .dataframe tbody tr th:only-of-type {\n",
       "        vertical-align: middle;\n",
       "    }\n",
       "\n",
       "    .dataframe tbody tr th {\n",
       "        vertical-align: top;\n",
       "    }\n",
       "\n",
       "    .dataframe thead th {\n",
       "        text-align: right;\n",
       "    }\n",
       "</style>\n",
       "<table border=\"1\" class=\"dataframe\">\n",
       "  <thead>\n",
       "    <tr style=\"text-align: right;\">\n",
       "      <th></th>\n",
       "      <th>module output</th>\n",
       "      <th>label</th>\n",
       "    </tr>\n",
       "  </thead>\n",
       "  <tbody>\n",
       "    <tr>\n",
       "      <th>0</th>\n",
       "      <td>Axis bank credit card department no work from ...</td>\n",
       "      <td>neutral</td>\n",
       "    </tr>\n",
       "    <tr>\n",
       "      <th>1</th>\n",
       "      <td>Bangalore is a good city</td>\n",
       "      <td>positive</td>\n",
       "    </tr>\n",
       "    <tr>\n",
       "      <th>2</th>\n",
       "      <td>OMG! Current windoswap window has DOGGOS in it...</td>\n",
       "      <td>positive</td>\n",
       "    </tr>\n",
       "    <tr>\n",
       "      <th>3</th>\n",
       "      <td>Just retweet no likes</td>\n",
       "      <td>neutral</td>\n",
       "    </tr>\n",
       "    <tr>\n",
       "      <th>4</th>\n",
       "      <td>Can it be delivered to Bangalore???</td>\n",
       "      <td>neutral</td>\n",
       "    </tr>\n",
       "  </tbody>\n",
       "</table>\n",
       "</div>"
      ],
      "text/plain": [
       "                                       module output     label\n",
       "0  Axis bank credit card department no work from ...   neutral\n",
       "1                           Bangalore is a good city  positive\n",
       "2  OMG! Current windoswap window has DOGGOS in it...  positive\n",
       "3                              Just retweet no likes   neutral\n",
       "4                Can it be delivered to Bangalore???   neutral"
      ]
     },
     "execution_count": 11,
     "metadata": {},
     "output_type": "execute_result"
    }
   ],
   "source": [
    "data3=data3[['module output','label']]\n",
    "data3.head()"
   ]
  },
  {
   "cell_type": "code",
   "execution_count": 12,
   "metadata": {
    "colab": {
     "base_uri": "https://localhost:8080/",
     "height": 213
    },
    "colab_type": "code",
    "id": "HwXTVxNJTMaD",
    "outputId": "5d91d76d-d021-4a69-a3a0-cdbebfa5e9d2"
   },
   "outputs": [
    {
     "name": "stdout",
     "output_type": "stream",
     "text": [
      "(1957, 2)\n"
     ]
    },
    {
     "data": {
      "text/html": [
       "<div>\n",
       "<style scoped>\n",
       "    .dataframe tbody tr th:only-of-type {\n",
       "        vertical-align: middle;\n",
       "    }\n",
       "\n",
       "    .dataframe tbody tr th {\n",
       "        vertical-align: top;\n",
       "    }\n",
       "\n",
       "    .dataframe thead th {\n",
       "        text-align: right;\n",
       "    }\n",
       "</style>\n",
       "<table border=\"1\" class=\"dataframe\">\n",
       "  <thead>\n",
       "    <tr style=\"text-align: right;\">\n",
       "      <th></th>\n",
       "      <th>module output</th>\n",
       "      <th>label</th>\n",
       "    </tr>\n",
       "  </thead>\n",
       "  <tbody>\n",
       "    <tr>\n",
       "      <th>0</th>\n",
       "      <td>defender</td>\n",
       "      <td>positive</td>\n",
       "    </tr>\n",
       "    <tr>\n",
       "      <th>1</th>\n",
       "      <td>resourcefulness</td>\n",
       "      <td>positive</td>\n",
       "    </tr>\n",
       "    <tr>\n",
       "      <th>2</th>\n",
       "      <td>nicely</td>\n",
       "      <td>positive</td>\n",
       "    </tr>\n",
       "    <tr>\n",
       "      <th>3</th>\n",
       "      <td>rectifying</td>\n",
       "      <td>positive</td>\n",
       "    </tr>\n",
       "    <tr>\n",
       "      <th>4</th>\n",
       "      <td>fastest</td>\n",
       "      <td>positive</td>\n",
       "    </tr>\n",
       "  </tbody>\n",
       "</table>\n",
       "</div>"
      ],
      "text/plain": [
       "     module output     label\n",
       "0         defender  positive\n",
       "1  resourcefulness  positive\n",
       "2           nicely  positive\n",
       "3       rectifying  positive\n",
       "4          fastest  positive"
      ]
     },
     "execution_count": 12,
     "metadata": {},
     "output_type": "execute_result"
    }
   ],
   "source": [
    "data4=pd.read_csv(\"positive.csv\",encoding= 'unicode_escape')\n",
    "data4=data4.sample(frac=1).reset_index(drop=True)\n",
    "print(data4.shape)\n",
    "data4.head()"
   ]
  },
  {
   "cell_type": "code",
   "execution_count": 13,
   "metadata": {
    "colab": {
     "base_uri": "https://localhost:8080/",
     "height": 195
    },
    "colab_type": "code",
    "id": "9YbFUdfPTMaG",
    "outputId": "0abe9c60-e74d-49a9-ee36-f373e94e5618"
   },
   "outputs": [
    {
     "data": {
      "text/html": [
       "<div>\n",
       "<style scoped>\n",
       "    .dataframe tbody tr th:only-of-type {\n",
       "        vertical-align: middle;\n",
       "    }\n",
       "\n",
       "    .dataframe tbody tr th {\n",
       "        vertical-align: top;\n",
       "    }\n",
       "\n",
       "    .dataframe thead th {\n",
       "        text-align: right;\n",
       "    }\n",
       "</style>\n",
       "<table border=\"1\" class=\"dataframe\">\n",
       "  <thead>\n",
       "    <tr style=\"text-align: right;\">\n",
       "      <th></th>\n",
       "      <th>module output</th>\n",
       "      <th>label</th>\n",
       "    </tr>\n",
       "  </thead>\n",
       "  <tbody>\n",
       "    <tr>\n",
       "      <th>0</th>\n",
       "      <td>defender</td>\n",
       "      <td>positive</td>\n",
       "    </tr>\n",
       "    <tr>\n",
       "      <th>1</th>\n",
       "      <td>resourcefulness</td>\n",
       "      <td>positive</td>\n",
       "    </tr>\n",
       "    <tr>\n",
       "      <th>2</th>\n",
       "      <td>nicely</td>\n",
       "      <td>positive</td>\n",
       "    </tr>\n",
       "    <tr>\n",
       "      <th>3</th>\n",
       "      <td>rectifying</td>\n",
       "      <td>positive</td>\n",
       "    </tr>\n",
       "    <tr>\n",
       "      <th>4</th>\n",
       "      <td>fastest</td>\n",
       "      <td>positive</td>\n",
       "    </tr>\n",
       "  </tbody>\n",
       "</table>\n",
       "</div>"
      ],
      "text/plain": [
       "     module output     label\n",
       "0         defender  positive\n",
       "1  resourcefulness  positive\n",
       "2           nicely  positive\n",
       "3       rectifying  positive\n",
       "4          fastest  positive"
      ]
     },
     "execution_count": 13,
     "metadata": {},
     "output_type": "execute_result"
    }
   ],
   "source": [
    "data4=data4[['module output','label']]\n",
    "data4.head()"
   ]
  },
  {
   "cell_type": "code",
   "execution_count": 14,
   "metadata": {
    "colab": {
     "base_uri": "https://localhost:8080/",
     "height": 213
    },
    "colab_type": "code",
    "id": "TeIqrgYNMD6I",
    "outputId": "06247b90-cb29-4296-c1e7-d7e320cca955"
   },
   "outputs": [
    {
     "name": "stdout",
     "output_type": "stream",
     "text": [
      "(4781, 2)\n"
     ]
    },
    {
     "data": {
      "text/html": [
       "<div>\n",
       "<style scoped>\n",
       "    .dataframe tbody tr th:only-of-type {\n",
       "        vertical-align: middle;\n",
       "    }\n",
       "\n",
       "    .dataframe tbody tr th {\n",
       "        vertical-align: top;\n",
       "    }\n",
       "\n",
       "    .dataframe thead th {\n",
       "        text-align: right;\n",
       "    }\n",
       "</style>\n",
       "<table border=\"1\" class=\"dataframe\">\n",
       "  <thead>\n",
       "    <tr style=\"text-align: right;\">\n",
       "      <th></th>\n",
       "      <th>module output</th>\n",
       "      <th>label</th>\n",
       "    </tr>\n",
       "  </thead>\n",
       "  <tbody>\n",
       "    <tr>\n",
       "      <th>0</th>\n",
       "      <td>strangely</td>\n",
       "      <td>negative</td>\n",
       "    </tr>\n",
       "    <tr>\n",
       "      <th>1</th>\n",
       "      <td>indoctrination</td>\n",
       "      <td>negative</td>\n",
       "    </tr>\n",
       "    <tr>\n",
       "      <th>2</th>\n",
       "      <td>inadverently</td>\n",
       "      <td>negative</td>\n",
       "    </tr>\n",
       "    <tr>\n",
       "      <th>3</th>\n",
       "      <td>irresponsibly</td>\n",
       "      <td>negative</td>\n",
       "    </tr>\n",
       "    <tr>\n",
       "      <th>4</th>\n",
       "      <td>junky</td>\n",
       "      <td>negative</td>\n",
       "    </tr>\n",
       "  </tbody>\n",
       "</table>\n",
       "</div>"
      ],
      "text/plain": [
       "    module output     label\n",
       "0       strangely  negative\n",
       "1  indoctrination  negative\n",
       "2    inadverently  negative\n",
       "3   irresponsibly  negative\n",
       "4           junky  negative"
      ]
     },
     "execution_count": 14,
     "metadata": {},
     "output_type": "execute_result"
    }
   ],
   "source": [
    "data5=pd.read_csv(\"negative.csv\",encoding= 'unicode_escape')\n",
    "data5=data5.sample(frac=1).reset_index(drop=True)\n",
    "print(data5.shape)\n",
    "data5.head()"
   ]
  },
  {
   "cell_type": "code",
   "execution_count": 15,
   "metadata": {
    "colab": {
     "base_uri": "https://localhost:8080/",
     "height": 195
    },
    "colab_type": "code",
    "id": "3WuSOKPQMVQy",
    "outputId": "4074bb24-39c8-4305-d071-90bb456ce271"
   },
   "outputs": [
    {
     "data": {
      "text/html": [
       "<div>\n",
       "<style scoped>\n",
       "    .dataframe tbody tr th:only-of-type {\n",
       "        vertical-align: middle;\n",
       "    }\n",
       "\n",
       "    .dataframe tbody tr th {\n",
       "        vertical-align: top;\n",
       "    }\n",
       "\n",
       "    .dataframe thead th {\n",
       "        text-align: right;\n",
       "    }\n",
       "</style>\n",
       "<table border=\"1\" class=\"dataframe\">\n",
       "  <thead>\n",
       "    <tr style=\"text-align: right;\">\n",
       "      <th></th>\n",
       "      <th>module output</th>\n",
       "      <th>label</th>\n",
       "    </tr>\n",
       "  </thead>\n",
       "  <tbody>\n",
       "    <tr>\n",
       "      <th>0</th>\n",
       "      <td>strangely</td>\n",
       "      <td>negative</td>\n",
       "    </tr>\n",
       "    <tr>\n",
       "      <th>1</th>\n",
       "      <td>indoctrination</td>\n",
       "      <td>negative</td>\n",
       "    </tr>\n",
       "    <tr>\n",
       "      <th>2</th>\n",
       "      <td>inadverently</td>\n",
       "      <td>negative</td>\n",
       "    </tr>\n",
       "    <tr>\n",
       "      <th>3</th>\n",
       "      <td>irresponsibly</td>\n",
       "      <td>negative</td>\n",
       "    </tr>\n",
       "    <tr>\n",
       "      <th>4</th>\n",
       "      <td>junky</td>\n",
       "      <td>negative</td>\n",
       "    </tr>\n",
       "  </tbody>\n",
       "</table>\n",
       "</div>"
      ],
      "text/plain": [
       "    module output     label\n",
       "0       strangely  negative\n",
       "1  indoctrination  negative\n",
       "2    inadverently  negative\n",
       "3   irresponsibly  negative\n",
       "4           junky  negative"
      ]
     },
     "execution_count": 15,
     "metadata": {},
     "output_type": "execute_result"
    }
   ],
   "source": [
    "data5=data5[['module output','label']]\n",
    "data5.head()"
   ]
  },
  {
   "cell_type": "code",
   "execution_count": 16,
   "metadata": {
    "colab": {
     "base_uri": "https://localhost:8080/",
     "height": 510
    },
    "colab_type": "code",
    "id": "96_1Ooq6TMaJ",
    "outputId": "c0efc452-0bb6-4563-ec32-d3d4f4b3b67d"
   },
   "outputs": [
    {
     "name": "stdout",
     "output_type": "stream",
     "text": [
      "                                          module output\n",
      "0     Having just finished a long journey through \"T...\n",
      "1     I do love sushi, but I found Kabuki to be over...\n",
      "2                        Rattle our hearts when we hear\n",
      "3     Next month is the dedication of the new Phoeni...\n",
      "4     I LOVED their mussels cooked in this wine redu...\n",
      "...                                                 ...\n",
      "4010                                  This is my family\n",
      "4011                      Let's go to see the new movie\n",
      "4012         Nothing is more important than your health\n",
      "4013     Service was fine and the waitress was friendly\n",
      "4014              The reception has been generally good\n",
      "\n",
      "[4015 rows x 1 columns]\n",
      "         label\n",
      "0      Neutral\n",
      "1      Neutral\n",
      "2      neutral\n",
      "3      neutral\n",
      "4     Positive\n",
      "...        ...\n",
      "4010  Positive\n",
      "4011  Positive\n",
      "4012  Positive\n",
      "4013  Positive\n",
      "4014  Positive\n",
      "\n",
      "[4015 rows x 1 columns]\n"
     ]
    }
   ],
   "source": [
    "ar_x = pd.DataFrame(data1['module output'])\n",
    "print(ar_x)\n",
    "ar_y = pd.DataFrame(data1['label'])\n",
    "print(ar_y)"
   ]
  },
  {
   "cell_type": "code",
   "execution_count": 17,
   "metadata": {
    "colab": {
     "base_uri": "https://localhost:8080/",
     "height": 510
    },
    "colab_type": "code",
    "id": "QRCiQOyATMaL",
    "outputId": "f6288a1b-bf1b-474c-ec91-25f3d6546b4b"
   },
   "outputs": [
    {
     "name": "stdout",
     "output_type": "stream",
     "text": [
      "                                           module output\n",
      "0      USAirways bumping people off a flight ten minu...\n",
      "1      united can I access Frankfurt arrival lounge w...\n",
      "2                           AmericanAir  CHECK DM PLEASE\n",
      "3      SouthwestAir still planing on flights into Dal...\n",
      "4      AmericanAir many trips coming up  I will see y...\n",
      "...                                                  ...\n",
      "14635  united Flight is awful only one lavatory funct...\n",
      "14636         USAirways Will you pick up your phone then\n",
      "14637  united How is this considered on time if its a...\n",
      "14638  AmericanAir Will my us air points now be combi...\n",
      "14639  USAirways so am I supposed to discuss this mat...\n",
      "\n",
      "[14640 rows x 1 columns]\n",
      "          label\n",
      "0      negative\n",
      "1       neutral\n",
      "2       neutral\n",
      "3       neutral\n",
      "4      positive\n",
      "...         ...\n",
      "14635  negative\n",
      "14636   neutral\n",
      "14637  negative\n",
      "14638   neutral\n",
      "14639  negative\n",
      "\n",
      "[14640 rows x 1 columns]\n"
     ]
    }
   ],
   "source": [
    "br_x = pd.DataFrame(data2['module output'])\n",
    "print(br_x)\n",
    "br_y = pd.DataFrame(data2['label'])\n",
    "print(br_y)"
   ]
  },
  {
   "cell_type": "code",
   "execution_count": 18,
   "metadata": {
    "colab": {
     "base_uri": "https://localhost:8080/",
     "height": 510
    },
    "colab_type": "code",
    "id": "uQTR5OApTMaN",
    "outputId": "605c7f63-3697-4be7-b6a9-5f891ee7bb22"
   },
   "outputs": [
    {
     "name": "stdout",
     "output_type": "stream",
     "text": [
      "                                         module output\n",
      "0    Axis bank credit card department no work from ...\n",
      "1                             Bangalore is a good city\n",
      "2    OMG! Current windoswap window has DOGGOS in it...\n",
      "3                                Just retweet no likes\n",
      "4                  Can it be delivered to Bangalore???\n",
      "..                                                 ...\n",
      "99   Retweet if you're participating in the trend a...\n",
      "100                                COME-ON BALD LEGEND\n",
      "101               Bangalore Apexlegends I love youuu\\r\n",
      "102  have not received this order. Placed 11 days b...\n",
      "103  Live in Palo Duro Canyon, Texas, USA . Playing...\n",
      "\n",
      "[104 rows x 1 columns]\n",
      "        label\n",
      "0     neutral\n",
      "1    positive\n",
      "2    positive\n",
      "3     neutral\n",
      "4     neutral\n",
      "..        ...\n",
      "99    neutral\n",
      "100   neutral\n",
      "101  positive\n",
      "102   neutral\n",
      "103  positive\n",
      "\n",
      "[104 rows x 1 columns]\n"
     ]
    }
   ],
   "source": [
    "dr_x = pd.DataFrame(data3['module output'])\n",
    "print(dr_x)\n",
    "dr_y = pd.DataFrame(data3['label'])\n",
    "print(dr_y)"
   ]
  },
  {
   "cell_type": "code",
   "execution_count": 19,
   "metadata": {
    "colab": {
     "base_uri": "https://localhost:8080/",
     "height": 510
    },
    "colab_type": "code",
    "id": "eHQxD6soMohS",
    "outputId": "68d5510e-74dc-4530-e774-2557d5c037dd"
   },
   "outputs": [
    {
     "name": "stdout",
     "output_type": "stream",
     "text": [
      "        module output\n",
      "0            defender\n",
      "1     resourcefulness\n",
      "2              nicely\n",
      "3          rectifying\n",
      "4             fastest\n",
      "...               ...\n",
      "1952   accomplishment\n",
      "1953           adroit\n",
      "1954          hardier\n",
      "1955        imaculate\n",
      "1956       complement\n",
      "\n",
      "[1957 rows x 1 columns]\n",
      "         label\n",
      "0     positive\n",
      "1     positive\n",
      "2     positive\n",
      "3     positive\n",
      "4     positive\n",
      "...        ...\n",
      "1952  positive\n",
      "1953  positive\n",
      "1954  positive\n",
      "1955  positive\n",
      "1956  positive\n",
      "\n",
      "[1957 rows x 1 columns]\n"
     ]
    }
   ],
   "source": [
    "er_x = pd.DataFrame(data4['module output'])\n",
    "print(er_x)\n",
    "er_y = pd.DataFrame(data4['label'])\n",
    "print(er_y)"
   ]
  },
  {
   "cell_type": "code",
   "execution_count": 20,
   "metadata": {
    "colab": {
     "base_uri": "https://localhost:8080/",
     "height": 510
    },
    "colab_type": "code",
    "id": "VE6ryAPrmm3o",
    "outputId": "31ff4d7a-3255-442a-c0fa-cc7422bb9f18"
   },
   "outputs": [
    {
     "name": "stdout",
     "output_type": "stream",
     "text": [
      "        module output\n",
      "0           strangely\n",
      "1      indoctrination\n",
      "2        inadverently\n",
      "3       irresponsibly\n",
      "4               junky\n",
      "...               ...\n",
      "4776          dullard\n",
      "4777   procrastinates\n",
      "4778  inconsequential\n",
      "4779             snob\n",
      "4780         bastards\n",
      "\n",
      "[4781 rows x 1 columns]\n",
      "         label\n",
      "0     negative\n",
      "1     negative\n",
      "2     negative\n",
      "3     negative\n",
      "4     negative\n",
      "...        ...\n",
      "4776  negative\n",
      "4777  negative\n",
      "4778  negative\n",
      "4779  negative\n",
      "4780  negative\n",
      "\n",
      "[4781 rows x 1 columns]\n"
     ]
    }
   ],
   "source": [
    "fr_x = pd.DataFrame(data5['module output'])\n",
    "print(fr_x)\n",
    "fr_y = pd.DataFrame(data5['label'])\n",
    "print(fr_y)"
   ]
  },
  {
   "cell_type": "code",
   "execution_count": 21,
   "metadata": {
    "colab": {
     "base_uri": "https://localhost:8080/",
     "height": 52
    },
    "colab_type": "code",
    "id": "IuSAbWRvTMaP",
    "outputId": "9c97e0b4-3a3d-4926-eee3-24d193604955"
   },
   "outputs": [
    {
     "name": "stdout",
     "output_type": "stream",
     "text": [
      "(25497, 1)\n",
      "(25497, 1)\n"
     ]
    }
   ],
   "source": [
    "x_feature = pd.concat([ar_x, br_x,dr_x,er_x, fr_x],ignore_index=True)\n",
    "print(x_feature.shape)\n",
    "y_feature = pd.concat([ar_y, br_y,dr_y,er_y, fr_y],ignore_index=True)\n",
    "print(y_feature.shape)"
   ]
  },
  {
   "cell_type": "code",
   "execution_count": 22,
   "metadata": {
    "colab": {},
    "colab_type": "code",
    "id": "mWbbBbyOTMaR"
   },
   "outputs": [],
   "source": [
    "def clean_text1(text):\n",
    "    text = \"\".join([word.lower() for word in text if word not in string.punctuation])\n",
    "    # text = \"\".join([word for word in text if word.isalpha()])\n",
    "    tokens = re.split('\\W+', text)\n",
    "    text = [word for word in tokens if word.isalpha()]\n",
    "    text = \" \".join([lm.lemmatize(word) for word in text if word not in stop])\n",
    "    return text"
   ]
  },
  {
   "cell_type": "code",
   "execution_count": 23,
   "metadata": {
    "colab": {
     "base_uri": "https://localhost:8080/",
     "height": 195
    },
    "colab_type": "code",
    "id": "tzIMTaSiTMaU",
    "outputId": "db0107fe-b486-41d3-8576-e0c30b444ef4"
   },
   "outputs": [
    {
     "data": {
      "text/html": [
       "<div>\n",
       "<style scoped>\n",
       "    .dataframe tbody tr th:only-of-type {\n",
       "        vertical-align: middle;\n",
       "    }\n",
       "\n",
       "    .dataframe tbody tr th {\n",
       "        vertical-align: top;\n",
       "    }\n",
       "\n",
       "    .dataframe thead th {\n",
       "        text-align: right;\n",
       "    }\n",
       "</style>\n",
       "<table border=\"1\" class=\"dataframe\">\n",
       "  <thead>\n",
       "    <tr style=\"text-align: right;\">\n",
       "      <th></th>\n",
       "      <th>module output</th>\n",
       "      <th>body</th>\n",
       "    </tr>\n",
       "  </thead>\n",
       "  <tbody>\n",
       "    <tr>\n",
       "      <th>0</th>\n",
       "      <td>Having just finished a long journey through \"T...</td>\n",
       "      <td>finished long journey cloister walk consider q...</td>\n",
       "    </tr>\n",
       "    <tr>\n",
       "      <th>1</th>\n",
       "      <td>I do love sushi, but I found Kabuki to be over...</td>\n",
       "      <td>love sushi found kabuki overpriced overhip und...</td>\n",
       "    </tr>\n",
       "    <tr>\n",
       "      <th>2</th>\n",
       "      <td>Rattle our hearts when we hear</td>\n",
       "      <td>rattle heart hear</td>\n",
       "    </tr>\n",
       "    <tr>\n",
       "      <th>3</th>\n",
       "      <td>Next month is the dedication of the new Phoeni...</td>\n",
       "      <td>next month dedication new phoenix arizon templ...</td>\n",
       "    </tr>\n",
       "    <tr>\n",
       "      <th>4</th>\n",
       "      <td>I LOVED their mussels cooked in this wine redu...</td>\n",
       "      <td>loved mussel cooked wine reduction duck tender...</td>\n",
       "    </tr>\n",
       "  </tbody>\n",
       "</table>\n",
       "</div>"
      ],
      "text/plain": [
       "                                       module output  \\\n",
       "0  Having just finished a long journey through \"T...   \n",
       "1  I do love sushi, but I found Kabuki to be over...   \n",
       "2                     Rattle our hearts when we hear   \n",
       "3  Next month is the dedication of the new Phoeni...   \n",
       "4  I LOVED their mussels cooked in this wine redu...   \n",
       "\n",
       "                                                body  \n",
       "0  finished long journey cloister walk consider q...  \n",
       "1  love sushi found kabuki overpriced overhip und...  \n",
       "2                                  rattle heart hear  \n",
       "3  next month dedication new phoenix arizon templ...  \n",
       "4  loved mussel cooked wine reduction duck tender...  "
      ]
     },
     "execution_count": 23,
     "metadata": {},
     "output_type": "execute_result"
    }
   ],
   "source": [
    "x_feature['body']=x_feature['module output'].apply(lambda x:clean_text1(x))\n",
    "x_feature.head()"
   ]
  },
  {
   "cell_type": "code",
   "execution_count": 24,
   "metadata": {
    "colab": {
     "base_uri": "https://localhost:8080/",
     "height": 281
    },
    "colab_type": "code",
    "id": "jcf__yhQTMaX",
    "outputId": "ccb616c5-4045-4252-a871-40d6f4379aee"
   },
   "outputs": [
    {
     "data": {
      "text/plain": [
       "array([[   0,    0,    0,    0,    0,    0,    0,    0,    0,    0,    0,\n",
       "           0,    0,    0,    0,    0, 2813,  117, 1540, 7102, 1313, 1080,\n",
       "        3217,  570, 7103,  860, 7104],\n",
       "       [   0,    0,    0,    0,    0,    0,    0,    0,    0,    0,    0,\n",
       "           0,    0,    0,    0,    0,    0,    0,    0,    0,   71, 1541,\n",
       "         283, 7105, 1622, 7106, 7107],\n",
       "       [   0,    0,    0,    0,    0,    0,    0,    0,    0,    0,    0,\n",
       "           0,    0,    0,    0,    0,    0,    0,    0,    0,    0,    0,\n",
       "           0,    0, 3817,  672,  387],\n",
       "       [   0,    0,    0,    0,    0,    0,    0,    0,    0,    0,    0,\n",
       "           0,    0,    0,    0,    0,    0,    0,   92,  253, 2814,   75,\n",
       "         798, 7108, 1542,   92,  151],\n",
       "       [   0,    0,    0,    0,    0,    0,    0,    0,    0,    0,    0,\n",
       "           0,    0,    0,    0,    0,    0,  754, 7109, 2279, 1623, 4783,\n",
       "        3218, 2115, 1830, 1081,  889]])"
      ]
     },
     "execution_count": 24,
     "metadata": {},
     "output_type": "execute_result"
    }
   ],
   "source": [
    "tokenizer = Tokenizer(num_words=20000, split=\" \")\n",
    "tokenizer.fit_on_texts(x_feature['body'].values)\n",
    "\n",
    "X = tokenizer.texts_to_sequences(x_feature['body'].values)\n",
    "#print(X)\n",
    "X = pad_sequences(X) # padding our text vector so they all have the same length\n",
    "X[:5]"
   ]
  },
  {
   "cell_type": "code",
   "execution_count": 25,
   "metadata": {
    "colab": {
     "base_uri": "https://localhost:8080/",
     "height": 34
    },
    "colab_type": "code",
    "id": "-XapjiR6NMIr",
    "outputId": "5a0222c5-12f5-4e0b-f567-855e93ef2ccc"
   },
   "outputs": [
    {
     "data": {
      "text/plain": [
       "19060"
      ]
     },
     "execution_count": 25,
     "metadata": {},
     "output_type": "execute_result"
    }
   ],
   "source": [
    "len(tokenizer.index_word)"
   ]
  },
  {
   "cell_type": "code",
   "execution_count": 26,
   "metadata": {
    "colab": {},
    "colab_type": "code",
    "id": "XEw9UCF7TMaa"
   },
   "outputs": [],
   "source": [
    "y_feature['label1']=y_feature['label'].apply(lambda x:clean_text1(x))"
   ]
  },
  {
   "cell_type": "code",
   "execution_count": 27,
   "metadata": {
    "colab": {},
    "colab_type": "code",
    "id": "t1W9XUGfTMad"
   },
   "outputs": [],
   "source": [
    "with open('tokenizer_final5.pickle', 'wb') as handle:\n",
    "    pickle.dump(tokenizer, handle, protocol=pickle.HIGHEST_PROTOCOL)"
   ]
  },
  {
   "cell_type": "code",
   "execution_count": 28,
   "metadata": {
    "colab": {
     "base_uri": "https://localhost:8080/",
     "height": 34
    },
    "colab_type": "code",
    "id": "L0JiEWNKTMaf",
    "outputId": "7b3a629d-ea4e-4628-fe80-4cb6bcc9580f"
   },
   "outputs": [
    {
     "data": {
      "text/plain": [
       "19060"
      ]
     },
     "execution_count": 28,
     "metadata": {},
     "output_type": "execute_result"
    }
   ],
   "source": [
    "len(tokenizer.word_counts)"
   ]
  },
  {
   "cell_type": "code",
   "execution_count": 29,
   "metadata": {
    "colab": {},
    "colab_type": "code",
    "id": "GpUBfePoTMag"
   },
   "outputs": [],
   "source": [
    "model = Sequential()\n",
    "model.add(Embedding(20000, 128, input_length=X.shape[1]))\n",
    "model.add(Dropout(0.4))\n",
    "model.add(LSTM(128, return_sequences=True, dropout=0.4, recurrent_dropout=0.3))\n",
    "model.add(LSTM(128, dropout=0.4, recurrent_dropout=0.3))\n",
    "model.add(Dense(3, activation='softmax'))"
   ]
  },
  {
   "cell_type": "code",
   "execution_count": 30,
   "metadata": {
    "colab": {
     "base_uri": "https://localhost:8080/",
     "height": 334
    },
    "colab_type": "code",
    "id": "NFlAauc2TMai",
    "outputId": "8f76e29c-4bd4-4b04-d300-a29fd005c7d3"
   },
   "outputs": [
    {
     "name": "stdout",
     "output_type": "stream",
     "text": [
      "Model: \"sequential\"\n",
      "_________________________________________________________________\n",
      "Layer (type)                 Output Shape              Param #   \n",
      "=================================================================\n",
      "embedding (Embedding)        (None, 27, 128)           2560000   \n",
      "_________________________________________________________________\n",
      "dropout (Dropout)            (None, 27, 128)           0         \n",
      "_________________________________________________________________\n",
      "lstm (LSTM)                  (None, 27, 128)           131584    \n",
      "_________________________________________________________________\n",
      "lstm_1 (LSTM)                (None, 128)               131584    \n",
      "_________________________________________________________________\n",
      "dense (Dense)                (None, 3)                 387       \n",
      "=================================================================\n",
      "Total params: 2,823,555\n",
      "Trainable params: 2,823,555\n",
      "Non-trainable params: 0\n",
      "_________________________________________________________________\n"
     ]
    }
   ],
   "source": [
    "model.compile(loss='categorical_crossentropy', optimizer='adam', metrics=['accuracy'])\n",
    "model.summary()"
   ]
  },
  {
   "cell_type": "code",
   "execution_count": 31,
   "metadata": {
    "colab": {
     "base_uri": "https://localhost:8080/",
     "height": 34
    },
    "colab_type": "code",
    "id": "z2llT6oFTMak",
    "outputId": "4e3c25cf-a4e1-47f0-fb8c-249d3bea4b14"
   },
   "outputs": [
    {
     "data": {
      "text/plain": [
       "(25497,)"
      ]
     },
     "execution_count": 31,
     "metadata": {},
     "output_type": "execute_result"
    }
   ],
   "source": [
    "y_feature['label1'].shape"
   ]
  },
  {
   "cell_type": "code",
   "execution_count": 32,
   "metadata": {
    "colab": {
     "base_uri": "https://localhost:8080/",
     "height": 175
    },
    "colab_type": "code",
    "id": "iEq7HZCTTMam",
    "outputId": "05696a47-6867-4412-e44f-87509d3ea201"
   },
   "outputs": [
    {
     "name": "stdout",
     "output_type": "stream",
     "text": [
      "neutral [0 1 0]\n",
      "neutral [0 1 0]\n",
      "neutral [0 1 0]\n",
      "neutral [0 1 0]\n",
      "positive [0 0 1]\n",
      "neutral [0 1 0]\n",
      "positive [0 0 1]\n",
      "positive [0 0 1]\n"
     ]
    },
    {
     "data": {
      "text/plain": [
       "[None, None, None, None, None, None, None, None]"
      ]
     },
     "execution_count": 32,
     "metadata": {},
     "output_type": "execute_result"
    }
   ],
   "source": [
    "y = pd.get_dummies(y_feature['label1']).values\n",
    "[print(y_feature['label1'][i], y[i]) for i in range(0,8)]"
   ]
  },
  {
   "cell_type": "code",
   "execution_count": 33,
   "metadata": {
    "colab": {},
    "colab_type": "code",
    "id": "IMaJ33uYTMaq"
   },
   "outputs": [],
   "source": [
    "X_train, X_test, y_train, y_test = train_test_split(X, y, test_size=0.2, random_state=0)"
   ]
  },
  {
   "cell_type": "code",
   "execution_count": 34,
   "metadata": {
    "colab": {
     "base_uri": "https://localhost:8080/",
     "height": 122
    },
    "colab_type": "code",
    "id": "c8Q0YxmtTMas",
    "outputId": "bf73fc23-18fc-4d58-e485-656129b225d4"
   },
   "outputs": [
    {
     "data": {
      "text/plain": [
       "array([[   0,    0,    0,    0,    0,    0,    0,    0,    0,    0,    0,\n",
       "           0,    0,    0,    0,    0, 2813,  117, 1540, 7102, 1313, 1080,\n",
       "        3217,  570, 7103,  860, 7104],\n",
       "       [   0,    0,    0,    0,    0,    0,    0,    0,    0,    0,    0,\n",
       "           0,    0,    0,    0,    0,    0,    0,    0,    0,   71, 1541,\n",
       "         283, 7105, 1622, 7106, 7107]])"
      ]
     },
     "execution_count": 34,
     "metadata": {},
     "output_type": "execute_result"
    }
   ],
   "source": [
    "X[:2]"
   ]
  },
  {
   "cell_type": "code",
   "execution_count": 35,
   "metadata": {
    "colab": {
     "base_uri": "https://localhost:8080/",
     "height": 34
    },
    "colab_type": "code",
    "id": "pWuC5FTBTMau",
    "outputId": "1c48dbc6-0830-47f7-d95d-42bdf37eb909"
   },
   "outputs": [
    {
     "data": {
      "text/plain": [
       "(None, 3)"
      ]
     },
     "execution_count": 35,
     "metadata": {},
     "output_type": "execute_result"
    }
   ],
   "source": [
    "model.output_shape"
   ]
  },
  {
   "cell_type": "code",
   "execution_count": 36,
   "metadata": {
    "colab": {
     "base_uri": "https://localhost:8080/",
     "height": 160
    },
    "colab_type": "code",
    "id": "AZlrmG7YTMaw",
    "outputId": "4866cecf-74c3-4027-e916-156c7d69ecd7"
   },
   "outputs": [
    {
     "name": "stdout",
     "output_type": "stream",
     "text": [
      "Epoch 1/12\n",
      "638/638 - 65s - loss: 0.7527 - accuracy: 0.6745\n",
      "Epoch 2/12\n",
      "638/638 - 68s - loss: 0.5021 - accuracy: 0.8059\n",
      "Epoch 3/12\n",
      "638/638 - 63s - loss: 0.3375 - accuracy: 0.8801\n",
      "Epoch 4/12\n",
      "638/638 - 65s - loss: 0.2766 - accuracy: 0.9006\n",
      "Epoch 5/12\n",
      "638/638 - 67s - loss: 0.2347 - accuracy: 0.9168\n",
      "Epoch 6/12\n",
      "638/638 - 70s - loss: 0.2036 - accuracy: 0.9258\n",
      "Epoch 7/12\n",
      "638/638 - 65s - loss: 0.1825 - accuracy: 0.9328\n",
      "Epoch 8/12\n",
      "638/638 - 65s - loss: 0.1655 - accuracy: 0.9407\n",
      "Epoch 9/12\n",
      "638/638 - 65s - loss: 0.1479 - accuracy: 0.9471\n",
      "Epoch 10/12\n",
      "638/638 - 66s - loss: 0.1375 - accuracy: 0.9483\n",
      "Epoch 11/12\n",
      "638/638 - 75s - loss: 0.1266 - accuracy: 0.9527\n",
      "Epoch 12/12\n",
      "638/638 - 80s - loss: 0.1134 - accuracy: 0.9565\n"
     ]
    },
    {
     "data": {
      "text/plain": [
       "<tensorflow.python.keras.callbacks.History at 0x1fbbcf57588>"
      ]
     },
     "execution_count": 36,
     "metadata": {},
     "output_type": "execute_result"
    }
   ],
   "source": [
    "batch_size = 32\n",
    "epochs = 12\n",
    "# es_callback = EarlyStopping(monitor='val_loss', patience = 4)\n",
    "\n",
    "# model.fit(X_train, y_train, callbacks = [es_callback], verbose = 1)\n",
    "model.fit(X_train, y_train, epochs=epochs, batch_size=batch_size, verbose=2)"
   ]
  },
  {
   "cell_type": "code",
   "execution_count": 37,
   "metadata": {
    "colab": {
     "base_uri": "https://localhost:8080/",
     "height": 122
    },
    "colab_type": "code",
    "id": "Qk1an208TMay",
    "outputId": "2dd6e65f-9811-4326-8004-1926009840ed"
   },
   "outputs": [
    {
     "name": "stdout",
     "output_type": "stream",
     "text": [
      "finished long journey cloister walk consider qualified provide objective review psalm [9.9981147e-01 1.4869921e-04 3.9776423e-05] [1 0 0]\n",
      "love sushi found kabuki overpriced overhip underservices [0.22297207 0.4973709  0.27965695] [1 0 0]\n",
      "rattle heart hear [0.00112205 0.00373175 0.9951462 ] [0 0 1]\n",
      "next month dedication new phoenix arizon temple next year [0.2869711  0.37934625 0.33368263] [1 0 0]\n",
      "loved mussel cooked wine reduction duck tender potato dish delicious [9.9977261e-01 2.0539996e-04 2.1998099e-05] [1 0 0]\n"
     ]
    },
    {
     "data": {
      "text/plain": [
       "[None, None, None, None, None]"
      ]
     },
     "execution_count": 37,
     "metadata": {},
     "output_type": "execute_result"
    }
   ],
   "source": [
    "predictions = model.predict(X_test)\n",
    "[print(x_feature['body'][i], predictions[i], y_test[i]) for i in range(0, 5)]"
   ]
  },
  {
   "cell_type": "code",
   "execution_count": 38,
   "metadata": {
    "colab": {
     "base_uri": "https://localhost:8080/",
     "height": 122
    },
    "colab_type": "code",
    "id": "SBTaoWIK63OZ",
    "outputId": "2b010965-9e80-431f-c161-49790f1103ee"
   },
   "outputs": [
    {
     "name": "stdout",
     "output_type": "stream",
     "text": [
      "Positive predictions: 1349\n",
      "Neutral predictions: 1060\n",
      "Negative predictions: 2691\n",
      "Real positive: 1199\n",
      "Real neutral: 846\n",
      "Real negative: 3055\n"
     ]
    }
   ],
   "source": [
    "pos_count, neu_count, neg_count = 0, 0, 0\n",
    "real_pos, real_neu, real_neg = 0, 0, 0\n",
    "for i, prediction in enumerate(predictions):\n",
    "    if np.argmax(prediction)==2:\n",
    "        pos_count += 1\n",
    "    elif np.argmax(prediction)==1:\n",
    "        neu_count += 1\n",
    "    else:\n",
    "        neg_count += 1\n",
    "    \n",
    "    if np.argmax(y_test[i])==2:\n",
    "        real_pos += 1\n",
    "    elif np.argmax(y_test[i])==1:    \n",
    "        real_neu += 1\n",
    "    else:\n",
    "        real_neg +=1\n",
    "\n",
    "print('Positive predictions:', pos_count)\n",
    "print('Neutral predictions:', neu_count)\n",
    "print('Negative predictions:', neg_count)\n",
    "print('Real positive:', real_pos)\n",
    "print('Real neutral:', real_neu)\n",
    "print('Real negative:', real_neg)"
   ]
  },
  {
   "cell_type": "code",
   "execution_count": 39,
   "metadata": {
    "colab": {},
    "colab_type": "code",
    "id": "s_3rrEJS7Lus"
   },
   "outputs": [],
   "source": [
    "model.save('sentiment_analysis.h5')"
   ]
  },
  {
   "cell_type": "code",
   "execution_count": null,
   "metadata": {
    "colab": {},
    "colab_type": "code",
    "id": "cldGc5r07P8M"
   },
   "outputs": [],
   "source": []
  }
 ],
 "metadata": {
  "colab": {
   "collapsed_sections": [],
   "name": "test1_rnn_final.ipynb",
   "provenance": []
  },
  "kernelspec": {
   "display_name": "Python 3",
   "language": "python",
   "name": "python3"
  },
  "language_info": {
   "codemirror_mode": {
    "name": "ipython",
    "version": 3
   },
   "file_extension": ".py",
   "mimetype": "text/x-python",
   "name": "python",
   "nbconvert_exporter": "python",
   "pygments_lexer": "ipython3",
   "version": "3.7.5"
  }
 },
 "nbformat": 4,
 "nbformat_minor": 1
}
